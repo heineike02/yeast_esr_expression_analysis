{
 "cells": [
  {
   "cell_type": "code",
   "execution_count": 1,
   "metadata": {},
   "outputs": [
    {
     "name": "stdout",
     "output_type": "stream",
     "text": [
      "what computer are you on? a = Ben's laptop, b = gpucluster, c = Ben's desktop, d = othera\n",
      "base directory is C:\\Users\\BMH_work\\github\\expression_broad_data\n",
      "Added C:\\Users\\BMH_work\\github\\expression_broad_data to path: \n",
      "['', 'C:\\\\Users\\\\BMH_work\\\\github\\\\expression_broad_data\\\\scripts', 'C:\\\\Users\\\\BMH_work\\\\Anaconda3\\\\python37.zip', 'C:\\\\Users\\\\BMH_work\\\\Anaconda3\\\\DLLs', 'C:\\\\Users\\\\BMH_work\\\\Anaconda3\\\\lib', 'C:\\\\Users\\\\BMH_work\\\\Anaconda3', 'C:\\\\Users\\\\BMH_work\\\\Anaconda3\\\\lib\\\\site-packages', 'C:\\\\Users\\\\BMH_work\\\\Anaconda3\\\\lib\\\\site-packages\\\\win32', 'C:\\\\Users\\\\BMH_work\\\\Anaconda3\\\\lib\\\\site-packages\\\\win32\\\\lib', 'C:\\\\Users\\\\BMH_work\\\\Anaconda3\\\\lib\\\\site-packages\\\\Pythonwin', 'C:\\\\Users\\\\BMH_work\\\\Anaconda3\\\\lib\\\\site-packages\\\\IPython\\\\extensions', 'C:\\\\Users\\\\BMH_work\\\\.ipython', 'C:\\\\Users\\\\BMH_work\\\\github\\\\expression_broad_data']\n",
      "I am about to import a library\n",
      "I am importing io_library\n",
      "what computer are you on? a = Ben's laptop, b = gpucluster, c = Ben's desktop, d = othera\n",
      "base directory is C:\\Users\\BMH_work\\github\\expression_broad_data\n",
      "data processing dir is C:\\Users\\BMH_work\\github\\expression_broad_data\\expression_data\\\n",
      "are you online? Yes/NoYes\n"
     ]
    }
   ],
   "source": [
    "# %load std_libraries.py\n",
    "#to keep my scripts consistent, I am adding this to the top of all scripts with %load std_libraries.py\n",
    "import sys\n",
    "#Indicate operating environment and import core modules\n",
    "location_input = input(\"what computer are you on? a = Ben's laptop, b = gpucluster, c = Ben's desktop, d = other\")\n",
    "location_dict = {'a': \"C:\\\\Users\\\\BMH_work\\\\github\\\\expression_broad_data\", 'b': \"/home/heineike/github/expression_broad_data\",\n",
    "                 'c': \"C:\\\\Users\\\\Ben\\\\Documents\\\\GitHub\\\\expression_broad_data\", 'd':'you need to add your location to the location_dict'}\n",
    "base_dir = location_dict[location_input]\n",
    "print(\"base directory is \" + base_dir)\n",
    "\n",
    "if sys.path[-1] != base_dir:\n",
    "    sys.path.append(base_dir)\n",
    "    print(\"Added \" + base_dir + \" to path: \" )\n",
    "    print(sys.path)\n",
    "\n",
    "import os\n",
    "\n",
    "print(\"I am about to import a library\")\n",
    "from core import expression_plots \n",
    "from core import io_library \n",
    "%load_ext autoreload\n",
    "%autoreload 2\n",
    "# %matplotlib \n",
    "# plt.ioff()\n",
    "#%matplotlib inline\n",
    "%matplotlib notebook\n",
    "data_processing_dir = base_dir + os.sep + os.path.normpath(\"expression_data\") + os.sep\n",
    "\n",
    "import pandas as pd\n",
    "import numpy as np\n",
    "import matplotlib.pyplot as plt\n",
    "#import matplotlib.colormap as cm\n",
    "from matplotlib_venn import venn2\n",
    "from matplotlib_venn import venn3\n",
    "#for my windows computer I had to install this package using pip rather than anaconda.  I got this error message: \n",
    "#twisted 18.7.0 requires PyHamcrest>=1.9.0, which is not installed.\n",
    "#import seaborn as sns; sns.set(style=\"ticks\", color_codes=True)\n",
    "#from sklearn import linear_model\n",
    "#import pickle\n",
    "#import subprocess\n",
    "#import networkx as nx\n",
    "#import scipy.stats as stats\n",
    "#import statsmodels.graphics.gofplots as stats_graph\n",
    "#import scipy.cluster.hierarchy as sch\n",
    "\n",
    "# from Bio import SeqIO\n",
    "# from Bio import SeqFeature as sf\n",
    "# from Bio.Alphabet import generic_dna\n",
    "# from Bio.Seq import Seq\n",
    "\n",
    "# import re\n",
    "\n",
    "from collections import Counter\n",
    "# import scipy.stats as stats\n",
    "# from itertools import chain\n",
    "#from itertools import product\n",
    "#this only works if you are online\n",
    "online_input = input(\"are you online? Yes/No\")\n",
    "if online_input == \"Yes\": \n",
    "    import plotly.plotly as py\n",
    "    import plotly.graph_objs as pygo\n",
    "    import plotly.tools as pytools\n",
    "    py.sign_in('heineike02_student','9dMTMZgJMgUP0YX0P5mQ')\n",
    "    #py.sign_in('heineike02', 'APPjKrtARaN2ZgUYIkqr')\n",
    "    \n",
    "# for phylogenetic trees: \n",
    "# from ete3 import Tree\n",
    "\n",
    "#for scraping internet data (e.g. ncbi)\n",
    "#import requests\n",
    "#from lxml import etree    #parses xml output"
   ]
  },
  {
   "cell_type": "code",
   "execution_count": 2,
   "metadata": {},
   "outputs": [],
   "source": [
    "##Compare LFC between last year and this year for AS + 1/NMPP1\n",
    "\n",
    "#Load DEseq data for AS +/- drug\n",
    "\n",
    "pkainh_deseq = pd.read_csv(os.path.normpath(data_processing_dir + '\\\\kl_sc_PKA_as_m24_r1g1_20181017\\\\20181017_deseq_SC_AS_nmpp1.csv'), index_col=0)\n",
    "\n",
    "#Load DEseq data from 2017 for AS +/-drug\n",
    "\n",
    "pkainh_deseq_2017 = pd.read_csv(os.path.normpath(data_processing_dir + '\\\\20170817_klscpka\\\\20170817_klscpka_DESEQ_YPD_t40_ASMinvASPlus_SC.csv'), index_col=0)\n",
    "\n",
    "pkainh_deseq_merged = pkainh_deseq.merge(pkainh_deseq_2017, left_index=True, right_index=True, how = 'outer', suffixes = ('','_2017')) \n",
    "\n",
    "\n",
    "#Add column for common names\n",
    "pkainh_deseq_merged['SC_common_name'] = io_library.SC_common_name_lookup(pkainh_deseq_merged.index)\n",
    "\n",
    "for column in ['log2FoldChange', 'log2FoldChange_2017']: \n",
    "    pkainh_deseq_merged[column] = pkainh_deseq_merged[column].fillna(0.0)"
   ]
  },
  {
   "cell_type": "code",
   "execution_count": 20,
   "metadata": {
    "scrolled": true
   },
   "outputs": [
    {
     "data": {
      "text/html": [
       "<iframe id=\"igraph\" scrolling=\"no\" style=\"border:none;\" seamless=\"seamless\" src=\"https://plot.ly/~heineike02_student/152.embed\" height=\"525px\" width=\"100%\"></iframe>"
      ],
      "text/plain": [
       "<plotly.tools.PlotlyDisplay object>"
      ]
     },
     "execution_count": 20,
     "metadata": {},
     "output_type": "execute_result"
    }
   ],
   "source": [
    "spec = 'SC'\n",
    "\n",
    "data = []\n",
    "\n",
    "xlabel = 'LFC AS -/+ Nmpp1 2017'\n",
    "ylabel = 'LFC AS -/+ Nmpp1'\n",
    "\n",
    "trace = pygo.Scatter(\n",
    "            x = pkainh_deseq_merged['log2FoldChange_2017'], \n",
    "            y =  pkainh_deseq_merged['log2FoldChange'],\n",
    "            text = pkainh_deseq_merged['SC_common_name'],\n",
    "            mode = 'markers',\n",
    "            marker = {'opacity': 0.5}, #, \n",
    "                      #'color': 'rgba'+str(cmap(NN/10))}, \n",
    "            name = xlabel + ' vs ' + ylabel \n",
    "        )\n",
    "        \n",
    "data.append(trace)\n",
    "\n",
    "layout = pygo.Layout(\n",
    "    xaxis= {\n",
    "        #\"range\":[-20, 20],\n",
    "        \"title\": xlabel\n",
    "    },\n",
    "    yaxis= {\n",
    "        #\"range\":[-10, 10],\n",
    "        \"title\": ylabel\n",
    "    }\n",
    ")\n",
    "\n",
    "\n",
    "fig = pygo.Figure(data=data, layout = layout)\n",
    "py.iplot(fig, filename= 'SC_AS_pmNMPP1_2017LFC_V2018')"
   ]
  },
  {
   "cell_type": "code",
   "execution_count": 3,
   "metadata": {},
   "outputs": [],
   "source": [
    "#Load DEseq data for SCer Rph1/Gis1 delete experiment\n",
    "\n",
    "r1g1_deseq = pd.read_csv(os.path.normpath(data_processing_dir + '\\\\kl_sc_PKA_as_m24_r1g1_20181017\\\\20181017_deseq_SC_WT_wtVr1g1.csv'), index_col=0)\n",
    "\n",
    "#Add column for common names\n",
    "r1g1_deseq['SC_common_name'] = io_library.SC_common_name_lookup(r1g1_deseq.index)\n",
    "\n",
    "\n",
    "#Load DEseq data for SCer Msn24/drug interaction contrast\n",
    "m24_nmpp1_int_deseq = pd.read_csv(os.path.normpath(data_processing_dir + '\\\\kl_sc_PKA_as_m24_r1g1_20181017\\\\20181017_deseq_SC_AS_m24del_nmpp1_interaction.csv'), index_col=0)\n",
    "\n",
    "#Add column for common names\n",
    "m24_nmpp1_int_deseq['SC_common_name'] = io_library.SC_common_name_lookup(m24_nmpp1_int_deseq.index)\n",
    "\n",
    "\n",
    "#Load DEseq data for SCer Msn2/4 delete in WT experiment\n",
    "\n",
    "m24_deseq = pd.read_csv(os.path.normpath(data_processing_dir + '\\\\kl_sc_PKA_as_m24_r1g1_20181017\\\\20181017_deseq_SC_WT_wtVm24.csv'), index_col=0)\n",
    "\n",
    "#Add column for common names\n",
    "m24_deseq['SC_common_name'] = io_library.SC_common_name_lookup(m24_deseq.index)\n",
    "\n",
    "\n"
   ]
  },
  {
   "cell_type": "code",
   "execution_count": 4,
   "metadata": {},
   "outputs": [
    {
     "data": {
      "text/html": [
       "<iframe id=\"igraph\" scrolling=\"no\" style=\"border:none;\" seamless=\"seamless\" src=\"https://plot.ly/~heineike02_student/146.embed\" height=\"525px\" width=\"100%\"></iframe>"
      ],
      "text/plain": [
       "<plotly.tools.PlotlyDisplay object>"
      ]
     },
     "execution_count": 4,
     "metadata": {},
     "output_type": "execute_result"
    }
   ],
   "source": [
    "#Plot Deseq LFC v.s. pValue\n",
    "\n",
    "#Plot raw expression for various gene sets\n",
    "\n",
    "# hover_text = []\n",
    "# for ind, row in kl_sc_PKA_data.iterrows():\n",
    "#     hover_text.append(('{SC_common_name}<br>kl cont: {klmin:.2f}<br>kl nmpp1: {klnmpp1:.2f}').format(\n",
    "#                               SC_common_name=row['SC_common_name'],\n",
    "#                               klmin = row['rlog_AS_noNMPP1_YPD_t40_mean_KL'],\n",
    "#                               klnmpp1 = row['rlog_AS_yesNMPP1_YPD_t40_mean_KL']\n",
    "#                               ))\n",
    "\n",
    "# kl_sc_PKA_data['hover'] = hover_text\n",
    "\n",
    "# cmap = cm.get_cmap('tab10')\n",
    "\n",
    "data = []\n",
    "\n",
    "trace = pygo.Scatter(\n",
    "            x = r1g1_deseq['log2FoldChange'], \n",
    "            y =  -np.log10(r1g1_deseq['pvalue']),\n",
    "            text = r1g1_deseq['SC_common_name'],\n",
    "            mode = 'markers',\n",
    "            marker = {'opacity': 0.5}, #, \n",
    "                      #'color': 'rgba'+str(cmap(NN/10))}, \n",
    "            name = 'WT VS Rph1/Gis1 del'\n",
    "        )\n",
    "        \n",
    "data.append(trace)\n",
    "\n",
    "layout = pygo.Layout(\n",
    "    xaxis= {\n",
    "        #\"range\":[-2, 20],\n",
    "        \"title\":'LFC'\n",
    "    },\n",
    "    yaxis= {\n",
    "        #\"range\":[-2, 20],\n",
    "        \"title\":'-log10(padj)'\n",
    "    }\n",
    ")\n",
    "\n",
    "\n",
    "fig = pygo.Figure(data=data, layout = layout)\n",
    "py.iplot(fig, filename='RNAseq2018_WT_VS_R1G1_UTR')\n",
    "\n",
    "\n"
   ]
  },
  {
   "cell_type": "code",
   "execution_count": 17,
   "metadata": {},
   "outputs": [],
   "source": [
    "#To Call Rph1/Gis1 repressed genes make a line from (1.5, 3) to (3.0, 0) and a hard cutoff below of 0.5\n",
    "\n",
    "x1,y1 = (1.2,3.4)\n",
    "x2,y2 = (2.2,0.0)\n",
    "ymin = 0.5\n",
    "\n",
    "x = r1g1_deseq['log2FoldChange']\n",
    "y =  -np.log10(r1g1_deseq['pvalue'])\n",
    "\n",
    "r1g1_rep_genes = r1g1_deseq[(y > y2- (y2-y1)/(x2-x1)*(x2-x)) & (y>ymin)]"
   ]
  },
  {
   "cell_type": "code",
   "execution_count": 18,
   "metadata": {},
   "outputs": [
    {
     "data": {
      "text/plain": [
       "123"
      ]
     },
     "execution_count": 18,
     "metadata": {},
     "output_type": "execute_result"
    }
   ],
   "source": [
    "len(r1g1_rep_genes)"
   ]
  },
  {
   "cell_type": "code",
   "execution_count": 8,
   "metadata": {},
   "outputs": [
    {
     "data": {
      "text/html": [
       "<iframe id=\"igraph\" scrolling=\"no\" style=\"border:none;\" seamless=\"seamless\" src=\"https://plot.ly/~heineike02_student/148.embed\" height=\"525px\" width=\"100%\"></iframe>"
      ],
      "text/plain": [
       "<plotly.tools.PlotlyDisplay object>"
      ]
     },
     "execution_count": 8,
     "metadata": {},
     "output_type": "execute_result"
    }
   ],
   "source": [
    "#Plot Msn24/nmpp1 interaction LFC v.s. pValue\n",
    "\n",
    "\n",
    "data = []\n",
    "\n",
    "trace = pygo.Scatter(\n",
    "            x = m24_nmpp1_int_deseq['log2FoldChange'], \n",
    "            y =  -np.log10(m24_nmpp1_int_deseq['pvalue']),\n",
    "            text = m24_nmpp1_int_deseq['SC_common_name'],\n",
    "            mode = 'markers',\n",
    "            marker = {'opacity': 0.5}, #, \n",
    "                      #'color': 'rgba'+str(cmap(NN/10))}, \n",
    "            name = 'Msn24 drug interaction term'\n",
    "        )\n",
    "        \n",
    "data.append(trace)\n",
    "\n",
    "layout = pygo.Layout(\n",
    "    xaxis= {\n",
    "        #\"range\":[-2, 20],\n",
    "        \"title\":'LFC'\n",
    "    },\n",
    "    yaxis= {\n",
    "        #\"range\":[-2, 20],\n",
    "        \"title\":'-log10(padj)'\n",
    "    }\n",
    ")\n",
    "\n",
    "\n",
    "fig = pygo.Figure(data=data, layout = layout)\n",
    "py.iplot(fig, filename='RNAseq2018_Msn24_drug_interaction_UTR')\n"
   ]
  },
  {
   "cell_type": "code",
   "execution_count": 6,
   "metadata": {},
   "outputs": [],
   "source": [
    "#To Call Msn2/4 PKA interaction genes make a line from (-4.5, 0) to (-1.9, 7.5) and a hard cutoff for -log10p value of above 1.0\n",
    "\n",
    "x1,y1 = (-4.0,0.0)\n",
    "x2,y2 = (-2.4,16.5)\n",
    "ymin = 1.0\n",
    "\n",
    "x = m24_nmpp1_int_deseq['log2FoldChange']\n",
    "y =  -np.log10(m24_nmpp1_int_deseq['pvalue'])\n",
    "\n",
    "m24_nmpp1_act_genes = m24_nmpp1_int_deseq[(y > y2- (y2-y1)/(x2-x1)*(x2-x)) & (y>ymin)]"
   ]
  },
  {
   "cell_type": "code",
   "execution_count": 10,
   "metadata": {},
   "outputs": [
    {
     "data": {
      "text/html": [
       "<iframe id=\"igraph\" scrolling=\"no\" style=\"border:none;\" seamless=\"seamless\" src=\"https://plot.ly/~heineike02_student/150.embed\" height=\"525px\" width=\"100%\"></iframe>"
      ],
      "text/plain": [
       "<plotly.tools.PlotlyDisplay object>"
      ]
     },
     "execution_count": 10,
     "metadata": {},
     "output_type": "execute_result"
    }
   ],
   "source": [
    "#Plot Deseq LFC v.s. pValue\n",
    "\n",
    "#Plot raw expression for various gene sets\n",
    "\n",
    "# hover_text = []\n",
    "# for ind, row in kl_sc_PKA_data.iterrows():\n",
    "#     hover_text.append(('{SC_common_name}<br>kl cont: {klmin:.2f}<br>kl nmpp1: {klnmpp1:.2f}').format(\n",
    "#                               SC_common_name=row['SC_common_name'],\n",
    "#                               klmin = row['rlog_AS_noNMPP1_YPD_t40_mean_KL'],\n",
    "#                               klnmpp1 = row['rlog_AS_yesNMPP1_YPD_t40_mean_KL']\n",
    "#                               ))\n",
    "\n",
    "# kl_sc_PKA_data['hover'] = hover_text\n",
    "\n",
    "# cmap = cm.get_cmap('tab10')\n",
    "\n",
    "data = []\n",
    "\n",
    "trace = pygo.Scatter(\n",
    "            x = m24_deseq['log2FoldChange'], \n",
    "            y =  -np.log10(m24_deseq['pvalue']),\n",
    "            text = m24_deseq['SC_common_name'],\n",
    "            mode = 'markers',\n",
    "            marker = {'opacity': 0.5}, #, \n",
    "                      #'color': 'rgba'+str(cmap(NN/10))}, \n",
    "            name = 'WT VS Msn2/4 del'\n",
    "        )\n",
    "        \n",
    "data.append(trace)\n",
    "\n",
    "layout = pygo.Layout(\n",
    "    xaxis= {\n",
    "        #\"range\":[-2, 20],\n",
    "        \"title\":'LFC'\n",
    "    },\n",
    "    yaxis= {\n",
    "        #\"range\":[-2, 20],\n",
    "        \"title\":'-log10(padj)'\n",
    "    }\n",
    ")\n",
    "\n",
    "\n",
    "fig = pygo.Figure(data=data, layout = layout)\n",
    "py.iplot(fig, filename='RNAseq2018_WT_VS_M24_UTR')\n"
   ]
  },
  {
   "cell_type": "code",
   "execution_count": 7,
   "metadata": {},
   "outputs": [],
   "source": [
    "#To Call Msn2/4 deletion genes make a line from and a hard cutoff for -log10p value of above 0.5. \n",
    "#This was chosen to include CYC7 and HOR7 but not MPC3. \n",
    "\n",
    "x1,y1 = (-2.1,0.2)\n",
    "x2,y2 = (-1.1,4.5)\n",
    "ymin = 0.5\n",
    "\n",
    "x = m24_deseq['log2FoldChange']\n",
    "y =  -np.log10(m24_deseq['pvalue'])\n",
    "\n",
    "m24_act_genes = m24_deseq[(y > y2- (y2-y1)/(x2-x1)*(x2-x)) & (y>ymin)]\n"
   ]
  },
  {
   "cell_type": "code",
   "execution_count": 21,
   "metadata": {},
   "outputs": [
    {
     "data": {
      "text/plain": [
       "<matplotlib_venn._common.VennDiagram at 0x11df0993b70>"
      ]
     },
     "execution_count": 21,
     "metadata": {},
     "output_type": "execute_result"
    },
    {
     "data": {
      "image/png": "[encoded data removed]",
      "text/plain": [
       "<Figure size 432x288 with 1 Axes>"
      ]
     },
     "metadata": {},
     "output_type": "display_data"
    }
   ],
   "source": [
    "venn3([set(r1g1_rep_genes.index), set(m24_nmpp1_act_genes.index), set(m24_act_genes.index)], set_labels = ['Activated in Rph1/Gis1 \\n delete (exp growth)', 'Activation by PKA inhibition \\n Msn2/4 dependent', 'Repressed in Msn24 del (exp growth)'])"
   ]
  },
  {
   "cell_type": "code",
   "execution_count": 14,
   "metadata": {},
   "outputs": [
    {
     "data": {
      "text/plain": [
       "<matplotlib_venn._common.VennDiagram at 0x11df0ba2978>"
      ]
     },
     "execution_count": 14,
     "metadata": {},
     "output_type": "execute_result"
    },
    {
     "data": {
      "image/png": "[encoded data removed]",
      "text/plain": [
       "<Figure size 432x288 with 1 Axes>"
      ]
     },
     "metadata": {},
     "output_type": "display_data"
    }
   ],
   "source": [
    "venn2([ set(m24_nmpp1_act_genes.index), set(m24_act_genes.index)], set_labels = [ 'Activation by PKA inhibition Msn2/4 dependent', 'Repressed in Msn24 del (exp growth)'])"
   ]
  },
  {
   "cell_type": "code",
   "execution_count": 10,
   "metadata": {},
   "outputs": [
    {
     "data": {
      "text/plain": [
       "47"
      ]
     },
     "execution_count": 10,
     "metadata": {},
     "output_type": "execute_result"
    }
   ],
   "source": [
    "#Repressed in Msn2/4 Delete basally\n",
    "len(list(set(m24_act_genes.index)))"
   ]
  },
  {
   "cell_type": "code",
   "execution_count": 13,
   "metadata": {},
   "outputs": [
    {
     "data": {
      "text/plain": [
       "['YCR045C',\n",
       " 'YOR173W',\n",
       " 'YHR097C',\n",
       " 'YAL054C',\n",
       " 'YMR133W',\n",
       " 'YDR453C',\n",
       " 'YJR096W',\n",
       " 'YDR536W',\n",
       " 'YER121W',\n",
       " 'YMR118C',\n",
       " 'YKL065W-A',\n",
       " 'YML099W-A',\n",
       " 'YML100W',\n",
       " 'YFL030W',\n",
       " 'YNL093W',\n",
       " 'YBR116C',\n",
       " 'YBL075C',\n",
       " 'YKL151C',\n",
       " 'YMR174C',\n",
       " 'YDL223C',\n",
       " 'YHR087W',\n",
       " 'YMR107W',\n",
       " 'YPL223C',\n",
       " 'YBR117C',\n",
       " 'YJR155W',\n",
       " 'YMR090W',\n",
       " 'YLR164W',\n",
       " 'YCR083W',\n",
       " 'YDR256C',\n",
       " 'YHR139C',\n",
       " 'YGR256W',\n",
       " 'YDR193W',\n",
       " 'YBR186W',\n",
       " 'YFL015C',\n",
       " 'YGR174W-A',\n",
       " 'YDR119W-A',\n",
       " 'YDR034W-B',\n",
       " 'YNL195C',\n",
       " 'YJL045W',\n",
       " 'YPL186C',\n",
       " 'YHR193C-A',\n",
       " 'YBR072W',\n",
       " 'YGR043C',\n",
       " 'YMR169C',\n",
       " 'YIL136W',\n",
       " 'YER103W',\n",
       " 'YMR206W',\n",
       " 'YDL204W',\n",
       " 'YDR070C',\n",
       " 'YER084W-A',\n",
       " 'YGR201C',\n",
       " 'YGR248W',\n",
       " 'YBR221W-A',\n",
       " 'YLR311C',\n",
       " 'YDR506C',\n",
       " 'YOR120W',\n",
       " 'YMR105C',\n",
       " 'YDR491C',\n",
       " 'YPL036W',\n",
       " 'YDL222C',\n",
       " 'YHR096C',\n",
       " 'YOL084W',\n",
       " 'YOR382W',\n",
       " 'YMR175W',\n",
       " 'YDR533C',\n",
       " 'YDL085W',\n",
       " 'YKL163W',\n",
       " 'YKL187C',\n",
       " 'YOL052C-A',\n",
       " 'YCL048W-A',\n",
       " 'YDR048C',\n",
       " 'YDR010C',\n",
       " 'YIL160C',\n",
       " 'YER068C-A',\n",
       " 'YGR008C',\n",
       " 'YML128C',\n",
       " 'YGR088W',\n",
       " 'YNR034W-A']"
      ]
     },
     "execution_count": 13,
     "metadata": {},
     "output_type": "execute_result"
    }
   ],
   "source": [
    "#Repressed in Msn2/4 Delete basally\n",
    "list(set(m24_nmpp1_act_genes.index))"
   ]
  },
  {
   "cell_type": "code",
   "execution_count": 27,
   "metadata": {},
   "outputs": [
    {
     "data": {
      "text/plain": [
       "{'YAL005C',\n",
       " 'YBR006W',\n",
       " 'YBR054W',\n",
       " 'YBR072W',\n",
       " 'YBR111W-A',\n",
       " 'YBR183W',\n",
       " 'YBR214W',\n",
       " 'YBR269C',\n",
       " 'YBR280C',\n",
       " 'YBR285W',\n",
       " 'YCL012C',\n",
       " 'YCL033C',\n",
       " 'YCL044C',\n",
       " 'YCR025C',\n",
       " 'YCR083W',\n",
       " 'YDL021W',\n",
       " 'YDL022W',\n",
       " 'YDL085W',\n",
       " 'YDL110C',\n",
       " 'YDL130W-A',\n",
       " 'YDL169C',\n",
       " 'YDR178W',\n",
       " 'YDR277C',\n",
       " 'YDR358W',\n",
       " 'YDR379C-A',\n",
       " 'YDR461W',\n",
       " 'YDR470C',\n",
       " 'YDR513W',\n",
       " 'YDR516C',\n",
       " 'YEL012W',\n",
       " 'YEL039C',\n",
       " 'YER011W',\n",
       " 'YER035W',\n",
       " 'YER037W',\n",
       " 'YER039C',\n",
       " 'YER053C-A',\n",
       " 'YER062C',\n",
       " 'YER096W',\n",
       " 'YGL032C',\n",
       " 'YGL037C',\n",
       " 'YGL156W',\n",
       " 'YGL180W',\n",
       " 'YGL227W',\n",
       " 'YGR052W',\n",
       " 'YGR053C',\n",
       " 'YGR066C',\n",
       " 'YGR088W',\n",
       " 'YGR149W',\n",
       " 'YGR194C',\n",
       " 'YGR222W',\n",
       " 'YHL044W',\n",
       " 'YHL045W',\n",
       " 'YHR008C',\n",
       " 'YHR092C',\n",
       " 'YHR096C',\n",
       " 'YHR113W',\n",
       " 'YHR140W',\n",
       " 'YHR171W',\n",
       " 'YHR199C-A',\n",
       " 'YIL055C',\n",
       " 'YIL099W',\n",
       " 'YIL100C-A',\n",
       " 'YIL101C',\n",
       " 'YIL113W',\n",
       " 'YIR017C',\n",
       " 'YIR037W',\n",
       " 'YJL062W-A',\n",
       " 'YJL070C',\n",
       " 'YJL089W',\n",
       " 'YJL163C',\n",
       " 'YJL164C',\n",
       " 'YJR019C',\n",
       " 'YKL062W',\n",
       " 'YKL103C',\n",
       " 'YKL123W',\n",
       " 'YKL148C',\n",
       " 'YKR011C',\n",
       " 'YKR098C',\n",
       " 'YLL041C',\n",
       " 'YLR012C',\n",
       " 'YLR030W',\n",
       " 'YLR031W',\n",
       " 'YLR108C',\n",
       " 'YLR149C',\n",
       " 'YLR178C',\n",
       " 'YLR290C',\n",
       " 'YLR297W',\n",
       " 'YLR324W',\n",
       " 'YLR345W',\n",
       " 'YLR356W',\n",
       " 'YLR363C',\n",
       " 'YML089C',\n",
       " 'YMR025W',\n",
       " 'YMR053C',\n",
       " 'YMR105C',\n",
       " 'YMR175W',\n",
       " 'YMR181C',\n",
       " 'YMR250W',\n",
       " 'YMR319C',\n",
       " 'YNL011C',\n",
       " 'YNL014W',\n",
       " 'YNL015W',\n",
       " 'YNL092W',\n",
       " 'YNL115C',\n",
       " 'YNL160W',\n",
       " 'YNL194C',\n",
       " 'YNL237W',\n",
       " 'YNL279W',\n",
       " 'YOL052C-A',\n",
       " 'YOL083W',\n",
       " 'YOL151W',\n",
       " 'YOR020W-A',\n",
       " 'YOR161C',\n",
       " 'YOR185C',\n",
       " 'YPL003W',\n",
       " 'YPL054W',\n",
       " 'YPL123C',\n",
       " 'YPL154C',\n",
       " 'YPL203W',\n",
       " 'YPL223C',\n",
       " 'YPR026W',\n",
       " 'YPR098C',\n",
       " 'YPR192W'}"
      ]
     },
     "execution_count": 27,
     "metadata": {},
     "output_type": "execute_result"
    }
   ],
   "source": [
    "set(r1g1_rep_genes.index)"
   ]
  },
  {
   "cell_type": "code",
   "execution_count": 23,
   "metadata": {},
   "outputs": [
    {
     "data": {
      "text/plain": [
       "['CYC7', 'YLR031W', 'YCR025C', 'PNC1', 'GPD1', 'DDR2', 'GRX2', 'YHL045W']"
      ]
     },
     "execution_count": 23,
     "metadata": {},
     "output_type": "execute_result"
    }
   ],
   "source": [
    "#repressed by Msn24 deletion\n",
    "#repressed by Rph1/Gis1 deletion\n",
    "io_library.SC_common_name_lookup(list(set(r1g1_rep_genes.index) & set(m24_act_genes.index)))"
   ]
  },
  {
   "cell_type": "code",
   "execution_count": 22,
   "metadata": {},
   "outputs": [
    {
     "data": {
      "text/plain": [
       "['TRX3', 'SIP18', 'CTT1', 'PGM2', 'NDE2', 'HSP26', 'GRE1', 'DDR2', 'HXT5']"
      ]
     },
     "execution_count": 22,
     "metadata": {},
     "output_type": "execute_result"
    }
   ],
   "source": [
    "#repressed by Rph1/Gis1 deletion\n",
    "#activated by PKA inhibition, Msn2/4 dependent\n",
    "io_library.SC_common_name_lookup(list(set(r1g1_rep_genes.index) & set(m24_nmpp1_act_genes.index)))"
   ]
  },
  {
   "cell_type": "code",
   "execution_count": 28,
   "metadata": {},
   "outputs": [
    {
     "data": {
      "text/plain": [
       "['RTC3', 'EGO4', 'STF2', 'YPT53', 'FAT3', 'DDR2']"
      ]
     },
     "execution_count": 28,
     "metadata": {},
     "output_type": "execute_result"
    }
   ],
   "source": [
    "io_library.SC_common_name_lookup(list(set(m24_nmpp1_act_genes.index) & set(m24_act_genes.index)))"
   ]
  },
  {
   "cell_type": "code",
   "execution_count": 16,
   "metadata": {},
   "outputs": [
    {
     "data": {
      "text/plain": [
       "['TFS1',\n",
       " 'YLR297W',\n",
       " 'YAH1',\n",
       " 'UBC8',\n",
       " 'PNS1',\n",
       " 'MXR2',\n",
       " 'VID30',\n",
       " 'YER010C',\n",
       " 'GRE2',\n",
       " 'PNC1',\n",
       " 'TIR1',\n",
       " 'YPC1',\n",
       " 'YJL163C',\n",
       " 'YCL012C',\n",
       " 'YBR285W',\n",
       " 'GRX2',\n",
       " 'YLR108C',\n",
       " 'TES1',\n",
       " 'YGR053C',\n",
       " 'MAM3',\n",
       " 'FMP33',\n",
       " 'PHM8',\n",
       " 'APE4',\n",
       " 'YLR031W',\n",
       " 'SUS1',\n",
       " 'YGR149W',\n",
       " 'SDH2',\n",
       " 'SDH8',\n",
       " 'YCR101C',\n",
       " 'YTP1',\n",
       " 'YRO2',\n",
       " 'HVG1',\n",
       " 'XKS1',\n",
       " 'YLR345W',\n",
       " 'YNL011C',\n",
       " 'SOD2',\n",
       " 'PEX30',\n",
       " 'SSA1',\n",
       " 'GPP2',\n",
       " 'COA3',\n",
       " 'YNL194C',\n",
       " 'YLR149C',\n",
       " 'FRQ1',\n",
       " 'YIL055C',\n",
       " 'SOL2',\n",
       " 'YER053C-A',\n",
       " 'PEP4',\n",
       " 'GSP2',\n",
       " 'YPR098C',\n",
       " 'GPD1',\n",
       " 'AQY1',\n",
       " 'LEE1',\n",
       " 'MFA1',\n",
       " 'CSI1',\n",
       " 'PBI2',\n",
       " 'UGX2',\n",
       " 'ATG34',\n",
       " 'UGA2',\n",
       " 'TMA17',\n",
       " 'YNL092W',\n",
       " 'MSN4',\n",
       " 'MET28',\n",
       " 'YOR020W-A',\n",
       " 'PRM1',\n",
       " 'AMS1',\n",
       " 'SHC1',\n",
       " 'YML089C',\n",
       " 'SDH1',\n",
       " 'SDH6',\n",
       " 'YKL123W',\n",
       " 'COS111',\n",
       " 'UBP11',\n",
       " 'GGA1',\n",
       " 'ULA1',\n",
       " 'MGR1',\n",
       " 'ECM21',\n",
       " 'YGR066C',\n",
       " 'YHL044W',\n",
       " 'SGA1',\n",
       " 'XBP1',\n",
       " 'SDH4',\n",
       " 'AGA2',\n",
       " 'FMP48',\n",
       " 'HXT4',\n",
       " 'MRPS12',\n",
       " 'STB2',\n",
       " 'RNY1',\n",
       " 'GAD1',\n",
       " 'AVO2',\n",
       " 'APE1',\n",
       " 'STF1',\n",
       " 'CYC7',\n",
       " 'UGO1',\n",
       " 'SAF1',\n",
       " 'YCR025C',\n",
       " 'YGP1',\n",
       " 'ODC1',\n",
       " 'COQ11',\n",
       " 'YNL115C',\n",
       " 'GPM2',\n",
       " 'YHR140W',\n",
       " 'MET6',\n",
       " 'YBL039W-B',\n",
       " 'DAK2',\n",
       " 'YKR011C',\n",
       " 'EMI2',\n",
       " 'PET54',\n",
       " 'ATH1',\n",
       " 'HYR1',\n",
       " 'ATG1',\n",
       " 'HEF3',\n",
       " 'YLR012C',\n",
       " 'ADY3',\n",
       " 'FET4',\n",
       " 'YMR181C',\n",
       " 'YPS6',\n",
       " 'YSC84',\n",
       " 'ATG7',\n",
       " 'TPK1',\n",
       " 'SDP1',\n",
       " 'YIL100C-A',\n",
       " 'MTH1',\n",
       " 'NBL1',\n",
       " 'TPK2',\n",
       " 'EGH1',\n",
       " 'YHL045W',\n",
       " 'SDS24',\n",
       " 'SIP4',\n",
       " 'YJL070C',\n",
       " 'ATG33',\n",
       " 'EDC2',\n",
       " 'YLR030W',\n",
       " 'NMD4']"
      ]
     },
     "execution_count": 16,
     "metadata": {},
     "output_type": "execute_result"
    }
   ],
   "source": [
    "#r1g1 repressed and not m24 nmpp1 activated\n",
    "io_library.SC_common_name_lookup(list(set(r1g1_rep_genes.index) - set(m24_nmpp1_act_genes.index)))"
   ]
  },
  {
   "cell_type": "code",
   "execution_count": 17,
   "metadata": {},
   "outputs": [
    {
     "data": {
      "text/plain": [
       "['REC114',\n",
       " 'HBT1',\n",
       " 'PAI3',\n",
       " 'YJR096W',\n",
       " 'PHM7',\n",
       " 'YDR193W',\n",
       " 'FMP16',\n",
       " 'YMR090W',\n",
       " 'FAT3',\n",
       " 'SHH3',\n",
       " 'SPS100',\n",
       " 'TKL2',\n",
       " 'COX26',\n",
       " 'YER084W-A',\n",
       " 'FIT2',\n",
       " 'STF2',\n",
       " 'RRT12',\n",
       " 'YJL045W',\n",
       " 'PMA2',\n",
       " 'SOL4',\n",
       " 'GND2',\n",
       " 'YDR048C',\n",
       " 'YBR221W-A',\n",
       " 'SHH4',\n",
       " 'PCH2',\n",
       " 'YGR174W-A',\n",
       " 'OM45',\n",
       " 'YDR034W-B',\n",
       " 'SPG4',\n",
       " 'YDR491C',\n",
       " 'YLR311C',\n",
       " 'EGO4',\n",
       " 'YCL048W-A',\n",
       " 'YNL195C',\n",
       " 'NQM1',\n",
       " 'RTC3',\n",
       " 'FMP45',\n",
       " 'TSA2',\n",
       " 'YKL065W-A',\n",
       " 'GMC1',\n",
       " 'YBR116C',\n",
       " 'YHR193C-A',\n",
       " 'POT1',\n",
       " 'YML099W-A',\n",
       " 'SSA3',\n",
       " 'ALD3',\n",
       " 'SSA4',\n",
       " 'YDR010C',\n",
       " 'DCS2',\n",
       " 'YMR206W',\n",
       " 'RTN2',\n",
       " 'YER068C-A',\n",
       " 'AGX1',\n",
       " 'CTA1',\n",
       " 'PIR3',\n",
       " 'GCY1',\n",
       " 'UIP4',\n",
       " 'YPT53',\n",
       " 'YKL151C',\n",
       " 'HSP31',\n",
       " 'MSC1',\n",
       " 'AAD10',\n",
       " 'YHR097C',\n",
       " 'YGR201C',\n",
       " 'YER121W',\n",
       " 'YFL015C',\n",
       " 'STL1']"
      ]
     },
     "execution_count": 17,
     "metadata": {},
     "output_type": "execute_result"
    }
   ],
   "source": [
    "io_library.SC_common_name_lookup(list(set(m24_nmpp1_act_genes.index) - set(r1g1_rep_genes.index)))"
   ]
  },
  {
   "cell_type": "code",
   "execution_count": 16,
   "metadata": {},
   "outputs": [
    {
     "data": {
      "text/plain": [
       "Index(['baseMean_RGrep', 'log2FoldChange_RGrep', 'lfcSE_RGrep', 'stat_RGrep',\n",
       "       'pvalue_RGrep', 'padj_RGrep', 'SC_common_name_RGrep',\n",
       "       'baseMean_M24_act', 'log2FoldChange_M24_act', 'lfcSE_M24_act',\n",
       "       'stat_M24_act', 'pvalue_M24_act', 'padj_M24_act',\n",
       "       'SC_common_name_M24_act'],\n",
       "      dtype='object')"
      ]
     },
     "execution_count": 16,
     "metadata": {},
     "output_type": "execute_result"
    }
   ],
   "source": [
    "r1g1_m24int_merge.columns"
   ]
  },
  {
   "cell_type": "code",
   "execution_count": 22,
   "metadata": {},
   "outputs": [
    {
     "data": {
      "text/html": [
       "<iframe id=\"igraph\" scrolling=\"no\" style=\"border:none;\" seamless=\"seamless\" src=\"https://plot.ly/~heineike02_student/128.embed\" height=\"525px\" width=\"100%\"></iframe>"
      ],
      "text/plain": [
       "<plotly.tools.PlotlyDisplay object>"
      ]
     },
     "execution_count": 22,
     "metadata": {},
     "output_type": "execute_result"
    }
   ],
   "source": [
    "#Plot LFC of RG activation v.s. M24 drug interaction\n",
    "\n",
    "r1g1_m24int_merge = r1g1_deseq.merge(m24_nmpp1_int_deseq, how='inner',suffixes= ('_RGrep','_M24act'),left_index=True, right_index=True)\n",
    "\n",
    "\n",
    "data = []\n",
    "\n",
    "trace = pygo.Scatter(\n",
    "            x = r1g1_m24int_merge['log2FoldChange_RGrep'], \n",
    "            y =  r1g1_m24int_merge['log2FoldChange_M24act'],\n",
    "            text = r1g1_m24int_merge['SC_common_name_RGrep'],\n",
    "            mode = 'markers',\n",
    "            marker = {'opacity': 0.5}, #, \n",
    "                      #'color': 'rgba'+str(cmap(NN/10))}, \n",
    "            name = 'Rph1/Gis1 repressed LFC vs Msn24_PKA activation LFC'\n",
    "        )\n",
    "        \n",
    "data.append(trace)\n",
    "\n",
    "layout = pygo.Layout(\n",
    "    xaxis= {\n",
    "        \"range\":[-20, 20],\n",
    "        \"title\":'Rph1/Gis1 del v.s. WT LFC'\n",
    "    },\n",
    "    yaxis= {\n",
    "        \"range\":[-10, 10],\n",
    "        \"title\":'Msn24 del/PKA inhibition interaction term LFC'\n",
    "    }\n",
    ")\n",
    "\n",
    "\n",
    "fig = pygo.Figure(data=data, layout = layout)\n",
    "py.iplot(fig, filename='RNAseq2018_R1G1rep_v_M24PKAact')"
   ]
  },
  {
   "cell_type": "code",
   "execution_count": 23,
   "metadata": {},
   "outputs": [
    {
     "data": {
      "text/html": [
       "<div>\n",
       "<style scoped>\n",
       "    .dataframe tbody tr th:only-of-type {\n",
       "        vertical-align: middle;\n",
       "    }\n",
       "\n",
       "    .dataframe tbody tr th {\n",
       "        vertical-align: top;\n",
       "    }\n",
       "\n",
       "    .dataframe thead th {\n",
       "        text-align: right;\n",
       "    }\n",
       "</style>\n",
       "<table border=\"1\" class=\"dataframe\">\n",
       "  <thead>\n",
       "    <tr style=\"text-align: right;\">\n",
       "      <th></th>\n",
       "      <th>baseMean_RGrep</th>\n",
       "      <th>log2FoldChange_RGrep</th>\n",
       "      <th>lfcSE_RGrep</th>\n",
       "      <th>stat_RGrep</th>\n",
       "      <th>pvalue_RGrep</th>\n",
       "      <th>padj_RGrep</th>\n",
       "      <th>SC_common_name_RGrep</th>\n",
       "      <th>baseMean_M24act</th>\n",
       "      <th>log2FoldChange_M24act</th>\n",
       "      <th>lfcSE_M24act</th>\n",
       "      <th>stat_M24act</th>\n",
       "      <th>pvalue_M24act</th>\n",
       "      <th>padj_M24act</th>\n",
       "      <th>SC_common_name_M24act</th>\n",
       "    </tr>\n",
       "  </thead>\n",
       "  <tbody>\n",
       "    <tr>\n",
       "      <th>YFL014W</th>\n",
       "      <td>48.704855</td>\n",
       "      <td>-0.821724</td>\n",
       "      <td>0.575935</td>\n",
       "      <td>-1.426765</td>\n",
       "      <td>0.153648</td>\n",
       "      <td>0.99735</td>\n",
       "      <td>HSP12</td>\n",
       "      <td>4586.58369</td>\n",
       "      <td>-3.874665</td>\n",
       "      <td>1.27219</td>\n",
       "      <td>-3.045665</td>\n",
       "      <td>0.002322</td>\n",
       "      <td>0.031496</td>\n",
       "      <td>HSP12</td>\n",
       "    </tr>\n",
       "  </tbody>\n",
       "</table>\n",
       "</div>"
      ],
      "text/plain": [
       "         baseMean_RGrep  log2FoldChange_RGrep  lfcSE_RGrep  stat_RGrep  \\\n",
       "YFL014W       48.704855             -0.821724     0.575935   -1.426765   \n",
       "\n",
       "         pvalue_RGrep  padj_RGrep SC_common_name_RGrep  baseMean_M24act  \\\n",
       "YFL014W      0.153648     0.99735                HSP12       4586.58369   \n",
       "\n",
       "         log2FoldChange_M24act  lfcSE_M24act  stat_M24act  pvalue_M24act  \\\n",
       "YFL014W              -3.874665       1.27219    -3.045665       0.002322   \n",
       "\n",
       "         padj_M24act SC_common_name_M24act  \n",
       "YFL014W     0.031496                 HSP12  "
      ]
     },
     "execution_count": 23,
     "metadata": {},
     "output_type": "execute_result"
    }
   ],
   "source": [
    "r1g1_m24int_merge[r1g1_m24int_merge['SC_common_name_M24act']=='HSP12']"
   ]
  },
  {
   "cell_type": "markdown",
   "metadata": {},
   "source": [
    "## Promoter analysis of various groups"
   ]
  },
  {
   "cell_type": "code",
   "execution_count": 7,
   "metadata": {},
   "outputs": [],
   "source": [
    "#Read in the SC promoter database.  \n",
    "sc_promoters = pd.read_pickle(data_processing_dir + os.path.normpath(\"sc_promoters/sc_promoters.pkl\"))"
   ]
  },
  {
   "cell_type": "code",
   "execution_count": 15,
   "metadata": {},
   "outputs": [
    {
     "name": "stdout",
     "output_type": "stream",
     "text": [
      "tD(GUC)I1 not in promoter data set.\n",
      "tE(UUC)K not in promoter data set.\n",
      "tT(AGU)O2 not in promoter data set.\n",
      "tV(AAC)M3 not in promoter data set.\n",
      "tS(AGA)D2 not in promoter data set.\n"
     ]
    }
   ],
   "source": [
    "#Make promoter files for different sets\n",
    "\n",
    "genesets = {'r1g1_rep': r1g1_rep_genes.index, 'm24_act': m24_act_genes.index, 'm24_nmpp1_act': m24_nmpp1_act_genes.index}\n",
    "\n",
    "for name, geneset in genesets.items(): \n",
    "    target_promoter_fname = data_processing_dir + os.path.normpath('sc_promoters/promoter_sets/sc_20181101_' + name + '.fasta')\n",
    "    io_library.write_promoter_file(sc_promoters, geneset,target_promoter_fname)"
   ]
  },
  {
   "cell_type": "markdown",
   "metadata": {},
   "source": [
    "## Looking at rLog data\n"
   ]
  },
  {
   "cell_type": "code",
   "execution_count": 2,
   "metadata": {},
   "outputs": [],
   "source": [
    "#See what AS+ in RG and no deletion backgrounds looks like\n",
    "#should also do this with DEseq\n",
    "\n",
    "#20181017_metadata_V2_postseq\n",
    "rlog_all = pd.read_csv(os.path.normpath(data_processing_dir + '\\\\kl_sc_PKA_as_m24_r1g1_20181017\\\\20181017_rlog_all_SC.csv'), index_col=0)\n",
    "metadata_SC = pd.read_csv(os.path.normpath(data_processing_dir + '\\\\kl_sc_PKA_as_m24_r1g1_20181017\\\\20181017_metadata_deseq_SC.csv'), index_col=0)\n",
    "#metadata_SC_orig = metadata_SC = pd.read_csv(os.path.normpath(data_processing_dir + '\\\\kl_sc_PKA_as_m24_r1g1_20181017\\\\20181017_metadata_deseq_SC_orig.csv'), index_col=0)"
   ]
  },
  {
   "cell_type": "code",
   "execution_count": 113,
   "metadata": {},
   "outputs": [
    {
     "data": {
      "text/plain": [
       "15S_rRNA      1.802902\n",
       "21S_rRNA      9.582057\n",
       "HRA1         -2.399028\n",
       "ICR1          1.595374\n",
       "LSR1          8.165509\n",
       "NME1          3.299077\n",
       "PWR1         -0.953299\n",
       "Q0045         0.154474\n",
       "Q0050        10.028042\n",
       "Q0055         6.230309\n",
       "Q0060         1.964555\n",
       "Q0065         0.558057\n",
       "Q0070         0.737962\n",
       "Q0075         1.495139\n",
       "Q0085        -0.619231\n",
       "Q0110         0.686173\n",
       "Q0115         0.117339\n",
       "Q0120         3.642737\n",
       "Q0130        -1.217843\n",
       "Q0160         4.877533\n",
       "Q0250         1.370274\n",
       "Q0255        -2.407213\n",
       "Q0275        -2.101340\n",
       "RDN5-1       -2.405749\n",
       "RNA170        2.181957\n",
       "RPR1          6.530175\n",
       "RUF20         3.166849\n",
       "RUF21        -2.284272\n",
       "RUF22        -2.415434\n",
       "RUF23         3.274627\n",
       "               ...    \n",
       "tV(AAC)G1    -1.519251\n",
       "tV(AAC)G2    -2.112401\n",
       "tV(AAC)G3     1.852160\n",
       "tV(AAC)H     -2.358424\n",
       "tV(AAC)J     -2.277184\n",
       "tV(AAC)K2     3.503572\n",
       "tV(AAC)L      4.525385\n",
       "tV(AAC)M1    -1.376869\n",
       "tV(AAC)M2     0.726713\n",
       "tV(AAC)M3    -0.591881\n",
       "tV(AAC)O      3.886120\n",
       "tV(CAC)D     -0.936601\n",
       "tV(CAC)H     -0.996448\n",
       "tV(UAC)B     -0.262422\n",
       "tV(UAC)D      0.764927\n",
       "tV(UAC)Q     -0.916683\n",
       "tW(CCA)G1    -1.351943\n",
       "tW(CCA)G2    -2.352198\n",
       "tW(CCA)K      0.108260\n",
       "tW(CCA)M     -2.408238\n",
       "tW(CCA)P     -1.677513\n",
       "tX(XXX)D      1.106430\n",
       "tY(GUA)D      0.373998\n",
       "tY(GUA)F1    -0.683414\n",
       "tY(GUA)F2    -2.353832\n",
       "tY(GUA)J1    -0.714422\n",
       "tY(GUA)J2    -2.102370\n",
       "tY(GUA)M1    -0.571855\n",
       "tY(GUA)M2    -1.760481\n",
       "tY(GUA)O     -1.955847\n",
       "Name: 7057, Length: 6691, dtype: float64"
      ]
     },
     "execution_count": 113,
     "metadata": {},
     "output_type": "execute_result"
    }
   ],
   "source": [
    "x1_ind = metadata_SC_orig[(metadata_SC_orig['NMPP1']==nmpp1) & \n",
    "                          (metadata_SC_orig['tf_del'] == tf_del) &\n",
    "                          (metadata_SC_orig['replicate']=='3') &\n",
    "                          (metadata_SC_orig['pka_AS_mut']=='WT')\n",
    "                         ]\n",
    "x1 = rlog_all.loc[:,str(x1_ind.index[0])]\n",
    "#and metadata_SC_orig['replicate']=='3' and metadata_SC_orig['pka_AS_mut']=='WT']"
   ]
  },
  {
   "cell_type": "code",
   "execution_count": 133,
   "metadata": {},
   "outputs": [],
   "source": [
    "ax.text?"
   ]
  },
  {
   "cell_type": "code",
   "execution_count": 132,
   "metadata": {},
   "outputs": [
    {
     "data": {
      "text/plain": [
       "'0.96'"
      ]
     },
     "execution_count": 132,
     "metadata": {},
     "output_type": "execute_result"
    }
   ],
   "source": [
    "'{:0.2f}'.format(np.corrcoef(x,y1)[0,1])"
   ]
  },
  {
   "cell_type": "code",
   "execution_count": 143,
   "metadata": {
    "scrolled": true
   },
   "outputs": [
    {
     "data": {
      "text/plain": [
       "Text(0.5,0.98,'RGM24_cont')"
      ]
     },
     "execution_count": 143,
     "metadata": {},
     "output_type": "execute_result"
    },
    {
     "data": {
      "image/png": "[encoded data removed]",
      "text/plain": [
       "<Figure size 432x288 with 8 Axes>"
      ]
     },
     "metadata": {
      "needs_background": "light"
     },
     "output_type": "display_data"
    }
   ],
   "source": [
    "#Look at scatter of rlog for replicate 3 vs 2 and 1\n",
    "\n",
    "#for nmpp1 in ['cont', 'drug']:\n",
    "#for tf_del in ['WT','RG','M24','RGM24']\n",
    "\n",
    "nmpp1 = 'cont'\n",
    "tf_del = 'RGM24'\n",
    "\n",
    "\n",
    "fig, axarr = plt.subplots(2,4)\n",
    "\n",
    "y1_ind = metadata_SC_orig[(metadata_SC_orig['NMPP1']==nmpp1) & \n",
    "                          (metadata_SC_orig['tf_del'] == tf_del) &\n",
    "                          (metadata_SC_orig['replicate']=='3') &\n",
    "                          (metadata_SC_orig['pka_AS_mut']=='WT')\n",
    "                         ]\n",
    "y1 = rlog_all.loc[:,str(y1_ind.index[0])]\n",
    "\n",
    "\n",
    "y2_ind = metadata_SC_orig[(metadata_SC_orig['NMPP1']==nmpp1) & \n",
    "                          (metadata_SC_orig['tf_del'] == tf_del) &\n",
    "                          (metadata_SC_orig['replicate']=='3') &\n",
    "                          (metadata_SC_orig['pka_AS_mut']=='AS')\n",
    "                         ]\n",
    "y2 = rlog_all.loc[:,str(y2_ind.index[0])]\n",
    "\n",
    "jj = 0\n",
    "for pka_as_mut in ['WT','AS']:\n",
    "    for replicate in ['1','2']:\n",
    "        x_ind = metadata_SC_orig[(metadata_SC_orig['NMPP1']==nmpp1) & \n",
    "                          (metadata_SC_orig['tf_del'] == tf_del) &\n",
    "                          (metadata_SC_orig['replicate']==replicate) &\n",
    "                          (metadata_SC_orig['pka_AS_mut']==pka_as_mut)\n",
    "                         ]\n",
    "        x = rlog_all.loc[:,str(x_ind.index[0])]\n",
    "        \n",
    "        ax = axarr[0,jj]\n",
    "        ax.scatter(x,y1,alpha = 0.2)\n",
    "        if jj==0:\n",
    "            ax.set_ylabel('WT')\n",
    "        ax.text(0,12,'{:0.3f}'.format(np.corrcoef(x,y1)[0,1]))\n",
    "        \n",
    "        ax = axarr[1,jj]\n",
    "        if jj==0:\n",
    "            ax.set_ylabel('AS')\n",
    "        ax.scatter(x,y2,alpha = 0.2)\n",
    "        \n",
    "        ax.text(0,12,'{:0.3f}'.format(np.corrcoef(x,y2)[0,1]))\n",
    "        \n",
    "        ax.set_xlabel(pka_as_mut + '_' + replicate)\n",
    "        \n",
    "        jj = jj + 1\n",
    "        \n",
    "fig.suptitle(tf_del + '_' + nmpp1)\n"
   ]
  },
  {
   "cell_type": "code",
   "execution_count": 87,
   "metadata": {},
   "outputs": [],
   "source": [
    "metadata_SC\n",
    "\n",
    "#remove biological replicates\n",
    "metadata_SC_noBR = metadata_SC[metadata_SC['replicate']!='BR'].copy()\n",
    "\n",
    "#make a label that represents background mutation, deletion, and presence of drug\n",
    "metadata_SC_noBR['pka_AS_mut__tf_del__NMPP1'] = metadata_SC['pka_AS_mut'] + '_' + metadata_SC['tf_del'] + '_' + metadata_SC['NMPP1'] \n",
    "\n",
    "metadata_SC_noBR['I7 index str'] = [str(ind) for ind in metadata_SC_noBR.index]\n",
    "metadata_SC_noBR.set_index('I7 index str', inplace=True)\n",
    "\n",
    "#group samples by mutation, deletion and presence of drug and take mean and variance.  Save as a .csv\n",
    "rlog_data_metadata = metadata_SC_noBR.loc[:,['pka_AS_mut__tf_del__NMPP1']].merge(rlog_all.T,how = 'left', left_index = True, right_index = True)\n",
    "rlog_data_grouped = rlog_data_metadata.groupby(by=['pka_AS_mut__tf_del__NMPP1'])\n",
    "rlog_data_grouped_mean = rlog_data_grouped.agg('mean').T\n",
    "rlog_data_grouped_var = rlog_data_grouped.agg('var').T\n",
    "rlog_data_mean_var = rlog_data_grouped_mean.merge(rlog_data_grouped_var, how = 'inner', left_index = True, right_index = True, suffixes=['_mean', '_var'])\n",
    "\n",
    "rlog_data_mean_var['SC_common_name'] = io_library.SC_common_name_lookup(rlog_data_mean_var.index)\n",
    "rlog_data_mean_var.to_csv(os.path.normpath(data_processing_dir + '\\\\kl_sc_PKA_as_m24_r1g1_20181017\\\\20181017_rlog_mean_SC.csv' ))\n"
   ]
  },
  {
   "cell_type": "code",
   "execution_count": 88,
   "metadata": {},
   "outputs": [],
   "source": [
    "#Load mean rlog data\n",
    "rlog_data_mean_var = pd.read_csv(os.path.normpath(data_processing_dir + '\\\\kl_sc_PKA_as_m24_r1g1_20181017\\\\20181017_rlog_mean_SC.csv' ),index_col=0)\n",
    "\n"
   ]
  },
  {
   "cell_type": "code",
   "execution_count": 90,
   "metadata": {},
   "outputs": [
    {
     "data": {
      "text/plain": [
       "Index(['AS_M24_cont_mean', 'AS_M24_drug_mean', 'AS_RGM24_cont_mean',\n",
       "       'AS_RGM24_drug_mean', 'AS_RG_cont_mean', 'AS_RG_drug_mean',\n",
       "       'AS_WT_cont_mean', 'AS_WT_drug_mean', 'WT_M24_cont_mean',\n",
       "       'WT_M24_drug_mean', 'WT_RGM24_cont_mean', 'WT_RGM24_drug_mean',\n",
       "       'WT_RG_cont_mean', 'WT_RG_drug_mean', 'WT_WT_cont_mean',\n",
       "       'WT_WT_drug_mean', 'AS_M24_cont_var', 'AS_M24_drug_var',\n",
       "       'AS_RGM24_cont_var', 'AS_RGM24_drug_var', 'AS_RG_cont_var',\n",
       "       'AS_RG_drug_var', 'AS_WT_cont_var', 'AS_WT_drug_var', 'WT_M24_cont_var',\n",
       "       'WT_M24_drug_var', 'WT_RGM24_cont_var', 'WT_RGM24_drug_var',\n",
       "       'WT_RG_cont_var', 'WT_RG_drug_var', 'WT_WT_cont_var', 'WT_WT_drug_var',\n",
       "       'SC_common_name'],\n",
       "      dtype='object')"
      ]
     },
     "execution_count": 90,
     "metadata": {},
     "output_type": "execute_result"
    }
   ],
   "source": [
    "rlog_data_mean_var.columns"
   ]
  },
  {
   "cell_type": "code",
   "execution_count": 92,
   "metadata": {},
   "outputs": [
    {
     "data": {
      "text/html": [
       "<iframe id=\"igraph\" scrolling=\"no\" style=\"border:none;\" seamless=\"seamless\" src=\"https://plot.ly/~heineike02_student/134.embed\" height=\"525px\" width=\"100%\"></iframe>"
      ],
      "text/plain": [
       "<plotly.tools.PlotlyDisplay object>"
      ]
     },
     "execution_count": 92,
     "metadata": {},
     "output_type": "execute_result"
    }
   ],
   "source": [
    "spec = 'SC'\n",
    "\n",
    "data = []\n",
    "\n",
    "xlabel = 'AS_WT_drug_mean'\n",
    "ylabel = 'AS_RG_drug_mean'\n",
    "\n",
    "trace = pygo.Scatter(\n",
    "            x = rlog_data_mean_var[xlabel], \n",
    "            y =  rlog_data_mean_var[ylabel],\n",
    "            text = rlog_data_mean_var['SC_common_name'],\n",
    "            mode = 'markers',\n",
    "            marker = {'opacity': 0.5}, #, \n",
    "                      #'color': 'rgba'+str(cmap(NN/10))}, \n",
    "            name = xlabel + ' vs ' + ylabel \n",
    "        )\n",
    "        \n",
    "data.append(trace)\n",
    "\n",
    "layout = pygo.Layout(\n",
    "    xaxis= {\n",
    "        #\"range\":[-20, 20],\n",
    "        \"title\": 'mean rlog ' + xlabel\n",
    "    },\n",
    "    yaxis= {\n",
    "        #\"range\":[-10, 10],\n",
    "        \"title\": 'mean rlog ' + ylabel\n",
    "    }\n",
    ")\n",
    "\n",
    "\n",
    "fig = pygo.Figure(data=data, layout = layout)\n",
    "py.iplot(fig, filename= xlabel + '_vs_' + ylabel + '_' + spec + '_mean_rlog')"
   ]
  },
  {
   "cell_type": "code",
   "execution_count": 93,
   "metadata": {},
   "outputs": [
    {
     "data": {
      "text/html": [
       "<iframe id=\"igraph\" scrolling=\"no\" style=\"border:none;\" seamless=\"seamless\" src=\"https://plot.ly/~heineike02_student/136.embed\" height=\"525px\" width=\"100%\"></iframe>"
      ],
      "text/plain": [
       "<plotly.tools.PlotlyDisplay object>"
      ]
     },
     "execution_count": 93,
     "metadata": {},
     "output_type": "execute_result"
    }
   ],
   "source": [
    "spec = 'SC'\n",
    "\n",
    "data = []\n",
    "\n",
    "xlabel = 'AS_WT_cont_mean'\n",
    "ylabel = 'AS_RG_cont_mean'\n",
    "\n",
    "trace = pygo.Scatter(\n",
    "            x = rlog_data_mean_var[xlabel], \n",
    "            y =  rlog_data_mean_var[ylabel],\n",
    "            text = rlog_data_mean_var['SC_common_name'],\n",
    "            mode = 'markers',\n",
    "            marker = {'opacity': 0.5}, #, \n",
    "                      #'color': 'rgba'+str(cmap(NN/10))}, \n",
    "            name = xlabel + ' vs ' + ylabel \n",
    "        )\n",
    "        \n",
    "data.append(trace)\n",
    "\n",
    "layout = pygo.Layout(\n",
    "    xaxis= {\n",
    "        #\"range\":[-20, 20],\n",
    "        \"title\": 'mean rlog ' + xlabel\n",
    "    },\n",
    "    yaxis= {\n",
    "        #\"range\":[-10, 10],\n",
    "        \"title\": 'mean rlog ' + ylabel\n",
    "    }\n",
    ")\n",
    "\n",
    "\n",
    "fig = pygo.Figure(data=data, layout = layout)\n",
    "py.iplot(fig, filename= xlabel + '_vs_' + ylabel + '_' + spec + '_mean_rlog')"
   ]
  },
  {
   "cell_type": "code",
   "execution_count": 94,
   "metadata": {},
   "outputs": [
    {
     "data": {
      "text/html": [
       "<iframe id=\"igraph\" scrolling=\"no\" style=\"border:none;\" seamless=\"seamless\" src=\"https://plot.ly/~heineike02_student/138.embed\" height=\"525px\" width=\"100%\"></iframe>"
      ],
      "text/plain": [
       "<plotly.tools.PlotlyDisplay object>"
      ]
     },
     "execution_count": 94,
     "metadata": {},
     "output_type": "execute_result"
    }
   ],
   "source": [
    "spec = 'SC'\n",
    "\n",
    "data = []\n",
    "\n",
    "xlabel = 'WT_WT_cont_mean'\n",
    "ylabel = 'WT_RG_cont_mean'\n",
    "\n",
    "trace = pygo.Scatter(\n",
    "            x = rlog_data_mean_var[xlabel], \n",
    "            y =  rlog_data_mean_var[ylabel],\n",
    "            text = rlog_data_mean_var['SC_common_name'],\n",
    "            mode = 'markers',\n",
    "            marker = {'opacity': 0.5}, #, \n",
    "                      #'color': 'rgba'+str(cmap(NN/10))}, \n",
    "            name = xlabel + ' vs ' + ylabel \n",
    "        )\n",
    "        \n",
    "data.append(trace)\n",
    "\n",
    "layout = pygo.Layout(\n",
    "    xaxis= {\n",
    "        #\"range\":[-20, 20],\n",
    "        \"title\": 'mean rlog ' + xlabel\n",
    "    },\n",
    "    yaxis= {\n",
    "        #\"range\":[-10, 10],\n",
    "        \"title\": 'mean rlog ' + ylabel\n",
    "    }\n",
    ")\n",
    "\n",
    "\n",
    "fig = pygo.Figure(data=data, layout = layout)\n",
    "py.iplot(fig, filename= xlabel + '_vs_' + ylabel + '_' + spec + '_mean_rlog')"
   ]
  },
  {
   "cell_type": "code",
   "execution_count": 95,
   "metadata": {},
   "outputs": [
    {
     "data": {
      "text/html": [
       "<iframe id=\"igraph\" scrolling=\"no\" style=\"border:none;\" seamless=\"seamless\" src=\"https://plot.ly/~heineike02_student/140.embed\" height=\"525px\" width=\"100%\"></iframe>"
      ],
      "text/plain": [
       "<plotly.tools.PlotlyDisplay object>"
      ]
     },
     "execution_count": 95,
     "metadata": {},
     "output_type": "execute_result"
    }
   ],
   "source": [
    "spec = 'SC'\n",
    "\n",
    "data = []\n",
    "\n",
    "xlabel = 'WT_WT_cont_mean'\n",
    "ylabel = 'AS_WT_cont_mean'\n",
    "\n",
    "trace = pygo.Scatter(\n",
    "            x = rlog_data_mean_var[xlabel], \n",
    "            y =  rlog_data_mean_var[ylabel],\n",
    "            text = rlog_data_mean_var['SC_common_name'],\n",
    "            mode = 'markers',\n",
    "            marker = {'opacity': 0.5}, #, \n",
    "                      #'color': 'rgba'+str(cmap(NN/10))}, \n",
    "            name = xlabel + ' vs ' + ylabel \n",
    "        )\n",
    "        \n",
    "data.append(trace)\n",
    "\n",
    "layout = pygo.Layout(\n",
    "    xaxis= {\n",
    "        #\"range\":[-20, 20],\n",
    "        \"title\": 'mean rlog ' + xlabel\n",
    "    },\n",
    "    yaxis= {\n",
    "        #\"range\":[-10, 10],\n",
    "        \"title\": 'mean rlog ' + ylabel\n",
    "    }\n",
    ")\n",
    "\n",
    "\n",
    "fig = pygo.Figure(data=data, layout = layout)\n",
    "py.iplot(fig, filename= xlabel + '_vs_' + ylabel + '_' + spec + '_mean_rlog')"
   ]
  },
  {
   "cell_type": "code",
   "execution_count": 27,
   "metadata": {},
   "outputs": [],
   "source": [
    "?pd.MultiIndex\n",
    "#metadata_SC['pka_AS_mut'] + '_' + metadata_SC['tf_del'] + '_' + metadata_SC['NMPP1'] "
   ]
  },
  {
   "cell_type": "markdown",
   "metadata": {},
   "source": [
    "## Comparing pre to post UTR data"
   ]
  },
  {
   "cell_type": "code",
   "execution_count": null,
   "metadata": {},
   "outputs": [],
   "source": [
    "#compare raw counts (logged with pseudocount) (as -drug, as +drug)\n",
    "\n",
    "#load raw counts \n",
    "\n",
    "\n",
    "\n"
   ]
  },
  {
   "cell_type": "code",
   "execution_count": null,
   "metadata": {},
   "outputs": [],
   "source": [
    "#compare rlog data"
   ]
  }
 ],
 "metadata": {
  "kernelspec": {
   "display_name": "Python 3",
   "language": "python",
   "name": "python3"
  },
  "language_info": {
   "codemirror_mode": {
    "name": "ipython",
    "version": 3
   },
   "file_extension": ".py",
   "mimetype": "text/x-python",
   "name": "python",
   "nbconvert_exporter": "python",
   "pygments_lexer": "ipython3",
   "version": "3.7.0"
  }
 },
 "nbformat": 4,
 "nbformat_minor": 2
}
