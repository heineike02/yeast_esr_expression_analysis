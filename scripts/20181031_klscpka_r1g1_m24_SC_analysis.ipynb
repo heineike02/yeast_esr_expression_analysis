{
 "cells": [
  {
   "cell_type": "code",
   "execution_count": 1,
   "metadata": {},
   "outputs": [
    {
     "name": "stdout",
     "output_type": "stream",
     "text": [
      "what computer are you on? a = Ben's laptop, b = gpucluster, c = Ben's desktop, d = othera\n",
      "base directory is C:\\Users\\BMH_work\\github\\expression_broad_data\n",
      "Added C:\\Users\\BMH_work\\github\\expression_broad_data to path: \n",
      "['', 'C:\\\\Users\\\\BMH_work\\\\github\\\\expression_broad_data\\\\scripts', 'C:\\\\Users\\\\BMH_work\\\\Anaconda3\\\\python37.zip', 'C:\\\\Users\\\\BMH_work\\\\Anaconda3\\\\DLLs', 'C:\\\\Users\\\\BMH_work\\\\Anaconda3\\\\lib', 'C:\\\\Users\\\\BMH_work\\\\Anaconda3', 'C:\\\\Users\\\\BMH_work\\\\Anaconda3\\\\lib\\\\site-packages', 'C:\\\\Users\\\\BMH_work\\\\Anaconda3\\\\lib\\\\site-packages\\\\win32', 'C:\\\\Users\\\\BMH_work\\\\Anaconda3\\\\lib\\\\site-packages\\\\win32\\\\lib', 'C:\\\\Users\\\\BMH_work\\\\Anaconda3\\\\lib\\\\site-packages\\\\Pythonwin', 'C:\\\\Users\\\\BMH_work\\\\Anaconda3\\\\lib\\\\site-packages\\\\IPython\\\\extensions', 'C:\\\\Users\\\\BMH_work\\\\.ipython', 'C:\\\\Users\\\\BMH_work\\\\github\\\\expression_broad_data']\n",
      "I am about to import a library\n",
      "I am importing io_library\n",
      "what computer are you on? a = Ben's laptop, b = gpucluster, c = Ben's desktop, d = othera\n",
      "base directory is C:\\Users\\BMH_work\\github\\expression_broad_data\n",
      "data processing dir is C:\\Users\\BMH_work\\github\\expression_broad_data\\expression_data\\\n",
      "are you online? Yes/NoYes\n"
     ]
    }
   ],
   "source": [
    "# %load std_libraries.py\n",
    "#to keep my scripts consistent, I am adding this to the top of all scripts with %load std_libraries.py\n",
    "import sys\n",
    "#Indicate operating environment and import core modules\n",
    "location_input = input(\"what computer are you on? a = Ben's laptop, b = gpucluster, c = Ben's desktop, d = other\")\n",
    "location_dict = {'a': \"C:\\\\Users\\\\BMH_work\\\\github\\\\expression_broad_data\", 'b': \"/home/heineike/github/expression_broad_data\",\n",
    "                 'c': \"C:\\\\Users\\\\Ben\\\\Documents\\\\GitHub\\\\expression_broad_data\", 'd':'you need to add your location to the location_dict'}\n",
    "base_dir = location_dict[location_input]\n",
    "print(\"base directory is \" + base_dir)\n",
    "\n",
    "if sys.path[-1] != base_dir:\n",
    "    sys.path.append(base_dir)\n",
    "    print(\"Added \" + base_dir + \" to path: \" )\n",
    "    print(sys.path)\n",
    "\n",
    "import os\n",
    "\n",
    "print(\"I am about to import a library\")\n",
    "from core import expression_plots \n",
    "from core import io_library \n",
    "%load_ext autoreload\n",
    "%autoreload 2\n",
    "# %matplotlib \n",
    "# plt.ioff()\n",
    "#%matplotlib inline\n",
    "%matplotlib notebook\n",
    "data_processing_dir = base_dir + os.sep + os.path.normpath(\"expression_data\") + os.sep\n",
    "\n",
    "import pandas as pd\n",
    "import numpy as np\n",
    "import matplotlib.pyplot as plt\n",
    "#import matplotlib.colormap as cm\n",
    "from matplotlib_venn import venn2\n",
    "from matplotlib_venn import venn3\n",
    "#for my windows computer I had to install this package using pip rather than anaconda.  I got this error message: \n",
    "#twisted 18.7.0 requires PyHamcrest>=1.9.0, which is not installed.\n",
    "#import seaborn as sns; sns.set(style=\"ticks\", color_codes=True)\n",
    "#from sklearn import linear_model\n",
    "import pickle\n",
    "#import subprocess\n",
    "#import networkx as nx\n",
    "import scipy.stats as stats\n",
    "#import statsmodels.graphics.gofplots as stats_graph\n",
    "#import scipy.cluster.hierarchy as sch\n",
    "\n",
    "# from Bio import SeqIO\n",
    "# from Bio import SeqFeature as sf\n",
    "# from Bio.Alphabet import generic_dna\n",
    "# from Bio.Seq import Seq\n",
    "\n",
    "# import re\n",
    "\n",
    "from collections import Counter\n",
    "# import scipy.stats as stats\n",
    "# from itertools import chain\n",
    "#from itertools import product\n",
    "#this only works if you are online\n",
    "online_input = input(\"are you online? Yes/No\")\n",
    "if online_input == \"Yes\": \n",
    "    import plotly.plotly as py\n",
    "    import plotly.graph_objs as pygo\n",
    "    import plotly.tools as pytools\n",
    "    py.sign_in('heineike02_student','9dMTMZgJMgUP0YX0P5mQ')\n",
    "    #py.sign_in('heineike02', 'APPjKrtARaN2ZgUYIkqr')\n",
    "    \n",
    "# for phylogenetic trees: \n",
    "# from ete3 import Tree\n",
    "\n",
    "#for scraping internet data (e.g. ncbi)\n",
    "#import requests\n",
    "#from lxml import etree    #parses xml output"
   ]
  },
  {
   "cell_type": "code",
   "execution_count": 5,
   "metadata": {},
   "outputs": [],
   "source": [
    "##Compare LFC between last year and this year for AS + 1/NMPP1\n",
    "\n",
    "#Load DEseq data for AS +/- drug\n",
    "\n",
    "pkainh_deseq = pd.read_csv(os.path.normpath(data_processing_dir + '\\\\kl_sc_PKA_as_m24_r1g1_20181017\\\\20181017_deseq_SC_AS_WT_nmpp1.csv'), index_col=0)\n",
    "#pkainh_deseq = pd.read_csv(os.path.normpath(data_processing_dir + '\\\\kl_sc_PKA_as_m24_r1g1_20181017\\\\20181017_deseq_SC_AS_nmpp1.csv'), index_col=0)\n",
    "\n",
    "#Load DEseq data from 2017 for AS +/-drug\n",
    "\n",
    "pkainh_deseq_2017 = pd.read_csv(os.path.normpath(data_processing_dir + '\\\\20170817_klscpka\\\\20170817_klscpka_DESEQ_YPD_t40_ASMinvASPlus_SC.csv'), index_col=0)\n",
    "\n",
    "pkainh_deseq_merged = pkainh_deseq.merge(pkainh_deseq_2017, left_index=True, right_index=True, how = 'outer', suffixes = ('','_2017')) \n",
    "\n",
    "\n",
    "#Add column for common names\n",
    "pkainh_deseq_merged['SC_common_name'] = io_library.SC_common_name_lookup(pkainh_deseq_merged.index)\n",
    "\n",
    "for column in ['log2FoldChange', 'log2FoldChange_2017']: \n",
    "    pkainh_deseq_merged[column] = pkainh_deseq_merged[column].fillna(0.0)"
   ]
  },
  {
   "cell_type": "code",
   "execution_count": 20,
   "metadata": {
    "scrolled": true
   },
   "outputs": [
    {
     "data": {
      "text/html": [
       "<iframe id=\"igraph\" scrolling=\"no\" style=\"border:none;\" seamless=\"seamless\" src=\"https://plot.ly/~heineike02_student/152.embed\" height=\"525px\" width=\"100%\"></iframe>"
      ],
      "text/plain": [
       "<plotly.tools.PlotlyDisplay object>"
      ]
     },
     "execution_count": 20,
     "metadata": {},
     "output_type": "execute_result"
    }
   ],
   "source": [
    "spec = 'SC'\n",
    "\n",
    "data = []\n",
    "\n",
    "xlabel = 'LFC AS -/+ Nmpp1 2017'\n",
    "ylabel = 'LFC AS -/+ Nmpp1'\n",
    "\n",
    "trace = pygo.Scatter(\n",
    "            x = pkainh_deseq_merged['log2FoldChange_2017'], \n",
    "            y =  pkainh_deseq_merged['log2FoldChange'],\n",
    "            text = pkainh_deseq_merged['SC_common_name'],\n",
    "            mode = 'markers',\n",
    "            marker = {'opacity': 0.5}, #, \n",
    "                      #'color': 'rgba'+str(cmap(NN/10))}, \n",
    "            name = xlabel + ' vs ' + ylabel \n",
    "        )\n",
    "        \n",
    "data.append(trace)\n",
    "\n",
    "layout = pygo.Layout(\n",
    "    xaxis= {\n",
    "        #\"range\":[-20, 20],\n",
    "        \"title\": xlabel\n",
    "    },\n",
    "    yaxis= {\n",
    "        #\"range\":[-10, 10],\n",
    "        \"title\": ylabel\n",
    "    }\n",
    ")\n",
    "\n",
    "\n",
    "fig = pygo.Figure(data=data, layout = layout)\n",
    "py.iplot(fig, filename= 'SC_AS_pmNMPP1_2017LFC_V2018')"
   ]
  },
  {
   "cell_type": "code",
   "execution_count": 2,
   "metadata": {},
   "outputs": [],
   "source": [
    "#Load DEseq data for SCer Rph1/Gis1 delete experiment\n",
    "\n",
    "r1g1_deseq = pd.read_csv(os.path.normpath(data_processing_dir + '\\\\kl_sc_PKA_as_m24_r1g1_20181017\\\\20181017_deseq_SC_AS_wtVr1g1.csv'), index_col=0)\n",
    "\n",
    "#Add column for common names\n",
    "r1g1_deseq['SC_common_name'] = io_library.SC_common_name_lookup(r1g1_deseq.index)\n",
    "\n",
    "\n",
    "#Load DEseq data for SCer Msn24/drug interaction contrast\n",
    "m24_nmpp1_int_deseq = pd.read_csv(os.path.normpath(data_processing_dir + '\\\\kl_sc_PKA_as_m24_r1g1_20181017\\\\20181017_deseq_SC_AS_m24del_nmpp1_interaction.csv'), index_col=0)\n",
    "\n",
    "#Add column for common names\n",
    "m24_nmpp1_int_deseq['SC_common_name'] = io_library.SC_common_name_lookup(m24_nmpp1_int_deseq.index)\n",
    "\n",
    "\n",
    "#Load DEseq data for SCer Msn2/4 delete in WT experiment\n",
    "m24_deseq = pd.read_csv(os.path.normpath(data_processing_dir + '\\\\kl_sc_PKA_as_m24_r1g1_20181017\\\\20181017_deseq_SC_WT_wtVm24.csv'), index_col=0)\n",
    "\n",
    "#Add column for common names\n",
    "m24_deseq['SC_common_name'] = io_library.SC_common_name_lookup(m24_deseq.index)\n",
    "\n",
    "\n",
    "#Load DEseq data for SCer PKA AS -/+ NMPP1 \n",
    "pkainh_deseq = pd.read_csv(os.path.normpath(data_processing_dir + '\\\\kl_sc_PKA_as_m24_r1g1_20181017\\\\20181017_deseq_SC_AS_WT_nmpp1.csv'), index_col=0)\n",
    "pkainh_deseq['SC_common_name'] = io_library.SC_common_name_lookup(pkainh_deseq.index)\n",
    "\n",
    "\n",
    "#Load DEseq data for SCer PKA AS Msn2/4 delete -/+ NMPP1 \n",
    "pkainh_m24del_deseq = pd.read_csv(os.path.normpath(data_processing_dir + '\\\\kl_sc_PKA_as_m24_r1g1_20181017\\\\20181017_deseq_SC_AS_M24_nmpp1.csv'), index_col=0)\n",
    "pkainh_m24del_deseq['SC_common_name'] = io_library.SC_common_name_lookup(pkainh_m24del_deseq.index)\n",
    "\n",
    "\n",
    "coords = {}"
   ]
  },
  {
   "cell_type": "code",
   "execution_count": 3,
   "metadata": {},
   "outputs": [],
   "source": [
    "#Make Average rlog data Only need to do once\n",
    "\n",
    "# #Load Rlog data and metadata\n",
    "# rlog_all = pd.read_csv(os.path.normpath(data_processing_dir + '\\\\kl_sc_PKA_as_m24_r1g1_20181017\\\\20181017_rlog_all_SC.csv'), index_col=0)\n",
    "# metadata_SC = pd.read_csv(os.path.normpath(data_processing_dir + '\\\\kl_sc_PKA_as_m24_r1g1_20181017\\\\20181017_metadata_deseq_SC.csv'), index_col=0)\n",
    "# #metadata_SC_orig = metadata_SC = pd.read_csv(os.path.normpath(data_processing_dir + '\\\\kl_sc_PKA_as_m24_r1g1_20181017\\\\20181017_metadata_deseq_SC_orig.csv'), index_col=0)\n",
    "\n",
    "# #remove biological replicates\n",
    "# metadata_SC_noBR = metadata_SC[metadata_SC['replicate']!='BR'].copy()\n",
    "\n",
    "# #make a label that represents background mutation, deletion, and presence of drug\n",
    "# metadata_SC_noBR['pka_AS_mut__tf_del__NMPP1'] = metadata_SC['pka_AS_mut'] + '_' + metadata_SC['tf_del'] + '_' + metadata_SC['NMPP1'] \n",
    "\n",
    "# metadata_SC_noBR['I7 index str'] = [str(ind) for ind in metadata_SC_noBR.index]\n",
    "# metadata_SC_noBR.set_index('I7 index str', inplace=True)\n",
    "\n",
    "# #group samples by mutation, deletion and presence of drug and take mean and variance.  Save as a .csv\n",
    "# rlog_data_metadata = metadata_SC_noBR.loc[:,['pka_AS_mut__tf_del__NMPP1']].merge(rlog_all.T,how = 'left', left_index = True, right_index = True)\n",
    "# rlog_data_grouped = rlog_data_metadata.groupby(by=['pka_AS_mut__tf_del__NMPP1'])\n",
    "# rlog_data_grouped_mean = rlog_data_grouped.agg('mean').T\n",
    "# rlog_data_grouped_var = rlog_data_grouped.agg('var').T\n",
    "# rlog_data_mean_var = rlog_data_grouped_mean.merge(rlog_data_grouped_var, how = 'inner', left_index = True, right_index = True, suffixes=['_mean', '_var'])\n",
    "\n",
    "# rlog_data_mean_var['SC_common_name'] = io_library.SC_common_name_lookup(rlog_data_mean_var.index)\n",
    "# rlog_data_mean_var.to_csv(os.path.normpath(data_processing_dir + '\\\\kl_sc_PKA_as_m24_r1g1_20181017\\\\20181017_rlog_mean_SC.csv' ))\n"
   ]
  },
  {
   "cell_type": "code",
   "execution_count": 14,
   "metadata": {},
   "outputs": [],
   "source": [
    "#load average rlog data\n",
    "rlog_data_mean_var = pd.read_csv(os.path.normpath(data_processing_dir + '\\\\kl_sc_PKA_as_m24_r1g1_20181017\\\\20181017_rlog_mean_SC.csv' ),index_col=0)\n"
   ]
  },
  {
   "cell_type": "markdown",
   "metadata": {},
   "source": [
    "## Get set of genes effected by PKA"
   ]
  },
  {
   "cell_type": "code",
   "execution_count": 4,
   "metadata": {},
   "outputs": [
    {
     "name": "stdout",
     "output_type": "stream",
     "text": [
      "pkainh_act genes: 509\n",
      "pkainh_rep genes: 697\n"
     ]
    }
   ],
   "source": [
    "x_data = pkainh_deseq['log2FoldChange']\n",
    "y_data =  -np.log10(pkainh_deseq['pvalue'])\n",
    "\n",
    "#To Call PKA AS -/+ activated genes make a line and a low pValue cutoff\n",
    "\n",
    "x1,y1 = (2.0,15)\n",
    "x2,y2 = (2.5,0.0)\n",
    "ymin = 1.5\n",
    "\n",
    "#save the coordinates in a dictionary\n",
    "coords['pkainh_act'] = [(x1,y1),(x2,y2),ymin]\n",
    "\n",
    "pkainh_act_genes = pkainh_deseq[(y_data > y2- (y2-y1)/(x2-x1)*(x2-x_data)) & (y_data>ymin)]\n",
    "\n",
    "print('pkainh_act genes: ' + str(len(pkainh_act_genes)))\n",
    "\n",
    "#To Call PKA AS -/+ repressed genes make a line and a low pValue cutoff\n",
    "\n",
    "x1,y1 = (-2.5,0.0)\n",
    "x2,y2 = (-2.0,15)\n",
    "ymin = 1.5\n",
    "\n",
    "#save the coordinates in a dictionary\n",
    "coords['pkainh_rep'] = [(x1,y1),(x2,y2),ymin]\n",
    "\n",
    "pkainh_rep_genes = pkainh_deseq[(y_data > y2- (y2-y1)/(x2-x1)*(x2-x_data)) & (y_data>ymin)]\n",
    "\n",
    "print('pkainh_rep genes: ' + str(len(pkainh_rep_genes)))\n"
   ]
  },
  {
   "cell_type": "code",
   "execution_count": 29,
   "metadata": {
    "scrolled": true
   },
   "outputs": [
    {
     "data": {
      "text/html": [
       "<iframe id=\"igraph\" scrolling=\"no\" style=\"border:none;\" seamless=\"seamless\" src=\"https://plot.ly/~heineike02_student/172.embed\" height=\"525px\" width=\"100%\"></iframe>"
      ],
      "text/plain": [
       "<plotly.tools.PlotlyDisplay object>"
      ]
     },
     "execution_count": 29,
     "metadata": {},
     "output_type": "execute_result"
    }
   ],
   "source": [
    "#Plot Deseq LFC v.s. pValue for AS -/+ drug\n",
    "hover_text = pkainh_deseq['SC_common_name']\n",
    "\n",
    "lines = {}\n",
    "for geneset in ['act', 'rep']: \n",
    "    \n",
    "    lines[geneset + ' threshold'] = coords['pkainh_' + geneset][0:2]\n",
    "    \n",
    "    yminline_p1, yminline_p2 = expression_plots.pval_min_line(coords['pkainh_' + geneset][0:2], coords['pkainh_' + geneset][2], x_data)\n",
    "\n",
    "    lines[geneset + ' pval min'] = [yminline_p1, yminline_p2] \n",
    "\n",
    "\n",
    "\n",
    "fig = expression_plots.lfc_padj_plot_with_lines(x_data,y_data,hover_text,lines)\n",
    "\n",
    "py.iplot(fig, filename='RNAseq2018_KL_PKA_AS_pmNMPP1')"
   ]
  },
  {
   "cell_type": "markdown",
   "metadata": {},
   "source": [
    "Figure [supp S1]: LFC v.s. -log10(p_value) for Targets of activation and repression in {{spec}} were defined as all genes that fell above the line defined by the points {{x1,y1}} and {{x1,y2}}, and for which -log10(pvalue)>{{ymin}}. "
   ]
  },
  {
   "cell_type": "markdown",
   "metadata": {},
   "source": [
    "## Define Differentially expressed paralogs\n"
   ]
  },
  {
   "cell_type": "code",
   "execution_count": 6,
   "metadata": {},
   "outputs": [
    {
     "name": "stdout",
     "output_type": "stream",
     "text": [
      "Total number of Ohnologs: 547\n"
     ]
    }
   ],
   "source": [
    "#Load Ortholog data\n",
    "ohnologs = pd.read_csv(data_processing_dir + os.path.normpath(\"ortholog_files_YGOB/ohnologs.csv\"), index_col=0)\n",
    "print('Total number of Ohnologs: ' + str(len(ohnologs)))\n",
    "\n",
    "#build a dataframe that has all SC paralogs paired up and sorted by log2FoldChange\n",
    "\n",
    "#merge average rlog data with pkainh_deseq\n",
    "rlog_cols = ['AS_WT_drug_mean','AS_WT_drug_var','AS_WT_cont_mean','AS_WT_cont_var']\n",
    "pkainh_deseq_rlog = pkainh_deseq.merge(rlog_data_mean_var.loc[:,rlog_cols],how = 'inner', left_index=True, right_index=True)\n",
    "\n",
    "data_to_add = pkainh_deseq_rlog.loc[:,['log2FoldChange','pvalue']+rlog_cols]\n",
    "sort_column = 'log2FoldChange'\n",
    "\n",
    "ohnologs_expression_sorted = io_library.join_ohnologs_and_sort(data_to_add, ohnologs, sort_column)"
   ]
  },
  {
   "cell_type": "code",
   "execution_count": 7,
   "metadata": {},
   "outputs": [
    {
     "name": "stdout",
     "output_type": "stream",
     "text": [
      "91\n"
     ]
    }
   ],
   "source": [
    "# Identify GOI based on LFC / pval thresholds\n",
    "\n",
    "min_lfc = 2.0  # Minimum LFC for the high activation paralog\n",
    "lfc_diff = 2.0 # Difference in LFC to call a differentially expressed paralog\n",
    "max_low_lfc = 1.0 # Maximum LFC that low activation paralog can have.  I get a ~20 more if I use 2.5 as the cutoff\n",
    "log10_pval_min = 1.5 \n",
    "\n",
    "goi_criteria = {'min_lfc': min_lfc, 'lfc_diff': lfc_diff, 'max_low_lfc' : max_low_lfc, 'log10_pval_min': log10_pval_min}\n",
    "\n",
    "ohnologs_goi = ohnologs_expression_sorted[(ohnologs_expression_sorted['log2FoldChange_high']>min_lfc) &\n",
    "                                          ((ohnologs_expression_sorted['log2FoldChange_high']-ohnologs_expression_sorted['log2FoldChange_low'])>lfc_diff) &\n",
    "                                          (ohnologs_expression_sorted['log2FoldChange_low'] < max_low_lfc) & \n",
    "                                          ((-np.log10(ohnologs_expression_sorted['pvalue_high']))>1.5) ]\n",
    "\n",
    "print(len(ohnologs_goi))\n",
    "\n",
    "#Save list and all sorted ohnolog dataframe as well\n",
    "fname = data_processing_dir + '\\\\kl_sc_PKA_as_m24_r1g1_20181017\\\\gois_20181205.pkl'\n",
    "\n",
    "with open(fname, 'wb') as file:\n",
    "    pickle.dump([ohnologs_goi,ohnologs_expression_sorted,goi_criteria], file)\n",
    "                                          "
   ]
  },
  {
   "cell_type": "code",
   "execution_count": 47,
   "metadata": {},
   "outputs": [
    {
     "data": {
      "text/html": [
       "<div>\n",
       "<style scoped>\n",
       "    .dataframe tbody tr th:only-of-type {\n",
       "        vertical-align: middle;\n",
       "    }\n",
       "\n",
       "    .dataframe tbody tr th {\n",
       "        vertical-align: top;\n",
       "    }\n",
       "\n",
       "    .dataframe thead th {\n",
       "        text-align: right;\n",
       "    }\n",
       "</style>\n",
       "<table border=\"1\" class=\"dataframe\">\n",
       "  <thead>\n",
       "    <tr style=\"text-align: right;\">\n",
       "      <th></th>\n",
       "      <th>Ancestor</th>\n",
       "      <th>AA %id</th>\n",
       "      <th>Length Ratio</th>\n",
       "      <th>sc_genename_low</th>\n",
       "      <th>SC_common_name_low</th>\n",
       "      <th>log2FoldChange_low</th>\n",
       "      <th>pvalue_low</th>\n",
       "      <th>sc_genename_high</th>\n",
       "      <th>SC_common_name_high</th>\n",
       "      <th>log2FoldChange_high</th>\n",
       "      <th>pvalue_high</th>\n",
       "    </tr>\n",
       "    <tr>\n",
       "      <th>Number</th>\n",
       "      <th></th>\n",
       "      <th></th>\n",
       "      <th></th>\n",
       "      <th></th>\n",
       "      <th></th>\n",
       "      <th></th>\n",
       "      <th></th>\n",
       "      <th></th>\n",
       "      <th></th>\n",
       "      <th></th>\n",
       "      <th></th>\n",
       "    </tr>\n",
       "  </thead>\n",
       "  <tbody>\n",
       "    <tr>\n",
       "      <th>405</th>\n",
       "      <td>Anc_7.45</td>\n",
       "      <td>70%</td>\n",
       "      <td>0.99</td>\n",
       "      <td>YAL038W</td>\n",
       "      <td>CDC19</td>\n",
       "      <td>-1.013321</td>\n",
       "      <td>0.027852</td>\n",
       "      <td>YOR347C</td>\n",
       "      <td>PYK2</td>\n",
       "      <td>2.432765</td>\n",
       "      <td>0.000018</td>\n",
       "    </tr>\n",
       "  </tbody>\n",
       "</table>\n",
       "</div>"
      ],
      "text/plain": [
       "        Ancestor AA %id  Length Ratio sc_genename_low SC_common_name_low  \\\n",
       "Number                                                                     \n",
       "405     Anc_7.45    70%          0.99         YAL038W              CDC19   \n",
       "\n",
       "        log2FoldChange_low  pvalue_low sc_genename_high SC_common_name_high  \\\n",
       "Number                                                                        \n",
       "405              -1.013321    0.027852          YOR347C                PYK2   \n",
       "\n",
       "        log2FoldChange_high  pvalue_high  \n",
       "Number                                    \n",
       "405                2.432765     0.000018  "
      ]
     },
     "execution_count": 47,
     "metadata": {},
     "output_type": "execute_result"
    }
   ],
   "source": [
    "ohnologs_goi[ohnologs_goi['SC_common_name_high']=='PYK2']"
   ]
  },
  {
   "cell_type": "code",
   "execution_count": 10,
   "metadata": {},
   "outputs": [
    {
     "data": {
      "text/html": [
       "<iframe id=\"igraph\" scrolling=\"no\" style=\"border:none;\" seamless=\"seamless\" src=\"https://plot.ly/~heineike02_student/225.embed\" height=\"600px\" width=\"600px\"></iframe>"
      ],
      "text/plain": [
       "<plotly.tools.PlotlyDisplay object>"
      ]
     },
     "execution_count": 10,
     "metadata": {},
     "output_type": "execute_result"
    }
   ],
   "source": [
    "#Plot LFC under PKA inhibition for low v.s. high fold change\n",
    "\n",
    "x_data = ohnologs_expression_sorted['log2FoldChange_low']\n",
    "y_data = ohnologs_expression_sorted['log2FoldChange_high']\n",
    "\n",
    "hover_text = []\n",
    "for ind, row in ohnologs_expression_sorted.iterrows():\n",
    "    hover_text.append(('Low Paralog: {SC_common_name_low}<br>  LFC: {LFC_low:.2f}<br>  -log10(pval): {pval_low:.2f}<br>' +\n",
    "                       'High Paralog: {SC_common_name_high}<br>  LFC: {LFC_high:.2f}<br>  -log10(pval): {pval_high:.2f}').format(\n",
    "                        SC_common_name_low = row['SC_common_name_low'],\n",
    "                        LFC_low = row['log2FoldChange_low'],\n",
    "                        pval_low = -np.log10(row['pvalue_low']),\n",
    "                        SC_common_name_high = row['SC_common_name_high'],\n",
    "                        LFC_high = row['log2FoldChange_high'],\n",
    "                        pval_high = -np.log10(row['pvalue_high']))\n",
    "                      )\n",
    "\n",
    "#Lines that define my genes of interest\n",
    "\n",
    "lines = {'Min LFC' : [(min(x_data), min_lfc), (0,min_lfc)], \n",
    "         'LFC difference thresh' : [(0,lfc_diff),(max(y_data)-lfc_diff, max(y_data))], \n",
    "         'Max Low LFC' : [(max_low_lfc, min_lfc),(max_low_lfc,max(y_data))]\n",
    "        }\n",
    "\n",
    "\n",
    "\n",
    "\n",
    "data = []\n",
    "\n",
    "trace = pygo.Scatter(\n",
    "            x = x_data, \n",
    "            y =  y_data,\n",
    "            text = hover_text,\n",
    "            mode = 'markers',\n",
    "            marker = {'opacity': 0.5}, \n",
    "                      #'color': 'rgba'+str(cmap(NN/10))}, \n",
    "            name = 'genes'\n",
    "        )\n",
    "\n",
    "data.append(trace)\n",
    "\n",
    "for line_name, line in lines.items():\n",
    "\n",
    "    x1,y1 = line[0]\n",
    "    x2,y2 = line[1]\n",
    "\n",
    "    x = np.array([x1,x2])\n",
    "    y = np.array([y1,y2])\n",
    "\n",
    "    trace2 = pygo.Scatter(\n",
    "        x = x,\n",
    "        y = y,\n",
    "        mode = 'lines',\n",
    "        marker = {'color': 'black',\n",
    "                  'size': 5},\n",
    "        name = line_name\n",
    "    )\n",
    "\n",
    "    data.append(trace2)\n",
    "\n",
    "    \n",
    "# Make shaded area to show my differentiall expressed genes of interest. \n",
    "trace3 = pygo.Scatter(\n",
    "    x=[min(x_data),min(x_data), 0, max_low_lfc, max_low_lfc],\n",
    "    y=[max(y_data),min_lfc, min_lfc, max_low_lfc+min_lfc, max(y_data)],\n",
    "    mode='none',\n",
    "    fill='toself',\n",
    "    fillcolor = 'rgba(26,150,65,0.5)'\n",
    ")\n",
    "\n",
    "data.append(trace3)\n",
    "\n",
    "layout = pygo.Layout(\n",
    "    xaxis= {\n",
    "        #\"range\":[-2, 20],\n",
    "        \"title\":'LFC low induction paralog'\n",
    "    },\n",
    "    yaxis= {\n",
    "        #\"range\":[-2, 20],\n",
    "        \"title\":'LFC high induciton paralog'\n",
    "    },\n",
    "    showlegend=False, \n",
    "    height = 600,\n",
    "    width = 600\n",
    ")\n",
    "\n",
    "\n",
    "fig = pygo.Figure(data=data, layout = layout) \n",
    "py.iplot(fig, filename='LFC_low_v_high_paralog')   "
   ]
  },
  {
   "cell_type": "markdown",
   "metadata": {},
   "source": [
    "Figure [gois]: Differentially expressed ohnologs were chosen according to four criteria:  1) The minimum fold change for the activated paralog was 2.0.  2) The maximum fold change of the constitutive/repressed paralog was less than 1.0. 3) There was a difference of at least 2.0 in LFC between the activated and constitutive/repressed fold change paralog and 4) the -log10(pvalue) of the activated paralog was above 1.5. 91/511 paralog pairs met this criteria.  "
   ]
  },
  {
   "cell_type": "code",
   "execution_count": null,
   "metadata": {},
   "outputs": [],
   "source": [
    "##Haven't run this with the SC name yet\n",
    "\n",
    "#Plot Deseq LFC v.s. pValue for AS -/+ drug\n",
    "hover_text = pkainh_deseq['SC_common_name']\n",
    "\n",
    "lines = {}\n",
    "for geneset in ['act', 'rep']: \n",
    "    \n",
    "    lines[geneset + ' threshold'] = coords['pkainh_' + geneset][0:2]\n",
    "    \n",
    "    yminline_p1, yminline_p2 = expression_plots.pval_min_line(coords['pkainh_' + geneset][0:2], coords['pkainh_' + geneset][2], x_data)\n",
    "\n",
    "    lines[geneset + ' pval min'] = [yminline_p1, yminline_p2] \n",
    "\n",
    "\n",
    "\n",
    "fig = expression_plots.lfc_padj_plot_with_lines(x_data,y_data,hover_text,lines)\n",
    "\n",
    "py.iplot(fig, filename='RNAseq2018_SC_PKA_AS_pmNMPP1')"
   ]
  },
  {
   "cell_type": "markdown",
   "metadata": {},
   "source": [
    "## Msn2/4 Deletion analysis"
   ]
  },
  {
   "cell_type": "code",
   "execution_count": 5,
   "metadata": {},
   "outputs": [],
   "source": [
    "#Merge PKA inh and PKA inh m24del deseq data\n",
    "pkainh_deseq_merged = pkainh_deseq.merge(pkainh_m24del_deseq, how = 'inner', left_index = True, right_index = True, suffixes=('_WT','_M24'))\n"
   ]
  },
  {
   "cell_type": "code",
   "execution_count": 6,
   "metadata": {},
   "outputs": [],
   "source": [
    "#Load different groups - there are redefined in this script\n",
    "spec = 'SC'\n",
    "fname = data_processing_dir + '\\\\kl_sc_PKA_as_m24_r1g1_20181017\\\\20181203_r1g1_m24_pka_targets_' + spec + '.pkl'\n",
    "with open(fname, 'rb') as file:\n",
    "    [target_sets, coords] = pickle.load(file)\n",
    "    \n",
    "#Load GOI ohnolog data\n",
    "\n",
    "fname = data_processing_dir + os.sep + os.path.normpath('kl_sc_PKA_as_m24_r1g1_20181017/gois_20181205.pkl')\n",
    "\n",
    "with open(fname, 'rb') as file:\n",
    "    [ohnologs_goi,ohnologs_expression_sorted,goi_criteria] = pickle.load(file)\n"
   ]
  },
  {
   "cell_type": "code",
   "execution_count": 9,
   "metadata": {},
   "outputs": [
    {
     "name": "stderr",
     "output_type": "stream",
     "text": [
      "C:\\Users\\BMH_work\\Anaconda3\\lib\\site-packages\\ipykernel_launcher.py:12: SettingWithCopyWarning:\n",
      "\n",
      "\n",
      "A value is trying to be set on a copy of a slice from a DataFrame.\n",
      "Try using .loc[row_indexer,col_indexer] = value instead\n",
      "\n",
      "See the caveats in the documentation: http://pandas.pydata.org/pandas-docs/stable/indexing.html#indexing-view-versus-copy\n",
      "\n"
     ]
    }
   ],
   "source": [
    "# Makes a number of target M24 deletion sets\n",
    "\n",
    "#Repression percentage method to get Msn2/4 targets:\n",
    "#list of thresholds to use for effect of Msn24 deletion on PKA inhibition. \n",
    "AS_lfc_thresh = 2.0\n",
    "msn24_threshs = [0.25,0.5,0.6, 0.75]\n",
    "AS_pval_thresh = 1.5\n",
    "\n",
    "\n",
    "#I should filter out genes that have low pvalues\n",
    "pkainh_deseq_merged_subset = pkainh_deseq_merged.loc[(-np.log10(pkainh_deseq_merged['padj_WT'])>AS_pval_thresh) & (pkainh_deseq_merged['log2FoldChange_WT']>AS_lfc_thresh),:]\n",
    "pkainh_deseq_merged_subset['M24_induction_fraction'] = pkainh_deseq_merged_subset['log2FoldChange_M24']/pkainh_deseq_merged_subset['log2FoldChange_WT']\n",
    "#This gives a setting with copy warning, but that's ok - I copied the data into a new dataframe. \n",
    "\n",
    "msn24_sets = {}\n",
    "\n",
    "for msn24_thresh in msn24_threshs:\n",
    "    msn24_thresh_str = '{:.2f}'.format(msn24_thresh)\n",
    "    msn24_sets['M_'+msn24_thresh_str.split('.')[1]] = list(pkainh_deseq_merged_subset[pkainh_deseq_merged_subset['M24_induction_fraction']<msn24_thresh].index)\n",
    "    msn24_sets['NM_'+msn24_thresh_str.split('.')[1]] = list(pkainh_deseq_merged_subset[pkainh_deseq_merged_subset['M24_induction_fraction']>msn24_thresh].index)\n",
    "\n",
    "    \n",
    "fname = data_processing_dir + '\\\\kl_sc_PKA_as_m24_r1g1_20181017\\\\20181128_m24_pka_targets_vary_slope_' + spec + '.pkl'\n",
    "\n",
    "with open(fname, 'wb') as file:\n",
    "    pickle.dump(msn24_sets, file)\n"
   ]
  },
  {
   "cell_type": "code",
   "execution_count": 14,
   "metadata": {},
   "outputs": [
    {
     "data": {
      "text/plain": [
       "'SC'"
      ]
     },
     "execution_count": 14,
     "metadata": {},
     "output_type": "execute_result"
    }
   ],
   "source": [
    "spec"
   ]
  },
  {
   "cell_type": "code",
   "execution_count": 5,
   "metadata": {},
   "outputs": [
    {
     "ename": "NameError",
     "evalue": "name 'm24_nmpp1_act_genes' is not defined",
     "output_type": "error",
     "traceback": [
      "\u001b[1;31m---------------------------------------------------------------------------\u001b[0m",
      "\u001b[1;31mNameError\u001b[0m                                 Traceback (most recent call last)",
      "\u001b[1;32m<ipython-input-5-87e8b326ed84>\u001b[0m in \u001b[0;36m<module>\u001b[1;34m()\u001b[0m\n\u001b[0;32m      1\u001b[0m \u001b[0mset_to_compare\u001b[0m \u001b[1;33m=\u001b[0m \u001b[1;34m'M_75'\u001b[0m\u001b[1;33m\u001b[0m\u001b[0m\n\u001b[0;32m      2\u001b[0m \u001b[1;33m\u001b[0m\u001b[0m\n\u001b[1;32m----> 3\u001b[1;33m \u001b[0mintersection\u001b[0m \u001b[1;33m=\u001b[0m \u001b[0mset\u001b[0m\u001b[1;33m(\u001b[0m\u001b[0mm24_nmpp1_act_genes\u001b[0m\u001b[1;33m.\u001b[0m\u001b[0mindex\u001b[0m\u001b[1;33m)\u001b[0m \u001b[1;33m&\u001b[0m \u001b[0mset\u001b[0m\u001b[1;33m(\u001b[0m\u001b[0mmsn24_sets\u001b[0m\u001b[1;33m[\u001b[0m\u001b[0mset_to_compare\u001b[0m\u001b[1;33m]\u001b[0m\u001b[1;33m)\u001b[0m\u001b[1;33m\u001b[0m\u001b[0m\n\u001b[0m\u001b[0;32m      4\u001b[0m \u001b[0minteraction_only\u001b[0m \u001b[1;33m=\u001b[0m \u001b[0mset\u001b[0m\u001b[1;33m(\u001b[0m\u001b[0mm24_nmpp1_act_genes\u001b[0m\u001b[1;33m.\u001b[0m\u001b[0mindex\u001b[0m\u001b[1;33m)\u001b[0m \u001b[1;33m-\u001b[0m \u001b[0mset\u001b[0m\u001b[1;33m(\u001b[0m\u001b[0mmsn24_sets\u001b[0m\u001b[1;33m[\u001b[0m\u001b[0mset_to_compare\u001b[0m\u001b[1;33m]\u001b[0m\u001b[1;33m)\u001b[0m\u001b[1;33m\u001b[0m\u001b[0m\n\u001b[0;32m      5\u001b[0m \u001b[0mslope_only\u001b[0m \u001b[1;33m=\u001b[0m \u001b[0mset\u001b[0m\u001b[1;33m(\u001b[0m\u001b[0mmsn24_sets\u001b[0m\u001b[1;33m[\u001b[0m\u001b[0mset_to_compare\u001b[0m\u001b[1;33m]\u001b[0m\u001b[1;33m)\u001b[0m \u001b[1;33m-\u001b[0m\u001b[0mset\u001b[0m\u001b[1;33m(\u001b[0m\u001b[0mm24_nmpp1_act_genes\u001b[0m\u001b[1;33m.\u001b[0m\u001b[0mindex\u001b[0m\u001b[1;33m)\u001b[0m\u001b[1;33m\u001b[0m\u001b[0m\n",
      "\u001b[1;31mNameError\u001b[0m: name 'm24_nmpp1_act_genes' is not defined"
     ]
    }
   ],
   "source": [
    "set_to_compare = 'M_75'\n",
    "\n",
    "intersection = set(m24_nmpp1_act_genes.index) & set(msn24_sets[set_to_compare])\n",
    "interaction_only = set(m24_nmpp1_act_genes.index) - set(msn24_sets[set_to_compare])\n",
    "slope_only = set(msn24_sets[set_to_compare]) -set(m24_nmpp1_act_genes.index) \n",
    "\n",
    "qc_sets = {'intersection':intersection,\n",
    "           'interaction_only': interaction_only,\n",
    "           'slope_only': slope_only\n",
    "          }\n",
    "\n",
    "for name, qc_set in qc_sets.items():\n",
    "    print(name)\n",
    "    print(len(qc_set))\n",
    "    print(io_library.SC_common_name_lookup(list(qc_set)))"
   ]
  },
  {
   "cell_type": "code",
   "execution_count": 86,
   "metadata": {},
   "outputs": [
    {
     "data": {
      "text/html": [
       "<div>\n",
       "<style scoped>\n",
       "    .dataframe tbody tr th:only-of-type {\n",
       "        vertical-align: middle;\n",
       "    }\n",
       "\n",
       "    .dataframe tbody tr th {\n",
       "        vertical-align: top;\n",
       "    }\n",
       "\n",
       "    .dataframe thead th {\n",
       "        text-align: right;\n",
       "    }\n",
       "</style>\n",
       "<table border=\"1\" class=\"dataframe\">\n",
       "  <thead>\n",
       "    <tr style=\"text-align: right;\">\n",
       "      <th></th>\n",
       "      <th>baseMean_WT</th>\n",
       "      <th>log2FoldChange_WT</th>\n",
       "      <th>lfcSE_WT</th>\n",
       "      <th>stat_WT</th>\n",
       "      <th>pvalue_WT</th>\n",
       "      <th>padj_WT</th>\n",
       "      <th>SC_common_name_WT</th>\n",
       "      <th>baseMean_M24</th>\n",
       "      <th>log2FoldChange_M24</th>\n",
       "      <th>lfcSE_M24</th>\n",
       "      <th>stat_M24</th>\n",
       "      <th>pvalue_M24</th>\n",
       "      <th>padj_M24</th>\n",
       "      <th>SC_common_name_M24</th>\n",
       "    </tr>\n",
       "  </thead>\n",
       "  <tbody>\n",
       "    <tr>\n",
       "      <th>YOR027W</th>\n",
       "      <td>1659.941074</td>\n",
       "      <td>1.677797</td>\n",
       "      <td>0.300976</td>\n",
       "      <td>5.574522</td>\n",
       "      <td>2.482109e-08</td>\n",
       "      <td>1.358777e-07</td>\n",
       "      <td>STI1</td>\n",
       "      <td>629.669769</td>\n",
       "      <td>-0.069992</td>\n",
       "      <td>0.285496</td>\n",
       "      <td>-0.245158</td>\n",
       "      <td>0.806334</td>\n",
       "      <td>0.927056</td>\n",
       "      <td>STI1</td>\n",
       "    </tr>\n",
       "  </tbody>\n",
       "</table>\n",
       "</div>"
      ],
      "text/plain": [
       "         baseMean_WT  log2FoldChange_WT  lfcSE_WT   stat_WT     pvalue_WT  \\\n",
       "YOR027W  1659.941074           1.677797  0.300976  5.574522  2.482109e-08   \n",
       "\n",
       "              padj_WT SC_common_name_WT  baseMean_M24  log2FoldChange_M24  \\\n",
       "YOR027W  1.358777e-07              STI1    629.669769           -0.069992   \n",
       "\n",
       "         lfcSE_M24  stat_M24  pvalue_M24  padj_M24 SC_common_name_M24  \n",
       "YOR027W   0.285496 -0.245158    0.806334  0.927056               STI1  "
      ]
     },
     "execution_count": 86,
     "metadata": {},
     "output_type": "execute_result"
    }
   ],
   "source": [
    "pkainh_deseq_merged[pkainh_deseq_merged['SC_common_name_WT']=='STI1']\n",
    "#pkainh_m24del_deseq[pkainh_m24del_deseq['SC_common_name']=='TKL2']"
   ]
  },
  {
   "cell_type": "code",
   "execution_count": 24,
   "metadata": {},
   "outputs": [],
   "source": [
    "pkainh_deseq_merged_rep = pkainh_deseq_merged[pkainh_deseq_merged['log2FoldChange_WT']<0]\n",
    "slope, intercept, r_value, p_value, std_err = stats.linregress(pkainh_deseq_merged_rep['log2FoldChange_WT'], pkainh_deseq_merged_rep['log2FoldChange_M24'])\n"
   ]
  },
  {
   "cell_type": "code",
   "execution_count": 41,
   "metadata": {},
   "outputs": [
    {
     "data": {
      "text/plain": [
       "'slope : 0.57, intercept: 0.16, $R^2$: 0.82'"
      ]
     },
     "execution_count": 41,
     "metadata": {},
     "output_type": "execute_result"
    }
   ],
   "source": [
    "'slope : {0:.2f}, intercept: {1:.2f}, $R^2$: {2:.2f}'.format(slope,intercept,r_value)"
   ]
  },
  {
   "cell_type": "code",
   "execution_count": 42,
   "metadata": {},
   "outputs": [
    {
     "name": "stdout",
     "output_type": "stream",
     "text": [
      "slope : 0.57, intercept: 0.16, $R^2$: 0.82\n"
     ]
    },
    {
     "name": "stderr",
     "output_type": "stream",
     "text": [
      "C:\\Users\\BMH_work\\Anaconda3\\lib\\site-packages\\pandas\\core\\indexing.py:1472: FutureWarning:\n",
      "\n",
      "\n",
      "Passing list-likes to .loc or [] with any missing label will raise\n",
      "KeyError in the future, you can use .reindex() as an alternative.\n",
      "\n",
      "See the documentation here:\n",
      "https://pandas.pydata.org/pandas-docs/stable/indexing.html#deprecate-loc-reindex-listlike\n",
      "\n"
     ]
    },
    {
     "data": {
      "text/html": [
       "<iframe id=\"igraph\" scrolling=\"no\" style=\"border:none;\" seamless=\"seamless\" src=\"https://plot.ly/~heineike02_student/204.embed\" height=\"500px\" width=\"600px\"></iframe>"
      ],
      "text/plain": [
       "<plotly.tools.PlotlyDisplay object>"
      ]
     },
     "execution_count": 42,
     "metadata": {},
     "output_type": "execute_result"
    }
   ],
   "source": [
    "##Plot effect of drug on WT v.s. Msn2/4 delete background\n",
    "\n",
    "AS_lfc_thresh = 2.0\n",
    "\n",
    "pkainh_deseq_merged_rep = pkainh_deseq_merged[pkainh_deseq_merged['log2FoldChange_WT']<0]\n",
    "slope, intercept, r_value, p_value, std_err = stats.linregress(pkainh_deseq_merged_rep['log2FoldChange_WT'], pkainh_deseq_merged_rep['log2FoldChange_M24'])\n",
    "print('slope : {0:.2f}, intercept: {1:.2f}, $R^2$: {2:.2f}'.format(slope,intercept,r_value))\n",
    "\n",
    "#Separate into different groups: \n",
    "\n",
    "plot_subsets = {'pkainh_act': target_sets['pkainh_act'], \n",
    "                'not pkainh_act': set(pkainh_deseq_merged.index)-target_sets['pkainh_act'],\n",
    "                'DEpka_low': set(ohnologs_goi['sc_genename_low']),\n",
    "                'DEpka_high': set(ohnologs_goi['sc_genename_high'])}\n",
    "\n",
    "\n",
    "params =  {'pkainh_act': {'color': 'cyan', 'alpha': 0.8},\n",
    "           'not pkainh_act': {'color':'grey', 'alpha': 0.3},\n",
    "           'DEpka_low': {'color':'blue', 'alpha':0.8},\n",
    "           'DEpka_high': {'color':'red', 'alpha':0.8}\n",
    "          }\n",
    "            \n",
    "\n",
    "\n",
    "data = []\n",
    "\n",
    "\n",
    "                                 \n",
    "for subset_name, subset in plot_subsets.items():\n",
    "    data_subset = pkainh_deseq_merged.loc[subset,:]\n",
    "                                 \n",
    "    trace = pygo.Scatter(\n",
    "                x = data_subset['log2FoldChange_WT'], #-np.log10(deseq_data['padj_pkainh']), #\n",
    "                y = data_subset['log2FoldChange_M24'] ,\n",
    "                text = data_subset['SC_common_name_WT'],\n",
    "                mode = 'markers',\n",
    "                marker = {'opacity': params[subset_name]['alpha'],\n",
    "                          'color' : params[subset_name]['color'],\n",
    "                          #'colorscale' : 'Jet',\n",
    "                          #'showscale' : False}  #\n",
    "                         },\n",
    "                name = subset_name\n",
    "                \n",
    "                )\n",
    "        \n",
    "    data.append(trace)\n",
    "\n",
    "line_coords_dict = {'LFC threshold': [(AS_lfc_thresh,AS_lfc_thresh),(-1,max(pkainh_deseq_merged['log2FoldChange_M24']))], \n",
    "                    '1:1': [(min(pkainh_deseq_merged['log2FoldChange_WT']),max(pkainh_deseq_merged['log2FoldChange_WT'])),(min(pkainh_deseq_merged['log2FoldChange_WT']),max(pkainh_deseq_merged['log2FoldChange_WT']))]\n",
    "                   }\n",
    "\n",
    "line_props = {'LFC threshold':('blue','dash'),  #color, dash\n",
    "              '1:1': ('black',None),\n",
    "              'lin_reg': ('black','dash')\n",
    "             }\n",
    "\n",
    "# m24_threshs = {'M25':0.25, 'M50': 0.5, 'M75': 0.75}\n",
    "\n",
    "x2 = max(pkainh_deseq_merged['log2FoldChange_WT'])\n",
    "x1 = min(pkainh_deseq_merged['log2FoldChange_WT'])\n",
    "# for m24_thresh_name, m24_thresh in m24_threshs.items():\n",
    "#     #line_coords_dict[m24_thresh_name] = [(0,x2),(0,m24_thresh*x2)]\n",
    "#     line_coords_dict[m24_thresh_name] = [(x1,x2),(m24_thresh*x1,m24_thresh*x2)]\n",
    "\n",
    "line_coords_dict['lin_reg']=[(x1,x2), (slope*x1 + intercept, slope*x2 + intercept)]\n",
    "    \n",
    "for line_name, line_coords in line_coords_dict.items():\n",
    "\n",
    "    trace = pygo.Scatter(\n",
    "        x = np.array(line_coords[0]),\n",
    "        y = np.array(line_coords[1]),\n",
    "        mode = 'lines',\n",
    "        marker = {'color': line_props[line_name][0],\n",
    "                  'size': 5\n",
    "                 },\n",
    "        line = {'dash':line_props[line_name][1]},\n",
    "        name = line_name\n",
    "    )\n",
    "    \n",
    "    data.append(trace)\n",
    "\n",
    "\n",
    "layout = pygo.Layout(\n",
    "    xaxis= {\n",
    "        \"range\":[-11, 11],\n",
    "        \"title\":'LFC AS + 1NMPP1'\n",
    "    },\n",
    "    yaxis= {\n",
    "        \"range\":[-11, 11],\n",
    "        \"title\":'LFC AS Msn2/4 Del'\n",
    "    },\n",
    "    width=600,\n",
    "    height=500\n",
    ")\n",
    "\n",
    "\n",
    "fig = pygo.Figure(data=data, layout = layout)\n",
    "py.iplot(fig, filename='RNAseq2018_SC_AS_nmpp1_WT_v_M24')\n"
   ]
  },
  {
   "cell_type": "code",
   "execution_count": null,
   "metadata": {},
   "outputs": [],
   "source": [
    "#Strange that 1:1 line doesn't go through the cloud at the bottom - as though PKA repression\n",
    "#is also very effected by PKA inhibition.  Or else my measurements were systematically less sensitive\n",
    "#for WT than they were for Msn2/4 cells. \n"
   ]
  },
  {
   "cell_type": "code",
   "execution_count": 6,
   "metadata": {},
   "outputs": [],
   "source": [
    "#Check number of items below 50 and 25 in each set\n",
    "\n",
    "#Calculate amount of Msn2/4 reduction\n",
    "pkainh_deseq_merged['LFC_m24/wt'] = pkainh_deseq_merged['log2FoldChange_M24']/pkainh_deseq_merged['log2FoldChange_WT']\n"
   ]
  },
  {
   "cell_type": "code",
   "execution_count": 7,
   "metadata": {},
   "outputs": [],
   "source": [
    "plot_subsets = {'pkainh_act': target_sets['pkainh_act'], \n",
    "                'not pkainh_act': set(pkainh_deseq_merged.index)-target_sets['pkainh_act'],\n",
    "                'DEpka_low': set(ohnologs_goi['sc_genename_low']),\n",
    "                'DEpka_high': set(ohnologs_goi['sc_genename_high'])}"
   ]
  },
  {
   "cell_type": "code",
   "execution_count": 17,
   "metadata": {},
   "outputs": [
    {
     "name": "stdout",
     "output_type": "stream",
     "text": [
      "25\n",
      "pkainh_act pct : 0.17\n",
      "DEpka_high pct : 0.14\n",
      "50\n",
      "pkainh_act pct : 0.48\n",
      "DEpka_high pct : 0.40\n"
     ]
    },
    {
     "name": "stderr",
     "output_type": "stream",
     "text": [
      "C:\\Users\\BMH_work\\Anaconda3\\lib\\site-packages\\pandas\\core\\indexing.py:1472: FutureWarning:\n",
      "\n",
      "\n",
      "Passing list-likes to .loc or [] with any missing label will raise\n",
      "KeyError in the future, you can use .reindex() as an alternative.\n",
      "\n",
      "See the documentation here:\n",
      "https://pandas.pydata.org/pandas-docs/stable/indexing.html#deprecate-loc-reindex-listlike\n",
      "\n"
     ]
    },
    {
     "data": {
      "text/plain": [
       "{'25': 0.6509919438228926, '50': 0.41044115399405323}"
      ]
     },
     "execution_count": 17,
     "metadata": {},
     "output_type": "execute_result"
    }
   ],
   "source": [
    "N_tot = {}\n",
    "N_m24 = {}\n",
    "for subset_name in ['pkainh_act','DEpka_high']: \n",
    "    subset = plot_subsets[subset_name]\n",
    "    data_subset = pkainh_deseq_merged.loc[subset,:]\n",
    "\n",
    "\n",
    "    N_tot[subset_name] = len(data_subset)\n",
    "    N_m24[subset_name] = {}\n",
    "\n",
    "    for pct_name, pct in {'25':0.25, '50':0.5}.items():\n",
    "        N_m24[subset_name][pct_name] = len(data_subset[data_subset['LFC_m24/wt']<pct])\n",
    "\n",
    "\n",
    "pvals = {}\n",
    "for pct_name in ['25','50']:\n",
    "    oddsratio, pval = stats.fisher_exact([[N_m24['DEpka_high'][pct_name], N_m24['pkainh_act'][pct_name]],\n",
    "                        [N_tot['DEpka_high'], N_tot['pkainh_act']]],\n",
    "                        alternative = 'two-sided')\n",
    "    pvals[pct_name] = pval\n",
    "    print(pct_name)\n",
    "    print('pkainh_act pct : {:.02f}'.format(N_m24['pkainh_act'][pct_name]/N_tot['pkainh_act']))\n",
    "    print('DEpka_high pct : {:.02f}'.format(N_m24['DEpka_high'][pct_name]/N_tot['DEpka_high']))\n",
    "\n",
    "pvals"
   ]
  },
  {
   "cell_type": "markdown",
   "metadata": {},
   "source": [
    "### Rlog comparison of msn2/4 data"
   ]
  },
  {
   "cell_type": "code",
   "execution_count": 18,
   "metadata": {},
   "outputs": [
    {
     "data": {
      "text/html": [
       "<iframe id=\"igraph\" scrolling=\"no\" style=\"border:none;\" seamless=\"seamless\" src=\"https://plot.ly/~heineike02_student/237.embed\" height=\"525px\" width=\"100%\"></iframe>"
      ],
      "text/plain": [
       "<plotly.tools.PlotlyDisplay object>"
      ]
     },
     "execution_count": 18,
     "metadata": {},
     "output_type": "execute_result"
    }
   ],
   "source": [
    "##Plot rlog AS Msn24 v.s. AS WT\n",
    "\n",
    "#AS_lfc_thresh = 2.0\n",
    "\n",
    "\n",
    "#Separate into different groups: \n",
    "\n",
    "plot_subsets = {'pkainh_act': target_sets['pkainh_act'], \n",
    "                'not pkainh_act': set(rlog_data_mean_var.index)-target_sets['pkainh_act'],\n",
    "                'DEpka_low': set(ohnologs_goi['sc_genename_low']),\n",
    "                'DEpka_high': set(ohnologs_goi['sc_genename_high'])}\n",
    "\n",
    "\n",
    "params =  {'pkainh_act': {'color': 'cyan', 'alpha': 0.8},\n",
    "           'not pkainh_act': {'color':'grey', 'alpha': 0.3},\n",
    "           'DEpka_low': {'color':'blue', 'alpha':0.8},\n",
    "           'DEpka_high': {'color':'red', 'alpha':0.8}\n",
    "          }\n",
    "            \n",
    "\n",
    "\n",
    "data = []\n",
    "\n",
    "\n",
    "                                 \n",
    "for subset_name, subset in plot_subsets.items():\n",
    "    data_subset = rlog_data_mean_var.loc[subset,:]\n",
    "                                 \n",
    "    trace = pygo.Scatter(\n",
    "                x = data_subset['AS_WT_cont_mean'], #-np.log10(deseq_data['padj_pkainh']), #\n",
    "                y = data_subset['AS_M24_cont_mean'] ,\n",
    "                text = data_subset['SC_common_name'],\n",
    "                mode = 'markers',\n",
    "                marker = {'opacity': params[subset_name]['alpha'],\n",
    "                          'color' : params[subset_name]['color'],\n",
    "                          #'colorscale' : 'Jet',\n",
    "                          #'showscale' : False}  #\n",
    "                         },\n",
    "                name = subset_name\n",
    "                \n",
    "                )\n",
    "        \n",
    "    data.append(trace)\n",
    "\n",
    "line_coords_dict = {'1:1': [(min(rlog_data_mean_var['AS_WT_cont_mean']),max(rlog_data_mean_var['AS_WT_cont_mean'])),(min(rlog_data_mean_var['AS_WT_cont_mean']),max(rlog_data_mean_var['AS_WT_cont_mean']))]}\n",
    "\n",
    "#{'LFC threshold': [(AS_lfc_thresh,AS_lfc_thresh),(-1,max(pkainh_deseq_merged['log2FoldChange_M24']))], \n",
    "#                     '1:1': [(min(pkainh_deseq_merged['log2FoldChange_WT']),max(pkainh_deseq_merged['log2FoldChange_WT'])),(min(pkainh_deseq_merged['log2FoldChange_WT']),max(pkainh_deseq_merged['log2FoldChange_WT']))]\n",
    "#                    }\n",
    "\n",
    "# m24_threshs = {'M25':0.25, 'M50': 0.5, 'M75': 0.75}\n",
    "\n",
    "# for m24_thresh_name, m24_thresh in m24_threshs.items():\n",
    "#     x2 = max(pkainh_deseq_merged['log2FoldChange_WT'])\n",
    "#     line_coords_dict[m24_thresh_name] = [(0,x2),(0,m24_thresh*x2)]\n",
    "\n",
    "for line_name, line_coords in line_coords_dict.items():\n",
    "\n",
    "    trace = pygo.Scatter(\n",
    "        x = np.array(line_coords[0]),\n",
    "        y = np.array(line_coords[1]),\n",
    "        mode = 'lines',\n",
    "        marker = {'color': 'black',\n",
    "                  'size': 5},\n",
    "        name = line_name\n",
    "    )\n",
    "    \n",
    "    data.append(trace)\n",
    "\n",
    "\n",
    "layout = pygo.Layout(\n",
    "    xaxis= {\n",
    "        #\"range\":[-2, 20],\n",
    "        \"title\":'rlog WT no drug'\n",
    "    },\n",
    "    yaxis= {\n",
    "        #\"range\":[-2, 20],\n",
    "        \"title\":'rlog M24 no drug'\n",
    "    }\n",
    ")\n",
    "\n",
    "\n",
    "fig = pygo.Figure(data=data, layout = layout)\n",
    "py.iplot(fig, filename='rlog_wt_v_m24_SC_no_drug')"
   ]
  },
  {
   "cell_type": "code",
   "execution_count": 19,
   "metadata": {},
   "outputs": [
    {
     "data": {
      "text/html": [
       "<iframe id=\"igraph\" scrolling=\"no\" style=\"border:none;\" seamless=\"seamless\" src=\"https://plot.ly/~heineike02_student/239.embed\" height=\"525px\" width=\"100%\"></iframe>"
      ],
      "text/plain": [
       "<plotly.tools.PlotlyDisplay object>"
      ]
     },
     "execution_count": 19,
     "metadata": {},
     "output_type": "execute_result"
    }
   ],
   "source": [
    "##Plot rlog AS Msn24 v.s. AS WT\n",
    "\n",
    "#AS_lfc_thresh = 2.0\n",
    "\n",
    "\n",
    "#Separate into different groups: \n",
    "\n",
    "plot_subsets = {'pkainh_act': target_sets['pkainh_act'], \n",
    "                'not pkainh_act': set(rlog_data_mean_var.index)-target_sets['pkainh_act'],\n",
    "                'DEpka_low': set(ohnologs_goi['sc_genename_low']),\n",
    "                'DEpka_high': set(ohnologs_goi['sc_genename_high'])}\n",
    "\n",
    "\n",
    "params =  {'pkainh_act': {'color': 'cyan', 'alpha': 0.8},\n",
    "           'not pkainh_act': {'color':'grey', 'alpha': 0.3},\n",
    "           'DEpka_low': {'color':'blue', 'alpha':0.8},\n",
    "           'DEpka_high': {'color':'red', 'alpha':0.8}\n",
    "          }\n",
    "            \n",
    "\n",
    "\n",
    "data = []\n",
    "\n",
    "\n",
    "                                 \n",
    "for subset_name, subset in plot_subsets.items():\n",
    "    data_subset = rlog_data_mean_var.loc[subset,:]\n",
    "                                 \n",
    "    trace = pygo.Scatter(\n",
    "                x = data_subset['AS_WT_drug_mean'], #-np.log10(deseq_data['padj_pkainh']), #\n",
    "                y = data_subset['AS_M24_drug_mean'] ,\n",
    "                text = data_subset['SC_common_name'],\n",
    "                mode = 'markers',\n",
    "                marker = {'opacity': params[subset_name]['alpha'],\n",
    "                          'color' : params[subset_name]['color'],\n",
    "                          #'colorscale' : 'Jet',\n",
    "                          #'showscale' : False}  #\n",
    "                         },\n",
    "                name = subset_name\n",
    "                \n",
    "                )\n",
    "        \n",
    "    data.append(trace)\n",
    "\n",
    "line_coords_dict = {'1:1': [(min(rlog_data_mean_var['AS_WT_drug_mean']),max(rlog_data_mean_var['AS_WT_drug_mean'])),(min(rlog_data_mean_var['AS_WT_drug_mean']),max(rlog_data_mean_var['AS_WT_drug_mean']))]}\n",
    "\n",
    "#{'LFC threshold': [(AS_lfc_thresh,AS_lfc_thresh),(-1,max(pkainh_deseq_merged['log2FoldChange_M24']))], \n",
    "#                     '1:1': [(min(pkainh_deseq_merged['log2FoldChange_WT']),max(pkainh_deseq_merged['log2FoldChange_WT'])),(min(pkainh_deseq_merged['log2FoldChange_WT']),max(pkainh_deseq_merged['log2FoldChange_WT']))]\n",
    "#                    }\n",
    "\n",
    "# m24_threshs = {'M25':0.25, 'M50': 0.5, 'M75': 0.75}\n",
    "\n",
    "# for m24_thresh_name, m24_thresh in m24_threshs.items():\n",
    "#     x2 = max(pkainh_deseq_merged['log2FoldChange_WT'])\n",
    "#     line_coords_dict[m24_thresh_name] = [(0,x2),(0,m24_thresh*x2)]\n",
    "\n",
    "for line_name, line_coords in line_coords_dict.items():\n",
    "\n",
    "    trace = pygo.Scatter(\n",
    "        x = np.array(line_coords[0]),\n",
    "        y = np.array(line_coords[1]),\n",
    "        mode = 'lines',\n",
    "        marker = {'color': 'black',\n",
    "                  'size': 5},\n",
    "        name = line_name\n",
    "    )\n",
    "    \n",
    "    data.append(trace)\n",
    "\n",
    "\n",
    "layout = pygo.Layout(\n",
    "    xaxis= {\n",
    "        #\"range\":[-2, 20],\n",
    "        \"title\":'rlog WT NMPP1'\n",
    "    },\n",
    "    yaxis= {\n",
    "        #\"range\":[-2, 20],\n",
    "        \"title\":'rlog M24 NMPP1'\n",
    "    }\n",
    ")\n",
    "\n",
    "\n",
    "fig = pygo.Figure(data=data, layout = layout)\n",
    "py.iplot(fig, filename='rlog_wt_v_m24_SC_NMPP1')"
   ]
  },
  {
   "cell_type": "markdown",
   "metadata": {},
   "source": [
    "## Venn Diagrams"
   ]
  },
  {
   "cell_type": "code",
   "execution_count": 115,
   "metadata": {},
   "outputs": [
    {
     "data": {
      "image/png": "[encoded data removed]",
      "text/plain": [
       "<Figure size 1440x540 with 3 Axes>"
      ]
     },
     "metadata": {},
     "output_type": "display_data"
    }
   ],
   "source": [
    "# Venn Diagrams with PKA inhibition\n",
    "\n",
    "fig, axarr = plt.subplots(3,1, figsize =(20,7.5))\n",
    "\n",
    "jj = 0\n",
    "\n",
    "for jj, msn24_set_name in enumerate(['M_25','M_50','M_75']):\n",
    "    ax = axarr[jj]\n",
    "    venn2([ set(pkainh_act_genes.index), set(msn24_sets[msn24_set_name])], ax = ax, set_labels = None) # set_labels = [ 'Activated under PKA inhibition', 'Activation requires Msn2/4'])\n"
   ]
  },
  {
   "cell_type": "code",
   "execution_count": 30,
   "metadata": {},
   "outputs": [
    {
     "name": "stdout",
     "output_type": "stream",
     "text": [
      "154\n"
     ]
    }
   ],
   "source": [
    "#To Call Rph1/Gis1 repressed genes make a line from (1.5, 3) to (3.0, 0) and a hard cutoff below of 0.5\n",
    "\n",
    "x1,y1 = (1.0,7.0)  #(1.0,4.8) #(1.0,4.0)\n",
    "x2,y2 = (2.5,0.0)  #(1.5, 0.0) #(2.5,0.0)\n",
    "ymin =  0.4           #0.4\n",
    "\n",
    "line_coords = [(x1,y1),(x2,y2),ymin]\n",
    "coords['r1g1_rep'] = line_coords\n",
    "\n",
    "x = r1g1_deseq['log2FoldChange']\n",
    "y =  -np.log10(r1g1_deseq['pvalue'])\n",
    "\n",
    "r1g1_rep_genes = r1g1_deseq[(y > y2- (y2-y1)/(x2-x1)*(x2-x)) & (y>ymin)]\n",
    "\n",
    "print(len(r1g1_rep_genes))"
   ]
  },
  {
   "cell_type": "code",
   "execution_count": 118,
   "metadata": {},
   "outputs": [
    {
     "data": {
      "text/html": [
       "<iframe id=\"igraph\" scrolling=\"no\" style=\"border:none;\" seamless=\"seamless\" src=\"https://plot.ly/~heineike02_student/196.embed\" height=\"525px\" width=\"100%\"></iframe>"
      ],
      "text/plain": [
       "<plotly.tools.PlotlyDisplay object>"
      ]
     },
     "execution_count": 118,
     "metadata": {},
     "output_type": "execute_result"
    }
   ],
   "source": [
    "#Plot Deseq LFC v.s. pValue for rph1/gis1 deletion\n",
    "\n",
    "x_data = r1g1_deseq['log2FoldChange']\n",
    "y_data = -np.log10(r1g1_deseq['pvalue'])\n",
    "hover_text = r1g1_deseq['SC_common_name']\n",
    "\n",
    "fig = expression_plots.lfc_padj_plot_with_lines(x_data,y_data,hover_text,coords['r1g1_rep'])\n",
    "\n",
    "py.iplot(fig, filename='RNAseq2018_AS_VS_R1G1')"
   ]
  },
  {
   "cell_type": "code",
   "execution_count": 119,
   "metadata": {},
   "outputs": [
    {
     "data": {
      "image/png": "[encoded data removed]",
      "text/plain": [
       "<Figure size 1440x540 with 3 Axes>"
      ]
     },
     "metadata": {},
     "output_type": "display_data"
    }
   ],
   "source": [
    "# Venn Diagrams with PKA inhibition\n",
    "\n",
    "fig, axarr = plt.subplots(3,1, figsize =(20,7.5))\n",
    "\n",
    "jj = 0\n",
    "\n",
    "for jj, msn24_set_name in enumerate(['M_25','M_50','M_75']):\n",
    "    ax = axarr[jj]\n",
    "    venn3([ set(pkainh_act_genes.index), set(msn24_sets[msn24_set_name]), set(r1g1_rep_genes.index)], ax = ax, set_labels = None) # set_labels = [ 'Activated under PKA inhibition', 'Activation requires Msn2/4'])\n"
   ]
  },
  {
   "cell_type": "code",
   "execution_count": 31,
   "metadata": {},
   "outputs": [
    {
     "name": "stdout",
     "output_type": "stream",
     "text": [
      "299\n"
     ]
    }
   ],
   "source": [
    "#To Call Msn2/4 PKA interaction genes make a line and a hard cutoff for -log10p value \n",
    "\n",
    "\n",
    "x1,y1 = (-2.0,0.0) #low thresh (-3.5,0.0) #high thresh    #(-4.0,0.0)\n",
    "x2,y2 = (-1.5,8.0) #low thresh (-1.8,13.0) #high thresh  #(-2.4,16.5)\n",
    "ymin = 0.5 #low thresh #1.0 #high thresh #1.0\n",
    "\n",
    "line_coords = [(x1,y1),(x2,y2),ymin]\n",
    "coords['m24_nmpp1_int'] = line_coords\n",
    "\n",
    "x_data = m24_nmpp1_int_deseq['log2FoldChange']\n",
    "y_data = -np.log10(m24_nmpp1_int_deseq['pvalue'])\n",
    "\n",
    "m24_nmpp1_act_genes = m24_nmpp1_int_deseq[(y_data > y2- (y2-y1)/(x2-x1)*(x2-x_data)) & (y_data>ymin)]\n",
    "\n",
    "print(len(m24_nmpp1_act_genes))"
   ]
  },
  {
   "cell_type": "code",
   "execution_count": 78,
   "metadata": {},
   "outputs": [
    {
     "data": {
      "text/html": [
       "<div>\n",
       "<style scoped>\n",
       "    .dataframe tbody tr th:only-of-type {\n",
       "        vertical-align: middle;\n",
       "    }\n",
       "\n",
       "    .dataframe tbody tr th {\n",
       "        vertical-align: top;\n",
       "    }\n",
       "\n",
       "    .dataframe thead th {\n",
       "        text-align: right;\n",
       "    }\n",
       "</style>\n",
       "<table border=\"1\" class=\"dataframe\">\n",
       "  <thead>\n",
       "    <tr style=\"text-align: right;\">\n",
       "      <th></th>\n",
       "      <th>baseMean</th>\n",
       "      <th>log2FoldChange</th>\n",
       "      <th>lfcSE</th>\n",
       "      <th>stat</th>\n",
       "      <th>pvalue</th>\n",
       "      <th>padj</th>\n",
       "      <th>SC_common_name</th>\n",
       "    </tr>\n",
       "  </thead>\n",
       "  <tbody>\n",
       "    <tr>\n",
       "      <th>YFL014W</th>\n",
       "      <td>10792.998045</td>\n",
       "      <td>-2.675336</td>\n",
       "      <td>0.929168</td>\n",
       "      <td>-2.87928</td>\n",
       "      <td>0.003986</td>\n",
       "      <td>0.037592</td>\n",
       "      <td>HSP12</td>\n",
       "    </tr>\n",
       "  </tbody>\n",
       "</table>\n",
       "</div>"
      ],
      "text/plain": [
       "             baseMean  log2FoldChange     lfcSE     stat    pvalue      padj  \\\n",
       "YFL014W  10792.998045       -2.675336  0.929168 -2.87928  0.003986  0.037592   \n",
       "\n",
       "        SC_common_name  \n",
       "YFL014W          HSP12  "
      ]
     },
     "execution_count": 78,
     "metadata": {},
     "output_type": "execute_result"
    }
   ],
   "source": [
    "m24_nmpp1_int_deseq[m24_nmpp1_int_deseq['SC_common_name']=='HSP12']"
   ]
  },
  {
   "cell_type": "code",
   "execution_count": 59,
   "metadata": {},
   "outputs": [
    {
     "data": {
      "text/html": [
       "<iframe id=\"igraph\" scrolling=\"no\" style=\"border:none;\" seamless=\"seamless\" src=\"https://plot.ly/~heineike02_student/126.embed\" height=\"525px\" width=\"100%\"></iframe>"
      ],
      "text/plain": [
       "<plotly.tools.PlotlyDisplay object>"
      ]
     },
     "execution_count": 59,
     "metadata": {},
     "output_type": "execute_result"
    }
   ],
   "source": [
    "#Plot Msn24/nmpp1 interaction LFC v.s. pValue\n",
    "\n",
    "line_coords = [(x1,y1),(x2,y2),ymin]\n",
    "\n",
    "hover_text = m24_nmpp1_int_deseq['SC_common_name']\n",
    "\n",
    "fig = expression_plots.lfc_padj_plot_with_lines(x_data,y_data,hover_text,line_coords)\n",
    "\n",
    "py.iplot(fig, filename='RNAseq2018_Msn24_drug_interaction')\n"
   ]
  },
  {
   "cell_type": "code",
   "execution_count": 32,
   "metadata": {},
   "outputs": [
    {
     "name": "stdout",
     "output_type": "stream",
     "text": [
      "104\n"
     ]
    }
   ],
   "source": [
    "#To Call Msn2/4 deletion genes make a line from and a hard cutoff for -log10p value of above 0.5. \n",
    "#This was chosen to include CYC7 and HOR7 but not MPC3. \n",
    "\n",
    "x1,y1 = (-1.5,0.0)\n",
    "x2,y2 = (-1.0,3.0)\n",
    "ymin = 0.3\n",
    "\n",
    "line_coords = [(x1,y1),(x2,y2),ymin]\n",
    "coords['m24_act'] = line_coords\n",
    "\n",
    "x_data = m24_deseq['log2FoldChange']\n",
    "y_data =  -np.log10(m24_deseq['pvalue'])\n",
    "\n",
    "m24_act_genes = m24_deseq[(y_data > y2- (y2-y1)/(x2-x1)*(x2-x_data)) & (y_data>ymin)]\n",
    "\n",
    "print(len(m24_act_genes))\n"
   ]
  },
  {
   "cell_type": "code",
   "execution_count": 61,
   "metadata": {},
   "outputs": [
    {
     "data": {
      "text/html": [
       "<iframe id=\"igraph\" scrolling=\"no\" style=\"border:none;\" seamless=\"seamless\" src=\"https://plot.ly/~heineike02_student/130.embed\" height=\"525px\" width=\"100%\"></iframe>"
      ],
      "text/plain": [
       "<plotly.tools.PlotlyDisplay object>"
      ]
     },
     "execution_count": 61,
     "metadata": {},
     "output_type": "execute_result"
    }
   ],
   "source": [
    "#Plot Deseq LFC v.s. pValue\n",
    "\n",
    "line_coords = [(x1,y1),(x2,y2),ymin]\n",
    "\n",
    "hover_text = m24_deseq['SC_common_name']\n",
    "\n",
    "fig = expression_plots.lfc_padj_plot_with_lines(x_data,y_data,hover_text,line_coords)\n",
    "\n",
    "py.iplot(fig, filename='RNAseq2018_WT_VS_M24')\n"
   ]
  },
  {
   "cell_type": "code",
   "execution_count": 95,
   "metadata": {},
   "outputs": [
    {
     "data": {
      "text/html": [
       "<div>\n",
       "<style scoped>\n",
       "    .dataframe tbody tr th:only-of-type {\n",
       "        vertical-align: middle;\n",
       "    }\n",
       "\n",
       "    .dataframe tbody tr th {\n",
       "        vertical-align: top;\n",
       "    }\n",
       "\n",
       "    .dataframe thead th {\n",
       "        text-align: right;\n",
       "    }\n",
       "</style>\n",
       "<table border=\"1\" class=\"dataframe\">\n",
       "  <thead>\n",
       "    <tr style=\"text-align: right;\">\n",
       "      <th></th>\n",
       "      <th>baseMean</th>\n",
       "      <th>log2FoldChange</th>\n",
       "      <th>lfcSE</th>\n",
       "      <th>stat</th>\n",
       "      <th>pvalue</th>\n",
       "      <th>padj</th>\n",
       "      <th>SC_common_name</th>\n",
       "    </tr>\n",
       "  </thead>\n",
       "  <tbody>\n",
       "    <tr>\n",
       "      <th>YEL039C</th>\n",
       "      <td>17.431676</td>\n",
       "      <td>2.214395</td>\n",
       "      <td>0.645173</td>\n",
       "      <td>3.432249</td>\n",
       "      <td>0.000599</td>\n",
       "      <td>0.025476</td>\n",
       "      <td>CYC7</td>\n",
       "    </tr>\n",
       "  </tbody>\n",
       "</table>\n",
       "</div>"
      ],
      "text/plain": [
       "          baseMean  log2FoldChange     lfcSE      stat    pvalue      padj  \\\n",
       "YEL039C  17.431676        2.214395  0.645173  3.432249  0.000599  0.025476   \n",
       "\n",
       "        SC_common_name  \n",
       "YEL039C           CYC7  "
      ]
     },
     "execution_count": 95,
     "metadata": {},
     "output_type": "execute_result"
    }
   ],
   "source": [
    "r1g1_deseq[r1g1_deseq['SC_common_name']=='CYC7']"
   ]
  },
  {
   "cell_type": "code",
   "execution_count": 96,
   "metadata": {
    "scrolled": true
   },
   "outputs": [
    {
     "data": {
      "text/html": [
       "<iframe id=\"igraph\" scrolling=\"no\" style=\"border:none;\" seamless=\"seamless\" src=\"https://plot.ly/~heineike02_student/180.embed\" height=\"525px\" width=\"100%\"></iframe>"
      ],
      "text/plain": [
       "<plotly.tools.PlotlyDisplay object>"
      ]
     },
     "execution_count": 96,
     "metadata": {},
     "output_type": "execute_result"
    }
   ],
   "source": [
    "#Project Msn2/4 dependent genes onto PKA inhibition genes\n",
    "\n",
    "\n",
    "#Compare PKA inhibition LFC to r1g1 activation\n",
    "\n",
    "other_deseq= m24_nmpp1_int_deseq\n",
    "other_name = 'm24_nmpp1'\n",
    "\n",
    "#deseq_data = pkainh_deseq.merge(m24_nmpp1_int_deseq,how='left',left_index = True, right_index=True, suffixes=('_pkainh', '_m24_nmpp1'))\n",
    "deseq_data = pkainh_deseq.merge(other_deseq,how='left',left_index = True, right_index=True, suffixes=('_pkainh', '_' + other_name))\n",
    "\n",
    "hover_text = []\n",
    "for ind, row in deseq_data.iterrows():\n",
    "    hover_text.append(('{SC_common_name}<br>padj 1NMPP1: {pkainh_padj:.2f}<br>padj ' + other_name +' : {other_padj:.2f}').format(\n",
    "                              SC_common_name=row['SC_common_name_pkainh'],\n",
    "                              pkainh_padj = -np.log10(row['padj_pkainh']),\n",
    "                              other_padj = -np.log10(row['padj_' + other_name])\n",
    "                              ))\n",
    "\n",
    "\n",
    "data = []\n",
    "\n",
    "trace = pygo.Scatter(\n",
    "            x = deseq_data['log2FoldChange_pkainh'], #-np.log10(deseq_data['padj_pkainh']), #\n",
    "            y = deseq_data['log2FoldChange_'+other_name], #-np.log10(deseq_data['padj_r1g1']),  #\n",
    "            text = hover_text,\n",
    "            mode = 'markers',\n",
    "            marker = {'opacity': 0.5,\n",
    "              'color' : np.log10(deseq_data['padj_' + other_name]),\n",
    "              'colorscale' : 'Jet',\n",
    "              'showscale' : False}  #, \n",
    "                      #'color': 'rgba'+str(cmap(NN/10))}, \n",
    "            #name = 'WT VS Rph1/Gis1 del'\n",
    "        )\n",
    "        \n",
    "data.append(trace)\n",
    "\n",
    "layout = pygo.Layout(\n",
    "    xaxis= {\n",
    "        #\"range\":[-2, 20],\n",
    "        \"title\":'LFC AS + 1NMPP1'\n",
    "    },\n",
    "    yaxis= {\n",
    "        #\"range\":[-2, 20],\n",
    "        \"title\":'LFC ' + other_name\n",
    "    }\n",
    ")\n",
    "\n",
    "\n",
    "fig = pygo.Figure(data=data, layout = layout)\n",
    "py.iplot(fig, filename='RNAseq2018_SC_AS_nmpp1_'+other_name)\n"
   ]
  },
  {
   "cell_type": "code",
   "execution_count": 62,
   "metadata": {},
   "outputs": [
    {
     "data": {
      "text/plain": [
       "<matplotlib_venn._common.VennDiagram at 0x1e2985e8cf8>"
      ]
     },
     "execution_count": 62,
     "metadata": {},
     "output_type": "execute_result"
    },
    {
     "data": {
      "image/png": "[encoded data removed]",
      "text/plain": [
       "<Figure size 432x288 with 1 Axes>"
      ]
     },
     "metadata": {},
     "output_type": "display_data"
    }
   ],
   "source": [
    "venn2([ set(pkainh_act_genes.index), set(m24_nmpp1_act_genes.index)], set_labels = [ 'Activated under PKA inhibition', 'Activation requires Msn2/4'])"
   ]
  },
  {
   "cell_type": "code",
   "execution_count": 100,
   "metadata": {},
   "outputs": [
    {
     "data": {
      "text/html": [
       "<iframe id=\"igraph\" scrolling=\"no\" style=\"border:none;\" seamless=\"seamless\" src=\"https://plot.ly/~heineike02_student/176.embed\" height=\"525px\" width=\"100%\"></iframe>"
      ],
      "text/plain": [
       "<plotly.tools.PlotlyDisplay object>"
      ]
     },
     "execution_count": 100,
     "metadata": {},
     "output_type": "execute_result"
    }
   ],
   "source": [
    "#Compare PKA inhibition LFC to r1g1 activation\n",
    "\n",
    "other_deseq= r1g1_deseq\n",
    "other_name = 'r1g1'\n",
    "\n",
    "#deseq_data = pkainh_deseq.merge(m24_nmpp1_int_deseq,how='left',left_index = True, right_index=True, suffixes=('_pkainh', '_m24_nmpp1'))\n",
    "deseq_data = pkainh_deseq.merge(other_deseq,how='left',left_index = True, right_index=True, suffixes=('_pkainh', '_' + other_name))\n",
    "\n",
    "hover_text = []\n",
    "for ind, row in deseq_data.iterrows():\n",
    "    hover_text.append(('{SC_common_name}<br>padj 1NMPP1: {pkainh_padj:.2f}<br>padj ' + other_name +' : {other_padj:.2f}').format(\n",
    "                              SC_common_name=row['SC_common_name_pkainh'],\n",
    "                              pkainh_padj = -np.log10(row['padj_pkainh']),\n",
    "                              other_padj = -np.log10(row['padj_' + other_name])\n",
    "                              ))\n",
    "\n",
    "\n",
    "data = []\n",
    "\n",
    "trace = pygo.Scatter(\n",
    "            x = deseq_data['log2FoldChange_pkainh'], #-np.log10(deseq_data['padj_pkainh']), #\n",
    "            y = deseq_data['log2FoldChange_'+other_name], #-np.log10(deseq_data['padj_r1g1']),  #\n",
    "            text = hover_text,\n",
    "            mode = 'markers',\n",
    "            marker = {'opacity': 0.5,\n",
    "              'color' : np.log10(deseq_data['padj_' + other_name]),\n",
    "              'colorscale' : 'Jet',\n",
    "              'showscale' : False}  #, \n",
    "                      #'color': 'rgba'+str(cmap(NN/10))}, \n",
    "            #name = 'WT VS Rph1/Gis1 del'\n",
    "        )\n",
    "        \n",
    "data.append(trace)\n",
    "\n",
    "layout = pygo.Layout(\n",
    "    xaxis= {\n",
    "        #\"range\":[-2, 20],\n",
    "        \"title\":'LFC AS + 1NMPP1'\n",
    "    },\n",
    "    yaxis= {\n",
    "        #\"range\":[-2, 20],\n",
    "        \"title\":'LFC ' + other_name\n",
    "    }\n",
    ")\n",
    "\n",
    "\n",
    "fig = pygo.Figure(data=data, layout = layout)\n",
    "py.iplot(fig, filename='RNAseq2018_SC_AS_nmpp1_'+other_name)\n"
   ]
  },
  {
   "cell_type": "code",
   "execution_count": 63,
   "metadata": {},
   "outputs": [
    {
     "data": {
      "text/plain": [
       "<matplotlib_venn._common.VennDiagram at 0x1e2985e3f60>"
      ]
     },
     "execution_count": 63,
     "metadata": {},
     "output_type": "execute_result"
    },
    {
     "data": {
      "image/png": "[encoded data removed]",
      "text/plain": [
       "<Figure size 432x288 with 1 Axes>"
      ]
     },
     "metadata": {},
     "output_type": "display_data"
    }
   ],
   "source": [
    "venn2([ set(pkainh_act_genes.index), set(r1g1_rep_genes.index)], set_labels = [ 'Activated under PKA inhibition', 'Repressed in Rph1/Gis1 del'])"
   ]
  },
  {
   "cell_type": "code",
   "execution_count": 64,
   "metadata": {},
   "outputs": [
    {
     "data": {
      "text/plain": [
       "<matplotlib_venn._common.VennDiagram at 0x1e2985a0ba8>"
      ]
     },
     "execution_count": 64,
     "metadata": {},
     "output_type": "execute_result"
    },
    {
     "data": {
      "image/png": "[encoded data removed]",
      "text/plain": [
       "<Figure size 432x288 with 1 Axes>"
      ]
     },
     "metadata": {},
     "output_type": "display_data"
    }
   ],
   "source": [
    "venn3([set(r1g1_rep_genes.index), set(m24_nmpp1_act_genes.index), set(m24_act_genes.index)], set_labels = ['Activated in Rph1/Gis1 \\n delete', 'Activation by PKA inhibition \\n Msn2/4 dependent', 'Repressed in Msn24 del'])"
   ]
  },
  {
   "cell_type": "code",
   "execution_count": 65,
   "metadata": {},
   "outputs": [
    {
     "data": {
      "text/plain": [
       "<matplotlib_venn._common.VennDiagram at 0x1e298631a58>"
      ]
     },
     "execution_count": 65,
     "metadata": {},
     "output_type": "execute_result"
    },
    {
     "data": {
      "image/png": "[encoded data removed]",
      "text/plain": [
       "<Figure size 432x288 with 1 Axes>"
      ]
     },
     "metadata": {},
     "output_type": "display_data"
    }
   ],
   "source": [
    "venn2([ set(m24_nmpp1_act_genes.index), set(m24_act_genes.index)], set_labels = [ 'Activation by PKA inhibition Msn2/4 dependent', 'Repressed in Msn24 del'])"
   ]
  },
  {
   "cell_type": "code",
   "execution_count": 66,
   "metadata": {},
   "outputs": [
    {
     "data": {
      "text/plain": [
       "<matplotlib_venn._common.VennDiagram at 0x1e298671710>"
      ]
     },
     "execution_count": 66,
     "metadata": {},
     "output_type": "execute_result"
    },
    {
     "data": {
      "image/png": "[encoded data removed]",
      "text/plain": [
       "<Figure size 432x288 with 1 Axes>"
      ]
     },
     "metadata": {},
     "output_type": "display_data"
    }
   ],
   "source": [
    "venn3([set(pkainh_act_genes.index),set(r1g1_rep_genes.index), set(m24_nmpp1_act_genes.index)], set_labels = ['Activated by PKA inhibition','Activated in Rph1/Gis1 \\n delete', 'Activation by PKA inhibition \\n Msn2/4 dependent'])\n",
    "#venn3([set(m24_act_genes.index), set(m24_nmpp1_act_genes.index), set(pkainh_act_genes.index)], set_labels = ['Activated in Rph1/Gis1 \\n delete (exp growth)', 'Activation by PKA inhibition \\n Msn2/4 dependent', 'Activated by PKA inhibition'])"
   ]
  },
  {
   "cell_type": "code",
   "execution_count": 67,
   "metadata": {},
   "outputs": [
    {
     "data": {
      "text/plain": [
       "<matplotlib_venn._common.VennDiagram at 0x1e2986ba9b0>"
      ]
     },
     "execution_count": 67,
     "metadata": {},
     "output_type": "execute_result"
    },
    {
     "data": {
      "image/png": "[encoded data removed]",
      "text/plain": [
       "<Figure size 432x288 with 1 Axes>"
      ]
     },
     "metadata": {},
     "output_type": "display_data"
    }
   ],
   "source": [
    "venn3([set(pkainh_act_genes.index), set(m24_nmpp1_act_genes.index),set(m24_act_genes.index) ], set_labels = ['Activated by PKA inhibition', 'Activation by PKA inhibition \\n Msn2/4 dependent','Repressed in Msn2/4 \\n delete'])"
   ]
  },
  {
   "cell_type": "markdown",
   "metadata": {},
   "source": [
    "## Saving lists of genes based on experimental cutoffs"
   ]
  },
  {
   "cell_type": "code",
   "execution_count": 35,
   "metadata": {},
   "outputs": [],
   "source": [
    "#Print out the gene sets and put them into a dictionary - save the dictionary as a .pkl\n",
    "#Repressed in Msn2/4 Delete basally\n",
    "\n",
    "spec = 'SC'\n",
    "\n",
    "msn2_level = 'M_75'\n",
    "\n",
    "target_sets = {'m24_nmpp1_act': set(msn24_sets[msn2_level]), #set(m24_nmpp1_act_genes.index),\n",
    "               'r1g1_rep': set(r1g1_rep_genes.index),\n",
    "               'm24_act': set(m24_act_genes.index), \n",
    "               'pkainh_act' : set(pkainh_act_genes.index),\n",
    "               'pkainh_rep' : set(pkainh_rep_genes.index)}\n",
    "\n",
    "fname = data_processing_dir + '\\\\kl_sc_PKA_as_m24_r1g1_20181017\\\\20181203_r1g1_m24_pka_targets_' + spec + '.pkl'\n",
    "\n",
    "with open(fname, 'wb') as file:\n",
    "    pickle.dump([target_sets, coords], file)\n"
   ]
  },
  {
   "cell_type": "code",
   "execution_count": 69,
   "metadata": {},
   "outputs": [
    {
     "data": {
      "text/plain": [
       "{'pkainh_act': [(2.0, 15), (2.5, 0.0), 1.5],\n",
       " 'r1g1_rep': [(1.0, 7.0), (2.5, 0.0), 0.4],\n",
       " 'm24_nmpp1_int': [(-3.5, 0.0), (-1.8, 13.0), 1.0],\n",
       " 'm24_act': [(-1.5, 0.0), (-1.0, 3.0), 0.3]}"
      ]
     },
     "execution_count": 69,
     "metadata": {},
     "output_type": "execute_result"
    }
   ],
   "source": [
    "coords"
   ]
  },
  {
   "cell_type": "code",
   "execution_count": 133,
   "metadata": {},
   "outputs": [
    {
     "name": "stdout",
     "output_type": "stream",
     "text": [
      "Full Sets: \n",
      "\n",
      "m24_nmpp1_act, N_genes = 487:\n",
      "NDI1, DDP1, YDR018C, YAP6, NTH1, ASG7, YGR018C, YML131W, YMR196W, LSO1, EDS1, RFS1, MCP1, AIM19, CAT2, HSP31, GAC1, DAN4, YBR056W, GRE2, FMP33, STL1, SPS19, YLR345W, MIX14, YHR097C, AIM41, ALD2, MHP1, RGI1, SGA1, DSC3, APE3, SNF3, YFL041W-A, TSL1, GDH3, XKS1, TPS1, COQ6, YDR034W-B, CRG1, YPI1, APC9, HUL4, SIP4, COQ3, YDR381C-A, SDH5, GPM2, YBR284W, NQM1, YJL070C, PEX18, YLR118C, POT1, PPE1, GPH1, EGH1, ATG4, YET2, YOR019W, CMC4, UBC8, ADP1, CUZ1, NGL3, POM33, SCS22, HSP26, FRE2, YDL206W, GIP2, YOR186W, AAC1, MAM3, YER068C-A, PRY1, YHR007C-A, ATG36, CAT8, YPR098C, YPR172W, YER084W-A, ECI1, ADY3, BDH1, COX26, CMG1, PKP2, FRT2, STR3, GTT1, GRX1, YDL057W, YDL062W, COQ11, AVT6, YKL107W, RNR3, VPS65, SPG4, YLR173W, TMC1, CAT5, PIC2, IRC18, UBX3, CMK1, PEP4, YAP1801, SPO1, MPC54, ZWF1, GDB1, GUT2, POR1, NUR1, BOP2, YGR053C, VHS1, SSA4, YDR406W-A, YBL039W-B, SDS24, YJL144W, YCP4, ATG7, TDA10, SIP2, YHR193C-A, TPS2, DIA3, PUT1, URA10, YPR127W, UGA2, ATG32, XYL2, SPR28, PET117, YCL049C, IGD1, GLO4, YGL052W, UIP4, YOR020W-A, AST2, YER119C-A, STF2, ISF1, YLR177W, NPC2, OM14, GTO1, MET17, PRB1, PCK1, YKL133C, ATG33, FUN19, YOR062C, NCR1, HXT10, CNL1, GCY1, ATO2, TDH1, YNL277W-A, BXI1, PHM7, PCL7, SHC1, YGP1, YET1, LEE1, SIP18, TDA1, COQ4, SPO74, USV1, FAT3, REC114, RTN2, UBP9, POX1, PSK1, VID28, ENO1, FLO10, SAP4, TVP15, EMP46, YIL166C, GAL10, AMS1, FUN14, PFK26, YNR068C, SOD2, PET191, HMX1, KIN82, PET10, FMP10, YGR174W-A, GEX2, PDR15, CSR2, HXT5, SOL4, FMP16, PRC1, YIL077C, ADE16, ATG22, NGR1, YPL109C, FUS2, MRL1, ZTA1, YML007C-A, KGD1, YKL050C, YDL124W, YMR31, FOX2, HER1, AIP1, YDR193W, YBR232C, YGR130C, CRF1, HEM14, SDS22, ATG3, LAM4, MRK1, YBL029C-A, YJR039W, YNL194C, GPX1, YJL132W, AIM18, RIM8, YSA1, SDH2, FMP48, SRX1, DLD1, SPI1, RTC3, MHO1, OPI10, YFL054C, GSY1, RIM4, DBP1, MNN4, DCS2, YJL016W, YLR030W, YNL200C, TFS1, CLD1, CTA1, YHR140W, YBR285W, GLC3, ALD3, YLR031W, ECM38, PAI3, LAM5, SHH3, TMA17, TRX2, HES1, GDH2, RCF1, TSA2, HPA2, YGR127W, GOR1, YLR149C, NCE102, MRP8, LDH1, SUL2, SDH6, PNS1, ATG1, ATG2, HSP104, DDI1, XBP1, VMR1, YBL086C, YMR090W, NTH2, YPT53, SDD1, CBP4, ATG8, BDH2, GRE1, TPS3, HYR1, MAG1, GSY2, YOL085C, PCH2, YER121W, PMA2, YFR045W, ALD4, COX20, RSF1, YBR085C-A, YKL091C, YBR116C, CIT1, YMR087W, YJL045W, YDL183C, GPT2, YJR096W, ROM1, HSP12, YEL034C-A, FMP45, PST2, GSM1, GLO1, YLR152C, OPI3, IKS1, CUE2, RTC2, VPS13, PUT2, YMR317W, PRX1, YBR241C, SDP1, HBT1, GLO2, GGA1, OSH2, GRE3, YFL015C, AAD10, AYR1, HSP82, SPS100, NDE2, OXR1, FMP40, YMR252C, MBR1, YDR491C, GPD1, SHH4, MET28, RRT8, VTI1, ARA2, YNR014W, PST1, PIL1, PKH1, YBR221W-A, UBC5, AQY1, YIR014W, FBP26, UBX5, UBP15, YKL162C, CYC7, HSP78, YKL065W-A, RPN4, MPO1, REG2, ODC1, YMR114C, HEF3, YMR315W, LSC2, MXR2, ALP1, UGX2, PIG2, MDH2, UGA1, YNL115C, NCA2, CYB2, VPS73, ATG17, YIL134C-A, ATH1, DIT2, GLC8, GAD1, FMP46, FIT2, PEX30, LSP1, YGR201C, SCO1, QCR10, AMA1, ICS2, TRX3, RNY1, RIM11, SFC1, GND2, HED1, DDR2, YPR002C-A, YOR292C, YDL199C, OM45, GRX2, YLR311C, CTT1, COQ5, EIS1, FMO1, RRT12, IRC24, DAK1, ACH1, GUD1, ATG39, GLG2, HXT7, YMR316C-A, TGL2, DCS1, YMR007W, YBL100W-C, DON1, YPL136W, YML099W-A, TOS8, GLG1, EGO4, ALG13, GID7, GIS1, MSC1, YNL011C, DSF1, HEM15, AFR1, SPG1, SOL1, RDL1, PGM2, ARA1, YER084W, YBR062C, SSE2, YKL151C, MYO3, YPR015C, YHL044W, ECM4, SSA3, HFD1, YNL195C, HUL5, PIR3, YJL133C-A, ATG34, YMR206W, YNL134C, YPL247C, YOR1, TPO1, CIS1, YIM1, BCY1\n",
      "\n",
      "\n",
      "r1g1_rep, N_genes = 154:\n",
      "YNL171C, YLR280C, YSC84, RRT8, YNR014W, NTH1, XYL2, YIL055C, IGD1, DIG2, YDL114W-A, YKL147C, PBI2, YIR014W, YNL092W, FMP48, NBL1, CYC7, YOL085W-A, YHL034W-A, YHR069C-A, ATG15, YDL218W, GAC1, YBR056W, RTC3, HEF3, UBP11, SCO2, YLR345W, MXR2, UGX2, DBP1, DCS2, RGI1, SGA1, UBI4, GMC1, YLR030W, ATG33, YKR011C, YLR379W, TSL1, YNL114C, TPK2, XKS1, YPR126C, YHR140W, YLR297W, RGM1, GAD1, YLL019W-A, YLR031W, YIL100C-A, CYC3, PEX30, SIP4, HES1, GPM2, YBR284W, YOR200W, PHM7, TRX3, RNY1, YJL070C, SHC1, THI2, YNL235C, YKL096C-B, LEE1, FMT1, CSE2, YOR072W-B, ATG1, BOP3, YET2, RMR1, UBC8, REC114, AGX1, XBP1, HSP26, YHR145C, YLR311C, CTT1, YPT53, BNA2, IRC24, MAM3, YBR209W, AMS1, HYR1, MAG1, ATG39, TPK1, SOD2, GLG2, YHR033W, GYP5, ATG14, YLL066C, YER084W-A, YDL025W-A, PCH2, ART5, YHL045W, SNO2, COA4, YFR054C, COX26, STF1, MAM1, YGR066C, SET4, STR3, YPS6, GTT1, EGO4, YER175W-A, DSF1, YCR101C, IRC4, YJR079W, YGR149W, GSM1, TMC1, YHL050C, YDL086C-A, RDL1, ATG9, YAL064W-B, YBR053C, ZWF1, YBR241C, SSE2, SDP1, YHL044W, YHR070C-A, YJL163C, YCR095W-A, GSP2, WTM1, PET122, YTP1, YGR053C, NAT4, SDS24, YOR376W-A, NDE2, YPL185W, ATG7, YDR491C, GPD1, PIB2\n",
      "\n",
      "\n",
      "pkainh_act, N_genes = 509:\n",
      "NDI1, DDP1, APE1, YDR018C, YPC1, YAP6, YOR289W, NTH1, ASG7, YGR018C, YML131W, YDR461C-A, YMR196W, LSO1, EDS1, PBI2, YNL208W, PCD1, RFS1, MCP1, AIM19, PDR10, PYK2, CAT2, HSP31, GAC1, YBR056W, GRE2, FMP33, STL1, SPS19, YLR345W, MIX14, YHR097C, AIM41, ALD2, MHP1, RGI1, SGA1, YBR124W, DSC3, APE3, SNF3, YKR011C, TSL1, GDH3, XKS1, TPS1, DAK2, COQ6, YDR034W-B, CRG1, YPI1, HUL4, SIP4, COQ3, SDH5, GPM2, YBR284W, NQM1, PEX18, PRM6, YLR118C, POT1, PPE1, GPH1, EGH1, ATG4, YOR019W, UBC8, ADP1, YBR139W, POM33, HSP26, FRE2, GIP2, YOR186W, AAC1, SAF1, MAM3, YER068C-A, YHR007C-A, ATG36, CAT8, YPR098C, YPR172W, ATG14, YER084W-A, ECI1, ADY3, MBB1, BDH1, COX26, STF1, CMG1, FRT2, YGR066C, YGL014C-A, STR3, GTT1, GRX1, YDL057W, YDL062W, COQ11, AVT6, YKL107W, VPS65, SPG4, YEF1, TMC1, PIC2, UBX3, CMK1, PEP4, SPO1, MPC54, ZWF1, GDB1, GUT2, SDH8, EMI2, BOP2, YGR053C, VHS1, SSA4, YDR406W-A, YBL039W-B, SDS24, YJL144W, TMT1, ATG7, TDA10, SIP2, YHR193C-A, TPS2, DIA3, YLR280C, PUT1, URA10, YPR127W, UGA2, HVG1, XYL2, YIL055C, SPR28, PET117, YCL049C, IGD1, GLO4, YKL053W, YGL052W, UIP4, YOR020W-A, YER119C-A, STF2, YHR138C, ISF1, OM14, PRB1, YKL133C, GMC1, ATG33, FUN19, YOR062C, NCR1, ULA1, HXT10, CNL1, GCY1, TKL2, ATO2, TDH1, YDR048C, YNL277W-A, BXI1, PHM7, SHC1, YGP1, YET1, LEE1, COX5B, SIP18, TDA1, ATG40, COQ4, USV1, RMR1, FAT3, REC114, RTN2, MPC3, PSK1, VID28, VPS62, ENO1, POX1, FLO10, TVP15, EMP46, YIL166C, GAL10, AMS1, FUN14, PFK26, TPK1, SOD2, HMX1, KIN82, FMP10, YGR174W-A, GEX2, PDR15, CSR2, HXT5, SOL4, FMP16, PRC1, YIL077C, ATG22, TMA10, YPL109C, MRL1, ZTA1, YLR053C, YDL124W, YMR31, FOX2, HER1, YDR193W, YCL048W-A, YBR232C, YGR130C, CRF1, HEM14, SDS22, ATG3, LAM4, PDC6, MRK1, YBL029C-A, YJR039W, HSP42, YNL194C, GPX1, YJL132W, AIM18, LOH1, RIM8, SDH2, HPF1, FMP48, VID30, SRX1, DLD1, SPI1, SPR2, RTC3, MHO1, OPI10, SCO2, YFL054C, GSY1, RIM4, DBP1, MNN4, YDL032W, DCS2, YJL016W, YLR030W, YNL200C, TFS1, YCR061W, RSB1, CLD1, CTA1, YHR140W, YBR285W, GLC3, FIS1, ALD3, YLR031W, ECM38, PAI3, LAM5, SHH3, TMA17, TRX2, HES1, YEL074W, YPL119C-A, GDH2, RCF1, TSA2, GPG1, HPA2, SLZ1, YGR127W, YPL113C, GOR1, YLR149C, NCE102, MRP8, SUL2, SDH6, YKR012C, PNS1, ATG1, ATG2, HSP104, ATG31, XBP1, VMR1, YBL086C, YMR090W, NTH2, YPT53, CBP4, ATG8, BDH2, GRE1, TPS3, HYR1, MAG1, GSY2, YOL085C, PCH2, YER121W, PMA2, JIP3, YHL045W, ALD4, COX20, RSF1, YBR085C-A, YKL091C, YBR116C, CIT1, YGL081W, YDL183C, YJL045W, YPR050C, GPT2, YJR096W, ROM1, HSP12, YEL034C-A, FMP45, PST2, GSM1, GLO1, YLR152C, OPI3, IKS1, ATG9, RTC2, VPS13, YBR053C, YPL044C, PRX1, YBR241C, SDP1, RGI2, HBT1, GLO2, GGA1, GSP2, YOR343C, OSH2, GRE3, YTP1, YFL015C, AAD10, GID8, AYR1, HSP82, SPS100, NDE2, OXR1, FMP40, YMR252C, MBR1, YDR491C, GPD1, SHH4, AIM17, MET28, YSC84, RRT8, VTI1, YNR014W, PST1, PKH1, YBR221W-A, UBC5, AQY1, YIR014W, FBP26, UBX5, UBP15, YNL092W, YKL162C, CYC7, HSP78, YHR069C-A, YKL065W-A, RPN4, MPO1, REG2, YMR114C, HEF3, LSC2, PUT4, MXR2, ALP1, UGX2, PIG2, MDH2, UBI4, UGA1, PNC1, YNL115C, NCA2, CYB2, VPS73, TPK2, ATG17, YIR016W, ATH1, DIT2, GAD1, FMP46, FIT2, YIL100C-A, PEX30, LSP1, YGR201C, SCO1, AMA1, TRX3, RNY1, RIM11, SFC1, GND2, DAL80, HED1, DDR2, YOR292C, YDL199C, AGX1, OM45, GRX2, YLR311C, CTT1, EIS1, FMO1, RRT12, IRC24, DAK1, ACH1, GUD1, ATG39, GLG2, HXT7, YMR316C-A, TGL2, DCS1, YBL100W-C, YPL136W, YML099W-A, TOS8, GLG1, HOP1, YPS6, EGO4, ALG13, GID7, GIS1, MSC1, DSF1, AFR1, YGR149W, SPG1, RDL1, PGM2, ARA1, YER084W, YBR062C, SSE2, YKL151C, MYO3, YPR015C, YHL044W, YJL163C, ECM4, SSA3, HFD1, YNL195C, HUL5, PIR3, YJL133C-A, ATG34, YMR206W, YNL134C, YPL247C, YOR1, CIS1, SSA1, YIM1, BCY1\n",
      "\n",
      "\n",
      "Intersections: \n",
      "\n",
      "m24_nmpp1_only, N_genes = 412:\n",
      "NDI1, DDP1, YDR018C, YAP6, ASG7, YGR018C, YML131W, YMR196W, LSO1, EDS1, RFS1, MCP1, AIM19, CAT2, HSP31, DAN4, GRE2, FMP33, STL1, SPS19, MIX14, YHR097C, AIM41, ALD2, MHP1, DSC3, APE3, SNF3, YFL041W-A, GDH3, TPS1, COQ6, YDR034W-B, CRG1, YPI1, APC9, HUL4, COQ3, YDR381C-A, SDH5, NQM1, PEX18, YLR118C, POT1, PPE1, GPH1, EGH1, ATG4, YOR019W, CMC4, ADP1, CUZ1, NGL3, POM33, SCS22, FRE2, YDL206W, GIP2, YOR186W, AAC1, YER068C-A, PRY1, YHR007C-A, ATG36, CAT8, YPR098C, YPR172W, ECI1, ADY3, BDH1, CMG1, PKP2, FRT2, GRX1, YDL057W, YDL062W, COQ11, AVT6, YKL107W, RNR3, VPS65, SPG4, YLR173W, CAT5, PIC2, IRC18, UBX3, CMK1, PEP4, YAP1801, SPO1, MPC54, GDB1, GUT2, POR1, NUR1, BOP2, VHS1, SSA4, YDR406W-A, YBL039W-B, YJL144W, YCP4, TDA10, SIP2, YHR193C-A, TPS2, DIA3, PUT1, URA10, YPR127W, UGA2, ATG32, SPR28, PET117, YCL049C, GLO4, YGL052W, UIP4, YOR020W-A, AST2, YER119C-A, STF2, ISF1, YLR177W, NPC2, OM14, GTO1, MET17, PRB1, PCK1, YKL133C, FUN19, YOR062C, NCR1, HXT10, CNL1, GCY1, ATO2, TDH1, YNL277W-A, BXI1, PCL7, YGP1, YET1, SIP18, TDA1, COQ4, SPO74, USV1, FAT3, RTN2, UBP9, POX1, PSK1, VID28, ENO1, FLO10, SAP4, TVP15, EMP46, YIL166C, GAL10, FUN14, PFK26, YNR068C, PET191, KIN82, HMX1, PET10, FMP10, YGR174W-A, GEX2, PDR15, CSR2, HXT5, SOL4, FMP16, PRC1, YIL077C, ADE16, ATG22, NGR1, YPL109C, FUS2, MRL1, ZTA1, YML007C-A, KGD1, YKL050C, YDL124W, YMR31, FOX2, HER1, AIP1, YDR193W, YBR232C, YGR130C, CRF1, HEM14, SDS22, ATG3, LAM4, MRK1, YBL029C-A, YJR039W, YNL194C, GPX1, YJL132W, AIM18, RIM8, YSA1, SDH2, SRX1, DLD1, SPI1, MHO1, OPI10, YFL054C, GSY1, RIM4, MNN4, YJL016W, YNL200C, TFS1, CLD1, CTA1, YBR285W, GLC3, ALD3, ECM38, PAI3, LAM5, SHH3, TMA17, TRX2, GDH2, RCF1, TSA2, HPA2, YGR127W, GOR1, YLR149C, NCE102, MRP8, LDH1, SUL2, SDH6, PNS1, ATG2, HSP104, DDI1, VMR1, YBL086C, YMR090W, NTH2, SDD1, CBP4, ATG8, BDH2, GRE1, TPS3, GSY2, YOL085C, YER121W, PMA2, YFR045W, ALD4, COX20, RSF1, YBR085C-A, YKL091C, YBR116C, CIT1, YMR087W, YJL045W, YDL183C, GPT2, YJR096W, ROM1, HSP12, YEL034C-A, FMP45, PST2, GLO1, YLR152C, OPI3, IKS1, CUE2, RTC2, VPS13, PUT2, YMR317W, PRX1, HBT1, GLO2, GGA1, OSH2, GRE3, YFL015C, AAD10, AYR1, HSP82, SPS100, OXR1, YMR252C, FMP40, MBR1, SHH4, MET28, VTI1, ARA2, PST1, PIL1, PKH1, YBR221W-A, UBC5, AQY1, FBP26, UBX5, UBP15, YKL162C, HSP78, YKL065W-A, RPN4, MPO1, REG2, ODC1, YMR114C, YMR315W, LSC2, ALP1, PIG2, MDH2, UGA1, YNL115C, NCA2, CYB2, VPS73, ATG17, YIL134C-A, ATH1, DIT2, GLC8, FMP46, FIT2, LSP1, YGR201C, SCO1, QCR10, AMA1, ICS2, RIM11, SFC1, GND2, HED1, DDR2, YPR002C-A, YOR292C, YDL199C, OM45, GRX2, COQ5, EIS1, FMO1, RRT12, DAK1, ACH1, GUD1, HXT7, YMR316C-A, TGL2, DCS1, YMR007W, YBL100W-C, DON1, YPL136W, YML099W-A, TOS8, GLG1, ALG13, GID7, GIS1, MSC1, YNL011C, HEM15, AFR1, SPG1, SOL1, PGM2, ARA1, YER084W, YBR062C, YKL151C, MYO3, YPR015C, ECM4, SSA3, HFD1, YNL195C, HUL5, PIR3, YJL133C-A, ATG34, YMR206W, YNL134C, YPL247C, YOR1, TPO1, CIS1, YIM1, BCY1\n",
      "\n",
      "r1g1_rep_only, N_genes = 79:\n",
      "YNL171C, YLR280C, YSC84, YIL055C, DIG2, YDL114W-A, YKL147C, PBI2, YNL092W, NBL1, YOL085W-A, YHL034W-A, YHR069C-A, ATG15, YDL218W, UBP11, SCO2, UBI4, GMC1, YKR011C, YLR379W, YNL114C, TPK2, YPR126C, YLR297W, RGM1, YLL019W-A, YIL100C-A, CYC3, YOR200W, THI2, YNL235C, YKL096C-B, FMT1, CSE2, YOR072W-B, BOP3, RMR1, AGX1, YHR145C, BNA2, YBR209W, TPK1, YHR033W, GYP5, ATG14, YLL066C, YDL025W-A, ART5, YHL045W, SNO2, COA4, YFR054C, STF1, MAM1, YGR066C, SET4, YPS6, YER175W-A, YCR101C, IRC4, YJR079W, YGR149W, YHL050C, YDL086C-A, ATG9, YAL064W-B, YBR053C, YHR070C-A, YJL163C, YCR095W-A, GSP2, WTM1, PET122, YTP1, NAT4, YOR376W-A, YPL185W, PIB2\n",
      "\n",
      "r1g1_rep_and_m24_nmpp1_act, N_genes = 75:\n"
     ]
    },
    {
     "name": "stdout",
     "output_type": "stream",
     "text": [
      "YLR030W, UBC8, REC114, ATG33, TSL1, RRT8, GSM1, XBP1, HSP26, TMC1, YNR014W, XKS1, YLR311C, RDL1, NTH1, YHR140W, XYL2, CTT1, YPT53, GAD1, ZWF1, IGD1, YLR031W, IRC24, MAM3, YBR241C, AMS1, PEX30, HYR1, SSE2, SIP4, MAG1, ATG39, SOD2, GLG2, SDP1, HES1, YHL044W, GPM2, YIR014W, YBR284W, FMP48, PHM7, TRX3, CYC7, RNY1, YJL070C, YER084W-A, SHC1, PCH2, YGR053C, GAC1, YBR056W, COX26, RTC3, HEF3, SDS24, YLR345W, LEE1, STR3, GTT1, EGO4, NDE2, ATG7, MXR2, YET2, UGX2, DBP1, YDR491C, GPD1, DCS2, ATG1, DSF1, RGI1, SGA1\n",
      "\n"
     ]
    }
   ],
   "source": [
    "#quickly print out names of target genes\n",
    "\n",
    "print('Full Sets: \\n')\n",
    "for name, gene_set in target_sets.items():\n",
    "    print(name + ', N_genes = ' + str(len(gene_set)) + ':')\n",
    "    print(', '.join(list(io_library.SC_common_name_lookup(gene_set))))\n",
    "    print('\\n')\n",
    "\n",
    "print('Intersections: \\n')\n",
    "\n",
    "gene_set = target_sets['m24_nmpp1_act']-target_sets['r1g1_rep']\n",
    "print('m24_nmpp1_only, N_genes = ' + str(len(gene_set)) + ':')\n",
    "print(', '.join(list(io_library.SC_common_name_lookup(gene_set))) + '\\n')\n",
    "\n",
    "\n",
    "gene_set = target_sets['r1g1_rep']-target_sets['m24_nmpp1_act']\n",
    "print('r1g1_rep_only, N_genes = ' + str(len(gene_set)) + ':')\n",
    "print(', '.join(list(io_library.SC_common_name_lookup(gene_set)))+ '\\n')\n",
    "\n",
    "\n",
    "gene_set = target_sets['r1g1_rep'] & target_sets['m24_nmpp1_act']\n",
    "print('r1g1_rep_and_m24_nmpp1_act, N_genes = ' + str(len(gene_set)) + ':')\n",
    "print(', '.join(list(io_library.SC_common_name_lookup(gene_set)))+ '\\n')\n",
    "\n",
    "\n"
   ]
  },
  {
   "cell_type": "code",
   "execution_count": 22,
   "metadata": {},
   "outputs": [
    {
     "data": {
      "text/html": [
       "<iframe id=\"igraph\" scrolling=\"no\" style=\"border:none;\" seamless=\"seamless\" src=\"https://plot.ly/~heineike02_student/128.embed\" height=\"525px\" width=\"100%\"></iframe>"
      ],
      "text/plain": [
       "<plotly.tools.PlotlyDisplay object>"
      ]
     },
     "execution_count": 22,
     "metadata": {},
     "output_type": "execute_result"
    }
   ],
   "source": [
    "#Plot LFC of RG activation v.s. M24 drug interaction\n",
    "\n",
    "r1g1_m24int_merge = r1g1_deseq.merge(m24_nmpp1_int_deseq, how='inner',suffixes= ('_RGrep','_M24act'),left_index=True, right_index=True)\n",
    "\n",
    "\n",
    "data = []\n",
    "\n",
    "trace = pygo.Scatter(\n",
    "            x = r1g1_m24int_merge['log2FoldChange_RGrep'], \n",
    "            y =  r1g1_m24int_merge['log2FoldChange_M24act'],\n",
    "            text = r1g1_m24int_merge['SC_common_name_RGrep'],\n",
    "            mode = 'markers',\n",
    "            marker = {'opacity': 0.5}, #, \n",
    "                      #'color': 'rgba'+str(cmap(NN/10))}, \n",
    "            name = 'Rph1/Gis1 repressed LFC vs Msn24_PKA activation LFC'\n",
    "        )\n",
    "        \n",
    "data.append(trace)\n",
    "\n",
    "layout = pygo.Layout(\n",
    "    xaxis= {\n",
    "        \"range\":[-20, 20],\n",
    "        \"title\":'Rph1/Gis1 del v.s. WT LFC'\n",
    "    },\n",
    "    yaxis= {\n",
    "        \"range\":[-10, 10],\n",
    "        \"title\":'Msn24 del/PKA inhibition interaction term LFC'\n",
    "    }\n",
    ")\n",
    "\n",
    "\n",
    "fig = pygo.Figure(data=data, layout = layout)\n",
    "py.iplot(fig, filename='RNAseq2018_R1G1rep_v_M24PKAact')"
   ]
  },
  {
   "cell_type": "code",
   "execution_count": 23,
   "metadata": {},
   "outputs": [
    {
     "data": {
      "text/html": [
       "<div>\n",
       "<style scoped>\n",
       "    .dataframe tbody tr th:only-of-type {\n",
       "        vertical-align: middle;\n",
       "    }\n",
       "\n",
       "    .dataframe tbody tr th {\n",
       "        vertical-align: top;\n",
       "    }\n",
       "\n",
       "    .dataframe thead th {\n",
       "        text-align: right;\n",
       "    }\n",
       "</style>\n",
       "<table border=\"1\" class=\"dataframe\">\n",
       "  <thead>\n",
       "    <tr style=\"text-align: right;\">\n",
       "      <th></th>\n",
       "      <th>baseMean_RGrep</th>\n",
       "      <th>log2FoldChange_RGrep</th>\n",
       "      <th>lfcSE_RGrep</th>\n",
       "      <th>stat_RGrep</th>\n",
       "      <th>pvalue_RGrep</th>\n",
       "      <th>padj_RGrep</th>\n",
       "      <th>SC_common_name_RGrep</th>\n",
       "      <th>baseMean_M24act</th>\n",
       "      <th>log2FoldChange_M24act</th>\n",
       "      <th>lfcSE_M24act</th>\n",
       "      <th>stat_M24act</th>\n",
       "      <th>pvalue_M24act</th>\n",
       "      <th>padj_M24act</th>\n",
       "      <th>SC_common_name_M24act</th>\n",
       "    </tr>\n",
       "  </thead>\n",
       "  <tbody>\n",
       "    <tr>\n",
       "      <th>YFL014W</th>\n",
       "      <td>48.704855</td>\n",
       "      <td>-0.821724</td>\n",
       "      <td>0.575935</td>\n",
       "      <td>-1.426765</td>\n",
       "      <td>0.153648</td>\n",
       "      <td>0.99735</td>\n",
       "      <td>HSP12</td>\n",
       "      <td>4586.58369</td>\n",
       "      <td>-3.874665</td>\n",
       "      <td>1.27219</td>\n",
       "      <td>-3.045665</td>\n",
       "      <td>0.002322</td>\n",
       "      <td>0.031496</td>\n",
       "      <td>HSP12</td>\n",
       "    </tr>\n",
       "  </tbody>\n",
       "</table>\n",
       "</div>"
      ],
      "text/plain": [
       "         baseMean_RGrep  log2FoldChange_RGrep  lfcSE_RGrep  stat_RGrep  \\\n",
       "YFL014W       48.704855             -0.821724     0.575935   -1.426765   \n",
       "\n",
       "         pvalue_RGrep  padj_RGrep SC_common_name_RGrep  baseMean_M24act  \\\n",
       "YFL014W      0.153648     0.99735                HSP12       4586.58369   \n",
       "\n",
       "         log2FoldChange_M24act  lfcSE_M24act  stat_M24act  pvalue_M24act  \\\n",
       "YFL014W              -3.874665       1.27219    -3.045665       0.002322   \n",
       "\n",
       "         padj_M24act SC_common_name_M24act  \n",
       "YFL014W     0.031496                 HSP12  "
      ]
     },
     "execution_count": 23,
     "metadata": {},
     "output_type": "execute_result"
    }
   ],
   "source": [
    "r1g1_m24int_merge[r1g1_m24int_merge['SC_common_name_M24act']=='HSP12']"
   ]
  },
  {
   "cell_type": "markdown",
   "metadata": {},
   "source": [
    "## Promoter analysis of various groups"
   ]
  },
  {
   "cell_type": "code",
   "execution_count": 7,
   "metadata": {},
   "outputs": [],
   "source": [
    "#Read in the SC promoter database.  \n",
    "sc_promoters = pd.read_pickle(data_processing_dir + os.path.normpath(\"sc_promoters/sc_promoters.pkl\"))"
   ]
  },
  {
   "cell_type": "code",
   "execution_count": 15,
   "metadata": {},
   "outputs": [
    {
     "name": "stdout",
     "output_type": "stream",
     "text": [
      "tD(GUC)I1 not in promoter data set.\n",
      "tE(UUC)K not in promoter data set.\n",
      "tT(AGU)O2 not in promoter data set.\n",
      "tV(AAC)M3 not in promoter data set.\n",
      "tS(AGA)D2 not in promoter data set.\n"
     ]
    }
   ],
   "source": [
    "#Make promoter files for different sets\n",
    "\n",
    "genesets = {'r1g1_rep': r1g1_rep_genes.index, 'm24_act': m24_act_genes.index, 'm24_nmpp1_act': m24_nmpp1_act_genes.index}\n",
    "\n",
    "for name, geneset in genesets.items(): \n",
    "    target_promoter_fname = data_processing_dir + os.path.normpath('sc_promoters/promoter_sets/sc_20181101_' + name + '.fasta')\n",
    "    io_library.write_promoter_file(sc_promoters, geneset,target_promoter_fname)"
   ]
  },
  {
   "cell_type": "markdown",
   "metadata": {},
   "source": [
    "## Looking at rLog data\n"
   ]
  },
  {
   "cell_type": "code",
   "execution_count": 2,
   "metadata": {},
   "outputs": [],
   "source": [
    "#See what AS+ in RG and no deletion backgrounds looks like\n",
    "#should also do this with DEseq\n",
    "\n",
    "#20181017_metadata_V2_postseq\n",
    "rlog_all = pd.read_csv(os.path.normpath(data_processing_dir + '\\\\kl_sc_PKA_as_m24_r1g1_20181017\\\\20181017_rlog_all_SC.csv'), index_col=0)\n",
    "metadata_SC = pd.read_csv(os.path.normpath(data_processing_dir + '\\\\kl_sc_PKA_as_m24_r1g1_20181017\\\\20181017_metadata_deseq_SC.csv'), index_col=0)\n",
    "#metadata_SC_orig = metadata_SC = pd.read_csv(os.path.normpath(data_processing_dir + '\\\\kl_sc_PKA_as_m24_r1g1_20181017\\\\20181017_metadata_deseq_SC_orig.csv'), index_col=0)\n"
   ]
  },
  {
   "cell_type": "code",
   "execution_count": 143,
   "metadata": {
    "scrolled": true
   },
   "outputs": [
    {
     "data": {
      "text/plain": [
       "Text(0.5,0.98,'RGM24_cont')"
      ]
     },
     "execution_count": 143,
     "metadata": {},
     "output_type": "execute_result"
    },
    {
     "data": {
      "image/png": "[encoded data removed]",
      "text/plain": [
       "<Figure size 432x288 with 8 Axes>"
      ]
     },
     "metadata": {
      "needs_background": "light"
     },
     "output_type": "display_data"
    }
   ],
   "source": [
    "#Look at scatter of rlog for replicate 3 vs 2 and 1\n",
    "\n",
    "#for nmpp1 in ['cont', 'drug']:\n",
    "#for tf_del in ['WT','RG','M24','RGM24']\n",
    "\n",
    "nmpp1 = 'cont'\n",
    "tf_del = 'RGM24'\n",
    "\n",
    "\n",
    "fig, axarr = plt.subplots(2,4)\n",
    "\n",
    "y1_ind = metadata_SC_orig[(metadata_SC_orig['NMPP1']==nmpp1) & \n",
    "                          (metadata_SC_orig['tf_del'] == tf_del) &\n",
    "                          (metadata_SC_orig['replicate']=='3') &\n",
    "                          (metadata_SC_orig['pka_AS_mut']=='WT')\n",
    "                         ]\n",
    "y1 = rlog_all.loc[:,str(y1_ind.index[0])]\n",
    "\n",
    "\n",
    "y2_ind = metadata_SC_orig[(metadata_SC_orig['NMPP1']==nmpp1) & \n",
    "                          (metadata_SC_orig['tf_del'] == tf_del) &\n",
    "                          (metadata_SC_orig['replicate']=='3') &\n",
    "                          (metadata_SC_orig['pka_AS_mut']=='AS')\n",
    "                         ]\n",
    "y2 = rlog_all.loc[:,str(y2_ind.index[0])]\n",
    "\n",
    "jj = 0\n",
    "for pka_as_mut in ['WT','AS']:\n",
    "    for replicate in ['1','2']:\n",
    "        x_ind = metadata_SC_orig[(metadata_SC_orig['NMPP1']==nmpp1) & \n",
    "                          (metadata_SC_orig['tf_del'] == tf_del) &\n",
    "                          (metadata_SC_orig['replicate']==replicate) &\n",
    "                          (metadata_SC_orig['pka_AS_mut']==pka_as_mut)\n",
    "                         ]\n",
    "        x = rlog_all.loc[:,str(x_ind.index[0])]\n",
    "        \n",
    "        ax = axarr[0,jj]\n",
    "        ax.scatter(x,y1,alpha = 0.2)\n",
    "        if jj==0:\n",
    "            ax.set_ylabel('WT')\n",
    "        ax.text(0,12,'{:0.3f}'.format(np.corrcoef(x,y1)[0,1]))\n",
    "        \n",
    "        ax = axarr[1,jj]\n",
    "        if jj==0:\n",
    "            ax.set_ylabel('AS')\n",
    "        ax.scatter(x,y2,alpha = 0.2)\n",
    "        \n",
    "        ax.text(0,12,'{:0.3f}'.format(np.corrcoef(x,y2)[0,1]))\n",
    "        \n",
    "        ax.set_xlabel(pka_as_mut + '_' + replicate)\n",
    "        \n",
    "        jj = jj + 1\n",
    "        \n",
    "fig.suptitle(tf_del + '_' + nmpp1)\n"
   ]
  },
  {
   "cell_type": "code",
   "execution_count": 88,
   "metadata": {},
   "outputs": [],
   "source": [
    "#Load mean rlog data\n",
    "rlog_data_mean_var = pd.read_csv(os.path.normpath(data_processing_dir + '\\\\kl_sc_PKA_as_m24_r1g1_20181017\\\\20181017_rlog_mean_SC.csv' ),index_col=0)\n",
    "\n"
   ]
  },
  {
   "cell_type": "code",
   "execution_count": 90,
   "metadata": {},
   "outputs": [
    {
     "data": {
      "text/plain": [
       "Index(['AS_M24_cont_mean', 'AS_M24_drug_mean', 'AS_RGM24_cont_mean',\n",
       "       'AS_RGM24_drug_mean', 'AS_RG_cont_mean', 'AS_RG_drug_mean',\n",
       "       'AS_WT_cont_mean', 'AS_WT_drug_mean', 'WT_M24_cont_mean',\n",
       "       'WT_M24_drug_mean', 'WT_RGM24_cont_mean', 'WT_RGM24_drug_mean',\n",
       "       'WT_RG_cont_mean', 'WT_RG_drug_mean', 'WT_WT_cont_mean',\n",
       "       'WT_WT_drug_mean', 'AS_M24_cont_var', 'AS_M24_drug_var',\n",
       "       'AS_RGM24_cont_var', 'AS_RGM24_drug_var', 'AS_RG_cont_var',\n",
       "       'AS_RG_drug_var', 'AS_WT_cont_var', 'AS_WT_drug_var', 'WT_M24_cont_var',\n",
       "       'WT_M24_drug_var', 'WT_RGM24_cont_var', 'WT_RGM24_drug_var',\n",
       "       'WT_RG_cont_var', 'WT_RG_drug_var', 'WT_WT_cont_var', 'WT_WT_drug_var',\n",
       "       'SC_common_name'],\n",
       "      dtype='object')"
      ]
     },
     "execution_count": 90,
     "metadata": {},
     "output_type": "execute_result"
    }
   ],
   "source": [
    "rlog_data_mean_var.columns"
   ]
  },
  {
   "cell_type": "code",
   "execution_count": 92,
   "metadata": {},
   "outputs": [
    {
     "data": {
      "text/html": [
       "<iframe id=\"igraph\" scrolling=\"no\" style=\"border:none;\" seamless=\"seamless\" src=\"https://plot.ly/~heineike02_student/134.embed\" height=\"525px\" width=\"100%\"></iframe>"
      ],
      "text/plain": [
       "<plotly.tools.PlotlyDisplay object>"
      ]
     },
     "execution_count": 92,
     "metadata": {},
     "output_type": "execute_result"
    }
   ],
   "source": [
    "spec = 'SC'\n",
    "\n",
    "data = []\n",
    "\n",
    "xlabel = 'AS_WT_drug_mean'\n",
    "ylabel = 'AS_RG_drug_mean'\n",
    "\n",
    "trace = pygo.Scatter(\n",
    "            x = rlog_data_mean_var[xlabel], \n",
    "            y =  rlog_data_mean_var[ylabel],\n",
    "            text = rlog_data_mean_var['SC_common_name'],\n",
    "            mode = 'markers',\n",
    "            marker = {'opacity': 0.5}, #, \n",
    "                      #'color': 'rgba'+str(cmap(NN/10))}, \n",
    "            name = xlabel + ' vs ' + ylabel \n",
    "        )\n",
    "        \n",
    "data.append(trace)\n",
    "\n",
    "layout = pygo.Layout(\n",
    "    xaxis= {\n",
    "        #\"range\":[-20, 20],\n",
    "        \"title\": 'mean rlog ' + xlabel\n",
    "    },\n",
    "    yaxis= {\n",
    "        #\"range\":[-10, 10],\n",
    "        \"title\": 'mean rlog ' + ylabel\n",
    "    }\n",
    ")\n",
    "\n",
    "\n",
    "fig = pygo.Figure(data=data, layout = layout)\n",
    "py.iplot(fig, filename= xlabel + '_vs_' + ylabel + '_' + spec + '_mean_rlog')"
   ]
  },
  {
   "cell_type": "code",
   "execution_count": 93,
   "metadata": {},
   "outputs": [
    {
     "data": {
      "text/html": [
       "<iframe id=\"igraph\" scrolling=\"no\" style=\"border:none;\" seamless=\"seamless\" src=\"https://plot.ly/~heineike02_student/136.embed\" height=\"525px\" width=\"100%\"></iframe>"
      ],
      "text/plain": [
       "<plotly.tools.PlotlyDisplay object>"
      ]
     },
     "execution_count": 93,
     "metadata": {},
     "output_type": "execute_result"
    }
   ],
   "source": [
    "spec = 'SC'\n",
    "\n",
    "data = []\n",
    "\n",
    "xlabel = 'AS_WT_cont_mean'\n",
    "ylabel = 'AS_RG_cont_mean'\n",
    "\n",
    "trace = pygo.Scatter(\n",
    "            x = rlog_data_mean_var[xlabel], \n",
    "            y =  rlog_data_mean_var[ylabel],\n",
    "            text = rlog_data_mean_var['SC_common_name'],\n",
    "            mode = 'markers',\n",
    "            marker = {'opacity': 0.5}, #, \n",
    "                      #'color': 'rgba'+str(cmap(NN/10))}, \n",
    "            name = xlabel + ' vs ' + ylabel \n",
    "        )\n",
    "        \n",
    "data.append(trace)\n",
    "\n",
    "layout = pygo.Layout(\n",
    "    xaxis= {\n",
    "        #\"range\":[-20, 20],\n",
    "        \"title\": 'mean rlog ' + xlabel\n",
    "    },\n",
    "    yaxis= {\n",
    "        #\"range\":[-10, 10],\n",
    "        \"title\": 'mean rlog ' + ylabel\n",
    "    }\n",
    ")\n",
    "\n",
    "\n",
    "fig = pygo.Figure(data=data, layout = layout)\n",
    "py.iplot(fig, filename= xlabel + '_vs_' + ylabel + '_' + spec + '_mean_rlog')"
   ]
  },
  {
   "cell_type": "code",
   "execution_count": 94,
   "metadata": {},
   "outputs": [
    {
     "data": {
      "text/html": [
       "<iframe id=\"igraph\" scrolling=\"no\" style=\"border:none;\" seamless=\"seamless\" src=\"https://plot.ly/~heineike02_student/138.embed\" height=\"525px\" width=\"100%\"></iframe>"
      ],
      "text/plain": [
       "<plotly.tools.PlotlyDisplay object>"
      ]
     },
     "execution_count": 94,
     "metadata": {},
     "output_type": "execute_result"
    }
   ],
   "source": [
    "spec = 'SC'\n",
    "\n",
    "data = []\n",
    "\n",
    "xlabel = 'WT_WT_cont_mean'\n",
    "ylabel = 'WT_RG_cont_mean'\n",
    "\n",
    "trace = pygo.Scatter(\n",
    "            x = rlog_data_mean_var[xlabel], \n",
    "            y =  rlog_data_mean_var[ylabel],\n",
    "            text = rlog_data_mean_var['SC_common_name'],\n",
    "            mode = 'markers',\n",
    "            marker = {'opacity': 0.5}, #, \n",
    "                      #'color': 'rgba'+str(cmap(NN/10))}, \n",
    "            name = xlabel + ' vs ' + ylabel \n",
    "        )\n",
    "        \n",
    "data.append(trace)\n",
    "\n",
    "layout = pygo.Layout(\n",
    "    xaxis= {\n",
    "        #\"range\":[-20, 20],\n",
    "        \"title\": 'mean rlog ' + xlabel\n",
    "    },\n",
    "    yaxis= {\n",
    "        #\"range\":[-10, 10],\n",
    "        \"title\": 'mean rlog ' + ylabel\n",
    "    }\n",
    ")\n",
    "\n",
    "\n",
    "fig = pygo.Figure(data=data, layout = layout)\n",
    "py.iplot(fig, filename= xlabel + '_vs_' + ylabel + '_' + spec + '_mean_rlog')"
   ]
  },
  {
   "cell_type": "code",
   "execution_count": 95,
   "metadata": {},
   "outputs": [
    {
     "data": {
      "text/html": [
       "<iframe id=\"igraph\" scrolling=\"no\" style=\"border:none;\" seamless=\"seamless\" src=\"https://plot.ly/~heineike02_student/140.embed\" height=\"525px\" width=\"100%\"></iframe>"
      ],
      "text/plain": [
       "<plotly.tools.PlotlyDisplay object>"
      ]
     },
     "execution_count": 95,
     "metadata": {},
     "output_type": "execute_result"
    }
   ],
   "source": [
    "spec = 'SC'\n",
    "\n",
    "data = []\n",
    "\n",
    "xlabel = 'WT_WT_cont_mean'\n",
    "ylabel = 'AS_WT_cont_mean'\n",
    "\n",
    "trace = pygo.Scatter(\n",
    "            x = rlog_data_mean_var[xlabel], \n",
    "            y =  rlog_data_mean_var[ylabel],\n",
    "            text = rlog_data_mean_var['SC_common_name'],\n",
    "            mode = 'markers',\n",
    "            marker = {'opacity': 0.5}, #, \n",
    "                      #'color': 'rgba'+str(cmap(NN/10))}, \n",
    "            name = xlabel + ' vs ' + ylabel \n",
    "        )\n",
    "        \n",
    "data.append(trace)\n",
    "\n",
    "layout = pygo.Layout(\n",
    "    xaxis= {\n",
    "        #\"range\":[-20, 20],\n",
    "        \"title\": 'mean rlog ' + xlabel\n",
    "    },\n",
    "    yaxis= {\n",
    "        #\"range\":[-10, 10],\n",
    "        \"title\": 'mean rlog ' + ylabel\n",
    "    }\n",
    ")\n",
    "\n",
    "\n",
    "fig = pygo.Figure(data=data, layout = layout)\n",
    "py.iplot(fig, filename= xlabel + '_vs_' + ylabel + '_' + spec + '_mean_rlog')"
   ]
  },
  {
   "cell_type": "code",
   "execution_count": 27,
   "metadata": {},
   "outputs": [],
   "source": [
    "?pd.MultiIndex\n",
    "#metadata_SC['pka_AS_mut'] + '_' + metadata_SC['tf_del'] + '_' + metadata_SC['NMPP1'] "
   ]
  },
  {
   "cell_type": "markdown",
   "metadata": {},
   "source": [
    "## Look at Msn24 and Rph1/Gis1 genes projected onto only orthologs"
   ]
  },
  {
   "cell_type": "code",
   "execution_count": 12,
   "metadata": {},
   "outputs": [
    {
     "name": "stdout",
     "output_type": "stream",
     "text": [
      "Total number of Ohnologs: 547\n"
     ]
    }
   ],
   "source": [
    "#Load Ortholog data\n",
    "\n",
    "ohnologs = pd.read_csv(data_processing_dir + os.path.normpath(\"ortholog_files_YGOB/ohnologs.csv\"), index_col=0)\n",
    "print('Total number of Ohnologs: ' + str(len(ohnologs)))\n"
   ]
  },
  {
   "cell_type": "code",
   "execution_count": 4,
   "metadata": {},
   "outputs": [],
   "source": [
    "#Make rlog average for AS -NMPP1 and AS +NMPP1\n",
    "\n",
    "#Load DEseq data for SCer PKA AS -/+ NMPP1 \n",
    "pkainh_deseq = pd.read_csv(os.path.normpath(data_processing_dir + '\\\\kl_sc_PKA_as_m24_r1g1_20181017\\\\20181017_deseq_SC_AS_WT_nmpp1.csv'), index_col=0)\n",
    "pkainh_deseq['SC_common_name'] = io_library.SC_common_name_lookup(pkainh_deseq.index)\n",
    "\n"
   ]
  },
  {
   "cell_type": "code",
   "execution_count": 14,
   "metadata": {},
   "outputs": [],
   "source": [
    "#build a dataframe that has all SC paralogs paired up with another dataframe (in this case LFC and padj for PKA inhibition\n",
    "\n",
    "data_to_add = pkainh_deseq.loc[:,['log2FoldChange','padj']]\n",
    "sort_column = 'log2FoldChange'\n",
    "\n",
    "ohnologs_expression_sorted = io_library.join_ohnologs_and_sort(data_to_add, ohnologs, sort_column)\n"
   ]
  },
  {
   "cell_type": "code",
   "execution_count": 121,
   "metadata": {},
   "outputs": [
    {
     "data": {
      "text/plain": [
       "['YGR088W',\n",
       " 'YFL014W',\n",
       " 'YMR174C',\n",
       " 'YML128C',\n",
       " 'YOR173W',\n",
       " 'YBR072W',\n",
       " 'YDR453C',\n",
       " 'YMR175W',\n",
       " 'YPR160W',\n",
       " 'YMR169C',\n",
       " 'YPL186C',\n",
       " 'YGR256W',\n",
       " 'YNR034W-A',\n",
       " 'YBR116C',\n",
       " 'YER103W',\n",
       " 'YMR196W',\n",
       " 'YGR248W',\n",
       " 'YOR120W',\n",
       " 'YER054C',\n",
       " 'YIL136W',\n",
       " 'YOL052C-A',\n",
       " 'YGR008C',\n",
       " 'YGR201C',\n",
       " 'YMR250W',\n",
       " 'YKL151C',\n",
       " 'YNL195C',\n",
       " 'YHR087W',\n",
       " 'YMR090W',\n",
       " 'YDR070C',\n",
       " 'YJL161W',\n",
       " 'YNL274C',\n",
       " 'YDL085W',\n",
       " 'YBR169C',\n",
       " 'YIL155C',\n",
       " 'YIL160C',\n",
       " 'YHR139C',\n",
       " 'YDR533C',\n",
       " 'YBR230C',\n",
       " 'YDL169C',\n",
       " 'YNL200C',\n",
       " 'YDL204W',\n",
       " 'YGR281W',\n",
       " 'YEL011W',\n",
       " 'YLR258W',\n",
       " 'YIL113W',\n",
       " 'YBL064C',\n",
       " 'YDR034W-B',\n",
       " 'YNL160W',\n",
       " 'YMR271C',\n",
       " 'YML054C',\n",
       " 'YBL078C',\n",
       " 'YKL065W-A',\n",
       " 'YLR164W',\n",
       " 'YJR096W',\n",
       " 'YMR118C',\n",
       " 'YDL223C',\n",
       " 'YHR097C',\n",
       " 'YMR105C',\n",
       " 'YOR374W',\n",
       " 'YLR356W',\n",
       " 'YHR140W',\n",
       " 'YKL091C',\n",
       " 'YKL163W',\n",
       " 'YKR076W',\n",
       " 'YPL123C',\n",
       " 'YIR038C',\n",
       " 'YFR017C',\n",
       " 'YML100W',\n",
       " 'YPL004C',\n",
       " 'YER150W',\n",
       " 'YAL061W',\n",
       " 'YCL035C',\n",
       " 'YBR147W',\n",
       " 'YKL026C',\n",
       " 'YJR155W',\n",
       " 'YDR231C',\n",
       " 'YBR241C',\n",
       " 'YGR174C',\n",
       " 'YNL202W',\n",
       " 'YOR215C',\n",
       " 'YOR228C',\n",
       " 'YAL017W',\n",
       " 'YBR214W',\n",
       " 'YEL060C',\n",
       " 'YML120C',\n",
       " 'YKR049C',\n",
       " 'YHR104W',\n",
       " 'YMR297W',\n",
       " 'YMR110C',\n",
       " 'YFR014C',\n",
       " 'YDL022W',\n",
       " 'YOL083W',\n",
       " 'YMR280C',\n",
       " 'YIL087C',\n",
       " 'YLR080W',\n",
       " 'YIL107C',\n",
       " 'YAL060W',\n",
       " 'YJR008W',\n",
       " 'YMR170C',\n",
       " 'YMR031C',\n",
       " 'YGR130C',\n",
       " 'YBR001C',\n",
       " 'YGR209C',\n",
       " 'YNL115C',\n",
       " 'YGR194C',\n",
       " 'YGR255C',\n",
       " 'YBL015W',\n",
       " 'YER142C',\n",
       " 'YKL086W',\n",
       " 'YBR126C',\n",
       " 'YPR030W',\n",
       " 'YPR127W',\n",
       " 'YDL174C',\n",
       " 'YDL021W',\n",
       " 'YPL247C',\n",
       " 'YLR270W',\n",
       " 'YER119C',\n",
       " 'YGL010W',\n",
       " 'YER067W',\n",
       " 'YPL230W',\n",
       " 'YFL054C',\n",
       " 'YBR056W',\n",
       " 'YML004C',\n",
       " 'YLR345W',\n",
       " 'YHR176W',\n",
       " 'YDR085C',\n",
       " 'YOR285W',\n",
       " 'YGL156W',\n",
       " 'YHL044W',\n",
       " 'YOL126C',\n",
       " 'YIL124W',\n",
       " 'YGR043C',\n",
       " 'YPL006W',\n",
       " 'YOR020W-A',\n",
       " 'YOL071W',\n",
       " 'YDR119W-A',\n",
       " 'YBR149W',\n",
       " 'YLR267W',\n",
       " 'YGR053C',\n",
       " 'YJL144W',\n",
       " 'YKR067W',\n",
       " 'YIL033C',\n",
       " 'YDR406W',\n",
       " 'YPL240C',\n",
       " 'YDR272W',\n",
       " 'YBR046C',\n",
       " 'YOR186W',\n",
       " 'YDL124W',\n",
       " 'YMR107W',\n",
       " 'YNL305C',\n",
       " 'YDR059C',\n",
       " 'YPR098C',\n",
       " 'YKL107W',\n",
       " 'YHR080C',\n",
       " 'YDL110C',\n",
       " 'YLL026W',\n",
       " 'YGR019W',\n",
       " 'YBL075C',\n",
       " 'YDR074W',\n",
       " 'YPR155C',\n",
       " 'YBR033W',\n",
       " 'YDR330W',\n",
       " 'YGL104C',\n",
       " 'YKR058W',\n",
       " 'YJL185C',\n",
       " 'YLR178C',\n",
       " 'YFR015C',\n",
       " 'YCR011C',\n",
       " 'YMR139W',\n",
       " 'YIL077C',\n",
       " 'YJL057C',\n",
       " 'YBR085C-A',\n",
       " 'YOR292C',\n",
       " 'YHL035C',\n",
       " 'YKL065C',\n",
       " 'YJL016W',\n",
       " 'YJR073C',\n",
       " 'YKL220C',\n",
       " 'YMR152W',\n",
       " 'YDR258C',\n",
       " 'YDR379C-A',\n",
       " 'YEL039C',\n",
       " 'YDL199C',\n",
       " 'YPL223C',\n",
       " 'YHR198C',\n",
       " 'YLL023C',\n",
       " 'YJL042W',\n",
       " 'YPL196W',\n",
       " 'YIR037W',\n",
       " 'YCR045C',\n",
       " 'YJR036C',\n",
       " 'YKL193C',\n",
       " 'YLR149C',\n",
       " 'YNL134C',\n",
       " 'YDL019C',\n",
       " 'YOL032W',\n",
       " 'YNL014W',\n",
       " 'YPR193C',\n",
       " 'YOR227W',\n",
       " 'YMR304W',\n",
       " 'YOL048C',\n",
       " 'YPR149W',\n",
       " 'YAL062W',\n",
       " 'YPR015C',\n",
       " 'YDR204W',\n",
       " 'YKL142W',\n",
       " 'YHR096C',\n",
       " 'YBL029C-A',\n",
       " 'YJL155C',\n",
       " 'YHR008C',\n",
       " 'YOR163W',\n",
       " 'YPR172W',\n",
       " 'YIL045W',\n",
       " 'YBR062C',\n",
       " 'YMR291W',\n",
       " 'YHR160C',\n",
       " 'YMR114C',\n",
       " 'YCL039W',\n",
       " 'YDR247W',\n",
       " 'YMR092C',\n",
       " 'YLR299W',\n",
       " 'YIL101C',\n",
       " 'YMR261C',\n",
       " 'YFR003C',\n",
       " 'YER014W',\n",
       " 'YER058W',\n",
       " 'YNL242W',\n",
       " 'YPR192W',\n",
       " 'YFR049W',\n",
       " 'YCL049C',\n",
       " 'YDL238C',\n",
       " 'YGR127W',\n",
       " 'YGR236C',\n",
       " 'YLR177W',\n",
       " 'YGR070W',\n",
       " 'YKL201C',\n",
       " 'YML030W',\n",
       " 'YDR001C',\n",
       " 'YGL096W',\n",
       " 'YIL125W',\n",
       " 'YNR001C',\n",
       " 'YMR315W',\n",
       " 'YER182W',\n",
       " 'YLR142W',\n",
       " 'YIR014W',\n",
       " 'YJL132W',\n",
       " 'YLL040C',\n",
       " 'YKL133C',\n",
       " 'YBR006W',\n",
       " 'YOR382W',\n",
       " 'YDL091C',\n",
       " 'YEL012W',\n",
       " 'YLR324W',\n",
       " 'YIR036C',\n",
       " 'YPL109C',\n",
       " 'YFR045W',\n",
       " 'YIL017C',\n",
       " 'YFL042C',\n",
       " 'YNL055C',\n",
       " 'YGL141W',\n",
       " 'YLR312C',\n",
       " 'YAL034C',\n",
       " 'YDR357C',\n",
       " 'YPR026W',\n",
       " 'YPR184W',\n",
       " 'YML070W',\n",
       " 'YDL057W',\n",
       " 'YBR286W',\n",
       " 'YGL047W',\n",
       " 'YER121W',\n",
       " 'YOR040W',\n",
       " 'YDR381C-A',\n",
       " 'YLR271W',\n",
       " 'YLR205C',\n",
       " 'YBR052C',\n",
       " 'YDR018C',\n",
       " 'YDL024C',\n",
       " 'YDR491C',\n",
       " 'YGR086C',\n",
       " 'YMR056C',\n",
       " 'YLR152C',\n",
       " 'YMR206W',\n",
       " 'YHR075C',\n",
       " 'YPR079W',\n",
       " 'YBL086C',\n",
       " 'YOR019W',\n",
       " 'YOR052C',\n",
       " 'YDR358W',\n",
       " 'YHR171W',\n",
       " 'YGL208W',\n",
       " 'YBR037C',\n",
       " 'YNR014W',\n",
       " 'YLR311C',\n",
       " 'YPL136W',\n",
       " 'YOL084W',\n",
       " 'YDL215C',\n",
       " 'YER084W-A',\n",
       " 'YMR040W',\n",
       " 'YLR303W',\n",
       " 'YAL028W',\n",
       " 'YLR284C',\n",
       " 'YML042W',\n",
       " 'YDR490C',\n",
       " 'YJL103C',\n",
       " 'YLR423C',\n",
       " 'YMR081C',\n",
       " 'YJL052W',\n",
       " 'YNL223W',\n",
       " 'YBL091C-A',\n",
       " 'YIR007W',\n",
       " 'YOR223W',\n",
       " 'YOR125C',\n",
       " 'YJL079C',\n",
       " 'YBR284W',\n",
       " 'YDR100W',\n",
       " 'YER143W',\n",
       " 'YDL046W',\n",
       " 'YPL154C',\n",
       " 'YML110C',\n",
       " 'YJL170C',\n",
       " 'YMR194C-B',\n",
       " 'YKL050C',\n",
       " 'YDL089W',\n",
       " 'YDR256C',\n",
       " 'YDL020C',\n",
       " 'YDR259C',\n",
       " 'YPL119C',\n",
       " 'YNL011C',\n",
       " 'YDL239C',\n",
       " 'YLR118C',\n",
       " 'YMR030W',\n",
       " 'YJR039W',\n",
       " 'YPL036W',\n",
       " 'YGR052W',\n",
       " 'YGL045W',\n",
       " 'YKL129C',\n",
       " 'YDR014W-A',\n",
       " 'YOR062C',\n",
       " 'YGR110W',\n",
       " 'YMR311C',\n",
       " 'YKR009C',\n",
       " 'YNL155W',\n",
       " 'YNR002C',\n",
       " 'YER053C',\n",
       " 'YFL041W-A',\n",
       " 'YNL241C',\n",
       " 'YNR007C',\n",
       " 'YIL099W',\n",
       " 'YDL194W',\n",
       " 'YER096W',\n",
       " 'YJR034W',\n",
       " 'YDR055W',\n",
       " 'YBR111C',\n",
       " 'YDL206W',\n",
       " 'YPL222W',\n",
       " 'YDR031W',\n",
       " 'YOR176W',\n",
       " 'YNL012W',\n",
       " 'YOL151W',\n",
       " 'YML099W-A',\n",
       " 'YJL133C-A',\n",
       " 'YGR254W',\n",
       " 'YKL162C',\n",
       " 'YDR273W',\n",
       " 'YKL187C',\n",
       " 'YDL183C',\n",
       " 'YER068C-A',\n",
       " 'YAL008W',\n",
       " 'YKR046C',\n",
       " 'YDR058C',\n",
       " 'YHR161C',\n",
       " 'YGL180W',\n",
       " 'YLL041C',\n",
       " 'YGL205W',\n",
       " 'YEL070W',\n",
       " 'YJL137C',\n",
       " 'YOL096C',\n",
       " 'YML118W',\n",
       " 'YKL090W',\n",
       " 'YNR034W',\n",
       " 'YLR028C',\n",
       " 'YIL050W',\n",
       " 'YBR285W',\n",
       " 'YDR342C',\n",
       " 'YBR204C',\n",
       " 'YMR252C',\n",
       " 'YNL270C',\n",
       " 'YEL057C',\n",
       " 'YCR083W',\n",
       " 'YMR087W',\n",
       " 'YGL059W',\n",
       " 'YDR223W',\n",
       " 'YER098W',\n",
       " 'YBR050C',\n",
       " 'YLR092W',\n",
       " 'YBL039W-B',\n",
       " 'YHR209W',\n",
       " 'YCL038C',\n",
       " 'YHR193C-A',\n",
       " 'YNL093W',\n",
       " 'YMR197C',\n",
       " 'YGR244C',\n",
       " 'YJL037W',\n",
       " 'YJL070C',\n",
       " 'YMR232W',\n",
       " 'YLL028W',\n",
       " 'YLR102C',\n",
       " 'YGR174W-A',\n",
       " 'YNL194C',\n",
       " 'YML007C-A',\n",
       " 'YGR205W',\n",
       " 'YHL024W',\n",
       " 'YCR004C',\n",
       " 'YLR290C',\n",
       " 'YDL062W',\n",
       " 'YJR151C',\n",
       " 'YDR406W-A',\n",
       " 'YER101C',\n",
       " 'YLR173W',\n",
       " 'YGR225W',\n",
       " 'YNL277W-A',\n",
       " 'YBR221W-A',\n",
       " 'YER084W',\n",
       " 'YMR041C',\n",
       " 'YML131W',\n",
       " 'YLR322W',\n",
       " 'YDL222C',\n",
       " 'YOR161C',\n",
       " 'YPL054W',\n",
       " 'YDR096W',\n",
       " 'YJL045W',\n",
       " 'YIR017C',\n",
       " 'YGL229C',\n",
       " 'YDL079C',\n",
       " 'YFL015C',\n",
       " 'YJR005C-A',\n",
       " 'YGL052W',\n",
       " 'YIL166C',\n",
       " 'YMR133W',\n",
       " 'YBR019C',\n",
       " 'YPR002C-A',\n",
       " 'YJR095W',\n",
       " 'YDR193W',\n",
       " 'YLR031W',\n",
       " 'YBR212W',\n",
       " 'YOR178C',\n",
       " 'YLR346C',\n",
       " 'YLR030W',\n",
       " 'YDR513W',\n",
       " 'YBL100W-C',\n",
       " 'YHR007C-A',\n",
       " 'YDR536W',\n",
       " 'YGR154C',\n",
       " 'YHR001W-A',\n",
       " 'YHR037W',\n",
       " 'YBR186W',\n",
       " 'YIL066C',\n",
       " 'YKL093W',\n",
       " 'YCR091W',\n",
       " 'YLR070C',\n",
       " 'YCL033C',\n",
       " 'YOR177C',\n",
       " 'YBR232C',\n",
       " 'YKR097W',\n",
       " 'YFL011W',\n",
       " 'YKR102W',\n",
       " 'YBR157C',\n",
       " 'YGL170C',\n",
       " 'YOL060C',\n",
       " 'YMR007W',\n",
       " 'YEL034C-A',\n",
       " 'YDR402C',\n",
       " 'YGL184C',\n",
       " 'YDR218C',\n",
       " 'YOL085C',\n",
       " 'YIL146C',\n",
       " 'YIL134C-A',\n",
       " 'YJL089W',\n",
       " 'YDR032C',\n",
       " 'YNR068C',\n",
       " 'YMR317W',\n",
       " 'YOR237W',\n",
       " 'YGR018C',\n",
       " 'YMR316C-A',\n",
       " 'YER119C-A',\n",
       " 'YKR106W',\n",
       " 'YPL134C']"
      ]
     },
     "execution_count": 121,
     "metadata": {},
     "output_type": "execute_result"
    }
   ],
   "source": [
    "msn24_sets['M_75']"
   ]
  },
  {
   "cell_type": "code",
   "execution_count": 129,
   "metadata": {},
   "outputs": [
    {
     "data": {
      "text/html": [
       "<iframe id=\"igraph\" scrolling=\"no\" style=\"border:none;\" seamless=\"seamless\" src=\"https://plot.ly/~heineike02_student/208.embed\" height=\"525px\" width=\"100%\"></iframe>"
      ],
      "text/plain": [
       "<plotly.tools.PlotlyDisplay object>"
      ]
     },
     "execution_count": 129,
     "metadata": {},
     "output_type": "execute_result"
    }
   ],
   "source": [
    "#Loop through High ortholog and low ortholog\n",
    "#Plot each of the groups of data \n",
    "\n",
    "msn2_level = 'M_75'\n",
    "\n",
    "x1,y1 = (2.0,15)\n",
    "x2,y2 = (2.5,0.0)\n",
    "ymin = 1.5\n",
    "\n",
    "symbols = {'low':'square-open', 'high':'circle'}\n",
    "\n",
    "groups = {'r1g1_act_only' : set(r1g1_rep_genes.index) - set(msn24_sets[msn2_level]), \n",
    "          'm24_nmpp1_only' : set(msn24_sets[msn2_level]) - set(r1g1_rep_genes.index) ,\n",
    "          'r1g1_act_and_m24_nmpp1' : (set(msn24_sets[msn2_level]) & set(r1g1_rep_genes.index)),\n",
    "          'others' : ((set(ohnologs_expression_sorted['sc_genename_high']) | set(ohnologs_expression_sorted['sc_genename_low'])) -  ((set(msn24_sets[msn2_level]) | set(r1g1_rep_genes.index))))\n",
    "         }\n",
    "\n",
    "colors = {'r1g1_act_only' : 'blue', \n",
    "          'm24_nmpp1_only' : 'red',\n",
    "          'r1g1_act_and_m24_nmpp1' : 'green',\n",
    "          'others' : 'grey'\n",
    "         }\n",
    "\n",
    "\n",
    "data = []\n",
    "\n",
    "hover_text = ('low Paralog: ' + ohnologs_expression_sorted['SC_common_name_low'] + \n",
    "              '<br>high Paralog: ' + ohnologs_expression_sorted['SC_common_name_high'] + \n",
    "              '<br>low Paralog LFC: ' + [\"{:.3}\".format(val) for val in ohnologs_expression_sorted['log2FoldChange_low']] +\n",
    "              '<br>high Paralog LFC: ' + [\"{:.3}\".format(val) for val in ohnologs_expression_sorted['log2FoldChange_high']]\n",
    "             )\n",
    "\n",
    "\n",
    "ohnologs_expression_sorted['hover_text'] = hover_text\n",
    "              \n",
    "for level in ['low', 'high']:\n",
    "    \n",
    "    # other_deseq= r1g1_deseq\n",
    "    # other_name = 'r1g1'\n",
    "\n",
    "    # #deseq_data = pkainh_deseq.merge(m24_nmpp1_int_deseq,how='left',left_index = True, right_index=True, suffixes=('_pkainh', '_m24_nmpp1'))\n",
    "    # deseq_data = pkainh_deseq.merge(other_deseq,how='left',left_index = True, right_index=True, suffixes=('_pkainh', '_' + other_name))\n",
    "\n",
    "    # hover_text = []\n",
    "    # for ind, row in deseq_data.iterrows():\n",
    "    #     hover_text.append(('{SC_common_name}<br>padj 1NMPP1: {pkainh_padj:.2f}<br>padj ' + other_name +' : {other_padj:.2f}').format(\n",
    "    #                               SC_common_name=row['SC_common_name_pkainh'],\n",
    "    #                               pkainh_padj = -np.log10(row['padj_pkainh']),\n",
    "    #                               other_padj = -np.log10(row['padj_' + other_name])\n",
    "    #                               ))\n",
    "    \n",
    "    for group_name,group in groups.items():\n",
    "        \n",
    "        opacity = 0.8\n",
    "        if group_name == 'others':\n",
    "            opacity =0.3\n",
    "        \n",
    "        data_subset = ohnologs_expression_sorted[ohnologs_expression_sorted['sc_genename_' + level].isin(group)]\n",
    "        \n",
    "        hover_text = data_subset['hover_text']\n",
    "        \n",
    "        trace = pygo.Scatter(\n",
    "                    x = data_subset['log2FoldChange_' + level], \n",
    "                    y =  -np.log10(data_subset['padj_' + level]),\n",
    "                    text = hover_text,\n",
    "                    mode = 'markers',\n",
    "                    marker = {'opacity': opacity, \n",
    "                              'symbol': symbols[level],\n",
    "                              'color' : colors[group_name]\n",
    "                             }, \n",
    "                    #'color': 'rgba'+str(cmap(NN/10))}, \n",
    "                    name = group_name + ' ' + level\n",
    "                )\n",
    "        \n",
    "        data.append(trace)\n",
    "\n",
    "x = np.array([x1,x2])\n",
    "\n",
    "trace2 = pygo.Scatter(\n",
    "    x = x,\n",
    "    y = y2- (y2-y1)/(x2-x1)*(x2-x),\n",
    "    mode = 'lines',\n",
    "    marker = {'color': 'black',\n",
    "              'size': 5},\n",
    "    name = 'LFC/padj threshold'\n",
    ")\n",
    "\n",
    "data.append(trace2)\n",
    "\n",
    "if y2-y1<0: #Line has negative slope - looking at right side of axis\n",
    "    x_at_ymin1 = x1\n",
    "    x_at_ymin2 = max(x_data)\n",
    "\n",
    "elif y2-y1 >0:   #Line has positive slope - looking at left side of axis\n",
    "    x_at_ymin1 = x2\n",
    "    x_at_ymin2 = min(x_data)\n",
    "\n",
    "x = np.array([x_at_ymin1, x_at_ymin2])\n",
    "y = np.array([ymin, ymin])\n",
    "\n",
    "trace3 = pygo.Scatter(\n",
    "    x = x,\n",
    "    y = y,\n",
    "    mode = 'lines',\n",
    "    marker = {'color': 'black',\n",
    "              'size': 5},\n",
    "    name = 'pvalue threshold'\n",
    ")\n",
    "\n",
    "\n",
    "data.append(trace3)\n",
    "\n",
    "layout = pygo.Layout(\n",
    "    xaxis= {\n",
    "        #\"range\":[-2, 20],\n",
    "        \"title\":'LFC'\n",
    "    },\n",
    "    yaxis= {\n",
    "        #\"range\":[-2, 20],\n",
    "        \"title\":'-log10(padj)'\n",
    "    }\n",
    ")\n",
    "\n",
    "\n",
    "fig = pygo.Figure(data=data, layout = layout) \n",
    "\n",
    "py.iplot(fig, filename= 'SC_PKA_inh_paralogs_r1g1_' +msn2_level)"
   ]
  },
  {
   "cell_type": "markdown",
   "metadata": {},
   "source": [
    "## Comparing pre to post UTR data"
   ]
  },
  {
   "cell_type": "code",
   "execution_count": null,
   "metadata": {},
   "outputs": [],
   "source": [
    "#compare raw counts (logged with pseudocount) (as -drug, as +drug)\n",
    "\n",
    "#load raw counts \n",
    "\n",
    "\n",
    "\n"
   ]
  },
  {
   "cell_type": "code",
   "execution_count": null,
   "metadata": {},
   "outputs": [],
   "source": [
    "#compare rlog data"
   ]
  },
  {
   "cell_type": "markdown",
   "metadata": {},
   "source": [
    "# GOI plot effect of deletions \n"
   ]
  },
  {
   "cell_type": "code",
   "execution_count": null,
   "metadata": {},
   "outputs": [],
   "source": []
  }
 ],
 "metadata": {
  "kernelspec": {
   "display_name": "Python 3",
   "language": "python",
   "name": "python3"
  },
  "language_info": {
   "codemirror_mode": {
    "name": "ipython",
    "version": 3
   },
   "file_extension": ".py",
   "mimetype": "text/x-python",
   "name": "python",
   "nbconvert_exporter": "python",
   "pygments_lexer": "ipython3",
   "version": "3.7.0"
  }
 },
 "nbformat": 4,
 "nbformat_minor": 2
}
