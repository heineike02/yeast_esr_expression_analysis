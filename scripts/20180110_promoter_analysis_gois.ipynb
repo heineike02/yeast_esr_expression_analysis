{
 "cells": [
  {
   "cell_type": "code",
   "execution_count": 1,
   "metadata": {},
   "outputs": [
    {
     "name": "stdout",
     "output_type": "stream",
     "text": [
      "what computer are you on? a = Bens, b = gpucluster, c = other   a\n",
      "base directory is C:\\Users\\heine\\github\\expression_broad_data\n",
      "Added C:\\Users\\heine\\github\\expression_broad_data to path: \n",
      "['', 'C:\\\\Users\\\\heine\\\\Anaconda3\\\\python36.zip', 'C:\\\\Users\\\\heine\\\\Anaconda3\\\\DLLs', 'C:\\\\Users\\\\heine\\\\Anaconda3\\\\lib', 'C:\\\\Users\\\\heine\\\\Anaconda3', 'C:\\\\Users\\\\heine\\\\Anaconda3\\\\lib\\\\site-packages', 'C:\\\\Users\\\\heine\\\\Anaconda3\\\\lib\\\\site-packages\\\\Babel-2.5.0-py3.6.egg', 'C:\\\\Users\\\\heine\\\\Anaconda3\\\\lib\\\\site-packages\\\\win32', 'C:\\\\Users\\\\heine\\\\Anaconda3\\\\lib\\\\site-packages\\\\win32\\\\lib', 'C:\\\\Users\\\\heine\\\\Anaconda3\\\\lib\\\\site-packages\\\\Pythonwin', 'C:\\\\Users\\\\heine\\\\Anaconda3\\\\lib\\\\site-packages\\\\IPython\\\\extensions', 'C:\\\\Users\\\\heine\\\\.ipython', 'C:\\\\Users\\\\heine\\\\github\\\\expression_broad_data']\n",
      "I am about to import a library\n",
      "I am importing io_library\n",
      "what computer are you on? a = Bens, b = gpucluster, c = other   a\n",
      "base directory is C:\\Users\\heine\\github\\expression_broad_data\n",
      "data processing dir is C:\\Users\\heine\\github\\expression_broad_data\\expression_data\\\n",
      "are you online? Yes/NoYes\n"
     ]
    }
   ],
   "source": [
    "# %load std_libraries.py\n",
    "import sys\n",
    "#Indicate operating environment and import core modules\n",
    "location_input = input(\"what computer are you on? a = Bens, b = gpucluster, c = other   \")\n",
    "location_dict = {'a': \"C:\\\\Users\\\\heine\\\\github\\\\expression_broad_data\", 'b': \"/home/heineike/github/expression_broad_data\",'c':'you need to add your location to the location_dict'}\n",
    "base_dir = location_dict[location_input]\n",
    "print(\"base directory is \" + base_dir)\n",
    "\n",
    "if sys.path[-1] != base_dir:\n",
    "    sys.path.append(base_dir)\n",
    "    print(\"Added \" + base_dir + \" to path: \" )\n",
    "    print(sys.path)\n",
    "\n",
    "import os\n",
    "\n",
    "print(\"I am about to import a library\")\n",
    "from core import expression_plots \n",
    "from core import io_library \n",
    "%load_ext autoreload\n",
    "%autoreload 2\n",
    "# %matplotlib \n",
    "# plt.ioff()\n",
    "#%matplotlib inline\n",
    "%matplotlib notebook\n",
    "data_processing_dir = base_dir + os.sep + os.path.normpath(\"expression_data\") + os.sep\n",
    "\n",
    "import pandas as pd\n",
    "import numpy as np\n",
    "import matplotlib.pyplot as plt\n",
    "#import seaborn as sns; sns.set(style=\"ticks\", color_codes=True)\n",
    "#from sklearn import linear_model\n",
    "#import pickle\n",
    "#import subprocess\n",
    "#import networkx as nx\n",
    "# import scipy.stats as stats\n",
    "import scipy.cluster.hierarchy as sch\n",
    "\n",
    "from Bio import SeqIO\n",
    "from Bio import SeqFeature as sf\n",
    "from Bio.Alphabet import generic_dna\n",
    "from Bio.Seq import Seq\n",
    "\n",
    "import re\n",
    "\n",
    "from collections import Counter\n",
    "# import scipy.stats as stats\n",
    "# from itertools import chain\n",
    "#this only works if you are online\n",
    "online_input = input(\"are you online? Yes/No\")\n",
    "if online_input == \"Yes\": \n",
    "    import plotly.plotly as py\n",
    "    import plotly.graph_objs as pygo\n",
    "    import plotly.tools as pytools\n",
    "    py.sign_in('heineike02_student','9dMTMZgJMgUP0YX0P5mQ')\n",
    "    #py.sign_in('heineike02', 'APPjKrtARaN2ZgUYIkqr')\n"
   ]
  },
  {
   "cell_type": "markdown",
   "metadata": {},
   "source": [
    "## Load Data"
   ]
  },
  {
   "cell_type": "code",
   "execution_count": 4,
   "metadata": {
    "collapsed": true
   },
   "outputs": [],
   "source": [
    "#Read in the KL promoter database.  \n",
    "kl_promoters = pd.read_pickle(data_processing_dir + os.path.normpath(\"kl_promoters/kl_promoters.pkl\"))\n",
    "\n",
    "#Read in the SC promoter database.  \n",
    "sc_promoters = pd.read_pickle(data_processing_dir + os.path.normpath(\"sc_promoters/sc_promoters.pkl\"))"
   ]
  },
  {
   "cell_type": "code",
   "execution_count": 3,
   "metadata": {
    "collapsed": true
   },
   "outputs": [],
   "source": [
    "# Load goi data from goi data file created in paralog analysis script. \n",
    "goi_data = pd.read_csv(data_processing_dir + os.sep + \"20170817_klscpka\" + os.sep + \"goi_data.csv\")     #_solis.csv\")"
   ]
  },
  {
   "cell_type": "markdown",
   "metadata": {},
   "source": [
    "## Build enrichment sets"
   ]
  },
  {
   "cell_type": "markdown",
   "metadata": {},
   "source": [
    "Did enrichment analysis using DREME, MEME, and GLAM2 on the upregulated set.  \n",
    "\n",
    "Only found Msn2 and a few others \n"
   ]
  },
  {
   "cell_type": "code",
   "execution_count": 21,
   "metadata": {
    "collapsed": true
   },
   "outputs": [],
   "source": [
    "a = '2.0'"
   ]
  },
  {
   "cell_type": "code",
   "execution_count": 27,
   "metadata": {},
   "outputs": [
    {
     "name": "stdout",
     "output_type": "stream",
     "text": [
      "YIL111W not in promoter data set.\n"
     ]
    }
   ],
   "source": [
    "#Upregulated v.s. all\n",
    "LFC_cutoff_high = 2.0\n",
    "genes = goi_data[goi_data['log2FoldChange_SC']>LFC_cutoff_high]['sc_genename']\n",
    "\n",
    "target_promoter_fname = data_processing_dir + os.path.normpath('sc_promoters/promoter_sets/paralogs_LFC_gt_' + str(LFC_cutoff_high).replace('.','p') + '.fasta')\n",
    "\n",
    "io_library.write_promoter_file(sc_promoters, list(genes),target_promoter_fname)\n",
    "\n",
    "#Downregulated v.s. all\n",
    "LFC_cutoff_low = -2.0\n",
    "genes = goi_data[goi_data['log2FoldChange_SC']<LFC_cutoff_high]['sc_genename']\n",
    "\n",
    "target_promoter_fname = data_processing_dir + os.path.normpath('sc_promoters/promoter_sets/paralogs_LFC_lt_' + str(LFC_cutoff_low).replace('-','m').replace('.','p') + '.fasta')\n",
    "\n",
    "io_library.write_promoter_file(sc_promoters, list(genes),target_promoter_fname)\n",
    "\n",
    "\n",
    "\n",
    "#Upregulated v.s. flat and downregulated\n",
    "#downregulated v.s. flat and upregulated\n",
    "\n",
    "all_sc_promoter_fname = data_processing_dir + os.path.normpath('sc_promoters/promoter_sets/all_sc_promoters.fasta')"
   ]
  },
  {
   "cell_type": "markdown",
   "metadata": {},
   "source": [
    "## Run MEME to look for unbiased enrichment"
   ]
  },
  {
   "cell_type": "code",
   "execution_count": null,
   "metadata": {
    "collapsed": true
   },
   "outputs": [],
   "source": [
    "#Right now meme doesn't do discriminatory and allow any number of motifs to be scanned. \n",
    "#Dreme seems to be better for that. \n",
    "#Ran GLAM2 and got a bunch of polyA sites. \n",
    "\n",
    "\n",
    "#run psp-gen to get prior for positive and negative sequences. \n",
    "psp_gen_command = ['psp-gen', '-pos', target_promoter_fname, '-neg', all_sc_promoter_fname, '-dna', \n",
    "                   '-minw', '6', #minimum width of motif\n",
    "                   '-maxw', '20', #maximum width of motif\n",
    "                   '>', 'psp_prior.psp']\n",
    "subprocess.run(psp_gen_command)"
   ]
  },
  {
   "cell_type": "code",
   "execution_count": null,
   "metadata": {
    "collapsed": true
   },
   "outputs": [],
   "source": [
    "meme paralogs_LFC_gt_2p0.fasta -dna -oc . -nostatus -time 17358 -maxsize 60000 -mod anr -nmotifs 5 -minw 6 -maxw 50 -revcomp -psp priors.psp\n",
    "meme paralogs_LFC_gt_2p0.fasta -dna -oc . -nostatus -time 17402 -maxsize 60000 -mod zoops -nmotifs 3 -minw 6 -maxw 50 -revcomp -psp priors.psp\n",
    "dreme dreme -v 1 -oc . -dna -p paralogs_LFC_gt_2p0.fasta -n all_sc_promoters.fasta -t 18000 -e 0.05"
   ]
  },
  {
   "cell_type": "markdown",
   "metadata": {},
   "source": [
    "## Look for Msn2 motifs "
   ]
  },
  {
   "cell_type": "code",
   "execution_count": 5,
   "metadata": {
    "collapsed": true
   },
   "outputs": [],
   "source": [
    "#Motif Prior from Roy et al: \n",
    "\n",
    "#HSP12: YFL014W\n",
    "#Msn2: YMR037C\n",
    "motif_prior = pd.read_table(data_processing_dir + os.path.normpath(\"/motifs/Motif_prior.txt\"), header = None, names = [\"TF\",\"sc_genename\",\"interaction_score\"])\n",
    "\n",
    "#shrink motif_prior to include only genes that are included on my subset list\n",
    "motif_prior_gois = motif_prior[motif_prior[\"sc_genename\"].isin(goi_data['sc_genename'])]\n",
    "goi_data_msn2binding = goi_data.copy()\n",
    "#goi_data_msn2binding.sort_values('log2FoldChange_msn24del_interaction', axis = 0, inplace=True)\n",
    "\n",
    "for tf in ['MSN2', 'MSN4']:\n",
    "    tf_hits = motif_prior_gois[motif_prior_gois['TF'].isin(io_library.SC_orf_lookup_by_name([tf]))]\n",
    "    goi_data_msn2binding = goi_data_msn2binding.merge(tf_hits.loc[:,['sc_genename','interaction_score']],how = 'left', on = 'sc_genename')\n",
    "    #Replace NAN's\n",
    "    goi_data_msn2binding['interaction_score'] = goi_data_msn2binding['interaction_score'].fillna(0)\n",
    "    goi_data_msn2binding.rename(columns = {'interaction_score': tf + '_roy_score'}, inplace = True)\n",
    "\n",
    "\n",
    "\n"
   ]
  },
  {
   "cell_type": "code",
   "execution_count": 5,
   "metadata": {
    "collapsed": true
   },
   "outputs": [],
   "source": [
    "#generate promoter file for all gois: \n",
    "genes = goi_data_msn2binding['sc_genename']\n",
    "target_promoter_fname = data_processing_dir + os.path.normpath('sc_promoters/promoter_sets/goi.fasta')\n",
    "io_library.write_promoter_file(sc_promoters, list(genes),target_promoter_fname)\n",
    "\n"
   ]
  },
  {
   "cell_type": "code",
   "execution_count": null,
   "metadata": {
    "collapsed": true
   },
   "outputs": [],
   "source": [
    "#Run FIMO for particular motifs\n",
    "#ran fimo using webtool 20180216\n",
    "#fimo --oc . --verbosity 1 --thresh 0.001 msn2_all.meme goi.fasta\n",
    "\n"
   ]
  },
  {
   "cell_type": "code",
   "execution_count": 6,
   "metadata": {
    "collapsed": true
   },
   "outputs": [],
   "source": [
    "#Load the fimo search data \n",
    "fimo_fname = os.path.normpath(data_processing_dir + 'sc_promoters' + os.sep + 'fimo_output' + os.sep + '20180216_goi_msn2_all.txt')\n",
    "fimo_hits = pd.read_table(fimo_fname)\n",
    "    \n",
    "motifs = list(set(fimo_hits['# motif_id']))\n",
    "\n",
    "for motif in motifs: \n",
    "    fimo_hits_motif = fimo_hits[fimo_hits['# motif_id']==motif]\n",
    "    hit_dict = {}\n",
    "    for ind, row in fimo_hits_motif.iterrows():\n",
    "        gene = row['sequence_name']\n",
    "        loc = 700-row['start']\n",
    "        pval = row['p-value']\n",
    "        seq = row['matched_sequence']\n",
    "        if gene in hit_dict.keys(): \n",
    "            prev_hits = hit_dict[gene]\n",
    "            prev_hits.append((loc,pval,seq))\n",
    "        else: \n",
    "            hit_dict[gene] = [(loc,pval, seq)]\n",
    "\n",
    "    hit_column = []\n",
    "    for gene in goi_data_msn2binding['sc_genename']: \n",
    "        if gene in hit_dict.keys():\n",
    "            hit_column.append(hit_dict[gene])\n",
    "        else:\n",
    "            hit_column.append(None)\n",
    "\n",
    "    goi_data_msn2binding[motif] = hit_column\n"
   ]
  },
  {
   "cell_type": "code",
   "execution_count": 7,
   "metadata": {
    "collapsed": true
   },
   "outputs": [],
   "source": [
    "#Run exact motif matches\n",
    "\n",
    "#Searches for exact matches of defined motifs in various sequences\n",
    "motif_dict = {'STRE':'AGGGG',\n",
    "             'Msn2_pref': 'CGGGG' \n",
    "             }\n",
    "promoter_database = sc_promoters.loc[goi_data_msn2binding['sc_genename'],:]\n",
    "gene_list = goi_data_msn2binding['sc_genename']\n",
    "output_format = 'full'\n",
    "sequence_context = 2\n",
    "promoter_counts = io_library.exact_promoter_scan(gene_list, motif_dict, promoter_database, output_format, sequence_context)\n",
    "\n",
    "goi_data_msn2binding = goi_data_msn2binding.merge(promoter_counts,left_on='sc_genename',right_index=True,how='left')\n",
    "\n"
   ]
  },
  {
   "cell_type": "code",
   "execution_count": 8,
   "metadata": {
    "collapsed": true
   },
   "outputs": [],
   "source": [
    "goi_data_msn2binding.to_csv(data_processing_dir + '20170817_klscpka/goi_data_msn2_binding.csv')"
   ]
  },
  {
   "cell_type": "code",
   "execution_count": 81,
   "metadata": {
    "collapsed": true
   },
   "outputs": [],
   "source": [
    "gene_list = ['COX5A','COX5B', 'TKL1','TKL2', 'GDH1','GDH3','CIT1','CIT2','GND1','GND2','MPC2','MPC3','CDC19','PYK2','SOL3','SOL4','TAL1','NQM1']\n",
    "columns_of_interest = ['SC_common_name','log2FoldChange_SC','MSN2_roy_score','MSN4_roy_score', 'STRE', 'Msn2_pref'] + motifs\n",
    "goi_msn2_subset = goi_data_msn2binding[goi_data_msn2binding['SC_common_name'].isin(gene_list)].loc[:,columns_of_interest]\n",
    "goi_msn2_subset.to_csv(data_processing_dir + 'sc_promoters/goi_subset_msn2_binding.csv')"
   ]
  },
  {
   "cell_type": "code",
   "execution_count": 51,
   "metadata": {},
   "outputs": [
    {
     "name": "stdout",
     "output_type": "stream",
     "text": [
      "This is the format of your plot grid:\n",
      "[ (1,1) x1,y1 ]  [ (1,2) x2,y2 ]\n",
      "\n"
     ]
    },
    {
     "data": {
      "text/html": [
       "<iframe id=\"igraph\" scrolling=\"no\" style=\"border:none;\" seamless=\"seamless\" src=\"https://plot.ly/~heineike02_student/30.embed\" height=\"525px\" width=\"100%\"></iframe>"
      ],
      "text/plain": [
       "<plotly.tools.PlotlyDisplay object>"
      ]
     },
     "execution_count": 51,
     "metadata": {},
     "output_type": "execute_result"
    }
   ],
   "source": [
    "fc_values = goi_data_msn2binding.loc[:,['log2FoldChange_SC','log2FoldChange_msn24del_interaction']]\n",
    "fc_names = ['LFC','LFC Msn24 int']\n",
    "\n",
    "msn2_promoter_binding_columns = ['MSN2_roy_score', 'MSN4_roy_score']\n",
    "msn2_promoter_binding_names = ['MSN2_roy', 'MSN4_roy']\n",
    "msn2_promoter_binding_values =goi_data_msn2binding.loc[:,msn2_promoter_binding_columns]\n",
    "\n",
    "#want this label to capture paralog pairs eventually\n",
    "gene_labels = list(goi_data_msn2binding['SC_common_name'])\n",
    "\n",
    "trace1 = pygo.Heatmap(z = fc_values.values,\n",
    "                   x= fc_names,\n",
    "                   y= gene_labels, \n",
    "                   showscale = False\n",
    "                   )\n",
    "\n",
    "trace2 = pygo.Heatmap(z = msn2_promoter_binding_values.values,\n",
    "                   #   zmin = -3.0, \n",
    "                   #   zmax = 3.0,\n",
    "                   #text = np.array(joint_topology_text).transpose(),\n",
    "                   x= msn2_promoter_binding_names,\n",
    "                   y= gene_labels, \n",
    "                   #hoverinfo = 'x+y+text',\n",
    "                   colorscale = 'Electric',\n",
    "                   showscale = False)\n",
    "\n",
    "# trace3 = pygo.Heatmap(z = growth_phenotypes.values,\n",
    "#                       #text = np.array(topology_text).transpose(),\n",
    "#                    x=growth_column_names,\n",
    "#                    y= gene_labels,\n",
    "#                    colorscale = 'Blackbody',\n",
    "#                    #hoverinfo = 'x+y+text',\n",
    "#                    showscale = False)\n",
    "\n",
    "\n",
    "fig = pytools.make_subplots(rows=1, cols=2)\n",
    "\n",
    "fig.append_trace(trace1, 1, 1)\n",
    "fig.append_trace(trace2, 1, 2)\n",
    "#fig.append_trace(trace3, 1, 3)\n",
    "\n",
    "#fig['layout'].update(height = 2000)\n",
    "#fig['layout'].update(height=600, width=600, title='i <3 subplots')\n",
    "\n",
    "# layout = pygo.Layout(\n",
    "#     yaxis = {'title': 'Low Paralog / High Paralog'}\n",
    "# )\n",
    "\n",
    "#fig = pygo.Figure(data=data, layout=layout)\n",
    "py.iplot(fig, filename='goi_msn2_heatmap')"
   ]
  },
  {
   "cell_type": "code",
   "execution_count": 13,
   "metadata": {},
   "outputs": [
    {
     "data": {
      "text/plain": [
       "Index(['Unnamed: 0', 'Unnamed: 0.1', 'SC_common_name', 'sc_genename',\n",
       "       'log2FoldChange_SC', 'raw_AS_noNMPP1_YPD_t40_mean_SC', 'pvalue_SC',\n",
       "       'raw_AS_yesNMPP1_YPD_t40_mean_SC', 'kl_genename', 'log2FoldChange_KL',\n",
       "       'raw_AS_noNMPP1_YPD_t40_mean_KL', 'raw_AS_yesNMPP1_YPD_t40_mean_KL',\n",
       "       'pvalue_KL', 'category', 'log2FoldChange_msn24del_interaction',\n",
       "       'pvalue_msn24del_interaction'],\n",
       "      dtype='object')"
      ]
     },
     "execution_count": 13,
     "metadata": {},
     "output_type": "execute_result"
    }
   ],
   "source": [
    "goi_data.columns"
   ]
  },
  {
   "cell_type": "code",
   "execution_count": null,
   "metadata": {
    "collapsed": true
   },
   "outputs": [],
   "source": [
    "io_library.SC_common_name_lookup([])"
   ]
  }
 ],
 "metadata": {
  "kernelspec": {
   "display_name": "Python 3",
   "language": "python",
   "name": "python3"
  },
  "language_info": {
   "codemirror_mode": {
    "name": "ipython",
    "version": 3
   },
   "file_extension": ".py",
   "mimetype": "text/x-python",
   "name": "python",
   "nbconvert_exporter": "python",
   "pygments_lexer": "ipython3",
   "version": "3.7.7"
  }
 },
 "nbformat": 4,
 "nbformat_minor": 2
}
