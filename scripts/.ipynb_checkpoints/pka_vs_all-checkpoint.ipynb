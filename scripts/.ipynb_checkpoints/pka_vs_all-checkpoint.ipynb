{
 "cells": [
  {
   "cell_type": "code",
   "execution_count": 1,
   "metadata": {
    "collapsed": false
   },
   "outputs": [
    {
     "name": "stderr",
     "output_type": "stream",
     "text": [
      ":0: FutureWarning: IPython widgets are experimental and may change in the future.\n"
     ]
    }
   ],
   "source": [
    "import os\n",
    "base_dir = os.path.normpath(os.path.dirname(os.getcwd()))\n",
    "import sys\n",
    "sys.path.append(base_dir + '/core')\n",
    "import expression_plots\n",
    "import io_library\n",
    "from IPython.core.debugger import Tracer\n",
    "from IPython.core.debugger import Tracer\n",
    "import numpy as np\n",
    "import pandas as pd\n",
    "import re\n",
    "import matplotlib.pyplot as plt \n",
    "import matplotlib as mpl\n",
    "import seaborn as sns\n",
    "import time"
   ]
  },
  {
   "cell_type": "code",
   "execution_count": 2,
   "metadata": {
    "collapsed": false
   },
   "outputs": [],
   "source": [
    "def get_genes_susan(positive_cutoff, negative_cutoff):\n",
    "    fname = base_dir + '/Susan_UpAndDownRegulatedGenes4fold_MyAndOShea.xlsx'\n",
    "    f = open(fname)\n",
    "    data_high = pd.read_excel(f, sheetname = 0)\n",
    "    sorted_data_high = data_high.sort_values('My foldchange', ascending = False)\n",
    "    sorted_data_high.reset_index(drop = True, inplace = True)\n",
    "    susan_foldchange = sorted_data_high['My foldchange']\n",
    "\n",
    "    index = -1\n",
    "    test_value = susan_foldchange[0]\n",
    "\n",
    "    while test_value > positive_cutoff:\n",
    "        test_value = susan_foldchange[index + 1]\n",
    "        index += 1\n",
    "\n",
    "\n",
    "    high_gene_names = sorted_data_high['Genes'][0 : index]\n",
    "    high_gene_change = sorted_data_high['My foldchange'][0 : index]\n",
    "    high_gene_data = {'Gene' : high_gene_names, 'Log_Change' : high_gene_change}\n",
    "    high_genes = pd.DataFrame(high_gene_data)\n",
    "    f.close()\n",
    "\n",
    "\n",
    "\n",
    "\n",
    "    f = open(fname)\n",
    "    data_low = pd.read_excel(f, sheetname = 1)\n",
    "    sorted_data_low = data_low.sort_values('My foldchange')\n",
    "    sorted_data_low.reset_index(drop = True, inplace = True)\n",
    "    susan_foldchange = sorted_data_low['My foldchange']\n",
    "\n",
    "    index = -1\n",
    "    test_value = susan_foldchange[0]\n",
    "\n",
    "    while test_value < negative_cutoff:\n",
    "        test_value = susan_foldchange[index + 1]\n",
    "        index += 1\n",
    "        \n",
    "    low_gene_names = sorted_data_low['Genes'][0 : index]\n",
    "    low_gene_change = sorted_data_low['My foldchange'][0 : index]\n",
    "    low_gene_data = {'Gene' : low_gene_names, 'Log_Change' : low_gene_change}\n",
    "    low_genes = pd.DataFrame(low_gene_data)\n",
    "    \n",
    "    return high_genes, low_genes"
   ]
  },
  {
   "cell_type": "code",
   "execution_count": 3,
   "metadata": {
    "collapsed": false
   },
   "outputs": [],
   "source": [
    "# species_list = ['Kluyveromyces lactis', 'Candida glabrata', \n",
    "#                     'Saccharomyces castellii' , 'Saccharomyces bayanus']\n",
    "\n",
    "\n",
    "# species_name_dict = {'Saccharomyces cerevisiae' : 'SCer',\n",
    "#                         'Kluyveromyces lactis': 'KLac', \n",
    "#                         'Candida glabrata' : 'CGla', \n",
    "#                         'Saccharomyces castellii' : 'SCas', \n",
    "#                         'Saccharomyces bayanus' : 'SBay'}\n",
    "\n",
    "# fname_out_bases = []\n",
    "# promoter_fname = ''\n",
    "# for species in species_list:\n",
    "#     fname_out_bases.append(species_name_dict[species])"
   ]
  },
  {
   "cell_type": "code",
   "execution_count": 4,
   "metadata": {
    "collapsed": false
   },
   "outputs": [],
   "source": [
    "# Parameters for choosing up and down regulated genes in S.Cer pka inhibition\n",
    "POSITIVE_LOG_CUTOFF = 8.0\n",
    "NEGATIVE_LOG_CUTOFF = -6.0\n",
    "\n",
    "# Now we have a list of the genes in S.Cer whose log changes are high and low respectively in the\n",
    "# pka experiment\n",
    "high_genes, low_genes = get_genes_susan(POSITIVE_LOG_CUTOFF, NEGATIVE_LOG_CUTOFF)"
   ]
  },
  {
   "cell_type": "code",
   "execution_count": 5,
   "metadata": {
    "collapsed": false
   },
   "outputs": [],
   "source": [
    "# Grab ortholog data from tab file and create lookup tables\n",
    "SC_orfs_lookup, SC_genename_lookup = io_library.read_SGD_features()\n",
    "\n",
    "# Gather all the ORF names for the high genes\n",
    "high_orfs = []\n",
    "for gene_name in high_genes['Gene']:    \n",
    "    if gene_name in SC_genename_lookup:\n",
    "        high_orfs.append(gene_name)\n",
    "    else:\n",
    "        high_orfs.append(SC_orfs_lookup[gene_name])\n",
    "\n",
    "# Append the orf names to the existing high_gene data\n",
    "high_gene_data = {'Gene' : high_genes['Gene'], 'Log_Change' : high_genes['Log_Change'],\n",
    "                 'ORF' : high_orfs}\n",
    "high_genes = pd.DataFrame(high_gene_data)\n",
    "\n",
    "# Repeat with the low genes\n",
    "low_orfs = []\n",
    "for gene_name in low_genes['Gene']:    \n",
    "    if gene_name in SC_genename_lookup:\n",
    "        low_orfs.append(gene_name)\n",
    "    else:\n",
    "        low_orfs.append(SC_orfs_lookup[gene_name])\n",
    "\n",
    "# Append the orf names to the existing high_gene data\n",
    "low_gene_data = {'Gene' : low_genes['Gene'], 'Log_Change' : low_genes['Log_Change'],\n",
    "                 'ORF' : low_orfs}\n",
    "low_genes = pd.DataFrame(low_gene_data)\n",
    "\n",
    "      \n",
    "# print low_genes\n",
    "# SC_orfs_lookup['ARSI-1']\n",
    "\n",
    "SC_gene_data = {'Gene' : high_genes['Gene'] + low_genes['Gene'], \n",
    "                'Log_Change' : high_genes['Log_Change'] + low_genes['Log_Change'],\n",
    "                'ORF' : low_orfs + high_orfs}\n",
    "\n",
    "\n",
    "SC_genes = pd.concat([high_genes, low_genes])"
   ]
  },
  {
   "cell_type": "code",
   "execution_count": 6,
   "metadata": {
    "collapsed": false
   },
   "outputs": [],
   "source": [
    "# Create ortholog lookup tables for each species\n",
    "\n",
    "\n",
    "# species_list = ['Kluyveromyces lactis', 'Candida glabrata', \n",
    "#                 'Saccharomyces castellii' , 'Saccharomyces bayanus']\n",
    "\n",
    "species_list = ['Kluyveromyces lactis']\n",
    "\n",
    "# Refernce dictionary for creating file names\n",
    "species_name_dict = {'Saccharomyces cerevisiae' : 'SCer',\n",
    "                    'Kluyveromyces lactis': 'KLac', \n",
    "                    'Candida glabrata' : 'CGla', \n",
    "                    'Saccharomyces castellii' : 'SCas', \n",
    "                    'Saccharomyces bayanus' : 'SBay'}\n",
    "\n",
    "for species in species_list:\n",
    "    orth_dict = io_library.read_orth_lookup_table('Saccharomyces cerevisiae', species)\n",
    "#     print \"Species: \" + species\n",
    "#     print orth_dict['YPL223C']\n",
    "\n",
    "    fname = os.path.normpath(base_dir + \n",
    "                             '/scripts/expression_broad_data_datafiles/microarray_data/GSE36253_Growth/' + \n",
    "                             species_name_dict[species] + '_growth.csv' )\n",
    "    growth_exp = pd.read_csv(fname,header = [0,1,2], index_col = [0,1])\n",
    "#     print fname + ' growth microarray dataset loaded'\n",
    "    #group by conditions and take mean\n",
    "    growth_replicate_groups = growth_exp.groupby(axis = 1, level = 'conditions')\n",
    "    growth_exp_avg = growth_replicate_groups.aggregate(np.mean)\n",
    "    \n",
    "    \n",
    "    if species != 'Saccharomyces bayanus':\n",
    "        #There is no stress dataset for S. bayanus\n",
    "        # Gabe - 7/11/16\n",
    "        fname = os.path.normpath(base_dir + \n",
    "                                 '/scripts/expression_broad_data_datafiles/microarray_data/GSE38478_Stress/' + \n",
    "                                 species_name_dict[species] + '_stress.csv' )\n",
    "        stress_exp = pd.read_csv(fname,header = [0,1,2], index_col = [0,1])\n",
    "        # Group by condition and take mean\n",
    "        stress_replicate_groups = stress_exp.groupby(axis = 1, level = 'conditions')\n",
    "        stress_exp_avg = stress_replicate_groups.aggregate(np.mean)\n",
    "#         print fname + ' stress microarray dataset loaded'\n",
    "#         print stress_exp\n",
    "\n",
    "        #combine growth and stress average expression datasets. \n",
    "        if False in stress_exp_avg.index==growth_exp_avg.index:\n",
    "            print \"Error: ID mismatch between condition data. Species = {}\".format(species)\n",
    "            break\n",
    "        condition_arrays = pd.concat([growth_exp_avg,stress_exp_avg], axis = 1)\n",
    "    else:\n",
    "        condition_arrays = growth_exp_avg\n",
    "      \n",
    "#     print '--------------------------------------------------------'\n",
    "#     print ' '\n",
    "#     print species\n",
    "#     print ' '    \n",
    "#     print '--------------------------------------------------------'\n",
    "#     print condition_arrays\n",
    "    \n",
    "\n"
   ]
  },
  {
   "cell_type": "code",
   "execution_count": null,
   "metadata": {
    "collapsed": false
   },
   "outputs": [],
   "source": [
    "# Plotting\n",
    "\n",
    "# print condition_arrays['DS/LOG']\n",
    "\n",
    "plotted_genes = condition_arrays\n",
    "\n",
    "cmap = mpl.cm.RdBu_r\n",
    "cmap.set_bad('k', 1.0)\n",
    "fig, ax = plt.subplots()\n",
    "sns.heatmap(plotted_genes, cmap = cmap, ax = ax)\n",
    "\n",
    "plt.show()"
   ]
  },
  {
   "cell_type": "code",
   "execution_count": null,
   "metadata": {
    "collapsed": true
   },
   "outputs": [],
   "source": []
  }
 ],
 "metadata": {
  "kernelspec": {
   "display_name": "Python 2",
   "language": "python",
   "name": "python2"
  },
  "language_info": {
   "codemirror_mode": {
    "name": "ipython",
    "version": 2
   },
   "file_extension": ".py",
   "mimetype": "text/x-python",
   "name": "python",
   "nbconvert_exporter": "python",
   "pygments_lexer": "ipython2",
   "version": "2.7.12"
  }
 },
 "nbformat": 4,
 "nbformat_minor": 0
}
