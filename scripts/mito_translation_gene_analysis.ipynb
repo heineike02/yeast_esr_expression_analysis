{
 "cells": [
  {
   "cell_type": "code",
   "execution_count": 1,
   "metadata": {
    "collapsed": true
   },
   "outputs": [],
   "source": [
    "#analyze the mitochondrial translation genes between S.Cer and K.Lac to validate the results from Regev's study"
   ]
  },
  {
   "cell_type": "code",
   "execution_count": 1,
   "metadata": {},
   "outputs": [
    {
     "name": "stdout",
     "output_type": "stream",
     "text": [
      "what computer are you on? a = Bens, b = gpucluster, c = other   b\n",
      "base directory is /home/heineike/github/expression_broad_data\n"
     ]
    }
   ],
   "source": [
    "import os\n",
    "location_input = input(\"what computer are you on? a = Bens, b = gpucluster, c = other   \")\n",
    "location_dict = {'a': \"C:\\\\Users\\Ben\\Documents\\GitHub\\expression_broad_data\", 'b': \"/home/heineike/github/expression_broad_data\",'c':'you need to add your location to the location_dict'}\n",
    "base_dir = location_dict[location_input]\n",
    "print(\"base directory is \" + base_dir)\n",
    "os.chdir(base_dir) "
   ]
  },
  {
   "cell_type": "code",
   "execution_count": 245,
   "metadata": {
    "collapsed": true
   },
   "outputs": [],
   "source": [
    "from core import expression_plots \n",
    "from core import io_library \n",
    "# from IPython.core.debugger import Tracer\n",
    "import numpy as np\n",
    "import pandas as pd\n",
    "import subprocess\n",
    "import plotly.plotly as py\n",
    "py.sign_in('heineike02', 'APPjKrtARaN2ZgUYIkqr')\n",
    "from collections import Counter\n",
    "import scipy.cluster.hierarchy as sch\n",
    "import matplotlib.pyplot as plt\n",
    "# Learn about API authentication here: https://plot.ly/pandas/getting-started\n",
    "# Find your api_key here: https://plot.ly/settings/api\n"
   ]
  },
  {
   "cell_type": "code",
   "execution_count": 3,
   "metadata": {
    "collapsed": true
   },
   "outputs": [],
   "source": [
    "%load_ext autoreload\n",
    "%autoreload 2\n",
    "#%matplotlib inline\n",
    "%matplotlib notebook"
   ]
  },
  {
   "cell_type": "code",
   "execution_count": 4,
   "metadata": {
    "collapsed": true
   },
   "outputs": [],
   "source": [
    "#Import Mitochondrial genes\n",
    "mito_fname =  base_dir+os.sep + os.path.join(\"expression_data\",\"go_terms\",\"mitochondrial_translation_annotations.txt\")\n",
    "mito_table = pd.read_table(mito_fname,header = 7)\n",
    "mito_genes = list(set([gene for gene in mito_table['Gene Systematic Name'] if gene[0]=='Y']))"
   ]
  },
  {
   "cell_type": "code",
   "execution_count": 5,
   "metadata": {
    "collapsed": true
   },
   "outputs": [],
   "source": [
    "#Visualize expression differences between species on my dataset\n",
    "#load kl_sc_PKA_data\n",
    "kl_sc_PKA_data = pd.read_pickle(base_dir + os.sep + os.path.join(\"expression_data\",\"kl_PKA_as_20160824\",\"kl_sc_PKA_data\"))\n"
   ]
  },
  {
   "cell_type": "code",
   "execution_count": 6,
   "metadata": {
    "collapsed": true
   },
   "outputs": [],
   "source": [
    "\n",
    "kl_sc_PKA_data_mito = kl_sc_PKA_data[kl_sc_PKA_data['sc_genename'].isin(mito_genes)]\n",
    "kl_sc_PKA_data_notmito = kl_sc_PKA_data[~kl_sc_PKA_data['sc_genename'].isin(mito_genes)]\n",
    "\n",
    "fig = {\n",
    "    'data': [\n",
    "  \t\t{\n",
    "        \t'x': kl_sc_PKA_data_notmito['KL_PKA(AS)+1NMPP1'], \n",
    "        \t'y': kl_sc_PKA_data_notmito['SC_PKA(AS)+1NMPP1'], \n",
    "        \t'text': kl_sc_PKA_data_notmito['SC_common_name'], \n",
    "        \t'mode': 'markers', \n",
    "        \t'name': 'other genes'},\n",
    "  \t\t{\n",
    "        \t'x': kl_sc_PKA_data_mito['KL_PKA(AS)+1NMPP1'], \n",
    "        \t'y': kl_sc_PKA_data_mito['SC_PKA(AS)+1NMPP1'], \n",
    "        \t'text': kl_sc_PKA_data_mito['SC_common_name'], \n",
    "        \t'mode': 'markers', \n",
    "        \t'name': 'mitochondrial translation'}\n",
    "            ],\n",
    "    'layout': {\n",
    "        'xaxis': {'title': 'KL LFC 4uM NMPP1'},\n",
    "        'yaxis': {'title': \"SC averaged Fold Change\"}\n",
    "    }\n",
    "}\n",
    "\n",
    "url = py.plot(fig, filename='Mitochondrial translation genes')\n",
    "\n"
   ]
  },
  {
   "cell_type": "code",
   "execution_count": 11,
   "metadata": {},
   "outputs": [
    {
     "data": {
      "text/plain": [
       "Index(['N SCer Orthologs', 'kl_genename', 'sc_genename', 'KL_PKA(AS)+1NMPP1',\n",
       "       'padj', 'SC_PKA(AS)+1NMPP1', 'SC_common_name'],\n",
       "      dtype='object')"
      ]
     },
     "execution_count": 11,
     "metadata": {},
     "output_type": "execute_result"
    }
   ],
   "source": [
    "\n",
    "kl_sc_PKA_data.columns\n"
   ]
  },
  {
   "cell_type": "code",
   "execution_count": 7,
   "metadata": {
    "collapsed": true,
    "scrolled": true
   },
   "outputs": [],
   "source": [
    "#Import promoters for mito genes\n",
    "#visualize SNF1 sites\n",
    "\n",
    "#Read in the KL promoter database.  \n",
    "kl_promoters = pd.read_pickle(base_dir + os.sep + os.path.join(\"expression_data\",\"kl_promoters\",\"kl_promoters.pkl\"))\n",
    "\n",
    "#Read in the SC promoter database.  \n",
    "sc_promoters = pd.read_pickle(base_dir + os.sep + os.path.join(\"expression_data\",\"sc_promoters\",\"sc_promoters.pkl\"))\n",
    "\n",
    "# Make a subset of kl promoters for mitochondrial translation.  \n",
    "mito_genes_kl_orth = list(set(kl_sc_PKA_data[kl_sc_PKA_data['sc_genename'].isin(mito_genes)]['kl_genename']))\n",
    "#including set here removes duplicates\n",
    "\n",
    "kl_promoters_mito = kl_promoters.loc[mito_genes_kl_orth,]\n",
    "\n",
    "fname = base_dir + os.sep + os.path.join(\"expression_data\", \"regev_analysis\", \"mito_promoters_kl.fasta\")\n",
    "prom_seq_column = 4\n",
    "with open(fname,'w') as f: \n",
    "    for row in kl_promoters_mito.itertuples():\n",
    "        header_line = '>' + row[0] + ' 700bp_upstream\\n'\n",
    "        seq_line = row[prom_seq_column] + '\\n'\n",
    "        f.write(header_line)\n",
    "        f.write(seq_line)\n",
    "\n",
    "# Make a subset of sc promoters for mitochondrial translation.  \n",
    "sc_promoters_mito = sc_promoters.loc[mito_genes,]\n",
    "\n",
    "fname = base_dir + os.sep + os.path.join(\"expression_data\", \"regev_analysis\", \"mito_promoters_sc.fasta\")\n",
    "prom_seq_column = 2\n",
    "with open(fname,'w') as f: \n",
    "    for row in sc_promoters_mito.itertuples():\n",
    "        header_line = '>' + row[0] + ' 700bp_upstream\\n'\n",
    "        seq_line = row[prom_seq_column] + '\\n'\n",
    "        f.write(header_line)\n",
    "        f.write(seq_line)"
   ]
  },
  {
   "cell_type": "code",
   "execution_count": 10,
   "metadata": {},
   "outputs": [
    {
     "name": "stdout",
     "output_type": "stream",
     "text": [
      "0\n"
     ]
    }
   ],
   "source": [
    "#Use subprocess to run meme commands: \n",
    "\n",
    "#ame --verbose 1 --oc . --control all_kl_promoters.fasta --bgformat 1 --scoring avg --method ranksum --pvalue-report-threshold 0.05 mito_promoters_kl.fasta db/JASPAR/JASPAR_CORE_2016_fungi.meme\n",
    "motif_db = \"/home/kieran/memeTest/JASPAR_CORE_2016_fungi.meme\"\n",
    "input_sequences = base_dir + \"/expression_data/regev_analysis/mito_promoters_kl.fasta\"\n",
    "control_sequences = base_dir + \"/expression_data/kl_promoters/all_kl_promoters.fasta\"\n",
    "output_dir = base_dir + \"/expression_data/regev_analysis/ame_out\"\n",
    "file_prefix = \"kl_mito_\"\n",
    "\n",
    "ame_command = [ \"/home/kieran/meme/bin/ame\",\n",
    "              \"--verbose\", \"2\",\n",
    "              \"--oc\", output_dir,\n",
    "              \"--control\", control_sequences,\n",
    "              \"--bgformat\", \"1\", \n",
    "              \"--scoring\", \"totalhits\",\n",
    "              \"--method\", \"fisher\", \n",
    "              \"--pvalue-report-threshold\", \"0.05\", \n",
    "              input_sequences,\n",
    "              motif_db]\n",
    "\n",
    "ame_output = subprocess.run(ame_command,stdout = subprocess.PIPE) \n",
    "\n",
    "print(ame_output.returncode)\n",
    "\n",
    "#change file prefix\n",
    "for fname in [\"ame.txt\",\"ame.html\"]:\n",
    "    os.rename(output_dir + os.sep + fname, output_dir + os.sep + file_prefix + fname)\n"
   ]
  },
  {
   "cell_type": "code",
   "execution_count": 11,
   "metadata": {},
   "outputs": [
    {
     "name": "stdout",
     "output_type": "stream",
     "text": [
      "0\n"
     ]
    }
   ],
   "source": [
    "#Use subprocess to run meme commands: \n",
    "\n",
    "motif_db = \"/home/kieran/memeTest/JASPAR_CORE_2016_fungi.meme\"\n",
    "input_sequences = base_dir + \"/expression_data/regev_analysis/mito_promoters_sc.fasta\"\n",
    "control_sequences = base_dir + \"/expression_data/sc_promoters/all_sc_promoters.fasta\"\n",
    "output_dir = base_dir + \"/expression_data/regev_analysis/ame_out\"\n",
    "file_prefix = \"sc_mito_\"\n",
    "\n",
    "ame_command = [ \"/home/kieran/meme/bin/ame\",\n",
    "              \"--verbose\", \"2\",\n",
    "              \"--oc\", output_dir,\n",
    "              \"--control\", control_sequences,\n",
    "              \"--bgformat\", \"1\", \n",
    "              \"--scoring\", \"totalhits\",\n",
    "              \"--method\", \"fisher\", \n",
    "              \"--pvalue-report-threshold\", \"0.05\", \n",
    "              input_sequences,\n",
    "              motif_db]\n",
    "\n",
    "ame_output = subprocess.run(ame_command,stdout = subprocess.PIPE) \n",
    "\n",
    "print(ame_output.returncode)\n",
    "\n",
    "#change file prefix\n",
    "for fname in [\"ame.txt\",\"ame.html\"]:\n",
    "    os.rename(output_dir + os.sep + fname, output_dir + os.sep + file_prefix + fname)"
   ]
  },
  {
   "cell_type": "code",
   "execution_count": 65,
   "metadata": {},
   "outputs": [
    {
     "data": {
      "text/plain": [
       "0"
      ]
     },
     "execution_count": 65,
     "metadata": {},
     "output_type": "execute_result"
    }
   ],
   "source": [
    "#Run fimo on the promoters for the mitochondrial translation genes for sum1, sfp1, stb3, abf1\n",
    "\n",
    "#fimo --oc . --verbosity 1 --thresh 1.0E-4 abf1_stb3_sum1_sfp1.meme mito_promoters_kl.fasta\n",
    "\n",
    "\n",
    "\n",
    "#Run fimo on all the kl promoters for the mitochondrial translation genes\n",
    "\n",
    "#Make a dataframe \n",
    "\n",
    "\n",
    "\n",
    "\n",
    "\n",
    "\n"
   ]
  }
 ],
 "metadata": {
  "kernelspec": {
   "display_name": "Python 3",
   "language": "python",
   "name": "python3"
  },
  "language_info": {
   "codemirror_mode": {
    "name": "ipython",
    "version": 3
   },
   "file_extension": ".py",
   "mimetype": "text/x-python",
   "name": "python",
   "nbconvert_exporter": "python",
   "pygments_lexer": "ipython3",
   "version": "3.5.2"
  }
 },
 "nbformat": 4,
 "nbformat_minor": 2
}
