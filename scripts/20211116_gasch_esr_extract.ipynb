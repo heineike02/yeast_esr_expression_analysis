{
 "cells": [
  {
   "cell_type": "code",
   "execution_count": 4,
   "metadata": {},
   "outputs": [
    {
     "name": "stdin",
     "output_type": "stream",
     "text": [
      "Use yeast_esr_expression functions? (Y/n) Y\n"
     ]
    },
    {
     "name": "stdout",
     "output_type": "stream",
     "text": [
      "Added C:\\Users\\heineib\\Documents\\GitHub\\yeast_esr_expression_analysis\\ to path\n",
      "Importing yeast_esr_exp.  If autoreload, may need to reset base_dir and data_processing dir \n",
      "  yeast_esr_exp.base_dir=base_dir \n",
      " yeast_esr_exp.data_processing_dir = data_processing_dir\n"
     ]
    }
   ],
   "source": [
    "import pandas as pd\n",
    "import os \n",
    "import sys\n",
    "\n",
    "yeast_esr_flag = input(\"Use yeast_esr_expression functions? (Y/n)\")\n",
    "\n",
    "if yeast_esr_flag =='Y':\n",
    "    yeast_esr_exp_path = os.path.normpath('C:/Users/heineib/Documents/GitHub/yeast_esr_expression_analysis') + os.sep\n",
    "    #io_library_path_core = io_library_path + 'core' + os.sep\n",
    "    if not(yeast_esr_exp_path in sys.path):\n",
    "        sys.path.append(yeast_esr_exp_path)\n",
    "        print(\"Added \" + yeast_esr_exp_path + \" to path\" )\n",
    "\n",
    "    import yeast_esr_exp\n",
    "    yeast_esr_exp.base_dir = yeast_esr_exp_path\n",
    "    yeast_esr_exp.data_processing_dir = yeast_esr_exp_path + os.path.normpath('expression_data') + os.sep\n"
   ]
  },
  {
   "cell_type": "code",
   "execution_count": 30,
   "metadata": {},
   "outputs": [],
   "source": [
    "gasch_esr_all_fname = yeast_esr_exp.data_processing_dir + 'gasch_data' + os.sep + 'figure3.cdt.txt'\n",
    "\n",
    "gasch_esr_all = pd.read_table(gasch_esr_all_fname, index_col=0)\n",
    "\n",
    "gasch_esr_all.drop('EWEIGHT', inplace=True)\n",
    "\n",
    "#sums all rows with numeri data\n",
    "gasch_sums = gasch_esr_all.iloc[:,1:].sum(axis=1)"
   ]
  },
  {
   "cell_type": "code",
   "execution_count": 35,
   "metadata": {},
   "outputs": [],
   "source": [
    "#Extract iESR\n",
    "\n",
    "gasch_iESR = gasch_sums[gasch_sums>0].index\n",
    "gasch_iESR_name = yeast_esr_exp.SC_common_name_lookup(gasch_iESR)\n",
    "gasch_iESR_fname =  yeast_esr_exp.data_processing_dir + 'gasch_data' + os.sep + 'iESR.txt'\n",
    "\n",
    "with open(gasch_iESR_fname, 'w') as f: \n",
    "    f.write('#List extracted from http://www-genome.stanford.edu/yeast_stress/data/figure3/figure3.cdt by summing all rows and extracting rows in which summed expression across all arrays was greater than 0. Used 20211116_gasch_esr_extract.ipynb on 20211116 \\n')\n",
    "    f.write('systematic_name,name\\n')\n",
    "    for gene, name in zip(gasch_iESR, gasch_iESR_name): \n",
    "        f.write(gene + ',' + name + '\\n')\n",
    "    \n"
   ]
  },
  {
   "cell_type": "code",
   "execution_count": 38,
   "metadata": {},
   "outputs": [],
   "source": [
    "#Extract rESR\n",
    "\n",
    "gasch_rESR = gasch_sums[gasch_sums<0].index\n",
    "gasch_rESR_name = yeast_esr_exp.SC_common_name_lookup(gasch_rESR)\n",
    "gasch_rESR_fname =  yeast_esr_exp.data_processing_dir + 'gasch_data' + os.sep + 'rESR.txt'\n",
    "\n",
    "with open(gasch_rESR_fname, 'w') as f: \n",
    "    f.write('#List extracted from http://www-genome.stanford.edu/yeast_stress/data/figure3/figure3.cdt by summing all rows and extracting rows in which summed expression across all arrays was less than 0. Used 20211116_gasch_esr_extract.ipynb on 20211116 \\n')\n",
    "    f.write('systematic_name,name\\n')\n",
    "    for gene, name in zip(gasch_rESR, gasch_rESR_name): \n",
    "        f.write(gene + ',' + name + '\\n')"
   ]
  }
 ],
 "metadata": {
  "kernelspec": {
   "display_name": "Python 3 (ipykernel)",
   "language": "python",
   "name": "python3"
  },
  "language_info": {
   "codemirror_mode": {
    "name": "ipython",
    "version": 3
   },
   "file_extension": ".py",
   "mimetype": "text/x-python",
   "name": "python",
   "nbconvert_exporter": "python",
   "pygments_lexer": "ipython3",
   "version": "3.7.9"
  }
 },
 "nbformat": 4,
 "nbformat_minor": 4
}
