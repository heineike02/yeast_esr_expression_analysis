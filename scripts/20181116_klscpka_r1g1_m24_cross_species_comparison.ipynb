{
 "cells": [
  {
   "cell_type": "code",
   "execution_count": 1,
   "metadata": {},
   "outputs": [
    {
     "name": "stdout",
     "output_type": "stream",
     "text": [
      "what computer are you on? a = Ben's laptop, b = gpucluster, c = Ben's desktop, d = othera\n",
      "base directory is C:\\Users\\BMH_work\\github\\expression_broad_data\n",
      "Added C:\\Users\\BMH_work\\github\\expression_broad_data to path: \n",
      "['', 'C:\\\\Users\\\\BMH_work\\\\github\\\\expression_broad_data\\\\scripts', 'C:\\\\Users\\\\BMH_work\\\\Anaconda3\\\\python37.zip', 'C:\\\\Users\\\\BMH_work\\\\Anaconda3\\\\DLLs', 'C:\\\\Users\\\\BMH_work\\\\Anaconda3\\\\lib', 'C:\\\\Users\\\\BMH_work\\\\Anaconda3', 'C:\\\\Users\\\\BMH_work\\\\Anaconda3\\\\lib\\\\site-packages', 'C:\\\\Users\\\\BMH_work\\\\Anaconda3\\\\lib\\\\site-packages\\\\win32', 'C:\\\\Users\\\\BMH_work\\\\Anaconda3\\\\lib\\\\site-packages\\\\win32\\\\lib', 'C:\\\\Users\\\\BMH_work\\\\Anaconda3\\\\lib\\\\site-packages\\\\Pythonwin', 'C:\\\\Users\\\\BMH_work\\\\Anaconda3\\\\lib\\\\site-packages\\\\IPython\\\\extensions', 'C:\\\\Users\\\\BMH_work\\\\.ipython', 'C:\\\\Users\\\\BMH_work\\\\github\\\\expression_broad_data']\n",
      "I am about to import a library\n",
      "I am importing io_library\n",
      "what computer are you on? a = Ben's laptop, b = gpucluster, c = Ben's desktop, d = othera\n",
      "base directory is C:\\Users\\BMH_work\\github\\expression_broad_data\n",
      "data processing dir is C:\\Users\\BMH_work\\github\\expression_broad_data\\expression_data\\\n",
      "are you online? Yes/No Yes\n"
     ]
    }
   ],
   "source": [
    "# %load std_libraries.py\n",
    "#to keep my scripts consistent, I am adding this to the top of all scripts with %load std_libraries.py\n",
    "import sys\n",
    "#Indicate operating environment and import core modules\n",
    "location_input = input(\"what computer are you on? a = Ben's laptop, b = gpucluster, c = Ben's desktop, d = other\")\n",
    "location_dict = {'a': \"C:\\\\Users\\\\BMH_work\\\\github\\\\expression_broad_data\", 'b': \"/home/heineike/github/expression_broad_data\",\n",
    "                 'c': \"C:\\\\Users\\\\Ben\\\\Documents\\\\GitHub\\\\expression_broad_data\", 'd':'you need to add your location to the location_dict'}\n",
    "base_dir = location_dict[location_input]\n",
    "print(\"base directory is \" + base_dir)\n",
    "\n",
    "if sys.path[-1] != base_dir:\n",
    "    sys.path.append(base_dir)\n",
    "    print(\"Added \" + base_dir + \" to path: \" )\n",
    "    print(sys.path)\n",
    "\n",
    "import os\n",
    "\n",
    "print(\"I am about to import a library\")\n",
    "from core import expression_plots \n",
    "from core import io_library \n",
    "%load_ext autoreload\n",
    "%autoreload 2\n",
    "# %matplotlib \n",
    "# plt.ioff()\n",
    "#%matplotlib inline\n",
    "%matplotlib notebook\n",
    "data_processing_dir = base_dir + os.sep + os.path.normpath(\"expression_data\") + os.sep\n",
    "\n",
    "import pandas as pd\n",
    "import numpy as np\n",
    "import matplotlib.pyplot as plt\n",
    "#import matplotlib.colormap as cm\n",
    "#from matplotlib_venn import venn2\n",
    "#for my windows10 laptop I had to install this package using pip rather than anaconda.  \n",
    "import seaborn as sns; sns.set(style=\"ticks\", color_codes=True)\n",
    "#from sklearn import linear_model\n",
    "import pickle\n",
    "#import subprocess\n",
    "#import networkx as nx\n",
    "import scipy.stats as stats\n",
    "#import statsmodels.graphics.gofplots as stats_graph\n",
    "#import scipy.cluster.hierarchy as sch\n",
    "\n",
    "# from Bio import SeqIO\n",
    "# from Bio import SeqFeature as sf\n",
    "# from Bio.Alphabet import generic_dna\n",
    "# from Bio.Seq import Seq\n",
    "\n",
    "# import re\n",
    "\n",
    "from collections import Counter\n",
    "# import scipy.stats as stats\n",
    "# from itertools import chain\n",
    "#from itertools import product\n",
    "#this only works if you are online\n",
    "online_input = input(\"are you online? Yes/No \")\n",
    "if online_input == \"Yes\": \n",
    "    import plotly.plotly as py\n",
    "    import plotly.graph_objs as pygo\n",
    "    import plotly.tools as pytools\n",
    "    py.sign_in('heineike02_student','9dMTMZgJMgUP0YX0P5mQ')\n",
    "    #py.sign_in('heineike02', 'APPjKrtARaN2ZgUYIkqr')\n",
    "    \n",
    "# for phylogenetic trees: \n",
    "# from ete3 import Tree\n",
    "#ete3 is not officially supported on windows, and so must be loaded via pip: \n",
    "# pip install -U https://github.com/etetoolkit/ete/archive/qt5.zip\n",
    "# ref: https://groups.google.com/forum/#!topic/etetoolkit/6NblSBPij4o\n",
    "\n",
    "#for scraping internet data (e.g. ncbi)\n",
    "#import requests\n",
    "#from lxml import etree    #parses xml output"
   ]
  },
  {
   "cell_type": "code",
   "execution_count": 2,
   "metadata": {},
   "outputs": [],
   "source": [
    "#Compare both species AS +/- drug\n",
    "\n",
    "# Combine data from both species\n",
    "#eventually I might want a big database here but for now just going to load what I need. \n",
    "\n",
    "\n",
    "#Load KL to SC ortholog mapping\n",
    "\n",
    "kl_orthologs = pd.read_pickle(data_processing_dir + \"ortholog_files_YGOB/kl_orthologs.pkl\")\n",
    "\n",
    "#Load data for each species and combine desired data into one dataframe per species. \n",
    "\n",
    "lfc_data = {}\n",
    "# rlog_data = {}\n",
    "# raw_data = {}\n",
    "comparison_data = {}\n",
    "\n",
    "species = ['KL', 'SC']\n",
    "# conditions = [\"AS_noNMPP1_YPD_t40\", \"AS_yesNMPP1_YPD_t40\"]\n",
    "for spec in species: \n",
    "    #Load DEseq data for AS +/- drug\n",
    "    lfc_data_spec = pd.read_csv(os.path.normpath(data_processing_dir + '\\\\kl_sc_PKA_as_m24_r1g1_20181017\\\\20181017_deseq_' + spec + '_AS_WT_nmpp1.csv'), index_col=0)\n",
    "    if spec == 'KL':\n",
    "        kl_genenames = io_library.kl_genename_convert_list(lfc_data_spec.index)\n",
    "        lfc_data_spec['kl_genename'] = kl_genenames\n",
    "        lfc_data_spec.set_index('kl_genename',inplace = True)\n",
    "    lfc_data_spec.index.name = spec.lower() + \"_genename\"\n",
    "    \n",
    "    lfc_data[spec] = lfc_data_spec\n",
    "\n",
    "    #     fname_rlog_data = data_processing_dir + '20170817_klscpka/20170817_klscpka_avg_rlog_' + spec + '.csv'\n",
    "    #     rlog_data[spec] = pd.read_csv(fname_rlog_data,index_col = 0)\n",
    "    #     fname_raw_data = data_processing_dir + '20170817_klscpka/20170817_klscpka_avg_counts_' + spec + '.csv'\n",
    "    #     raw_data[spec] = pd.read_csv(fname_raw_data,index_col = 0)\n",
    "\n",
    "    #     #These are the genes that have no rlog value\n",
    "    #     print('The following ' + str(len(set(lfc_data[spec].index)-set(rlog_data[spec].index))) + ' genes have no rlog data for ' + spec)\n",
    "    #     print(set(lfc_data[spec].index)-set(rlog_data[spec].index))\n",
    "\n",
    "    #     #Merge into one dataset\n",
    "    #     labels_mean = [condition + \"_mean\" for condition in conditions]\n",
    "    #     labels_var = [condition + \"_var\" for condition in conditions]\n",
    "    #     labels = list(chain.from_iterable([labels_mean,labels_var]))\n",
    "\n",
    "    #     rlog_subset = rlog_data[spec].loc[:,labels]\n",
    "    #     rlog_subset.rename(index = str, columns = {label: 'rlog_' + label for label in labels},inplace=True)\n",
    "\n",
    "    #     raw_subset = raw_data[spec].loc[:,labels]\n",
    "    #     raw_subset.rename(index = str, columns = {label: 'raw_' + label for label in labels},inplace=True)\n",
    "    \n",
    "    comparison_data[spec] =  lfc_data_spec  #pd.concat([lfc_data[spec], rlog_subset , raw_subset],axis = 1)\n",
    "\n",
    "#Map KL PKA inhibition data onto related SC orthologs\n",
    "kl_comparison_data_sc_orthologs = kl_orthologs.merge(comparison_data['KL'], left_on='kl_genename', right_index=True, how = 'inner')\n",
    "\n",
    "#add in SC_common_name to SC data\n",
    "sc_comparison_data=comparison_data['SC']\n",
    "sc_comparison_data['SC_common_name']= io_library.SC_common_name_lookup(sc_comparison_data.index)\n",
    "#Just noticed that IMP2 has a common name IMP2' - should troubleshoot that someday. \n",
    "\n",
    "kl_sc_PKA_data = kl_comparison_data_sc_orthologs.merge(sc_comparison_data, on = 'sc_genename', suffixes=('_KL','_SC'), how='inner')\n",
    "\n",
    "fname_cross_spec_comparison = data_processing_dir + os.path.normpath(\"kl_sc_PKA_as_m24_r1g1_20181017/cross_species_compare_ASminus_ASplus_YPD_20181204.csv\")\n",
    "kl_sc_PKA_data.to_csv(fname_cross_spec_comparison)\n"
   ]
  },
  {
   "cell_type": "code",
   "execution_count": 2,
   "metadata": {},
   "outputs": [],
   "source": [
    "#Load kl_sc_PKA data\n",
    "\n",
    "fname_cross_spec_comparison = data_processing_dir + os.path.normpath(\"kl_sc_PKA_as_m24_r1g1_20181017/cross_species_compare_ASminus_ASplus_YPD_20181204.csv\")\n",
    "kl_sc_PKA_data = pd.read_csv(fname_cross_spec_comparison, index_col=0)"
   ]
  },
  {
   "cell_type": "code",
   "execution_count": 8,
   "metadata": {},
   "outputs": [
    {
     "name": "stdout",
     "output_type": "stream",
     "text": [
      "0.6551637588839935\n",
      "0.0\n"
     ]
    }
   ],
   "source": [
    "\n",
    "print(r)\n",
    "print(pval)\n",
    "        "
   ]
  },
  {
   "cell_type": "code",
   "execution_count": 22,
   "metadata": {},
   "outputs": [
    {
     "data": {
      "text/plain": [
       "{'ENO1',\n",
       " 'GAC1',\n",
       " 'GDB1',\n",
       " 'GIP2',\n",
       " 'GLG1',\n",
       " 'GLG2',\n",
       " 'GSM1',\n",
       " 'GSY1',\n",
       " 'GSY2',\n",
       " 'NDE2',\n",
       " 'PIG2',\n",
       " 'PSK1',\n",
       " 'RGI1',\n",
       " 'RGI2',\n",
       " 'TDH1',\n",
       " 'YLR345W',\n",
       " 'YPI1'}"
      ]
     },
     "execution_count": 22,
     "metadata": {},
     "output_type": "execute_result"
    }
   ],
   "source": [
    "precursor = ['NDE2', 'GAC1', 'YJL045W', 'GLG1', 'GSM1', 'COX5B', 'COX20', 'CYC7', 'MBR1', 'GDB1', 'LSC2', 'AAC1', 'GSY2', 'PIG2', 'NDI1', 'RSF1', 'SHH4', 'SDH5', 'YLR345W', 'GSY1', 'ISF1', 'NCA2', 'GIP2', 'TDH1', 'MIX14', 'PSK1', 'SDH2', 'CIT1', 'ENO1', 'YMR31', 'RGI1', 'RGI2', 'YPI1', 'GLG2']\n",
    "resp = ['SHH4', 'MBR1', 'NDI1', 'SDH5', 'LSC2', 'SDH2', 'CIT1', 'YJL045W', 'AAC1', 'COX5B', 'YMR31', 'MIX14', 'ISF1', 'NCA2', 'COX20', 'CYC7', 'RSF1']\n",
    "set(precursor) - set(resp)\n",
    "#set(resp) - set(precursor)\n"
   ]
  },
  {
   "cell_type": "code",
   "execution_count": 19,
   "metadata": {},
   "outputs": [
    {
     "data": {
      "text/html": [
       "<iframe id=\"igraph\" scrolling=\"no\" style=\"border:none;\" seamless=\"seamless\" src=\"https://plot.ly/~heineike02_student/233.embed\" height=\"600px\" width=\"640px\"></iframe>"
      ],
      "text/plain": [
       "<plotly.tools.PlotlyDisplay object>"
      ]
     },
     "execution_count": 19,
     "metadata": {},
     "output_type": "execute_result"
    }
   ],
   "source": [
    "#Plot LFC for SC and KL on the same axis\n",
    "\n",
    "data = []\n",
    "\n",
    "xlabel = 'LFC: K.lac AS -/+ 3uM 1-NM-PP1'\n",
    "ylabel = 'LFC: S.Cer AS -/+ 3uM 1-NM-PP1'\n",
    "\n",
    "wgh_n_orthologs = {'Not WGH Paralog':1, 'WGH Paralog':2}\n",
    "wgh_color = {'WGH Paralog':'red', 'Not WGH Paralog':'gray'}\n",
    "\n",
    "#Calculate R2 for all the data\n",
    "rval, pval = stats.pearsonr(kl_sc_PKA_data['log2FoldChange_SC'], kl_sc_PKA_data['log2FoldChange_KL'])\n",
    "\n",
    "for geneset in wgh_n_orthologs.keys():\n",
    "    \n",
    "    kl_sc_PKA_data_subset = kl_sc_PKA_data[kl_sc_PKA_data['N SCer Orthologs']==wgh_n_orthologs[geneset]]\n",
    "    \n",
    "    trace = pygo.Scatter(\n",
    "                x = kl_sc_PKA_data_subset['log2FoldChange_KL'], \n",
    "                y =  kl_sc_PKA_data_subset['log2FoldChange_SC'],\n",
    "                text = kl_sc_PKA_data_subset['SC_common_name'],\n",
    "                mode = 'markers',\n",
    "                marker = {'opacity': 0.4,  \n",
    "                          'color': wgh_color[geneset],\n",
    "                          'size': 10}, \n",
    "                name = geneset\n",
    "            )\n",
    "\n",
    "    data.append(trace)\n",
    "\n",
    "layout = pygo.Layout(\n",
    "    xaxis= {\n",
    "        #\"range\":[-20, 20],\n",
    "        \"title\": xlabel\n",
    "    },\n",
    "    yaxis= {\n",
    "        #\"range\":[-10, 10],\n",
    "        \"title\": ylabel\n",
    "    }, \n",
    "    height = 600,\n",
    "    width = 640,\n",
    "    annotations=[\n",
    "        dict(\n",
    "            x=-7.0,\n",
    "            y=7.0,\n",
    "#             xref='x',\n",
    "#             yref='y',\n",
    "            text='<b>R = {:.2f}</b>'.format(rval),\n",
    "            showarrow=False \n",
    "            #fontsize = 14\n",
    "#            arrowhead=7,\n",
    "#            ax=0,\n",
    "#            ay=-40\n",
    "        )\n",
    "    ]\n",
    ")\n",
    "\n",
    "\n",
    "fig = pygo.Figure(data=data, layout = layout)\n",
    "py.iplot(fig, filename= 'AS_pmNMPP1_kl_v_sc')"
   ]
  },
  {
   "cell_type": "markdown",
   "metadata": {},
   "source": [
    "Figure [x]: : We collected RNA Sequencing data after inhibiting PKA in S.Cer and K.Lac PKA(AS) mutants growing in YPD containing 3uM 1-NMPP1 after 50min.  Estimated log2 fold change (LFC) values using DESEQ2 [3] are shown for all orthologous genes.  Red shading indicates a gene that has a WGH paralog in S.Cer.  "
   ]
  },
  {
   "cell_type": "code",
   "execution_count": 27,
   "metadata": {},
   "outputs": [
    {
     "data": {
      "text/html": [
       "<div>\n",
       "<style scoped>\n",
       "    .dataframe tbody tr th:only-of-type {\n",
       "        vertical-align: middle;\n",
       "    }\n",
       "\n",
       "    .dataframe tbody tr th {\n",
       "        vertical-align: top;\n",
       "    }\n",
       "\n",
       "    .dataframe thead th {\n",
       "        text-align: right;\n",
       "    }\n",
       "</style>\n",
       "<table border=\"1\" class=\"dataframe\">\n",
       "  <thead>\n",
       "    <tr style=\"text-align: right;\">\n",
       "      <th></th>\n",
       "      <th>N SCer Orthologs</th>\n",
       "      <th>kl_genename</th>\n",
       "      <th>sc_genename</th>\n",
       "      <th>baseMean_KL</th>\n",
       "      <th>log2FoldChange_KL</th>\n",
       "      <th>lfcSE_KL</th>\n",
       "      <th>stat_KL</th>\n",
       "      <th>pvalue_KL</th>\n",
       "      <th>padj_KL</th>\n",
       "      <th>baseMean_SC</th>\n",
       "      <th>log2FoldChange_SC</th>\n",
       "      <th>lfcSE_SC</th>\n",
       "      <th>stat_SC</th>\n",
       "      <th>pvalue_SC</th>\n",
       "      <th>padj_SC</th>\n",
       "      <th>SC_common_name</th>\n",
       "    </tr>\n",
       "  </thead>\n",
       "  <tbody>\n",
       "    <tr>\n",
       "      <th>4463</th>\n",
       "      <td>2</td>\n",
       "      <td>KLLA0C00957g</td>\n",
       "      <td>YCL048W-A</td>\n",
       "      <td>1335.975339</td>\n",
       "      <td>-0.932691</td>\n",
       "      <td>0.309348</td>\n",
       "      <td>-3.015022</td>\n",
       "      <td>0.00257</td>\n",
       "      <td>0.006442</td>\n",
       "      <td>11.836791</td>\n",
       "      <td>7.098852</td>\n",
       "      <td>1.35298</td>\n",
       "      <td>5.246827</td>\n",
       "      <td>1.547408e-07</td>\n",
       "      <td>7.747821e-07</td>\n",
       "      <td>YCL048W-A</td>\n",
       "    </tr>\n",
       "  </tbody>\n",
       "</table>\n",
       "</div>"
      ],
      "text/plain": [
       "      N SCer Orthologs   kl_genename sc_genename  baseMean_KL  \\\n",
       "4463                 2  KLLA0C00957g   YCL048W-A  1335.975339   \n",
       "\n",
       "      log2FoldChange_KL  lfcSE_KL   stat_KL  pvalue_KL   padj_KL  baseMean_SC  \\\n",
       "4463          -0.932691  0.309348 -3.015022    0.00257  0.006442    11.836791   \n",
       "\n",
       "      log2FoldChange_SC  lfcSE_SC   stat_SC     pvalue_SC       padj_SC  \\\n",
       "4463           7.098852   1.35298  5.246827  1.547408e-07  7.747821e-07   \n",
       "\n",
       "     SC_common_name  \n",
       "4463      YCL048W-A  "
      ]
     },
     "execution_count": 27,
     "metadata": {},
     "output_type": "execute_result"
    }
   ],
   "source": [
    "kl_sc_PKA_data.loc[kl_sc_PKA_data['SC_common_name']=='YCL048W-A',:]"
   ]
  },
  {
   "cell_type": "markdown",
   "metadata": {},
   "source": [
    "## Calculate enrichment for paralogs in the various activation sets. "
   ]
  },
  {
   "cell_type": "code",
   "execution_count": 18,
   "metadata": {},
   "outputs": [],
   "source": [
    "#Load PKA targets for both species (from go_enrichment script)\n",
    "fname = data_processing_dir + '\\\\kl_sc_PKA_as_m24_r1g1_20181017\\\\20181204_klsc_pkainh_subsets_for_enrichment.pkl'\n",
    "\n",
    "with open(fname, 'rb') as file:\n",
    "    [gene_sets, background_genes, background_map] = pickle.load(file)\n",
    "  \n"
   ]
  },
  {
   "cell_type": "code",
   "execution_count": 29,
   "metadata": {},
   "outputs": [
    {
     "name": "stdout",
     "output_type": "stream",
     "text": [
      "kl_only_act\n",
      "0.9894782608695653\n",
      "0.5531185837048264\n",
      "kl_only_rep\n",
      "0.8620454545454546\n",
      "0.8313927073441406\n",
      "sc_only_act\n",
      "3.0177883211678833\n",
      "1.0165025350007508e-15\n",
      "sc_only_rep\n",
      "1.0698205128205127\n",
      "0.3772485001453388\n",
      "klsc_act\n",
      "1.1022393162393163\n",
      "0.342521130469972\n",
      "klsc_rep\n",
      "1.522031847133758\n",
      "0.00014168040341073186\n"
     ]
    }
   ],
   "source": [
    "for gene_set_name, gene_set in gene_sets.items(): \n",
    "    print(gene_set_name)\n",
    "    subset_genes = kl_sc_PKA_data[kl_sc_PKA_data['sc_genename'].isin(gene_set)]\n",
    "    subset_genes_w_paralog = subset_genes[subset_genes['N SCer Orthologs']==2]\n",
    "\n",
    "    N_subset_genes = len(subset_genes)\n",
    "    N_subset_genes_w_paralog = len(subset_genes_w_paralog)\n",
    "    N_subset_genes_no_paralog = N_subset_genes - N_subset_genes_w_paralog\n",
    "\n",
    "\n",
    "    N_bg_genes = len(kl_sc_PKA_data)\n",
    "    bg_genes_w_paralog = kl_sc_PKA_data[kl_sc_PKA_data['N SCer Orthologs'] == 2]\n",
    "    N_bg_genes_w_paralog = len(bg_genes_w_paralog)\n",
    "    N_bg_genes_no_paralog = N_bg_genes - len(bg_genes_w_paralog)\n",
    "\n",
    "\n",
    "\n",
    "    oddsratio, pvalue = stats.fisher_exact([[N_subset_genes_w_paralog, N_bg_genes_w_paralog], [N_subset_genes_no_paralog, N_bg_genes_no_paralog]],alternative = 'greater')\n",
    "    print(oddsratio)\n",
    "    print(pvalue)"
   ]
  },
  {
   "cell_type": "markdown",
   "metadata": {},
   "source": [
    "Statement[paralog_enrichment] In the group of genes that were activated by S.Cerevisiae only, ohnologs were enriched (pvalue=1.02e-15, Fisher's exact test) and they were not enriched in the genes that were activated only in K.Lactis (pvalue = 0.55) or in both species (pvalue = 0.34).   Paralogs were enriched in genes that were repressed in both species as well (pvalue = 1.42e-4) but not in genes repressed under pka inhibition in a species specific manner (pvalue = 0.83, 0.38 for K.Lac and S.Cer respectively) "
   ]
  },
  {
   "cell_type": "markdown",
   "metadata": {},
   "source": [
    "## Plot Paralog raw expression"
   ]
  },
  {
   "cell_type": "code",
   "execution_count": 9,
   "metadata": {},
   "outputs": [],
   "source": [
    "#Load GOI ohnolog data\n",
    "\n",
    "fname = data_processing_dir + '\\\\kl_sc_PKA_as_m24_r1g1_20181017\\\\gois_20181205.pkl'\n",
    "\n",
    "with open(fname, 'rb') as file:\n",
    "    [ohnologs_goi,ohnologs_expression_sorted,goi_criteria] = pickle.load(file)\n",
    "\n",
    "    \n",
    "#Load rlog data as background\n",
    "\n",
    "#load average rlog data\n",
    "rlog_data_mean_var = {}\n",
    "for spec in ['SC', 'KL']:\n",
    "    rlog_data_mean_var[spec] = pd.read_csv(os.path.normpath(data_processing_dir + '\\\\kl_sc_PKA_as_m24_r1g1_20181017\\\\20181017_rlog_mean_' + spec + '.csv' ),index_col=0)\n",
    "\n",
    "#Load KL ortholog data\n",
    "kl_orthologs = pd.read_pickle(data_processing_dir + \"ortholog_files_YGOB/kl_orthologs.pkl\")\n"
   ]
  },
  {
   "cell_type": "code",
   "execution_count": 8,
   "metadata": {},
   "outputs": [
    {
     "data": {
      "text/plain": [
       "<matplotlib.collections.PathCollection at 0x1dd4ea47208>"
      ]
     },
     "execution_count": 8,
     "metadata": {},
     "output_type": "execute_result"
    },
    {
     "data": {
      "image/png": "[encoded data removed]",
      "text/plain": [
       "<Figure size 432x288 with 1 Axes>"
      ]
     },
     "metadata": {
      "needs_background": "light"
     },
     "output_type": "display_data"
    }
   ],
   "source": [
    "plt.scatter(ohnologs_goi['AS_WT_cont_mean_low'], ohnologs_goi['AS_WT_cont_mean_high'])"
   ]
  },
  {
   "cell_type": "code",
   "execution_count": 4,
   "metadata": {},
   "outputs": [
    {
     "data": {
      "text/html": [
       "<iframe id=\"igraph\" scrolling=\"no\" style=\"border:none;\" seamless=\"seamless\" src=\"https://plot.ly/~heineike02_student/227.embed\" height=\"525px\" width=\"100%\"></iframe>"
      ],
      "text/plain": [
       "<plotly.tools.PlotlyDisplay object>"
      ]
     },
     "execution_count": 4,
     "metadata": {},
     "output_type": "execute_result"
    }
   ],
   "source": [
    "colors = {'low': 'blue', 'high': 'red'}\n",
    "\n",
    "hover_text = []\n",
    "for ind, row in ohnologs_goi.iterrows():\n",
    "    hover_text.append(('Low Paralog: {SC_common_name_low}<br>  LFC: {LFC_low:.2f}<br>  -log10(pval): {pval_low:.2f}<br>' +\n",
    "                       'High Paralog: {SC_common_name_high}<br>  LFC: {LFC_high:.2f}<br>  -log10(pval): {pval_high:.2f}').format(\n",
    "                        SC_common_name_low = row['SC_common_name_low'],\n",
    "                        LFC_low = row['log2FoldChange_low'],\n",
    "                        pval_low = -np.log10(row['pvalue_low']),\n",
    "                        SC_common_name_high = row['SC_common_name_high'],\n",
    "                        LFC_high = row['log2FoldChange_high'],\n",
    "                        pval_high = -np.log10(row['pvalue_high']))\n",
    "                      )\n",
    "data = []\n",
    "\n",
    "for level in ['low','high']:\n",
    "    trace = pygo.Scatter(\n",
    "                x = ohnologs_goi['AS_WT_cont_mean_' + level], \n",
    "                y =  ohnologs_goi['AS_WT_drug_mean_' + level],\n",
    "                text = hover_text,\n",
    "                mode = 'markers',\n",
    "                marker = {'opacity': 0.9,  \n",
    "                          'color': colors[level],\n",
    "                          'size': 10}, \n",
    "                name = level + ' induction paralogs'\n",
    "            )\n",
    "\n",
    "    data.append(trace)\n",
    "\n",
    "layout = pygo.Layout(\n",
    "    xaxis= {\n",
    "        #\"range\":[-20, 20],\n",
    "        \"title\": 'rlog -drug'\n",
    "    },\n",
    "    yaxis= {\n",
    "        #\"range\":[-10, 10],\n",
    "        \"title\": 'rlog +drug'\n",
    "    }\n",
    ")\n",
    "\n",
    "\n",
    "fig = pygo.Figure(data=data, layout = layout)\n",
    "py.iplot(fig, filename= 'rlog_for_paralogs')"
   ]
  },
  {
   "cell_type": "code",
   "execution_count": 42,
   "metadata": {},
   "outputs": [],
   "source": [
    "#Merge k.lac data with ohnolog_gois\n",
    "ohnologs_goi_klorth = ohnologs_goi.merge(kl_orthologs, how='inner', left_on='sc_genename_low',right_on='sc_genename')\n",
    "ohnologs_goi_klorth_rlog = ohnologs_goi_klorth.merge(rlog_data_mean_var['KL'], how = 'inner', left_on='kl_genename', right_index = True)"
   ]
  },
  {
   "cell_type": "code",
   "execution_count": 54,
   "metadata": {},
   "outputs": [
    {
     "data": {
      "text/plain": [
       "91"
      ]
     },
     "execution_count": 54,
     "metadata": {},
     "output_type": "execute_result"
    }
   ],
   "source": [
    "len(ohnologs_goi)"
   ]
  },
  {
   "cell_type": "code",
   "execution_count": 50,
   "metadata": {},
   "outputs": [
    {
     "name": "stderr",
     "output_type": "stream",
     "text": [
      "C:\\Users\\BMH_work\\Anaconda3\\lib\\site-packages\\scipy\\stats\\stats.py:1713: FutureWarning:\n",
      "\n",
      "Using a non-tuple sequence for multidimensional indexing is deprecated; use `arr[tuple(seq)]` instead of `arr[seq]`. In the future this will be interpreted as an array index, `arr[np.array(seq)]`, which will result either in an error or a different result.\n",
      "\n"
     ]
    },
    {
     "data": {
      "text/plain": [
       "Text(0.5,1,'K.Lac Orthologs')"
      ]
     },
     "execution_count": 50,
     "metadata": {},
     "output_type": "execute_result"
    },
    {
     "data": {
      "image/png": "[encoded data removed]",
      "text/plain": [
       "<Figure size 1440x360 with 3 Axes>"
      ]
     },
     "metadata": {
      "needs_background": "light"
     },
     "output_type": "display_data"
    }
   ],
   "source": [
    "## Make Histograms (put dots on x axis)\n",
    "\n",
    "fig, axarr = plt.subplots(1,3, sharex=True, sharey=True, figsize = [20,5])\n",
    "\n",
    "level = 'low'\n",
    "\n",
    "for jj, level in enumerate(['low','high']):\n",
    "    ax = axarr[jj]\n",
    "    sns.distplot(ohnologs_goi['AS_WT_cont_mean_' + level], hist=False, rug=True, ax=ax, \n",
    "                 rug_kws={\"color\": \"blue\"},\n",
    "                 kde_kws={\"color\": \"blue\", \"shade\":True, \"lw\": 2, \"label\": \"GOI No Drug\"})\n",
    "    sns.distplot(ohnologs_goi['AS_WT_drug_mean_' + level], hist=False, rug=True, ax=ax, \n",
    "                 rug_kws={\"color\": \"green\"},\n",
    "                 kde_kws={\"color\": \"green\", \"shade\":True, \"lw\": 2, \"label\": \"GOI 3uM 1NMPP1\"})\n",
    "    sns.distplot(rlog_data_mean_var['SC']['AS_WT_cont_mean'], hist=False, ax=ax,\n",
    "                 kde_kws={\"color\": \"grey\",  \"lw\": 2, \"label\": \"Bg No Drug\"})\n",
    "    sns.distplot(rlog_data_mean_var['SC']['AS_WT_drug_mean'], hist=False, ax=ax,\n",
    "                 kde_kws={\"color\": \"black\",  \"lw\": 2, \"label\": \"Bg 3uM 1NMPP1\"})\n",
    "\n",
    "    ax.get_legend().remove()\n",
    "    ax.set_xlabel('avg rlog expression')\n",
    "    ax.set_title('S.Cer ' + level + ' induction paralogs', fontsize = 20)\n",
    "\n",
    "\n",
    "\n",
    "ax = axarr[2]\n",
    "sns.distplot(ohnologs_goi_klorth_rlog['AS_WT_cont_mean'], hist=False, rug=True, ax=ax, \n",
    "             rug_kws={\"color\": \"blue\"},\n",
    "             kde_kws={\"color\": \"blue\", \"shade\":True, \"lw\": 2, \"label\": \"GOI No Drug\"})\n",
    "sns.distplot(ohnologs_goi_klorth_rlog['AS_WT_drug_mean'], hist=False, rug=True, ax=ax, \n",
    "             rug_kws={\"color\": \"green\"},\n",
    "             kde_kws={\"color\": \"green\", \"shade\":True, \"lw\": 2, \"label\": \"GOI 3uM 1NMPP1\"})\n",
    "sns.distplot(rlog_data_mean_var['KL']['AS_WT_cont_mean'], hist=False, ax=ax,\n",
    "             kde_kws={\"color\": \"grey\",  \"lw\": 2, \"label\": \"Bg No Drug\"})\n",
    "sns.distplot(rlog_data_mean_var['KL']['AS_WT_drug_mean'], hist=False, ax=ax,\n",
    "             kde_kws={\"color\": \"black\",  \"lw\": 2, \"label\": \"Bg 3uM 1NMPP1\"})\n",
    "ax.legend(bbox_to_anchor=(1.05, 1), loc=2, borderaxespad=0.)\n",
    "ax.set_xlabel('avg rlog expression')\n",
    "ax.set_title('K.Lac Orthologs', fontsize = 20)\n",
    "\n",
    "\n",
    "\n",
    "    \n",
    "    \n",
    "\n",
    "    "
   ]
  },
  {
   "cell_type": "markdown",
   "metadata": {},
   "source": [
    "Figure [rlog gois]:  K.Lactis orthologs of the WGH paralogs with differential induction in response to PKA inhibition tend to have constitutive and relatively high expression levels.  This is similar to the low-induction S.Cerevisiae WGH paralogs. Kernel density estimates for average rlog data for the indicated sets of gens are plotted with (green) and without (blue) treatment with 3uM NMPP1 (green).  Data is shown as ticks on the x axis.  The background for the S.Cer genes is all S.Cer genes, and for K.Lac orthologs is all K.Lac genes.  \n",
    "Note: For the S.Cer genes there are 91 paralog pairs that meet my criteria for differential expression.  87 of those have K.Lac Orthologs"
   ]
  },
  {
   "cell_type": "code",
   "execution_count": 5,
   "metadata": {},
   "outputs": [],
   "source": [
    "# Load gene lists from both species\n",
    "\n",
    "gene_sets = {}\n",
    "\n",
    "for spec in ['SC','KL']:\n",
    "    fname = data_processing_dir + '\\\\kl_sc_PKA_as_m24_r1g1_20181017\\\\20181128_r1g1_m24_pka_targets_' + spec + '_high_thresh.pkl'\n",
    "    with open(fname, 'rb') as file:\n",
    "        data = pickle.load(file)\n",
    "        gene_set = data[0]\n",
    "        gene_sets[spec] = gene_set\n",
    "\n",
    "        \n",
    "msn24_sets = {}\n",
    "\n",
    "for spec in ['SC','KL']:\n",
    "    fname = data_processing_dir + '\\\\kl_sc_PKA_as_m24_r1g1_20181017\\\\20181128_m24_pka_targets_vary_slope_' + spec + '.pkl'\n",
    "    with open(fname, 'rb') as file:\n",
    "        msn24_sets[spec] = pickle.load(file)\n",
    "        "
   ]
  },
  {
   "cell_type": "code",
   "execution_count": 6,
   "metadata": {},
   "outputs": [
    {
     "data": {
      "text/html": [
       "<iframe id=\"igraph\" scrolling=\"no\" style=\"border:none;\" seamless=\"seamless\" src=\"https://plot.ly/~heineike02_student/214.embed\" height=\"525px\" width=\"100%\"></iframe>"
      ],
      "text/plain": [
       "<plotly.tools.PlotlyDisplay object>"
      ]
     },
     "execution_count": 6,
     "metadata": {},
     "output_type": "execute_result"
    }
   ],
   "source": [
    "#Compare Msn2/4 activation targets across species\n",
    "\n",
    "data = []\n",
    "\n",
    "msn2_level = 'M_75'\n",
    "#target_set = 'm24_nmpp1_act'\n",
    "\n",
    "xlabel = 'LFC AS -/+ K.Lac'\n",
    "ylabel = 'LFC AS -/+ S.Cer'\n",
    "\n",
    "sc_target_set = set(msn24_sets['SC'][msn2_level]) \n",
    "kl_target_set = set(kl_sc_PKA_data.loc[kl_sc_PKA_data['kl_genename'].isin(msn24_sets['KL'][msn2_level]),'sc_genename'])\n",
    "\n",
    "gene_subset = { 'Neither': set(kl_sc_PKA_data['sc_genename']) - (sc_target_set | kl_target_set),\n",
    "                'KL only': kl_target_set-sc_target_set, \n",
    "                'SC only': sc_target_set-kl_target_set, \n",
    "                'Both': sc_target_set & kl_target_set\n",
    "               }\n",
    "               \n",
    "colors = {'KL only':'blue', \n",
    "          'SC only':'orange', \n",
    "          'Both': 'purple', \n",
    "          'Neither': 'gray'}\n",
    "\n",
    "for geneset_name, geneset in gene_subset.items():\n",
    "    \n",
    "    kl_sc_PKA_data_subset = kl_sc_PKA_data[kl_sc_PKA_data['sc_genename'].isin(geneset)]\n",
    "    \n",
    "    opacity = 0.8\n",
    "    if geneset_name == 'Neither':\n",
    "        opacity = 0.3\n",
    "    \n",
    "    trace = pygo.Scatter(\n",
    "                x = kl_sc_PKA_data_subset['log2FoldChange_KL'], \n",
    "                y =  kl_sc_PKA_data_subset['log2FoldChange_SC'],\n",
    "                text = kl_sc_PKA_data_subset['SC_common_name'],\n",
    "                mode = 'markers',\n",
    "                marker = {'opacity': opacity,  \n",
    "                          'color': colors[geneset_name],\n",
    "                          'size': 10}, \n",
    "                name = geneset_name\n",
    "            )\n",
    "\n",
    "    data.append(trace)\n",
    "\n",
    "layout = pygo.Layout(\n",
    "    xaxis= {\n",
    "        #\"range\":[-20, 20],\n",
    "        \"title\": xlabel\n",
    "    },\n",
    "    yaxis= {\n",
    "        #\"range\":[-10, 10],\n",
    "        \"title\": ylabel\n",
    "    }\n",
    ")\n",
    "\n",
    "\n",
    "fig = pygo.Figure(data=data, layout = layout)\n",
    "py.iplot(fig, filename= 'AS_pmNMPP1_kl_v_sc_' + msn2_level)"
   ]
  },
  {
   "cell_type": "code",
   "execution_count": 7,
   "metadata": {},
   "outputs": [
    {
     "data": {
      "text/html": [
       "<iframe id=\"igraph\" scrolling=\"no\" style=\"border:none;\" seamless=\"seamless\" src=\"https://plot.ly/~heineike02_student/216.embed\" height=\"525px\" width=\"100%\"></iframe>"
      ],
      "text/plain": [
       "<plotly.tools.PlotlyDisplay object>"
      ]
     },
     "execution_count": 7,
     "metadata": {},
     "output_type": "execute_result"
    }
   ],
   "source": [
    "data = []\n",
    "\n",
    "target_set = 'r1g1_rep'\n",
    "\n",
    "xlabel = 'LFC AS -/+ K.Lac'\n",
    "ylabel = 'LFC AS -/+ S.Cer'\n",
    "\n",
    "sc_target_set = gene_sets['SC'][target_set]\n",
    "kl_target_set = set(kl_sc_PKA_data.loc[kl_sc_PKA_data['kl_genename'].isin(gene_sets['KL'][target_set]),'sc_genename'])\n",
    "\n",
    "gene_subset = { 'Neither': set(kl_sc_PKA_data['sc_genename']) - (sc_target_set | kl_target_set),\n",
    "                'KL only': kl_target_set-sc_target_set, \n",
    "                'SC only': sc_target_set-kl_target_set, \n",
    "                'Both': sc_target_set & kl_target_set\n",
    "               }\n",
    "               \n",
    "colors = {'KL only':'blue', \n",
    "          'SC only':'orange', \n",
    "          'Both': 'purple', \n",
    "          'Neither': 'gray'}\n",
    "\n",
    "for geneset_name, geneset in gene_subset.items():\n",
    "    \n",
    "    kl_sc_PKA_data_subset = kl_sc_PKA_data[kl_sc_PKA_data['sc_genename'].isin(geneset)]\n",
    "    \n",
    "    opacity = 0.8\n",
    "    if geneset_name == 'Neither':\n",
    "        opacity = 0.3\n",
    "    \n",
    "    trace = pygo.Scatter(\n",
    "                x = kl_sc_PKA_data_subset['log2FoldChange_KL'], \n",
    "                y =  kl_sc_PKA_data_subset['log2FoldChange_SC'],\n",
    "                text = kl_sc_PKA_data_subset['SC_common_name'],\n",
    "                mode = 'markers',\n",
    "                marker = {'opacity': opacity,  \n",
    "                          'color': colors[geneset_name],\n",
    "                          'size': 10}, \n",
    "                name = geneset_name\n",
    "            )\n",
    "\n",
    "    data.append(trace)\n",
    "\n",
    "layout = pygo.Layout(\n",
    "    xaxis= {\n",
    "        #\"range\":[-20, 20],\n",
    "        \"title\": xlabel\n",
    "    },\n",
    "    yaxis= {\n",
    "        #\"range\":[-10, 10],\n",
    "        \"title\": ylabel\n",
    "    }\n",
    ")\n",
    "\n",
    "\n",
    "fig = pygo.Figure(data=data, layout = layout)\n",
    "py.iplot(fig, filename= 'AS_pmNMPP1_kl_v_sc_' + target_set)"
   ]
  },
  {
   "cell_type": "code",
   "execution_count": 15,
   "metadata": {},
   "outputs": [
    {
     "data": {
      "text/plain": [
       "{'EBG00000981576',\n",
       " 'EBG00000981954',\n",
       " 'EBG00000982249',\n",
       " 'EBG00000982282',\n",
       " 'KLLA0A00506g',\n",
       " 'KLLA0A01221g',\n",
       " 'KLLA0A02387g',\n",
       " 'KLLA0A02629g',\n",
       " 'KLLA0A02717g',\n",
       " 'KLLA0A04081g',\n",
       " 'KLLA0A04125g',\n",
       " 'KLLA0A05852g',\n",
       " 'KLLA0A09229g',\n",
       " 'KLLA0A10527g',\n",
       " 'KLLA0A11209g',\n",
       " 'KLLA0B00803g',\n",
       " 'KLLA0B04422g',\n",
       " 'KLLA0B04543g',\n",
       " 'KLLA0B04620g',\n",
       " 'KLLA0B08800g',\n",
       " 'KLLA0B09482g',\n",
       " 'KLLA0B09526g',\n",
       " 'KLLA0B09878g',\n",
       " 'KLLA0B10263g',\n",
       " 'KLLA0B11770g',\n",
       " 'KLLA0B11792g',\n",
       " 'KLLA0B12540g',\n",
       " 'KLLA0B12672g',\n",
       " 'KLLA0B12694g',\n",
       " 'KLLA0B12760g',\n",
       " 'KLLA0B12892g',\n",
       " 'KLLA0B13123g',\n",
       " 'KLLA0B14234g',\n",
       " 'KLLA0B14751g',\n",
       " 'KLLA0C01001g',\n",
       " 'KLLA0C01177g',\n",
       " 'KLLA0C02035g',\n",
       " 'KLLA0C02937g',\n",
       " 'KLLA0C04686g',\n",
       " 'KLLA0C05324g',\n",
       " 'KLLA0C05456g',\n",
       " 'KLLA0C05940g',\n",
       " 'KLLA0C06006g',\n",
       " 'KLLA0C06072g',\n",
       " 'KLLA0C08679g',\n",
       " 'KLLA0C08888g',\n",
       " 'KLLA0C10505g',\n",
       " 'KLLA0C16027g',\n",
       " 'KLLA0C16269g',\n",
       " 'KLLA0C16489g',\n",
       " 'KLLA0C17160g',\n",
       " 'KLLA0C17886r',\n",
       " 'KLLA0C17963g',\n",
       " 'KLLA0C18117g',\n",
       " 'KLLA0C18722g',\n",
       " 'KLLA0C18909g',\n",
       " 'KLLA0C19085g',\n",
       " 'KLLA0C19132g',\n",
       " 'KLLA0C19184g',\n",
       " 'KLLA0D00979g',\n",
       " 'KLLA0D03751g',\n",
       " 'KLLA0D03905g',\n",
       " 'KLLA0D04202g',\n",
       " 'KLLA0D06567g',\n",
       " 'KLLA0D07964g',\n",
       " 'KLLA0D11143g',\n",
       " 'KLLA0D11264g',\n",
       " 'KLLA0D11440g',\n",
       " 'KLLA0D11638g',\n",
       " 'KLLA0D13046g',\n",
       " 'KLLA0D13860g',\n",
       " 'KLLA0D15081g',\n",
       " 'KLLA0D15576g',\n",
       " 'KLLA0D16412g',\n",
       " 'KLLA0D17248g',\n",
       " 'KLLA0D17446g',\n",
       " 'KLLA0D18172g',\n",
       " 'KLLA0D19272g',\n",
       " 'KLLA0D19492g',\n",
       " 'KLLA0E00485g',\n",
       " 'KLLA0E00661g',\n",
       " 'KLLA0E01783g',\n",
       " 'KLLA0E02421g',\n",
       " 'KLLA0E02971g',\n",
       " 'KLLA0E03983g',\n",
       " 'KLLA0E04181g',\n",
       " 'KLLA0E05875g',\n",
       " 'KLLA0E06051g',\n",
       " 'KLLA0E06183g',\n",
       " 'KLLA0E09175g',\n",
       " 'KLLA0E10297g',\n",
       " 'KLLA0E12035g',\n",
       " 'KLLA0E13773g',\n",
       " 'KLLA0E14213g',\n",
       " 'KLLA0E15577g',\n",
       " 'KLLA0E15665g',\n",
       " 'KLLA0E19317g',\n",
       " 'KLLA0E20527g',\n",
       " 'KLLA0E23079g',\n",
       " 'KLLA0E23343g',\n",
       " 'KLLA0E24223g',\n",
       " 'KLLA0F00528g',\n",
       " 'KLLA0F02838g',\n",
       " 'KLLA0F03927g',\n",
       " 'KLLA0F05940g',\n",
       " 'KLLA0F06402g',\n",
       " 'KLLA0F07337g',\n",
       " 'KLLA0F07348g',\n",
       " 'KLLA0F07953g',\n",
       " 'KLLA0F12034g',\n",
       " 'KLLA0F13200g',\n",
       " 'KLLA0F13398g',\n",
       " 'KLLA0F14322g',\n",
       " 'KLLA0F16104g',\n",
       " 'KLLA0F16423g',\n",
       " 'KLLA0F17050g',\n",
       " 'KLLA0F18909g',\n",
       " 'KLLA0F20680g',\n",
       " 'KLLA0F22275g',\n",
       " 'KLLA0F22297g',\n",
       " 'KLLA0F22341g',\n",
       " 'KLLA0F23133g',\n",
       " 'KLLA0F24772g',\n",
       " 'KLLA0F25916g',\n",
       " 'KLLA0F26521g',\n",
       " 'KLLA0F27819g'}"
      ]
     },
     "execution_count": 15,
     "metadata": {},
     "output_type": "execute_result"
    }
   ],
   "source": [
    "gene_subset['Msn2/4 only']"
   ]
  },
  {
   "cell_type": "code",
   "execution_count": 16,
   "metadata": {},
   "outputs": [
    {
     "data": {
      "text/html": [
       "<iframe id=\"igraph\" scrolling=\"no\" style=\"border:none;\" seamless=\"seamless\" src=\"https://plot.ly/~heineike02_student/220.embed\" height=\"525px\" width=\"100%\"></iframe>"
      ],
      "text/plain": [
       "<plotly.tools.PlotlyDisplay object>"
      ]
     },
     "execution_count": 16,
     "metadata": {},
     "output_type": "execute_result"
    }
   ],
   "source": [
    "data = []\n",
    "\n",
    "spec = 'KL'\n",
    "\n",
    "msn2_level = 'M_75'\n",
    "\n",
    "r1g1_rep_genes = gene_sets[spec]['r1g1_rep']\n",
    "m24_nmpp1_act_genes = set(msn24_sets[spec][msn2_level])\n",
    "\n",
    "xlabel = 'LFC AS -/+ K.Lac'\n",
    "ylabel = 'LFC AS -/+ S.Cer'\n",
    "\n",
    "gene_subset = { 'Neither': set(kl_sc_PKA_data[spec.lower() + '_genename']) - (r1g1_rep_genes | m24_nmpp1_act_genes),\n",
    "                'Rph1/Gis1 only': r1g1_rep_genes - m24_nmpp1_act_genes, \n",
    "                'Msn2/4 only': m24_nmpp1_act_genes - r1g1_rep_genes, \n",
    "                'Both': r1g1_rep_genes & m24_nmpp1_act_genes\n",
    "               }\n",
    "               \n",
    "colors = {'Rph1/Gis1 only':'blue', \n",
    "          'Msn2/4 only':'red', \n",
    "          'Both': 'green', \n",
    "          'Neither': 'gray'}\n",
    "\n",
    "for geneset_name, geneset in gene_subset.items():\n",
    "    \n",
    "    kl_sc_PKA_data_subset = kl_sc_PKA_data[kl_sc_PKA_data[spec.lower() + '_genename'].isin(geneset)]\n",
    "    \n",
    "    opacity = 0.8\n",
    "    if geneset_name == 'Neither':\n",
    "        opacity = 0.3\n",
    "    \n",
    "    trace = pygo.Scatter(\n",
    "                x = kl_sc_PKA_data_subset['log2FoldChange_KL'], \n",
    "                y =  kl_sc_PKA_data_subset['log2FoldChange_SC'],\n",
    "                text = kl_sc_PKA_data_subset['SC_common_name'],\n",
    "                mode = 'markers',\n",
    "                marker = {'opacity': opacity,  \n",
    "                          'color': colors[geneset_name],\n",
    "                          'size': 10}, \n",
    "                name = geneset_name\n",
    "            )\n",
    "\n",
    "    data.append(trace)\n",
    "\n",
    "layout = pygo.Layout(\n",
    "    xaxis= {\n",
    "        #\"range\":[-20, 20],\n",
    "        \"title\": xlabel\n",
    "    },\n",
    "    yaxis= {\n",
    "        #\"range\":[-10, 10],\n",
    "        \"title\": ylabel\n",
    "    }\n",
    ")\n",
    "\n",
    "\n",
    "fig = pygo.Figure(data=data, layout = layout)\n",
    "py.iplot(fig, filename= 'AS_pmNMPP1_kl_v_sc_' + spec + '_r1g1_m24_'+msn2_level)"
   ]
  },
  {
   "cell_type": "code",
   "execution_count": 18,
   "metadata": {},
   "outputs": [
    {
     "data": {
      "text/html": [
       "<div>\n",
       "<style scoped>\n",
       "    .dataframe tbody tr th:only-of-type {\n",
       "        vertical-align: middle;\n",
       "    }\n",
       "\n",
       "    .dataframe tbody tr th {\n",
       "        vertical-align: top;\n",
       "    }\n",
       "\n",
       "    .dataframe thead th {\n",
       "        text-align: right;\n",
       "    }\n",
       "</style>\n",
       "<table border=\"1\" class=\"dataframe\">\n",
       "  <thead>\n",
       "    <tr style=\"text-align: right;\">\n",
       "      <th></th>\n",
       "      <th>N SCer Orthologs</th>\n",
       "      <th>kl_genename</th>\n",
       "      <th>sc_genename</th>\n",
       "      <th>baseMean_KL</th>\n",
       "      <th>log2FoldChange_KL</th>\n",
       "      <th>lfcSE_KL</th>\n",
       "      <th>stat_KL</th>\n",
       "      <th>pvalue_KL</th>\n",
       "      <th>padj_KL</th>\n",
       "      <th>baseMean_SC</th>\n",
       "      <th>log2FoldChange_SC</th>\n",
       "      <th>lfcSE_SC</th>\n",
       "      <th>stat_SC</th>\n",
       "      <th>pvalue_SC</th>\n",
       "      <th>padj_SC</th>\n",
       "      <th>SC_common_name</th>\n",
       "    </tr>\n",
       "  </thead>\n",
       "  <tbody>\n",
       "    <tr>\n",
       "      <th>3238</th>\n",
       "      <td>1</td>\n",
       "      <td>KLLA0F25916g</td>\n",
       "      <td>YHR005C</td>\n",
       "      <td>488.455583</td>\n",
       "      <td>7.399321</td>\n",
       "      <td>0.55758</td>\n",
       "      <td>13.270415</td>\n",
       "      <td>3.436744e-40</td>\n",
       "      <td>2.080613e-38</td>\n",
       "      <td>122.072697</td>\n",
       "      <td>-0.346963</td>\n",
       "      <td>0.364511</td>\n",
       "      <td>-0.951858</td>\n",
       "      <td>0.341169</td>\n",
       "      <td>0.463977</td>\n",
       "      <td>GPA1</td>\n",
       "    </tr>\n",
       "  </tbody>\n",
       "</table>\n",
       "</div>"
      ],
      "text/plain": [
       "      N SCer Orthologs   kl_genename sc_genename  baseMean_KL  \\\n",
       "3238                 1  KLLA0F25916g     YHR005C   488.455583   \n",
       "\n",
       "      log2FoldChange_KL  lfcSE_KL    stat_KL     pvalue_KL       padj_KL  \\\n",
       "3238           7.399321   0.55758  13.270415  3.436744e-40  2.080613e-38   \n",
       "\n",
       "      baseMean_SC  log2FoldChange_SC  lfcSE_SC   stat_SC  pvalue_SC   padj_SC  \\\n",
       "3238   122.072697          -0.346963  0.364511 -0.951858   0.341169  0.463977   \n",
       "\n",
       "     SC_common_name  \n",
       "3238           GPA1  "
      ]
     },
     "execution_count": 18,
     "metadata": {},
     "output_type": "execute_result"
    }
   ],
   "source": [
    "kl_sc_PKA_data[kl_sc_PKA_data['SC_common_name']=='GPA1']"
   ]
  }
 ],
 "metadata": {
  "kernelspec": {
   "display_name": "Python 3",
   "language": "python",
   "name": "python3"
  },
  "language_info": {
   "codemirror_mode": {
    "name": "ipython",
    "version": 3
   },
   "file_extension": ".py",
   "mimetype": "text/x-python",
   "name": "python",
   "nbconvert_exporter": "python",
   "pygments_lexer": "ipython3",
   "version": "3.7.0"
  }
 },
 "nbformat": 4,
 "nbformat_minor": 2
}
