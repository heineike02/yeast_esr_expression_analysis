{
 "cells": [
  {
   "cell_type": "code",
   "execution_count": 22,
   "metadata": {},
   "outputs": [],
   "source": [
    "import os\n",
    "import hashlib"
   ]
  },
  {
   "cell_type": "code",
   "execution_count": 27,
   "metadata": {},
   "outputs": [],
   "source": [
    "base_dir = os.path.normpath('D:\\\\Heineike_2020\\\\RNA_seq_data\\\\geo_submission')"
   ]
  },
  {
   "cell_type": "code",
   "execution_count": 24,
   "metadata": {},
   "outputs": [],
   "source": [
    "# Rename all files to remove UTR and UTR_400 label and to add in full 70XX index\n",
    "\n",
    "# directory, empty, fname_list = list(os.walk(base_dir + os.sep + counts))[0]\n",
    "\n",
    "# for fname in fname_list: \n",
    "#     #fname = 'read_counts_UTR_SC_44.txt'  #'read_counts_UTR_400_KL_17.txt'\n",
    "#     spec = fname.split('_')[-2] \n",
    "#     no = '70' + fname.split('_')[-1]\n",
    "#     fname_new = 'read_counts_' + spec + '_' + no\n",
    "#     print(fname_new)\n",
    "#     os.rename(base_dir + os.sep + fname, base_dir + os.sep + counts + os.sep + fname_new)"
   ]
  },
  {
   "cell_type": "code",
   "execution_count": 56,
   "metadata": {},
   "outputs": [],
   "source": [
    "hashes_fname = base_dir + os.sep + 'hashes.csv'\n",
    "\n",
    "\n",
    "with open(hashes_fname, 'w') as f_hash: \n",
    "    directory, empty, fname_list = list(os.walk(base_dir+ os.sep + 'counts'))[0]\n",
    "    \n",
    "    #get md5 sums for individual count files\n",
    "    for fname in fname_list: \n",
    "        with open(base_dir + os.sep + 'counts' + os.sep + fname, 'r') as f_check: \n",
    "            data = f_check.read() \n",
    "            md5_returned = hashlib.md5(str.encode(data, encoding='utf8')).hexdigest()\n",
    "            f_hash.write(fname + ',' + md5_returned + '\\n')\n",
    "    \n",
    "    #get md5 sums for supplementary files\n",
    "    directory, empty, fname_list = list(os.walk(base_dir))[0]\n",
    "    \n",
    "    for fname in fname_list: \n",
    "        if fname[0:2]=='20':\n",
    "            with open(base_dir + os.sep + fname,'r') as f_check: \n",
    "                data = f_check.read() \n",
    "                md5_returned = hashlib.md5(str.encode(data, encoding='utf8')).hexdigest()\n",
    "                f_hash.write(fname + ',' + md5_returned + '\\n')"
   ]
  },
  {
   "cell_type": "code",
   "execution_count": 55,
   "metadata": {},
   "outputs": [
    {
     "data": {
      "text/plain": [
       "'geo_submission.xlsx'"
      ]
     },
     "execution_count": 55,
     "metadata": {},
     "output_type": "execute_result"
    }
   ],
   "source": [
    "fname"
   ]
  },
  {
   "cell_type": "code",
   "execution_count": 41,
   "metadata": {},
   "outputs": [
    {
     "data": {
      "text/plain": [
       "'d1ec67956a87651f04a054a0d51e228e'"
      ]
     },
     "execution_count": 41,
     "metadata": {},
     "output_type": "execute_result"
    }
   ],
   "source": [
    "hashlib.md5(str.encode(data, encoding='utf8')).hexdigest()"
   ]
  },
  {
   "cell_type": "code",
   "execution_count": 45,
   "metadata": {},
   "outputs": [],
   "source": []
  },
  {
   "cell_type": "code",
   "execution_count": 52,
   "metadata": {},
   "outputs": [
    {
     "data": {
      "text/plain": [
       "True"
      ]
     },
     "execution_count": 52,
     "metadata": {},
     "output_type": "execute_result"
    }
   ],
   "source": []
  }
 ],
 "metadata": {
  "kernelspec": {
   "display_name": "Python 3",
   "language": "python",
   "name": "python3"
  },
  "language_info": {
   "codemirror_mode": {
    "name": "ipython",
    "version": 3
   },
   "file_extension": ".py",
   "mimetype": "text/x-python",
   "name": "python",
   "nbconvert_exporter": "python",
   "pygments_lexer": "ipython3",
   "version": "3.7.7"
  }
 },
 "nbformat": 4,
 "nbformat_minor": 4
}
