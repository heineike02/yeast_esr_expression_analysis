{
 "cells": [
  {
   "cell_type": "code",
   "execution_count": 1,
   "metadata": {
    "collapsed": true
   },
   "outputs": [],
   "source": [
    "import os\n",
    "base_dir = 'C:\\Users\\Ben\\Documents\\GitHub\\expression_broad_data'\n",
    "os.chdir(base_dir) \n",
    "# from core import expression_plots \n",
    "# from core import io_library \n",
    "# # from IPython.core.debugger import Tracer\n",
    "# import numpy as np\n",
    "import pandas as pd\n",
    "# import re\n",
    "# import matplotlib.pyplot as plt \n",
    "# import seaborn as sns\n",
    "# import csv\n",
    "# import scipy.cluster.hierarchy as sch\n",
    "# from collections import Counter, defaultdict\n",
    "# import math\n",
    "# import plotly.plotly as py\n",
    "# py.sign_in('heineike02', 'APPjKrtARaN2ZgUYIkqr')\n",
    "# # Learn about API authentication here: https://plot.ly/pandas/getting-started\n",
    "# # Find your api_key here: https://plot.ly/settings/api\n",
    "\n",
    "# #from sklearn.cluster import AgglomerativeClustering"
   ]
  },
  {
   "cell_type": "code",
   "execution_count": null,
   "metadata": {
    "collapsed": true
   },
   "outputs": [],
   "source": [
    "#Writes Metadata file for KL and SC experiments\n",
    "#Only needs to be done once\n",
    "\n",
    "kl_PKA_metadata = [['sample_name', 'strain','NMPP1'],\n",
    "                      ['AS1_minus', 'AS','minus'],\n",
    "                      ['AS1_plus', 'AS', 'plus'],\n",
    "                      ['AS2_minus', 'AS','minus'],\n",
    "                      ['AS2_plus', 'AS', 'plus'],\n",
    "                      ['WT_minus', 'WT', 'minus'],\n",
    "                      ['WT_plus', 'WT', 'plus']]\n",
    "\n",
    "with open(base_dir + \"\\expression_data\\kl_PKA_as_20160824\\kl_NMPP1_metadata.csv\", \"w\") as f:\n",
    "    writer = csv.writer(f)\n",
    "    writer.writerows(kl_PKA_metadata)\n",
    "    \n",
    "sc_PKA_metadata = [['sample_name', 'strain','NMPP1'],\n",
    "                      ['AS_plus','AS', 'plus'],\n",
    "                      ['WT_minus','WT', 'minus'],\n",
    "                      ['WT_plus','WT', 'plus']]\n",
    "\n",
    "with open(base_dir + \"\\expression_data\\SCer_NMPP1_RNA_Seq\\sc_NMPP1_metadata.csv\", \"w\") as f:\n",
    "    writer = csv.writer(f)\n",
    "    writer.writerows(sc_PKA_metadata)\n",
    "\n",
    "#This data and the raw data was then converted to rlog data and DEseq data in R using the file\n",
    "# deseq2_analysis_KL_PKA.nb\n",
    "#That file contains Quality Control Plots of the data.  \n"
   ]
  },
  {
   "cell_type": "code",
   "execution_count": 5,
   "metadata": {},
   "outputs": [],
   "source": [
    "#Import DE Seq Data, [later rlog and raw count data]\n",
    "#convert kl_genename to standard format.  \n",
    "kl_nmpp1_DESEQ = pd.read_csv(base_dir + \"\\expression_data\\kl_PKA_as_20160824\\DESEQ_KLac_ASmin_ASplus.csv\")\n",
    "rename_dict = {kl_nmpp1_DESEQ.columns[0]:'kl_genename_GFF'}\n",
    "kl_nmpp1_DESEQ.rename(columns = rename_dict, inplace = True)\n",
    "\n",
    "#Convert kl_genename to standard format. \n",
    "kl_genename = []\n",
    "for gene in kl_nmpp1_DESEQ['kl_genename_GFF']:\n",
    "    if gene[0:5]=='KLLA0':\n",
    "        new_gene = gene.split('_')[0]+gene.split('_')[1]\n",
    "    else: \n",
    "        new_gene = gene\n",
    "    kl_genename.append(new_gene)\n",
    "kl_nmpp1_DESEQ['orf_name'] = kl_genename\n",
    "kl_nmpp1_lfc = kl_nmpp1_DESEQ[['orf_name', 'log2FoldChange','padj']]\n",
    "kl_nmpp1_lfc.rename(index=str, columns={\"log2FoldChange\": \"KL_PKA(AS)+1NMPP1\"}, inplace = True)\n",
    "kl_nmpp1_lfc.to_pickle(base_dir + \"\\expression_data\\kl_PKA_as_20160824\\LFC_KLac_ASmin_ASplus.pkl\")"
   ]
  },
  {
   "cell_type": "code",
   "execution_count": null,
   "metadata": {
    "collapsed": true
   },
   "outputs": [],
   "source": [
    "#Loading Raw Data - using LFC now\n",
    "# #Import KL Expression data provided by Kieran\n",
    "# fname_kl_data = os.path.normpath(base_dir + '\\expression_data\\kl_PKA_as_20160824\\geneExpression.txt')\n",
    "# kl_PKA_data = pd.read_table(fname_kl_data, index_col = [0])\n",
    "\n",
    "# #Normalize by the total number of reads\n",
    "# fname_kl_metadata = os.path.normpath(base_dir + '\\expression_data\\kl_PKA_as_20160824' + os.sep + '20160824_KL_PKA_AS_SYC_SC_Control_metadata.xlsx')\n",
    "# kl_PKA_metadata = pd.read_excel(fname_kl_metadata)\n",
    "# kl_PKA_metadata.set_index('SampleName', inplace = 'True')\n",
    "# kl_PKA_data_summary = pd.DataFrame(kl_PKA_data.sum(axis = 'rows'),columns = ['Total Aligned Reads'])\n",
    "# kl_PKA_data_summary['Total Reads'] = kl_PKA_metadata['Total Reads']\n",
    "# kl_PKA_data_summary['Percent Aligned'] = kl_PKA_data_summary['Total Aligned Reads'] / kl_PKA_metadata['Total Reads']\n",
    "\n",
    "# kl_PKA_data_norm = pd.DataFrame(index = kl_PKA_data.index)\n",
    "# #normalize by total aligned reads, adding in a single pseudocount to avoid dividing by zero\n",
    "# for sample in kl_PKA_data.columns: \n",
    "#     kl_PKA_data_norm[sample] = (kl_PKA_data[sample]+1)/kl_PKA_data_summary.loc[sample,'Total Aligned Reads']\n",
    "\n",
    "# #Average repeat columns\n",
    "# kl_PKA_data_norm['AS_minus']=kl_PKA_data_norm[['AS1_minus','AS2_minus']].mean(axis=1)  \n",
    "# kl_PKA_data_norm['AS_plus']=kl_PKA_data_norm[['AS1_plus','AS2_plus']].mean(axis=1)\n",
    "# kl_PKA_data_norm['AS_log_fold_change']=np.log(kl_PKA_data_norm['AS_plus']/kl_PKA_data_norm['AS_minus'])/np.log(2.0)\n",
    "# plt.hist(kl_PKA_data_norm['AS_log_fold_change'])\n",
    "\n",
    "# #Convert Index in kl_PKA_data_norm to joined format. \n",
    "# kl_PKA_data_norm.index\n",
    "# kl_PKA_data_norm_reindex = []\n",
    "# for gene in kl_PKA_data_norm.index:\n",
    "#     if gene[0:5]=='KLLA0':\n",
    "#         new_gene = gene.split('_')[0]+gene.split('_')[1]\n",
    "#     else: \n",
    "#         new_gene = gene\n",
    "#     kl_PKA_data_norm_reindex.append(new_gene)\n",
    "# kl_PKA_data_norm_reindex_se = pd.Series(kl_PKA_data_norm_reindex)\n",
    "# kl_PKA_data_norm['standard orf names'] = kl_PKA_data_norm_reindex_se.values\n",
    "# kl_PKA_data_norm.set_index('standard orf names', inplace = True)"
   ]
  },
  {
   "cell_type": "code",
   "execution_count": null,
   "metadata": {
    "collapsed": true
   },
   "outputs": [],
   "source": [
    "#All by all correlations for each condition - This is done in R now\n",
    "\n",
    "# conditions = ['WT_minus','WT_plus','AS1_minus','AS2_minus','AS1_plus','AS2_plus']\n",
    "# fig, axarr = plt.subplots(len(conditions), len(conditions), sharex = True, sharey = True)\n",
    "# for jj in range(len(conditions)): \n",
    "#     condition_data_J = kl_PKA_data_norm[conditions[jj]]\n",
    "#     for kk in range(len(conditions)):\n",
    "#         ax = axarr[jj,kk]\n",
    "#         condition_data_K = kl_PKA_data_norm[conditions[kk]]\n",
    "#         ax.scatter(condition_data_K, condition_data_J)\n",
    "#         ax.set_xlim(0.0, 0.013)\n",
    "#         ax.set_xticks([0.0,0.006,0.012])\n",
    "#         ax.set_ylim(0.0, 0.013)\n",
    "#         ax.set_yticks([0.0,0.006,0.012])\n",
    "#         if kk == 0:\n",
    "#             ax.set_ylabel(conditions[jj], rotation = 45)\n",
    "#         if jj == 0:\n",
    "#             ax.set_title(conditions[kk])\n",
    "\n",
    "        "
   ]
  },
  {
   "cell_type": "code",
   "execution_count": null,
   "metadata": {
    "collapsed": true
   },
   "outputs": [],
   "source": [
    "#This would be good to do with LFCs but I don't think I have enough repeats.  May need to do it this way when I want to filter \n",
    "#out genes effected by NMPP1 alone. \n",
    "\n",
    "# #Make WT+/WT- Ratio and AS+/WT- ratio.  Do correlation of all three ratios. \n",
    "# kl_PKA_data_norm['WT_log_fold_change'] = np.log(kl_PKA_data_norm['WT_plus']/kl_PKA_data_norm['WT_minus'])/np.log(2.0)\n",
    "# kl_PKA_data_norm['AS_plus_WT_minus_log_fold_change'] = np.log(kl_PKA_data_norm['AS_plus']/kl_PKA_data_norm['WT_minus'])/np.log(2.0)\n",
    "# kl_PKA_data_norm['log_AS_fold_change/WT_fold_change']= kl_PKA_data_norm['AS_log_fold_change']-kl_PKA_data_norm['WT_log_fold_change']\n",
    "\n",
    "# fig2, ax2 = plt.subplots()\n",
    "# ax2.hist(kl_PKA_data_norm['log_AS_fold_change/WT_fold_change'])\n",
    "\n",
    "# conditions = ['AS_log_fold_change','WT_log_fold_change', 'AS_plus_WT_minus_log_fold_change','log_AS_fold_change/WT_fold_change']\n",
    "# fig, axarr = plt.subplots(len(conditions), len(conditions), sharex = True, sharey = True)\n",
    "# for jj in range(len(conditions)): \n",
    "#     condition_data_J = kl_PKA_data_norm[conditions[jj]]\n",
    "#     for kk in range(len(conditions)):\n",
    "#         ax = axarr[jj,kk]\n",
    "#         condition_data_K = kl_PKA_data_norm[conditions[kk]]\n",
    "#         ax.scatter(condition_data_K, condition_data_J)\n",
    "# #         ax.set_xlim(0.0, 0.013)\n",
    "# #         ax.set_xticks([0.0,0.006,0.012])\n",
    "# #         ax.set_ylim(0.0, 0.013)\n",
    "# #         ax.set_yticks([0.0,0.006,0.012])\n",
    "#         if kk == 0:\n",
    "#             ax.set_ylabel(conditions[jj], rotation = 45)\n",
    "#         if jj == 0:\n",
    "#             ax.set_title(conditions[kk])"
   ]
  },
  {
   "cell_type": "code",
   "execution_count": null,
   "metadata": {
    "collapsed": true
   },
   "outputs": [],
   "source": []
  }
 ],
 "metadata": {
  "kernelspec": {
   "display_name": "Python 3",
   "language": "python",
   "name": "python3"
  },
  "language_info": {
   "codemirror_mode": {
    "name": "ipython",
    "version": 3
   },
   "file_extension": ".py",
   "mimetype": "text/x-python",
   "name": "python",
   "nbconvert_exporter": "python",
   "pygments_lexer": "ipython3",
   "version": "3.5.2"
  }
 },
 "nbformat": 4,
 "nbformat_minor": 1
}
