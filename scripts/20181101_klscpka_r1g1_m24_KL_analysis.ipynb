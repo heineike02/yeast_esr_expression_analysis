{
 "cells": [
  {
   "cell_type": "code",
   "execution_count": 1,
   "metadata": {},
   "outputs": [
    {
     "name": "stdout",
     "output_type": "stream",
     "text": [
      "what computer are you on? a = Ben's laptop, b = gpucluster, c = Ben's desktop, d = othera\n",
      "base directory is C:\\Users\\BMH_work\\github\\expression_broad_data\n",
      "Added C:\\Users\\BMH_work\\github\\expression_broad_data to path: \n",
      "['', 'C:\\\\Users\\\\BMH_work\\\\github\\\\expression_broad_data\\\\scripts', 'C:\\\\Users\\\\BMH_work\\\\Anaconda3\\\\python37.zip', 'C:\\\\Users\\\\BMH_work\\\\Anaconda3\\\\DLLs', 'C:\\\\Users\\\\BMH_work\\\\Anaconda3\\\\lib', 'C:\\\\Users\\\\BMH_work\\\\Anaconda3', 'C:\\\\Users\\\\BMH_work\\\\Anaconda3\\\\lib\\\\site-packages', 'C:\\\\Users\\\\BMH_work\\\\Anaconda3\\\\lib\\\\site-packages\\\\win32', 'C:\\\\Users\\\\BMH_work\\\\Anaconda3\\\\lib\\\\site-packages\\\\win32\\\\lib', 'C:\\\\Users\\\\BMH_work\\\\Anaconda3\\\\lib\\\\site-packages\\\\Pythonwin', 'C:\\\\Users\\\\BMH_work\\\\Anaconda3\\\\lib\\\\site-packages\\\\IPython\\\\extensions', 'C:\\\\Users\\\\BMH_work\\\\.ipython', 'C:\\\\Users\\\\BMH_work\\\\github\\\\expression_broad_data']\n",
      "I am about to import a library\n",
      "I am importing io_library\n",
      "what computer are you on? a = Ben's laptop, b = gpucluster, c = Ben's desktop, d = othera\n",
      "base directory is C:\\Users\\BMH_work\\github\\expression_broad_data\n",
      "data processing dir is C:\\Users\\BMH_work\\github\\expression_broad_data\\expression_data\\\n",
      "are you online? Yes/NoYes\n"
     ]
    }
   ],
   "source": [
    "# %load std_libraries.py\n",
    "#to keep my scripts consistent, I am adding this to the top of all scripts with %load std_libraries.py\n",
    "import sys\n",
    "#Indicate operating environment and import core modules\n",
    "location_input = input(\"what computer are you on? a = Ben's laptop, b = gpucluster, c = Ben's desktop, d = other\")\n",
    "location_dict = {'a': \"C:\\\\Users\\\\BMH_work\\\\github\\\\expression_broad_data\", 'b': \"/home/heineike/github/expression_broad_data\",\n",
    "                 'c': \"C:\\\\Users\\\\Ben\\\\Documents\\\\GitHub\\\\expression_broad_data\", 'd':'you need to add your location to the location_dict'}\n",
    "base_dir = location_dict[location_input]\n",
    "print(\"base directory is \" + base_dir)\n",
    "\n",
    "if sys.path[-1] != base_dir:\n",
    "    sys.path.append(base_dir)\n",
    "    print(\"Added \" + base_dir + \" to path: \" )\n",
    "    print(sys.path)\n",
    "\n",
    "import os\n",
    "\n",
    "print(\"I am about to import a library\")\n",
    "from core import expression_plots \n",
    "from core import io_library \n",
    "%load_ext autoreload\n",
    "%autoreload 2\n",
    "# %matplotlib \n",
    "# plt.ioff()\n",
    "#%matplotlib inline\n",
    "%matplotlib notebook\n",
    "data_processing_dir = base_dir + os.sep + os.path.normpath(\"expression_data\") + os.sep\n",
    "\n",
    "import pandas as pd\n",
    "import numpy as np\n",
    "import matplotlib.pyplot as plt\n",
    "#import matplotlib.colormap as cm\n",
    "from matplotlib_venn import venn2\n",
    "from matplotlib_venn import venn3\n",
    "#for my windows computer I had to install this package using pip rather than anaconda.  I got this error message: \n",
    "#twisted 18.7.0 requires PyHamcrest>=1.9.0, which is not installed.\n",
    "#import seaborn as sns; sns.set(style=\"ticks\", color_codes=True)\n",
    "#from sklearn import linear_model\n",
    "import pickle\n",
    "#import subprocess\n",
    "#import networkx as nx\n",
    "#import scipy.stats as stats\n",
    "#import statsmodels.graphics.gofplots as stats_graph\n",
    "#import scipy.cluster.hierarchy as sch\n",
    "\n",
    "# from Bio import SeqIO\n",
    "# from Bio import SeqFeature as sf\n",
    "# from Bio.Alphabet import generic_dna\n",
    "# from Bio.Seq import Seq\n",
    "\n",
    "# import re\n",
    "\n",
    "from collections import Counter\n",
    "# import scipy.stats as stats\n",
    "# from itertools import chain\n",
    "#from itertools import product\n",
    "#this only works if you are online\n",
    "online_input = input(\"are you online? Yes/No\")\n",
    "if online_input == \"Yes\": \n",
    "    import plotly.plotly as py\n",
    "    import plotly.graph_objs as pygo\n",
    "    import plotly.tools as pytools\n",
    "    py.sign_in('heineike02_student','9dMTMZgJMgUP0YX0P5mQ')\n",
    "    #py.sign_in('heineike02', 'APPjKrtARaN2ZgUYIkqr')\n",
    "    \n",
    "# for phylogenetic trees: \n",
    "# from ete3 import Tree\n",
    "\n",
    "#for scraping internet data (e.g. ncbi)\n",
    "#import requests\n",
    "#from lxml import etree    #parses xml output"
   ]
  },
  {
   "cell_type": "code",
   "execution_count": 2,
   "metadata": {},
   "outputs": [],
   "source": [
    "##Compare LFC between last year and this year for AS + 1/NMPP1\n",
    "\n",
    "#Load DEseq data for AS +/- drug\n",
    "\n",
    "pkainh_deseq = pd.read_csv(os.path.normpath(data_processing_dir + '\\\\kl_sc_PKA_as_m24_r1g1_20181017\\\\20181017_deseq_KL_AS_nmpp1.csv'), index_col=0)\n",
    "\n",
    "#Load DEseq data from 2017 for AS +/-drug\n",
    "\n",
    "pkainh_deseq_2017 = pd.read_csv(os.path.normpath(data_processing_dir + '\\\\20170817_klscpka\\\\20170817_klscpka_DESEQ_YPD_t40_ASMinvASPlus_KL.csv'), index_col=0)\n",
    "\n",
    "pkainh_deseq_merged = pkainh_deseq.merge(pkainh_deseq_2017, left_index=True, right_index=True, how = 'outer', suffixes = ('','_2017')) \n",
    "\n",
    "#remove underscore from kl genenames\n",
    "pkainh_deseq_merged['kl_genename'] = io_library.kl_genename_convert_list(list(pkainh_deseq_merged.index))\n",
    "pkainh_deseq_merged.set_index('kl_genename', inplace=True)\n",
    "\n",
    "#Add column for common names\n",
    "pkainh_deseq_merged['SC_common_name'] = io_library.SC_common_name_lookup_KL(pkainh_deseq_merged.index)\n",
    "\n",
    "for column in ['log2FoldChange', 'log2FoldChange_2017']: \n",
    "    pkainh_deseq_merged[column] = pkainh_deseq_merged[column].fillna(0.0)"
   ]
  },
  {
   "cell_type": "code",
   "execution_count": 3,
   "metadata": {},
   "outputs": [
    {
     "data": {
      "text/html": [
       "<iframe id=\"igraph\" scrolling=\"no\" style=\"border:none;\" seamless=\"seamless\" src=\"https://plot.ly/~heineike02_student/158.embed\" height=\"525px\" width=\"100%\"></iframe>"
      ],
      "text/plain": [
       "<plotly.tools.PlotlyDisplay object>"
      ]
     },
     "execution_count": 3,
     "metadata": {},
     "output_type": "execute_result"
    }
   ],
   "source": [
    "spec = 'KL'\n",
    "\n",
    "data = []\n",
    "\n",
    "xlabel = 'LFC AS -/+ Nmpp1 2017'\n",
    "ylabel = 'LFC AS -/+ Nmpp1'\n",
    "\n",
    "trace = pygo.Scatter(\n",
    "            x = pkainh_deseq_merged['log2FoldChange_2017'], \n",
    "            y =  pkainh_deseq_merged['log2FoldChange'],\n",
    "            text = pkainh_deseq_merged['SC_common_name'],\n",
    "            mode = 'markers',\n",
    "            marker = {'opacity': 0.5}, #, \n",
    "                      #'color': 'rgba'+str(cmap(NN/10))}, \n",
    "            name = xlabel + ' vs ' + ylabel \n",
    "        )\n",
    "        \n",
    "data.append(trace)\n",
    "\n",
    "layout = pygo.Layout(\n",
    "    xaxis= {\n",
    "        #\"range\":[-20, 20],\n",
    "        \"title\": xlabel\n",
    "    },\n",
    "    yaxis= {\n",
    "        #\"range\":[-10, 10],\n",
    "        \"title\": ylabel\n",
    "    }\n",
    ")\n",
    "\n",
    "\n",
    "fig = pygo.Figure(data=data, layout = layout)\n",
    "py.iplot(fig, filename= spec + '_AS_pmNMPP1_2017LFC_V2018')"
   ]
  },
  {
   "cell_type": "code",
   "execution_count": 9,
   "metadata": {},
   "outputs": [],
   "source": [
    "#Load DEseq data for K.Lac Rph1/Gis1 delete experiment\n",
    "\n",
    "spec = 'KL'\n",
    "\n",
    "r1g1_deseq = pd.read_csv(os.path.normpath(data_processing_dir + '\\\\kl_sc_PKA_as_m24_r1g1_20181017\\\\20181017_deseq_' + spec + '_AS_wtVr1g1.csv'), index_col=0)\n",
    "\n",
    "r1g1_deseq['kl_genename'] = io_library.kl_genename_convert_list(list(r1g1_deseq.index))\n",
    "r1g1_deseq.set_index('kl_genename', inplace=True)\n",
    "\n",
    "r1g1_deseq['SC_common_name'] = io_library.SC_common_name_lookup_KL(r1g1_deseq.index)\n",
    "\n",
    "#Load DEseq data for SCer Msn24/drug interaction contrast\n",
    "m24_nmpp1_int_deseq = pd.read_csv(os.path.normpath(data_processing_dir + '\\\\kl_sc_PKA_as_m24_r1g1_20181017\\\\20181017_deseq_' + spec +  '_AS_m24del_nmpp1_interaction.csv'), index_col=0)\n",
    "\n",
    "m24_nmpp1_int_deseq['kl_genename'] = io_library.kl_genename_convert_list(list(m24_nmpp1_int_deseq.index))\n",
    "m24_nmpp1_int_deseq.set_index('kl_genename', inplace=True)\n",
    "\n",
    "#Add column for common names\n",
    "m24_nmpp1_int_deseq['SC_common_name'] = io_library.SC_common_name_lookup_KL(m24_nmpp1_int_deseq.index)\n",
    "\n",
    "#Load DEseq data for SCer Msn2/4 delete in WT experiment\n",
    "\n",
    "m24_deseq = pd.read_csv(os.path.normpath(data_processing_dir + '\\\\kl_sc_PKA_as_m24_r1g1_20181017\\\\20181017_deseq_' + spec + '_AS_wtVm24.csv'), index_col=0)\n",
    "m24_deseq['kl_genename'] = io_library.kl_genename_convert_list(list(m24_deseq.index))\n",
    "m24_deseq.set_index('kl_genename', inplace=True)\n",
    "\n",
    "\n",
    "#Add column for common names\n",
    "m24_deseq['SC_common_name'] = io_library.SC_common_name_lookup_KL(m24_deseq.index)\n",
    "\n"
   ]
  },
  {
   "cell_type": "code",
   "execution_count": 29,
   "metadata": {},
   "outputs": [
    {
     "data": {
      "text/html": [
       "<iframe id=\"igraph\" scrolling=\"no\" style=\"border:none;\" seamless=\"seamless\" src=\"https://plot.ly/~heineike02_student/132.embed\" height=\"525px\" width=\"100%\"></iframe>"
      ],
      "text/plain": [
       "<plotly.tools.PlotlyDisplay object>"
      ]
     },
     "execution_count": 29,
     "metadata": {},
     "output_type": "execute_result"
    }
   ],
   "source": [
    "#Plot Deseq LFC v.s. pValue\n",
    "\n",
    "#Plot raw expression for various gene sets\n",
    "\n",
    "# hover_text = []\n",
    "# for ind, row in kl_sc_PKA_data.iterrows():\n",
    "#     hover_text.append(('{SC_common_name}<br>kl cont: {klmin:.2f}<br>kl nmpp1: {klnmpp1:.2f}').format(\n",
    "#                               SC_common_name=row['SC_common_name'],\n",
    "#                               klmin = row['rlog_AS_noNMPP1_YPD_t40_mean_KL'],\n",
    "#                               klnmpp1 = row['rlog_AS_yesNMPP1_YPD_t40_mean_KL']\n",
    "#                               ))\n",
    "\n",
    "# kl_sc_PKA_data['hover'] = hover_text\n",
    "\n",
    "# cmap = cm.get_cmap('tab10')\n",
    "\n",
    "data = []\n",
    "\n",
    "trace = pygo.Scatter(\n",
    "            x = r1g1_deseq['log2FoldChange'], \n",
    "            y =  -np.log10(r1g1_deseq['pvalue']),\n",
    "            text = r1g1_deseq['SC_common_name'],\n",
    "            mode = 'markers',\n",
    "            marker = {'opacity': 0.5}, #, \n",
    "                      #'color': 'rgba'+str(cmap(NN/10))}, \n",
    "            name = 'WT VS Rph1/Gis1 del'\n",
    "        )\n",
    "        \n",
    "data.append(trace)\n",
    "\n",
    "layout = pygo.Layout(\n",
    "    xaxis= {\n",
    "        #\"range\":[-2, 20],\n",
    "        \"title\":'LFC'\n",
    "    },\n",
    "    yaxis= {\n",
    "        #\"range\":[-2, 20],\n",
    "        \"title\":'-log10(padj)'\n",
    "    }\n",
    ")\n",
    "\n",
    "\n",
    "fig = pygo.Figure(data=data, layout = layout)\n",
    "py.iplot(fig, filename='RNAseq2018_KL_WT_VS_R1G1')\n",
    "\n",
    "\n"
   ]
  },
  {
   "cell_type": "code",
   "execution_count": 30,
   "metadata": {},
   "outputs": [
    {
     "data": {
      "text/plain": [
       "63"
      ]
     },
     "execution_count": 30,
     "metadata": {},
     "output_type": "execute_result"
    }
   ],
   "source": [
    "#To Call Rph1/Gis1 repressed genes make a line from (1.5, 3) to (3.0, 0) and a hard cutoff below of 0.5\n",
    "\n",
    "x1,y1 = (1.3,7.0)\n",
    "x2,y2 = (2.2,0.0)\n",
    "ymin = 0.5\n",
    "\n",
    "x = r1g1_deseq['log2FoldChange']\n",
    "y =  -np.log10(r1g1_deseq['pvalue'])\n",
    "\n",
    "r1g1_rep_genes = r1g1_deseq[(y > y2- (y2-y1)/(x2-x1)*(x2-x)) & (y>ymin)]\n",
    "len(r1g1_rep_genes)"
   ]
  },
  {
   "cell_type": "code",
   "execution_count": 14,
   "metadata": {},
   "outputs": [
    {
     "data": {
      "text/html": [
       "<iframe id=\"igraph\" scrolling=\"no\" style=\"border:none;\" seamless=\"seamless\" src=\"https://plot.ly/~heineike02_student/160.embed\" height=\"525px\" width=\"100%\"></iframe>"
      ],
      "text/plain": [
       "<plotly.tools.PlotlyDisplay object>"
      ]
     },
     "execution_count": 14,
     "metadata": {},
     "output_type": "execute_result"
    }
   ],
   "source": [
    "#Plot Msn24/nmpp1 interaction LFC v.s. pValue\n",
    "\n",
    "spec = 'KL'\n",
    "\n",
    "data = []\n",
    "\n",
    "trace = pygo.Scatter(\n",
    "            x = m24_nmpp1_int_deseq['log2FoldChange'], \n",
    "            y =  -np.log10(m24_nmpp1_int_deseq['pvalue']),\n",
    "            text = m24_nmpp1_int_deseq['SC_common_name'],\n",
    "            mode = 'markers',\n",
    "            marker = {'opacity': 0.5}, #, \n",
    "                      #'color': 'rgba'+str(cmap(NN/10))}, \n",
    "            name = 'Msn24 drug interaction term'\n",
    "        )\n",
    "        \n",
    "data.append(trace)\n",
    "\n",
    "layout = pygo.Layout(\n",
    "    xaxis= {\n",
    "        #\"range\":[-2, 20],\n",
    "        \"title\":'LFC'\n",
    "    },\n",
    "    yaxis= {\n",
    "        #\"range\":[-2, 20],\n",
    "        \"title\":'-log10(padj)'\n",
    "    }\n",
    ")\n",
    "\n",
    "\n",
    "fig = pygo.Figure(data=data, layout = layout)\n",
    "py.iplot(fig, filename= spec + ' RNAseq2018_Msn24_drug_interaction')\n"
   ]
  },
  {
   "cell_type": "code",
   "execution_count": 16,
   "metadata": {},
   "outputs": [
    {
     "data": {
      "text/plain": [
       "96"
      ]
     },
     "execution_count": 16,
     "metadata": {},
     "output_type": "execute_result"
    }
   ],
   "source": [
    "#To Call Msn2/4 PKA interaction genes make a line and a hard cutoff for -log10p values\n",
    "\n",
    "x1,y1 = (-2.5,0.0)\n",
    "x2,y2 = (-1.1,2.2)\n",
    "ymin = 0.3\n",
    "\n",
    "x = m24_nmpp1_int_deseq['log2FoldChange']\n",
    "y =  -np.log10(m24_nmpp1_int_deseq['pvalue'])\n",
    "\n",
    "m24_nmpp1_act_genes = m24_nmpp1_int_deseq[(y > y2- (y2-y1)/(x2-x1)*(x2-x)) & (y>ymin)]\n",
    "len(m24_nmpp1_act_genes)"
   ]
  },
  {
   "cell_type": "code",
   "execution_count": 18,
   "metadata": {},
   "outputs": [
    {
     "data": {
      "text/html": [
       "<iframe id=\"igraph\" scrolling=\"no\" style=\"border:none;\" seamless=\"seamless\" src=\"https://plot.ly/~heineike02_student/162.embed\" height=\"525px\" width=\"100%\"></iframe>"
      ],
      "text/plain": [
       "<plotly.tools.PlotlyDisplay object>"
      ]
     },
     "execution_count": 18,
     "metadata": {},
     "output_type": "execute_result"
    }
   ],
   "source": [
    "#Plot Deseq LFC v.s. pValue\n",
    "\n",
    "#Plot raw expression for various gene sets\n",
    "\n",
    "# hover_text = []\n",
    "# for ind, row in kl_sc_PKA_data.iterrows():\n",
    "#     hover_text.append(('{SC_common_name}<br>kl cont: {klmin:.2f}<br>kl nmpp1: {klnmpp1:.2f}').format(\n",
    "#                               SC_common_name=row['SC_common_name'],\n",
    "#                               klmin = row['rlog_AS_noNMPP1_YPD_t40_mean_KL'],\n",
    "#                               klnmpp1 = row['rlog_AS_yesNMPP1_YPD_t40_mean_KL']\n",
    "#                               ))\n",
    "\n",
    "# kl_sc_PKA_data['hover'] = hover_text\n",
    "\n",
    "# cmap = cm.get_cmap('tab10')\n",
    "\n",
    "data = []\n",
    "\n",
    "trace = pygo.Scatter(\n",
    "            x = m24_deseq['log2FoldChange'], \n",
    "            y =  -np.log10(m24_deseq['pvalue']),\n",
    "            text = m24_deseq['SC_common_name'],\n",
    "            mode = 'markers',\n",
    "            marker = {'opacity': 0.5}, #, \n",
    "                      #'color': 'rgba'+str(cmap(NN/10))}, \n",
    "            name = 'WT VS Msn2/4 del'\n",
    "        )\n",
    "        \n",
    "data.append(trace)\n",
    "\n",
    "layout = pygo.Layout(\n",
    "    xaxis= {\n",
    "        #\"range\":[-2, 20],\n",
    "        \"title\":'LFC'\n",
    "    },\n",
    "    yaxis= {\n",
    "        #\"range\":[-2, 20],\n",
    "        \"title\":'-log10(padj)'\n",
    "    }\n",
    ")\n",
    "\n",
    "\n",
    "fig = pygo.Figure(data=data, layout = layout)\n",
    "py.iplot(fig, filename= spec + 'RNAseq2018_WT_VS_M24_KL')\n"
   ]
  },
  {
   "cell_type": "code",
   "execution_count": 20,
   "metadata": {},
   "outputs": [
    {
     "data": {
      "text/plain": [
       "28"
      ]
     },
     "execution_count": 20,
     "metadata": {},
     "output_type": "execute_result"
    }
   ],
   "source": [
    "#To Call Msn2/4 deletion genes make a line from (-2.3,0.5) to (-1.3,1.5) and a hard cutoff for -log10p value of above 0.5. \n",
    "#This was chosen to include CYC7 and HOR7 but not MPC3. \n",
    "\n",
    "x1,y1 = (-2.0,0.0)\n",
    "x2,y2 = (-1.0,1.98)\n",
    "ymin = 0.3\n",
    "\n",
    "x = m24_deseq['log2FoldChange']\n",
    "y =  -np.log10(m24_deseq['pvalue'])\n",
    "\n",
    "m24_act_genes = m24_deseq[(y > y2- (y2-y1)/(x2-x1)*(x2-x)) & (y>ymin)]\n",
    "len(m24_act_genes)"
   ]
  },
  {
   "cell_type": "code",
   "execution_count": 37,
   "metadata": {},
   "outputs": [
    {
     "data": {
      "text/plain": [
       "<matplotlib_venn._common.VennDiagram at 0x1883b63ca90>"
      ]
     },
     "execution_count": 37,
     "metadata": {},
     "output_type": "execute_result"
    },
    {
     "data": {
      "image/png": "[encoded data removed]",
      "text/plain": [
       "<Figure size 432x288 with 1 Axes>"
      ]
     },
     "metadata": {},
     "output_type": "display_data"
    }
   ],
   "source": [
    "venn3([set(r1g1_rep_genes.index), set(m24_nmpp1_act_genes.index), set(m24_act_genes.index)], set_labels = None) #, set_labels = ['Rph1/Gis1 repressed \\n in exp growth', 'Activation by PKA inhibition \\n Msn2/4 dependent', 'Activated in \\n Msn24 del'])"
   ]
  },
  {
   "cell_type": "code",
   "execution_count": 34,
   "metadata": {},
   "outputs": [],
   "source": [
    "venn3?"
   ]
  },
  {
   "cell_type": "code",
   "execution_count": 40,
   "metadata": {},
   "outputs": [
    {
     "data": {
      "text/plain": [
       "<matplotlib_venn._common.VennDiagram at 0x1883bac6860>"
      ]
     },
     "execution_count": 40,
     "metadata": {},
     "output_type": "execute_result"
    },
    {
     "data": {
      "image/png": "[encoded data removed]",
      "text/plain": [
       "<Figure size 432x288 with 1 Axes>"
      ]
     },
     "metadata": {},
     "output_type": "display_data"
    }
   ],
   "source": [
    "venn2([ set(m24_nmpp1_act_genes.index), set(m24_act_genes.index)], set_labels = [ 'Activation by PKA inhibition \\n Msn2/4 dependent', 'Repressed in \\n Msn24 del (exp growth)'])"
   ]
  },
  {
   "cell_type": "code",
   "execution_count": 27,
   "metadata": {},
   "outputs": [
    {
     "data": {
      "text/plain": [
       "{'KLLA0A00308r',\n",
       " 'KLLA0A05665g',\n",
       " 'KLLA0B09878g',\n",
       " 'KLLA0B14212r',\n",
       " 'KLLA0C00242g',\n",
       " 'KLLA0C12034g',\n",
       " 'KLLA0C16819g',\n",
       " 'KLLA0C17886r',\n",
       " 'KLLA0D03102r',\n",
       " 'KLLA0D09845r',\n",
       " 'KLLA0D14465r',\n",
       " 'KLLA0D15477r',\n",
       " 'KLLA0D19949g',\n",
       " 'KLLA0E01079g',\n",
       " 'KLLA0E03983g',\n",
       " 'KLLA0E04951r',\n",
       " 'KLLA0E05611g',\n",
       " 'KLLA0E12541g',\n",
       " 'KLLA0E14081r',\n",
       " 'KLLA0E15005g',\n",
       " 'KLLA0E15643r',\n",
       " 'KLLA0E16809r',\n",
       " 'KLLA0E20505g',\n",
       " 'KLLA0F03212g',\n",
       " 'KLLA0F13332g',\n",
       " 'KLLA0F20097r',\n",
       " 'KLLA0F24486g',\n",
       " 'KLLA0F26961g'}"
      ]
     },
     "execution_count": 27,
     "metadata": {},
     "output_type": "execute_result"
    }
   ],
   "source": [
    "set(m24_act_genes.index)"
   ]
  },
  {
   "cell_type": "code",
   "execution_count": 26,
   "metadata": {},
   "outputs": [
    {
     "data": {
      "text/plain": [
       "{'EFG00000981736',\n",
       " 'EFG00000982152',\n",
       " 'EFG00000982249',\n",
       " 'KLLA0A00484g',\n",
       " 'KLLA0A02585g',\n",
       " 'KLLA0A02629g',\n",
       " 'KLLA0A02717g',\n",
       " 'KLLA0A03289g',\n",
       " 'KLLA0A04323g',\n",
       " 'KLLA0A05852g',\n",
       " 'KLLA0A05987r',\n",
       " 'KLLA0A07227g',\n",
       " 'KLLA0A08987r',\n",
       " 'KLLA0A10087g',\n",
       " 'KLLA0A11935g',\n",
       " 'KLLA0B01430r',\n",
       " 'KLLA0B04477g',\n",
       " 'KLLA0B05269g',\n",
       " 'KLLA0B10142g',\n",
       " 'KLLA0B11946g',\n",
       " 'KLLA0B12650g',\n",
       " 'KLLA0B14751g',\n",
       " 'KLLA0C01177g',\n",
       " 'KLLA0C02079g',\n",
       " 'KLLA0C02409g',\n",
       " 'KLLA0C03938g',\n",
       " 'KLLA0C04686g',\n",
       " 'KLLA0C05940g',\n",
       " 'KLLA0C06490g',\n",
       " 'KLLA0C06996g',\n",
       " 'KLLA0C08866g',\n",
       " 'KLLA0C11781g',\n",
       " 'KLLA0C16599g',\n",
       " 'KLLA0C17237g',\n",
       " 'KLLA0C18722g',\n",
       " 'KLLA0D02376g',\n",
       " 'KLLA0D03124r',\n",
       " 'KLLA0D03410g',\n",
       " 'KLLA0D03751g',\n",
       " 'KLLA0D04037g',\n",
       " 'KLLA0D05907g',\n",
       " 'KLLA0D07073g',\n",
       " 'KLLA0D07656g',\n",
       " 'KLLA0D13046g',\n",
       " 'KLLA0D16412g',\n",
       " 'KLLA0D17248g',\n",
       " 'KLLA0D18172g',\n",
       " 'KLLA0D18282g',\n",
       " 'KLLA0D18964g',\n",
       " 'KLLA0E00419g',\n",
       " 'KLLA0E00661g',\n",
       " 'KLLA0E01893g',\n",
       " 'KLLA0E05875g',\n",
       " 'KLLA0E06051g',\n",
       " 'KLLA0E06183g',\n",
       " 'KLLA0E06711g',\n",
       " 'KLLA0E07327g',\n",
       " 'KLLA0E07525g',\n",
       " 'KLLA0E07613g',\n",
       " 'KLLA0E12035g',\n",
       " 'KLLA0E12827g',\n",
       " 'KLLA0E14235g',\n",
       " 'KLLA0E15027g',\n",
       " 'KLLA0E15753g',\n",
       " 'KLLA0E15929r',\n",
       " 'KLLA0E18415g',\n",
       " 'KLLA0E18635g',\n",
       " 'KLLA0E19295g',\n",
       " 'KLLA0E19317g',\n",
       " 'KLLA0E19493g',\n",
       " 'KLLA0E20527g',\n",
       " 'KLLA0E20725g',\n",
       " 'KLLA0E22177g',\n",
       " 'KLLA0E25180g',\n",
       " 'KLLA0F00374g',\n",
       " 'KLLA0F03773g',\n",
       " 'KLLA0F04433g',\n",
       " 'KLLA0F05203g',\n",
       " 'KLLA0F05533r',\n",
       " 'KLLA0F06512g',\n",
       " 'KLLA0F07348g',\n",
       " 'KLLA0F07601g',\n",
       " 'KLLA0F07843g',\n",
       " 'KLLA0F08745g',\n",
       " 'KLLA0F09295g',\n",
       " 'KLLA0F14344g',\n",
       " 'KLLA0F14531g',\n",
       " 'KLLA0F14553g',\n",
       " 'KLLA0F16104g',\n",
       " 'KLLA0F17050g',\n",
       " 'KLLA0F19921g',\n",
       " 'KLLA0F22341g',\n",
       " 'KLLA0F25520g',\n",
       " 'KLLA0F25916g',\n",
       " 'KLLA0F27203g',\n",
       " 'KLLA0F27819g'}"
      ]
     },
     "execution_count": 26,
     "metadata": {},
     "output_type": "execute_result"
    }
   ],
   "source": [
    "set(m24_nmpp1_act_genes.index)"
   ]
  },
  {
   "cell_type": "code",
   "execution_count": 32,
   "metadata": {},
   "outputs": [
    {
     "data": {
      "text/plain": [
       "{'EFG00000981672',\n",
       " 'EFG00000982249',\n",
       " 'KLLA0A00220g',\n",
       " 'KLLA0A01320g',\n",
       " 'KLLA0A11638g',\n",
       " 'KLLA0A11836g',\n",
       " 'KLLA0B00451g',\n",
       " 'KLLA0B01243g',\n",
       " 'KLLA0B02464g',\n",
       " 'KLLA0B05533g',\n",
       " 'KLLA0B07337g',\n",
       " 'KLLA0B07711g',\n",
       " 'KLLA0B08349r',\n",
       " 'KLLA0B12650g',\n",
       " 'KLLA0C00671g',\n",
       " 'KLLA0C06886g',\n",
       " 'KLLA0C08085r',\n",
       " 'KLLA0C08173g',\n",
       " 'KLLA0C11121g',\n",
       " 'KLLA0C11209g',\n",
       " 'KLLA0C12463g',\n",
       " 'KLLA0C13882g',\n",
       " 'KLLA0C14916g',\n",
       " 'KLLA0C19019g',\n",
       " 'KLLA0C19041g',\n",
       " 'KLLA0D00462g',\n",
       " 'KLLA0D00704g',\n",
       " 'KLLA0D02464g',\n",
       " 'KLLA0D05907g',\n",
       " 'KLLA0D06083g',\n",
       " 'KLLA0D13046g',\n",
       " 'KLLA0D17248g',\n",
       " 'KLLA0D18909g',\n",
       " 'KLLA0E01563g',\n",
       " 'KLLA0E07877g',\n",
       " 'KLLA0E08867g',\n",
       " 'KLLA0E10539g',\n",
       " 'KLLA0E10935g',\n",
       " 'KLLA0E14477g',\n",
       " 'KLLA0E15203g',\n",
       " 'KLLA0E15401g',\n",
       " 'KLLA0E15709g',\n",
       " 'KLLA0E19493g',\n",
       " 'KLLA0E21319g',\n",
       " 'KLLA0E22551g',\n",
       " 'KLLA0F00682g',\n",
       " 'KLLA0F01507g',\n",
       " 'KLLA0F03773g',\n",
       " 'KLLA0F04059g',\n",
       " 'KLLA0F04125g',\n",
       " 'KLLA0F04323g',\n",
       " 'KLLA0F05335g',\n",
       " 'KLLA0F08107g',\n",
       " 'KLLA0F10065g',\n",
       " 'KLLA0F12056g',\n",
       " 'KLLA0F20768g',\n",
       " 'KLLA0F20878g',\n",
       " 'KLLA0F20900g',\n",
       " 'KLLA0F22275g',\n",
       " 'KLLA0F23914g',\n",
       " 'KLLA0F25520g',\n",
       " 'KLLA0F26829g',\n",
       " 'KLLA0F27203g'}"
      ]
     },
     "execution_count": 32,
     "metadata": {},
     "output_type": "execute_result"
    }
   ],
   "source": [
    "set(r1g1_rep_genes.index)"
   ]
  },
  {
   "cell_type": "code",
   "execution_count": 8,
   "metadata": {},
   "outputs": [
    {
     "data": {
      "text/plain": [
       "['GAD1', 'PNC1', 'YOL153C', 'CYC7']"
      ]
     },
     "execution_count": 8,
     "metadata": {},
     "output_type": "execute_result"
    }
   ],
   "source": [
    "io_library.SC_common_name_lookup(list(set(r1g1_rep_genes.index) & set(m24_act_genes.index)))"
   ]
  },
  {
   "cell_type": "code",
   "execution_count": 39,
   "metadata": {},
   "outputs": [
    {
     "data": {
      "text/plain": [
       "['EFG00000982249',\n",
       " 'PPE1',\n",
       " 'YLR149C',\n",
       " 'YKL107W',\n",
       " 'KLLA0F27203g',\n",
       " 'UGX2',\n",
       " 'KLLA0F25520g',\n",
       " 'SPG4',\n",
       " 'PFK26']"
      ]
     },
     "execution_count": 39,
     "metadata": {},
     "output_type": "execute_result"
    }
   ],
   "source": [
    "io_library.SC_common_name_lookup_KL(list(set(r1g1_rep_genes.index) & set(m24_nmpp1_act_genes.index)))"
   ]
  },
  {
   "cell_type": "code",
   "execution_count": 15,
   "metadata": {},
   "outputs": [
    {
     "data": {
      "text/plain": [
       "['EGO4', 'GAD1', 'GPH1', 'HSP12', 'STF2', 'GPX1', 'RTC3', 'SOL4']"
      ]
     },
     "execution_count": 15,
     "metadata": {},
     "output_type": "execute_result"
    }
   ],
   "source": [
    "io_library.SC_common_name_lookup(list(set(m24_nmpp1_act_genes.index) & set(m24_act_genes.index)))"
   ]
  },
  {
   "cell_type": "code",
   "execution_count": 69,
   "metadata": {},
   "outputs": [
    {
     "data": {
      "text/plain": [
       "['MFA1',\n",
       " 'YKL068W-A',\n",
       " 'YJL163C',\n",
       " 'SDS24',\n",
       " 'YGR066C',\n",
       " 'AMS1',\n",
       " 'HEF3',\n",
       " 'GPM2',\n",
       " 'XBP1',\n",
       " 'SAF1',\n",
       " 'TPK1',\n",
       " 'UBP11',\n",
       " 'tD(GUC)I1',\n",
       " 'YPC1',\n",
       " 'PBI2',\n",
       " 'DDR48',\n",
       " 'YNL092W',\n",
       " 'GSP2',\n",
       " 'MRPS12',\n",
       " 'UGA2',\n",
       " 'DDR2',\n",
       " 'SHC1',\n",
       " 'ATG7',\n",
       " 'YTP1',\n",
       " 'YOL153C',\n",
       " 'SIP4',\n",
       " 'YCR025C',\n",
       " 'YGP1',\n",
       " 'YLR366W',\n",
       " 'YLR149C',\n",
       " 'UGX2',\n",
       " 'YCL012C',\n",
       " 'HVG1',\n",
       " 'YKR011C',\n",
       " 'GPP2',\n",
       " 'HYR1',\n",
       " 'STF1',\n",
       " 'YHR140W',\n",
       " 'COQ11',\n",
       " 'SDP1',\n",
       " 'CYC7',\n",
       " 'SDH6',\n",
       " 'SGA1',\n",
       " 'FMP48',\n",
       " 'YER053C-A',\n",
       " 'ULA1',\n",
       " 'ATG34',\n",
       " 'YRO2',\n",
       " 'SOD2',\n",
       " 'ATG33',\n",
       " 'YCR061W',\n",
       " 'RMR1',\n",
       " 'PNS1',\n",
       " 'YJL070C',\n",
       " 'YGR174W-A',\n",
       " 'TES1',\n",
       " 'YIL100C-A',\n",
       " 'GLK1',\n",
       " 'RNY1',\n",
       " 'HXT4',\n",
       " 'YIL055C',\n",
       " 'PNC1',\n",
       " 'YHR180W-A']"
      ]
     },
     "execution_count": 69,
     "metadata": {},
     "output_type": "execute_result"
    }
   ],
   "source": [
    "io_library.SC_common_name_lookup(list(set(r1g1_rep_genes.index) - set(m24_nmpp1_act_genes.index)))"
   ]
  },
  {
   "cell_type": "code",
   "execution_count": 70,
   "metadata": {},
   "outputs": [
    {
     "data": {
      "text/plain": [
       "['YKL151C',\n",
       " 'POT1',\n",
       " 'YER084W-A',\n",
       " 'YKL091C',\n",
       " 'GPH1',\n",
       " 'UIP4',\n",
       " 'GIP2',\n",
       " 'YKL065W-A',\n",
       " 'RTN2',\n",
       " 'SHH3',\n",
       " 'COX26',\n",
       " 'SRX1',\n",
       " 'YMR206W',\n",
       " 'NQM1',\n",
       " 'CTA1',\n",
       " 'YDR048C',\n",
       " 'PDR15',\n",
       " 'STF2',\n",
       " 'YCL048W-A',\n",
       " 'YCL023C',\n",
       " 'HO',\n",
       " 'MPH3',\n",
       " 'RRT12',\n",
       " 'MSC1',\n",
       " 'YMR090W',\n",
       " 'tS(AGA)D2',\n",
       " 'AGX1',\n",
       " 'YBR116C',\n",
       " 'CYB2',\n",
       " 'FIT2',\n",
       " 'NDE2',\n",
       " 'ALD3',\n",
       " 'TSA2',\n",
       " 'SYM1',\n",
       " 'GRX1',\n",
       " 'YDR491C',\n",
       " 'URA10',\n",
       " 'SPS100',\n",
       " 'YFL054C',\n",
       " 'YJL045W',\n",
       " 'YBR221W-A',\n",
       " 'HSP31',\n",
       " 'SSA4',\n",
       " 'AIM19',\n",
       " 'YAR010C',\n",
       " 'YER068C-A',\n",
       " 'AQY1',\n",
       " 'PAI3',\n",
       " 'VMR1',\n",
       " 'SHH4',\n",
       " 'TKL2',\n",
       " 'GRE3',\n",
       " 'EIS1',\n",
       " 'YPR172W',\n",
       " 'YDL199C',\n",
       " 'YHR193C-A',\n",
       " 'YOR186W',\n",
       " 'YCL042W',\n",
       " 'PIR3',\n",
       " 'YPT53',\n",
       " 'HSP12',\n",
       " 'REC114',\n",
       " 'YDR406W-A',\n",
       " 'YDR193W',\n",
       " 'SPG4',\n",
       " 'TSL1',\n",
       " 'YJR096W',\n",
       " 'SSA3',\n",
       " 'OM14',\n",
       " 'PMA2',\n",
       " 'GPX1',\n",
       " 'RTC3',\n",
       " 'YDL242W',\n",
       " 'RIM4',\n",
       " 'ACH1',\n",
       " 'YPL136W',\n",
       " 'PHM7',\n",
       " 'FMP16',\n",
       " 'DCS2',\n",
       " 'ACS1',\n",
       " 'TDA10',\n",
       " 'EGO4',\n",
       " 'HXK1',\n",
       " 'YEL034C-A',\n",
       " 'OM45',\n",
       " 'YMR175W-A',\n",
       " 'GND2',\n",
       " 'IGD1',\n",
       " 'YGR201C',\n",
       " 'DGR1',\n",
       " 'YNL195C',\n",
       " 'CTT1',\n",
       " 'SOL4',\n",
       " 'DLD1',\n",
       " 'GUT2',\n",
       " 'GCY1',\n",
       " 'YML099W-A',\n",
       " 'HBT1',\n",
       " 'AAD10']"
      ]
     },
     "execution_count": 70,
     "metadata": {},
     "output_type": "execute_result"
    }
   ],
   "source": [
    "io_library.SC_common_name_lookup(list(set(m24_nmpp1_act_genes.index) - set(r1g1_rep_genes.index)))"
   ]
  },
  {
   "cell_type": "code",
   "execution_count": 16,
   "metadata": {},
   "outputs": [
    {
     "data": {
      "text/plain": [
       "Index(['baseMean_RGrep', 'log2FoldChange_RGrep', 'lfcSE_RGrep', 'stat_RGrep',\n",
       "       'pvalue_RGrep', 'padj_RGrep', 'SC_common_name_RGrep',\n",
       "       'baseMean_M24_act', 'log2FoldChange_M24_act', 'lfcSE_M24_act',\n",
       "       'stat_M24_act', 'pvalue_M24_act', 'padj_M24_act',\n",
       "       'SC_common_name_M24_act'],\n",
       "      dtype='object')"
      ]
     },
     "execution_count": 16,
     "metadata": {},
     "output_type": "execute_result"
    }
   ],
   "source": [
    "r1g1_m24int_merge.columns"
   ]
  },
  {
   "cell_type": "code",
   "execution_count": 22,
   "metadata": {},
   "outputs": [
    {
     "data": {
      "text/html": [
       "<iframe id=\"igraph\" scrolling=\"no\" style=\"border:none;\" seamless=\"seamless\" src=\"https://plot.ly/~heineike02_student/128.embed\" height=\"525px\" width=\"100%\"></iframe>"
      ],
      "text/plain": [
       "<plotly.tools.PlotlyDisplay object>"
      ]
     },
     "execution_count": 22,
     "metadata": {},
     "output_type": "execute_result"
    }
   ],
   "source": [
    "#Plot LFC of RG activation v.s. M24 drug interaction\n",
    "\n",
    "r1g1_m24int_merge = r1g1_deseq.merge(m24_nmpp1_int_deseq, how='inner',suffixes= ('_RGrep','_M24act'),left_index=True, right_index=True)\n",
    "\n",
    "\n",
    "data = []\n",
    "\n",
    "trace = pygo.Scatter(\n",
    "            x = r1g1_m24int_merge['log2FoldChange_RGrep'], \n",
    "            y =  r1g1_m24int_merge['log2FoldChange_M24act'],\n",
    "            text = r1g1_m24int_merge['SC_common_name_RGrep'],\n",
    "            mode = 'markers',\n",
    "            marker = {'opacity': 0.5}, #, \n",
    "                      #'color': 'rgba'+str(cmap(NN/10))}, \n",
    "            name = 'Rph1/Gis1 repressed LFC vs Msn24_PKA activation LFC'\n",
    "        )\n",
    "        \n",
    "data.append(trace)\n",
    "\n",
    "layout = pygo.Layout(\n",
    "    xaxis= {\n",
    "        \"range\":[-20, 20],\n",
    "        \"title\":'Rph1/Gis1 del v.s. WT LFC'\n",
    "    },\n",
    "    yaxis= {\n",
    "        \"range\":[-10, 10],\n",
    "        \"title\":'Msn24 del/PKA inhibition interaction term LFC'\n",
    "    }\n",
    ")\n",
    "\n",
    "\n",
    "fig = pygo.Figure(data=data, layout = layout)\n",
    "py.iplot(fig, filename='RNAseq2018_R1G1rep_v_M24PKAact')"
   ]
  },
  {
   "cell_type": "code",
   "execution_count": 23,
   "metadata": {},
   "outputs": [
    {
     "data": {
      "text/html": [
       "<div>\n",
       "<style scoped>\n",
       "    .dataframe tbody tr th:only-of-type {\n",
       "        vertical-align: middle;\n",
       "    }\n",
       "\n",
       "    .dataframe tbody tr th {\n",
       "        vertical-align: top;\n",
       "    }\n",
       "\n",
       "    .dataframe thead th {\n",
       "        text-align: right;\n",
       "    }\n",
       "</style>\n",
       "<table border=\"1\" class=\"dataframe\">\n",
       "  <thead>\n",
       "    <tr style=\"text-align: right;\">\n",
       "      <th></th>\n",
       "      <th>baseMean_RGrep</th>\n",
       "      <th>log2FoldChange_RGrep</th>\n",
       "      <th>lfcSE_RGrep</th>\n",
       "      <th>stat_RGrep</th>\n",
       "      <th>pvalue_RGrep</th>\n",
       "      <th>padj_RGrep</th>\n",
       "      <th>SC_common_name_RGrep</th>\n",
       "      <th>baseMean_M24act</th>\n",
       "      <th>log2FoldChange_M24act</th>\n",
       "      <th>lfcSE_M24act</th>\n",
       "      <th>stat_M24act</th>\n",
       "      <th>pvalue_M24act</th>\n",
       "      <th>padj_M24act</th>\n",
       "      <th>SC_common_name_M24act</th>\n",
       "    </tr>\n",
       "  </thead>\n",
       "  <tbody>\n",
       "    <tr>\n",
       "      <th>YFL014W</th>\n",
       "      <td>48.704855</td>\n",
       "      <td>-0.821724</td>\n",
       "      <td>0.575935</td>\n",
       "      <td>-1.426765</td>\n",
       "      <td>0.153648</td>\n",
       "      <td>0.99735</td>\n",
       "      <td>HSP12</td>\n",
       "      <td>4586.58369</td>\n",
       "      <td>-3.874665</td>\n",
       "      <td>1.27219</td>\n",
       "      <td>-3.045665</td>\n",
       "      <td>0.002322</td>\n",
       "      <td>0.031496</td>\n",
       "      <td>HSP12</td>\n",
       "    </tr>\n",
       "  </tbody>\n",
       "</table>\n",
       "</div>"
      ],
      "text/plain": [
       "         baseMean_RGrep  log2FoldChange_RGrep  lfcSE_RGrep  stat_RGrep  \\\n",
       "YFL014W       48.704855             -0.821724     0.575935   -1.426765   \n",
       "\n",
       "         pvalue_RGrep  padj_RGrep SC_common_name_RGrep  baseMean_M24act  \\\n",
       "YFL014W      0.153648     0.99735                HSP12       4586.58369   \n",
       "\n",
       "         log2FoldChange_M24act  lfcSE_M24act  stat_M24act  pvalue_M24act  \\\n",
       "YFL014W              -3.874665       1.27219    -3.045665       0.002322   \n",
       "\n",
       "         padj_M24act SC_common_name_M24act  \n",
       "YFL014W     0.031496                 HSP12  "
      ]
     },
     "execution_count": 23,
     "metadata": {},
     "output_type": "execute_result"
    }
   ],
   "source": [
    "r1g1_m24int_merge[r1g1_m24int_merge['SC_common_name_M24act']=='HSP12']"
   ]
  },
  {
   "cell_type": "markdown",
   "metadata": {},
   "source": [
    "## Promoter analysis of various groups"
   ]
  },
  {
   "cell_type": "code",
   "execution_count": 7,
   "metadata": {},
   "outputs": [],
   "source": [
    "#Read in the SC promoter database.  \n",
    "sc_promoters = pd.read_pickle(data_processing_dir + os.path.normpath(\"sc_promoters/sc_promoters.pkl\"))"
   ]
  },
  {
   "cell_type": "code",
   "execution_count": 15,
   "metadata": {},
   "outputs": [
    {
     "name": "stdout",
     "output_type": "stream",
     "text": [
      "tD(GUC)I1 not in promoter data set.\n",
      "tE(UUC)K not in promoter data set.\n",
      "tT(AGU)O2 not in promoter data set.\n",
      "tV(AAC)M3 not in promoter data set.\n",
      "tS(AGA)D2 not in promoter data set.\n"
     ]
    }
   ],
   "source": [
    "#Make promoter files for different sets\n",
    "\n",
    "genesets = {'r1g1_rep': r1g1_rep_genes.index, 'm24_act': m24_act_genes.index, 'm24_nmpp1_act': m24_nmpp1_act_genes.index}\n",
    "\n",
    "for name, geneset in genesets.items(): \n",
    "    target_promoter_fname = data_processing_dir + os.path.normpath('sc_promoters/promoter_sets/sc_20181101_' + name + '.fasta')\n",
    "    io_library.write_promoter_file(sc_promoters, geneset,target_promoter_fname)"
   ]
  }
 ],
 "metadata": {
  "kernelspec": {
   "display_name": "Python 3",
   "language": "python",
   "name": "python3"
  },
  "language_info": {
   "codemirror_mode": {
    "name": "ipython",
    "version": 3
   },
   "file_extension": ".py",
   "mimetype": "text/x-python",
   "name": "python",
   "nbconvert_exporter": "python",
   "pygments_lexer": "ipython3",
   "version": "3.7.0"
  }
 },
 "nbformat": 4,
 "nbformat_minor": 2
}
