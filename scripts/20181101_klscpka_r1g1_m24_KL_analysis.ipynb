{
 "cells": [
  {
   "cell_type": "code",
   "execution_count": 1,
   "metadata": {},
   "outputs": [
    {
     "name": "stdout",
     "output_type": "stream",
     "text": [
      "what computer are you on? a = Ben's laptop, b = gpucluster, c = Ben's desktop, d = othera\n",
      "base directory is C:\\Users\\BMH_work\\github\\expression_broad_data\n",
      "Added C:\\Users\\BMH_work\\github\\expression_broad_data to path: \n",
      "['', 'C:\\\\Users\\\\BMH_work\\\\github\\\\expression_broad_data\\\\scripts', 'C:\\\\Users\\\\BMH_work\\\\Anaconda3\\\\python37.zip', 'C:\\\\Users\\\\BMH_work\\\\Anaconda3\\\\DLLs', 'C:\\\\Users\\\\BMH_work\\\\Anaconda3\\\\lib', 'C:\\\\Users\\\\BMH_work\\\\Anaconda3', 'C:\\\\Users\\\\BMH_work\\\\Anaconda3\\\\lib\\\\site-packages', 'C:\\\\Users\\\\BMH_work\\\\Anaconda3\\\\lib\\\\site-packages\\\\win32', 'C:\\\\Users\\\\BMH_work\\\\Anaconda3\\\\lib\\\\site-packages\\\\win32\\\\lib', 'C:\\\\Users\\\\BMH_work\\\\Anaconda3\\\\lib\\\\site-packages\\\\Pythonwin', 'C:\\\\Users\\\\BMH_work\\\\Anaconda3\\\\lib\\\\site-packages\\\\IPython\\\\extensions', 'C:\\\\Users\\\\BMH_work\\\\.ipython', 'C:\\\\Users\\\\BMH_work\\\\github\\\\expression_broad_data']\n",
      "I am about to import a library\n",
      "I am importing io_library\n",
      "what computer are you on? a = Ben's laptop, b = gpucluster, c = Ben's desktop, d = othera\n",
      "base directory is C:\\Users\\BMH_work\\github\\expression_broad_data\n",
      "data processing dir is C:\\Users\\BMH_work\\github\\expression_broad_data\\expression_data\\\n",
      "are you online? Yes/NoYes\n"
     ]
    }
   ],
   "source": [
    "# %load std_libraries.py\n",
    "#to keep my scripts consistent, I am adding this to the top of all scripts with %load std_libraries.py\n",
    "import sys\n",
    "#Indicate operating environment and import core modules\n",
    "location_input = input(\"what computer are you on? a = Ben's laptop, b = gpucluster, c = Ben's desktop, d = other\")\n",
    "location_dict = {'a': \"C:\\\\Users\\\\BMH_work\\\\github\\\\expression_broad_data\", 'b': \"/home/heineike/github/expression_broad_data\",\n",
    "                 'c': \"C:\\\\Users\\\\Ben\\\\Documents\\\\GitHub\\\\expression_broad_data\", 'd':'you need to add your location to the location_dict'}\n",
    "base_dir = location_dict[location_input]\n",
    "print(\"base directory is \" + base_dir)\n",
    "\n",
    "if sys.path[-1] != base_dir:\n",
    "    sys.path.append(base_dir)\n",
    "    print(\"Added \" + base_dir + \" to path: \" )\n",
    "    print(sys.path)\n",
    "\n",
    "import os\n",
    "\n",
    "print(\"I am about to import a library\")\n",
    "from core import expression_plots \n",
    "from core import io_library \n",
    "%load_ext autoreload\n",
    "%autoreload 2\n",
    "# %matplotlib \n",
    "# plt.ioff()\n",
    "#%matplotlib inline\n",
    "%matplotlib notebook\n",
    "data_processing_dir = base_dir + os.sep + os.path.normpath(\"expression_data\") + os.sep\n",
    "\n",
    "import pandas as pd\n",
    "import numpy as np\n",
    "import matplotlib.pyplot as plt\n",
    "#import matplotlib.colormap as cm\n",
    "from matplotlib_venn import venn2\n",
    "from matplotlib_venn import venn3\n",
    "#for my windows computer I had to install this package using pip rather than anaconda.  I got this error message: \n",
    "#twisted 18.7.0 requires PyHamcrest>=1.9.0, which is not installed.\n",
    "#import seaborn as sns; sns.set(style=\"ticks\", color_codes=True)\n",
    "#from sklearn import linear_model\n",
    "import pickle\n",
    "#import subprocess\n",
    "#import networkx as nx\n",
    "#import scipy.stats as stats\n",
    "#import statsmodels.graphics.gofplots as stats_graph\n",
    "#import scipy.cluster.hierarchy as sch\n",
    "\n",
    "# from Bio import SeqIO\n",
    "# from Bio import SeqFeature as sf\n",
    "# from Bio.Alphabet import generic_dna\n",
    "# from Bio.Seq import Seq\n",
    "\n",
    "# import re\n",
    "\n",
    "from collections import Counter\n",
    "# import scipy.stats as stats\n",
    "# from itertools import chain\n",
    "#from itertools import product\n",
    "#this only works if you are online\n",
    "online_input = input(\"are you online? Yes/No\")\n",
    "if online_input == \"Yes\": \n",
    "    import plotly.plotly as py\n",
    "    import plotly.graph_objs as pygo\n",
    "    import plotly.tools as pytools\n",
    "    py.sign_in('heineike02_student','9dMTMZgJMgUP0YX0P5mQ')\n",
    "    #py.sign_in('heineike02', 'APPjKrtARaN2ZgUYIkqr')\n",
    "    \n",
    "# for phylogenetic trees: \n",
    "# from ete3 import Tree\n",
    "\n",
    "#for scraping internet data (e.g. ncbi)\n",
    "#import requests\n",
    "#from lxml import etree    #parses xml output"
   ]
  },
  {
   "cell_type": "code",
   "execution_count": 2,
   "metadata": {},
   "outputs": [],
   "source": [
    "##Compare LFC between last year and this year for AS + 1/NMPP1\n",
    "\n",
    "#Load DEseq data for AS +/- drug\n",
    "\n",
    "pkainh_deseq = pd.read_csv(os.path.normpath(data_processing_dir + '\\\\kl_sc_PKA_as_m24_r1g1_20181017\\\\20181017_deseq_KL_AS_nmpp1.csv'), index_col=0)\n",
    "\n",
    "#Load DEseq data from 2017 for AS +/-drug\n",
    "\n",
    "pkainh_deseq_2017 = pd.read_csv(os.path.normpath(data_processing_dir + '\\\\20170817_klscpka\\\\20170817_klscpka_DESEQ_YPD_t40_ASMinvASPlus_KL.csv'), index_col=0)\n",
    "\n",
    "pkainh_deseq_merged = pkainh_deseq.merge(pkainh_deseq_2017, left_index=True, right_index=True, how = 'outer', suffixes = ('','_2017')) \n",
    "\n",
    "#remove underscore from kl genenames\n",
    "pkainh_deseq_merged['kl_genename'] = io_library.kl_genename_convert_list(list(pkainh_deseq_merged.index))\n",
    "pkainh_deseq_merged.set_index('kl_genename', inplace=True)\n",
    "\n",
    "#Add column for common names\n",
    "pkainh_deseq_merged['SC_common_name'] = io_library.SC_common_name_lookup_KL(pkainh_deseq_merged.index)\n",
    "\n",
    "for column in ['log2FoldChange', 'log2FoldChange_2017']: \n",
    "    pkainh_deseq_merged[column] = pkainh_deseq_merged[column].fillna(0.0)"
   ]
  },
  {
   "cell_type": "code",
   "execution_count": 24,
   "metadata": {},
   "outputs": [
    {
     "data": {
      "text/html": [
       "<div>\n",
       "<style scoped>\n",
       "    .dataframe tbody tr th:only-of-type {\n",
       "        vertical-align: middle;\n",
       "    }\n",
       "\n",
       "    .dataframe tbody tr th {\n",
       "        vertical-align: top;\n",
       "    }\n",
       "\n",
       "    .dataframe thead th {\n",
       "        text-align: right;\n",
       "    }\n",
       "</style>\n",
       "<table border=\"1\" class=\"dataframe\">\n",
       "  <thead>\n",
       "    <tr style=\"text-align: right;\">\n",
       "      <th></th>\n",
       "      <th>baseMean</th>\n",
       "      <th>log2FoldChange</th>\n",
       "      <th>lfcSE</th>\n",
       "      <th>stat</th>\n",
       "      <th>pvalue</th>\n",
       "      <th>padj</th>\n",
       "      <th>baseMean_2017</th>\n",
       "      <th>log2FoldChange_2017</th>\n",
       "      <th>lfcSE_2017</th>\n",
       "      <th>stat_2017</th>\n",
       "      <th>pvalue_2017</th>\n",
       "      <th>padj_2017</th>\n",
       "      <th>SC_common_name</th>\n",
       "    </tr>\n",
       "    <tr>\n",
       "      <th>kl_genename</th>\n",
       "      <th></th>\n",
       "      <th></th>\n",
       "      <th></th>\n",
       "      <th></th>\n",
       "      <th></th>\n",
       "      <th></th>\n",
       "      <th></th>\n",
       "      <th></th>\n",
       "      <th></th>\n",
       "      <th></th>\n",
       "      <th></th>\n",
       "      <th></th>\n",
       "      <th></th>\n",
       "    </tr>\n",
       "  </thead>\n",
       "  <tbody>\n",
       "    <tr>\n",
       "      <th>KLLA0F26961g</th>\n",
       "      <td>16.191836</td>\n",
       "      <td>-0.232485</td>\n",
       "      <td>0.604967</td>\n",
       "      <td>-0.384295</td>\n",
       "      <td>0.70076</td>\n",
       "      <td>0.779849</td>\n",
       "      <td>234.389096</td>\n",
       "      <td>0.757359</td>\n",
       "      <td>0.454249</td>\n",
       "      <td>1.667276</td>\n",
       "      <td>0.09546</td>\n",
       "      <td>0.176243</td>\n",
       "      <td>MSN4_MSN2</td>\n",
       "    </tr>\n",
       "  </tbody>\n",
       "</table>\n",
       "</div>"
      ],
      "text/plain": [
       "               baseMean  log2FoldChange     lfcSE      stat   pvalue  \\\n",
       "kl_genename                                                            \n",
       "KLLA0F26961g  16.191836       -0.232485  0.604967 -0.384295  0.70076   \n",
       "\n",
       "                  padj  baseMean_2017  log2FoldChange_2017  lfcSE_2017  \\\n",
       "kl_genename                                                              \n",
       "KLLA0F26961g  0.779849     234.389096             0.757359    0.454249   \n",
       "\n",
       "              stat_2017  pvalue_2017  padj_2017 SC_common_name  \n",
       "kl_genename                                                     \n",
       "KLLA0F26961g   1.667276      0.09546   0.176243      MSN4_MSN2  "
      ]
     },
     "execution_count": 24,
     "metadata": {},
     "output_type": "execute_result"
    }
   ],
   "source": [
    "pkainh_deseq_merged[pkainh_deseq_merged['SC_common_name']=='MSN4_MSN2']"
   ]
  },
  {
   "cell_type": "code",
   "execution_count": 3,
   "metadata": {},
   "outputs": [
    {
     "data": {
      "text/html": [
       "<iframe id=\"igraph\" scrolling=\"no\" style=\"border:none;\" seamless=\"seamless\" src=\"https://plot.ly/~heineike02_student/168.embed\" height=\"525px\" width=\"100%\"></iframe>"
      ],
      "text/plain": [
       "<plotly.tools.PlotlyDisplay object>"
      ]
     },
     "execution_count": 3,
     "metadata": {},
     "output_type": "execute_result"
    }
   ],
   "source": [
    "spec = 'KL'\n",
    "\n",
    "data = []\n",
    "\n",
    "xlabel = 'LFC AS -/+ Nmpp1 2017'\n",
    "ylabel = 'LFC AS -/+ Nmpp1'\n",
    "\n",
    "trace = pygo.Scatter(\n",
    "            x = pkainh_deseq_merged['log2FoldChange_2017'], \n",
    "            y =  pkainh_deseq_merged['log2FoldChange'],\n",
    "            text = pkainh_deseq_merged['SC_common_name'],\n",
    "            mode = 'markers',\n",
    "            marker = {'opacity': 0.5}, #, \n",
    "                      #'color': 'rgba'+str(cmap(NN/10))}, \n",
    "            name = xlabel + ' vs ' + ylabel \n",
    "        )\n",
    "        \n",
    "data.append(trace)\n",
    "\n",
    "layout = pygo.Layout(\n",
    "    xaxis= {\n",
    "        #\"range\":[-20, 20],\n",
    "        \"title\": xlabel\n",
    "    },\n",
    "    yaxis= {\n",
    "        #\"range\":[-10, 10],\n",
    "        \"title\": ylabel\n",
    "    }\n",
    ")\n",
    "\n",
    "\n",
    "fig = pygo.Figure(data=data, layout = layout)\n",
    "py.iplot(fig, filename= spec + '_AS_pmNMPP1_2017LFC_V2018_UTR')"
   ]
  },
  {
   "cell_type": "code",
   "execution_count": 3,
   "metadata": {},
   "outputs": [],
   "source": [
    "#Load DEseq data for K.Lac Rph1/Gis1 delete experiment\n",
    "\n",
    "spec = 'KL'\n",
    "\n",
    "r1g1_deseq = pd.read_csv(os.path.normpath(data_processing_dir + '\\\\kl_sc_PKA_as_m24_r1g1_20181017\\\\20181017_deseq_' + spec + '_AS_wtVr1g1.csv'), index_col=0)\n",
    "\n",
    "r1g1_deseq['kl_genename'] = io_library.kl_genename_convert_list(list(r1g1_deseq.index))\n",
    "r1g1_deseq.set_index('kl_genename', inplace=True)\n",
    "\n",
    "r1g1_deseq['SC_common_name'] = io_library.SC_common_name_lookup_KL(r1g1_deseq.index)\n",
    "\n",
    "#Load DEseq data for KL Msn24/drug interaction contrast\n",
    "m24_nmpp1_int_deseq = pd.read_csv(os.path.normpath(data_processing_dir + '\\\\kl_sc_PKA_as_m24_r1g1_20181017\\\\20181017_deseq_' + spec +  '_AS_m24del_nmpp1_interaction.csv'), index_col=0)\n",
    "\n",
    "m24_nmpp1_int_deseq['kl_genename'] = io_library.kl_genename_convert_list(list(m24_nmpp1_int_deseq.index))\n",
    "m24_nmpp1_int_deseq.set_index('kl_genename', inplace=True)\n",
    "\n",
    "#Add column for common names\n",
    "m24_nmpp1_int_deseq['SC_common_name'] = io_library.SC_common_name_lookup_KL(m24_nmpp1_int_deseq.index)\n",
    "\n",
    "#Load DEseq data for KL Msn2/4 delete in AS without drug\n",
    "\n",
    "m24_deseq = pd.read_csv(os.path.normpath(data_processing_dir + '\\\\kl_sc_PKA_as_m24_r1g1_20181017\\\\20181017_deseq_' + spec + '_AS_wtVm24.csv'), index_col=0)\n",
    "m24_deseq['kl_genename'] = io_library.kl_genename_convert_list(list(m24_deseq.index))\n",
    "m24_deseq.set_index('kl_genename', inplace=True)\n",
    "\n",
    "#Add column for common names\n",
    "m24_deseq['SC_common_name'] = io_library.SC_common_name_lookup_KL(m24_deseq.index)\n",
    "\n",
    "\n",
    "#load Deseq data for KLac AS -/+ NMPP1\n",
    "pkainh_deseq = pd.read_csv(os.path.normpath(data_processing_dir + '\\\\kl_sc_PKA_as_m24_r1g1_20181017\\\\20181017_deseq_KL_AS_nmpp1.csv'), index_col=0)\n",
    "pkainh_deseq['kl_genename'] = io_library.kl_genename_convert_list(list(pkainh_deseq.index))\n",
    "pkainh_deseq.set_index('kl_genename', inplace=True)\n",
    "\n",
    "#Add column for common names\n",
    "pkainh_deseq['SC_common_name'] = io_library.SC_common_name_lookup_KL(pkainh_deseq.index)\n",
    "\n",
    "coords = {}\n"
   ]
  },
  {
   "cell_type": "code",
   "execution_count": 6,
   "metadata": {},
   "outputs": [
    {
     "data": {
      "text/plain": [
       "426"
      ]
     },
     "execution_count": 6,
     "metadata": {},
     "output_type": "execute_result"
    }
   ],
   "source": [
    "#Call PKA inhibition genes above a line based on P.Value and LFC. \n",
    "\n",
    "x1,y1 = (2.0,15.0)\n",
    "x2,y2 = (2.5,0.0)\n",
    "ymin = 1.5\n",
    "\n",
    "line_coords = [(x1,y1),(x2,y2),ymin]\n",
    "coords['pkainh'] = line_coords\n",
    "\n",
    "x_data = pkainh_deseq['log2FoldChange']\n",
    "y_data =  -np.log10(pkainh_deseq['pvalue'])\n",
    "\n",
    "pkainh_act_genes = pkainh_deseq[(y_data > y2- (y2-y1)/(x2-x1)*(x2-x_data)) & (y_data>ymin)]\n",
    "len(pkainh_act_genes)\n",
    "\n",
    "#Maybe this is too many? "
   ]
  },
  {
   "cell_type": "code",
   "execution_count": 17,
   "metadata": {},
   "outputs": [
    {
     "data": {
      "text/html": [
       "<iframe id=\"igraph\" scrolling=\"no\" style=\"border:none;\" seamless=\"seamless\" src=\"https://plot.ly/~heineike02_student/170.embed\" height=\"525px\" width=\"100%\"></iframe>"
      ],
      "text/plain": [
       "<plotly.tools.PlotlyDisplay object>"
      ]
     },
     "execution_count": 17,
     "metadata": {},
     "output_type": "execute_result"
    }
   ],
   "source": [
    "#Plot Deseq LFC v.s. pValue for AS +/- drug.  Get list of genes effected by PKA\n",
    "\n",
    "line_coords = [(x1,y1),(x2,y2),ymin]\n",
    "\n",
    "hover_text = pkainh_deseq['SC_common_name']\n",
    "\n",
    "fig = expression_plots.lfc_padj_plot_with_lines(x_data,y_data,hover_text,line_coords)\n",
    "\n",
    "py.iplot(fig, filename='RNAseq2018_KL_AS_pmdrug')"
   ]
  },
  {
   "cell_type": "code",
   "execution_count": 9,
   "metadata": {},
   "outputs": [
    {
     "data": {
      "text/plain": [
       "69"
      ]
     },
     "execution_count": 9,
     "metadata": {},
     "output_type": "execute_result"
    }
   ],
   "source": [
    "#To Call Rph1/Gis1 repressed genes make a line from (1.5, 3) to (3.0, 0) and a hard cutoff below of 0.5\n",
    "\n",
    "x1,y1 = (1.3,8.0)\n",
    "x2,y2 = (2.0,0.0)\n",
    "ymin = 1.0\n",
    "\n",
    "line_coords = [(x1,y1),(x2,y2),ymin]\n",
    "coords['r1g1_rep'] = line_coords\n",
    "\n",
    "\n",
    "x_data = r1g1_deseq['log2FoldChange']\n",
    "y_data =  -np.log10(r1g1_deseq['pvalue'])\n",
    "\n",
    "r1g1_rep_genes = r1g1_deseq[(y_data > y2- (y2-y1)/(x2-x1)*(x2-x_data)) & (y_data>ymin)]\n",
    "len(r1g1_rep_genes)"
   ]
  },
  {
   "cell_type": "code",
   "execution_count": 26,
   "metadata": {},
   "outputs": [
    {
     "data": {
      "text/html": [
       "<iframe id=\"igraph\" scrolling=\"no\" style=\"border:none;\" seamless=\"seamless\" src=\"https://plot.ly/~heineike02_student/132.embed\" height=\"525px\" width=\"100%\"></iframe>"
      ],
      "text/plain": [
       "<plotly.tools.PlotlyDisplay object>"
      ]
     },
     "execution_count": 26,
     "metadata": {},
     "output_type": "execute_result"
    }
   ],
   "source": [
    "#Plot Deseq LFC v.s. pValue.  Rph1/Gis1 delete\n",
    "\n",
    "line_coords = [(x1,y1),(x2,y2),ymin]\n",
    "\n",
    "hover_text = r1g1_deseq['SC_common_name']\n",
    "\n",
    "fig = expression_plots.lfc_padj_plot_with_lines(x_data,y_data,hover_text,line_coords)\n",
    "\n",
    "py.iplot(fig, filename='RNAseq2018_KL_WT_VS_R1G1')\n",
    "\n",
    "\n"
   ]
  },
  {
   "cell_type": "code",
   "execution_count": 10,
   "metadata": {},
   "outputs": [
    {
     "data": {
      "text/plain": [
       "60"
      ]
     },
     "execution_count": 10,
     "metadata": {},
     "output_type": "execute_result"
    }
   ],
   "source": [
    "#To Call Msn2/4 PKA interaction genes make a line and a hard cutoff for -log10p values\n",
    "\n",
    "x1,y1 = (-2.5,0.0)\n",
    "x2,y2 = (-1.1,2.5)\n",
    "ymin = 0.5\n",
    "\n",
    "line_coords = [(x1,y1),(x2,y2),ymin]\n",
    "coords['m24_nmpp1_act'] = line_coords\n",
    "\n",
    "x_data = m24_nmpp1_int_deseq['log2FoldChange']\n",
    "y_data =  -np.log10(m24_nmpp1_int_deseq['pvalue'])\n",
    "\n",
    "m24_nmpp1_act_genes = m24_nmpp1_int_deseq[(y_data > y2- (y2-y1)/(x2-x1)*(x2-x_data)) & (y_data>ymin)]\n",
    "len(m24_nmpp1_act_genes)"
   ]
  },
  {
   "cell_type": "code",
   "execution_count": 32,
   "metadata": {},
   "outputs": [
    {
     "data": {
      "text/html": [
       "<iframe id=\"igraph\" scrolling=\"no\" style=\"border:none;\" seamless=\"seamless\" src=\"https://plot.ly/~heineike02_student/184.embed\" height=\"525px\" width=\"100%\"></iframe>"
      ],
      "text/plain": [
       "<plotly.tools.PlotlyDisplay object>"
      ]
     },
     "execution_count": 32,
     "metadata": {},
     "output_type": "execute_result"
    }
   ],
   "source": [
    "#Plot Msn24/nmpp1 interaction LFC v.s. pValue\n",
    "line_coords = [(x1,y1),(x2,y2),ymin]\n",
    "\n",
    "hover_text = m24_nmpp1_int_deseq['SC_common_name']\n",
    "\n",
    "fig = expression_plots.lfc_padj_plot_with_lines(x_data,y_data,hover_text,line_coords)\n",
    "\n",
    "py.iplot(fig, filename= spec + ' RNAseq2018_KL_Msn24_drug_interaction')\n"
   ]
  },
  {
   "cell_type": "code",
   "execution_count": 11,
   "metadata": {},
   "outputs": [
    {
     "data": {
      "text/plain": [
       "27"
      ]
     },
     "execution_count": 11,
     "metadata": {},
     "output_type": "execute_result"
    }
   ],
   "source": [
    "#To Call Msn2/4 deletion genes make a line  a hard cutoff for -log10p values. \n",
    "#This was chosen to include CYC7 and HOR7 but not MPC3. \n",
    "\n",
    "x1,y1 = (-2.0,0.0)\n",
    "x2,y2 = (-1.0,1.78)\n",
    "ymin = 0.3\n",
    "\n",
    "line_coords = [(x1,y1),(x2,y2),ymin]\n",
    "coords['m24_act'] = line_coords\n",
    "\n",
    "x_data = m24_deseq['log2FoldChange']\n",
    "y_data = -np.log10(m24_deseq['pvalue'])\n",
    "\n",
    "m24_act_genes = m24_deseq[(y_data > y2- (y2-y1)/(x2-x1)*(x2-x_data)) & (y_data>ymin)]\n",
    "len(m24_act_genes)"
   ]
  },
  {
   "cell_type": "code",
   "execution_count": 37,
   "metadata": {},
   "outputs": [
    {
     "data": {
      "text/html": [
       "<iframe id=\"igraph\" scrolling=\"no\" style=\"border:none;\" seamless=\"seamless\" src=\"https://plot.ly/~heineike02_student/188.embed\" height=\"525px\" width=\"100%\"></iframe>"
      ],
      "text/plain": [
       "<plotly.tools.PlotlyDisplay object>"
      ]
     },
     "execution_count": 37,
     "metadata": {},
     "output_type": "execute_result"
    }
   ],
   "source": [
    "#Plot Deseq LFC v.s. pValue.  Msn2 activation alone\n",
    "\n",
    "line_coords = [(x1,y1),(x2,y2),ymin]\n",
    "\n",
    "hover_text = m24_deseq['SC_common_name']\n",
    "\n",
    "fig = expression_plots.lfc_padj_plot_with_lines(x_data,y_data,hover_text,line_coords)\n",
    "\n",
    "py.iplot(fig, filename= 'RNAseq2018_AS_VS_M24_KL')\n"
   ]
  },
  {
   "cell_type": "code",
   "execution_count": 4,
   "metadata": {},
   "outputs": [
    {
     "data": {
      "text/html": [
       "<iframe id=\"igraph\" scrolling=\"no\" style=\"border:none;\" seamless=\"seamless\" src=\"https://plot.ly/~heineike02_student/190.embed\" height=\"525px\" width=\"100%\"></iframe>"
      ],
      "text/plain": [
       "<plotly.tools.PlotlyDisplay object>"
      ]
     },
     "execution_count": 4,
     "metadata": {},
     "output_type": "execute_result"
    }
   ],
   "source": [
    "#Project Msn2/4 dependent genes onto PKA inhibition genes\n",
    "\n",
    "\n",
    "#Compare PKA inhibition LFC to r1g1 activation\n",
    "\n",
    "other_deseq= m24_nmpp1_int_deseq\n",
    "other_name = 'm24_nmpp1'\n",
    "\n",
    "#deseq_data = pkainh_deseq.merge(m24_nmpp1_int_deseq,how='left',left_index = True, right_index=True, suffixes=('_pkainh', '_m24_nmpp1'))\n",
    "deseq_data = pkainh_deseq.merge(other_deseq,how='left',left_index = True, right_index=True, suffixes=('_pkainh', '_' + other_name))\n",
    "\n",
    "hover_text = []\n",
    "for ind, row in deseq_data.iterrows():\n",
    "    hover_text.append(('{SC_common_name}<br>padj 1NMPP1: {pkainh_padj:.2f}<br>padj ' + other_name +' : {other_padj:.2f}').format(\n",
    "                              SC_common_name=row['SC_common_name_pkainh'],\n",
    "                              pkainh_padj = -np.log10(row['padj_pkainh']),\n",
    "                              other_padj = -np.log10(row['padj_' + other_name])\n",
    "                              ))\n",
    "\n",
    "\n",
    "data = []\n",
    "\n",
    "trace = pygo.Scatter(\n",
    "            x = deseq_data['log2FoldChange_pkainh'], #-np.log10(deseq_data['padj_pkainh']), #\n",
    "            y = deseq_data['log2FoldChange_'+other_name], #-np.log10(deseq_data['padj_r1g1']),  #\n",
    "            text = hover_text,\n",
    "            mode = 'markers',\n",
    "            marker = {'opacity': 0.5,\n",
    "              'color' : np.log10(deseq_data['padj_' + other_name]),\n",
    "              'colorscale' : 'Jet',\n",
    "              'showscale' : False}  #, \n",
    "                      #'color': 'rgba'+str(cmap(NN/10))}, \n",
    "            #name = 'WT VS Rph1/Gis1 del'\n",
    "        )\n",
    "        \n",
    "data.append(trace)\n",
    "\n",
    "layout = pygo.Layout(\n",
    "    xaxis= {\n",
    "        #\"range\":[-2, 20],\n",
    "        \"title\":'LFC AS + 1NMPP1'\n",
    "    },\n",
    "    yaxis= {\n",
    "        #\"range\":[-2, 20],\n",
    "        \"title\":'LFC ' + other_name\n",
    "    }\n",
    ")\n",
    "\n",
    "\n",
    "fig = pygo.Figure(data=data, layout = layout)\n",
    "py.iplot(fig, filename='RNAseq2018_KL_AS_nmpp1_'+other_name)\n"
   ]
  },
  {
   "cell_type": "code",
   "execution_count": 39,
   "metadata": {},
   "outputs": [
    {
     "data": {
      "text/plain": [
       "<matplotlib_venn._common.VennDiagram at 0x2605548ee10>"
      ]
     },
     "execution_count": 39,
     "metadata": {},
     "output_type": "execute_result"
    },
    {
     "data": {
      "image/png": "[encoded data removed]",
      "text/plain": [
       "<Figure size 432x288 with 1 Axes>"
      ]
     },
     "metadata": {},
     "output_type": "display_data"
    }
   ],
   "source": [
    "venn2([ set(pkainh_act_genes.index), set(m24_nmpp1_act_genes.index)], set_labels = [ 'Activated under PKA inhibition', 'Activation requires Msn2/4'])"
   ]
  },
  {
   "cell_type": "code",
   "execution_count": 5,
   "metadata": {},
   "outputs": [
    {
     "data": {
      "text/html": [
       "<iframe id=\"igraph\" scrolling=\"no\" style=\"border:none;\" seamless=\"seamless\" src=\"https://plot.ly/~heineike02_student/194.embed\" height=\"525px\" width=\"100%\"></iframe>"
      ],
      "text/plain": [
       "<plotly.tools.PlotlyDisplay object>"
      ]
     },
     "execution_count": 5,
     "metadata": {},
     "output_type": "execute_result"
    }
   ],
   "source": [
    "#Compare PKA inhibition LFC to r1g1 activation\n",
    "\n",
    "other_deseq= r1g1_deseq\n",
    "other_name = 'r1g1'\n",
    "\n",
    "#deseq_data = pkainh_deseq.merge(m24_nmpp1_int_deseq,how='left',left_index = True, right_index=True, suffixes=('_pkainh', '_m24_nmpp1'))\n",
    "deseq_data = pkainh_deseq.merge(other_deseq,how='left',left_index = True, right_index=True, suffixes=('_pkainh', '_' + other_name))\n",
    "\n",
    "hover_text = []\n",
    "for ind, row in deseq_data.iterrows():\n",
    "    hover_text.append(('{SC_common_name}<br>padj 1NMPP1: {pkainh_padj:.2f}<br>padj ' + other_name +' : {other_padj:.2f}').format(\n",
    "                              SC_common_name=row['SC_common_name_pkainh'],\n",
    "                              pkainh_padj = -np.log10(row['padj_pkainh']),\n",
    "                              other_padj = -np.log10(row['padj_' + other_name])\n",
    "                              ))\n",
    "\n",
    "\n",
    "data = []\n",
    "\n",
    "trace = pygo.Scatter(\n",
    "            x = deseq_data['log2FoldChange_pkainh'], #-np.log10(deseq_data['padj_pkainh']), #\n",
    "            y = deseq_data['log2FoldChange_'+other_name], #-np.log10(deseq_data['padj_r1g1']),  #\n",
    "            text = hover_text,\n",
    "            mode = 'markers',\n",
    "            marker = {'opacity': 0.5,\n",
    "              'color' : np.log10(deseq_data['padj_' + other_name]),\n",
    "              'colorscale' : 'Jet',\n",
    "              'showscale' : False}  #, \n",
    "                      #'color': 'rgba'+str(cmap(NN/10))}, \n",
    "            #name = 'WT VS Rph1/Gis1 del'\n",
    "        )\n",
    "        \n",
    "data.append(trace)\n",
    "\n",
    "layout = pygo.Layout(\n",
    "    xaxis= {\n",
    "        #\"range\":[-2, 20],\n",
    "        \"title\":'LFC AS + 1NMPP1'\n",
    "    },\n",
    "    yaxis= {\n",
    "        #\"range\":[-2, 20],\n",
    "        \"title\":'LFC ' + other_name\n",
    "    }\n",
    ")\n",
    "\n",
    "\n",
    "fig = pygo.Figure(data=data, layout = layout)\n",
    "py.iplot(fig, filename='RNAseq2018_KL_AS_nmpp1_'+other_name)"
   ]
  },
  {
   "cell_type": "code",
   "execution_count": 14,
   "metadata": {
    "scrolled": true
   },
   "outputs": [
    {
     "data": {
      "text/plain": [
       "<matplotlib_venn._common.VennDiagram at 0x20ddfc8ea90>"
      ]
     },
     "execution_count": 14,
     "metadata": {},
     "output_type": "execute_result"
    },
    {
     "data": {
      "image/png": "[encoded data removed]",
      "text/plain": [
       "<Figure size 432x288 with 1 Axes>"
      ]
     },
     "metadata": {},
     "output_type": "display_data"
    }
   ],
   "source": [
    "venn2([ set(pkainh_act_genes.index), set(r1g1_rep_genes.index)], set_labels = [ 'Activated under PKA inhibition', 'Repressed in Rph1/Gis1 del'])"
   ]
  },
  {
   "cell_type": "code",
   "execution_count": 19,
   "metadata": {},
   "outputs": [
    {
     "data": {
      "text/plain": [
       "<matplotlib_venn._common.VennDiagram at 0x20dde6d9208>"
      ]
     },
     "execution_count": 19,
     "metadata": {},
     "output_type": "execute_result"
    },
    {
     "data": {
      "image/png": "[encoded data removed]",
      "text/plain": [
       "<Figure size 432x288 with 1 Axes>"
      ]
     },
     "metadata": {},
     "output_type": "display_data"
    }
   ],
   "source": [
    "venn3([set(pkainh_act_genes.index),set(r1g1_rep_genes.index), set(m24_nmpp1_act_genes.index)], set_labels = ['Activated by PKA inhibition','Activated in Rph1/Gis1 \\n delete', 'Activation by PKA inhibition \\n Msn2/4 dependent'])\n"
   ]
  },
  {
   "cell_type": "code",
   "execution_count": 20,
   "metadata": {},
   "outputs": [
    {
     "data": {
      "text/plain": [
       "<matplotlib_venn._common.VennDiagram at 0x20ddfce1f60>"
      ]
     },
     "execution_count": 20,
     "metadata": {},
     "output_type": "execute_result"
    },
    {
     "data": {
      "image/png": "[encoded data removed]",
      "text/plain": [
       "<Figure size 432x288 with 1 Axes>"
      ]
     },
     "metadata": {},
     "output_type": "display_data"
    }
   ],
   "source": [
    "venn3([set(pkainh_act_genes.index), set(m24_nmpp1_act_genes.index),set(m24_act_genes.index) ], set_labels = ['Activated by PKA inhibition', 'Activation by PKA inhibition \\n Msn2/4 dependent','Repressed in Msn2/4 \\n delete'])"
   ]
  },
  {
   "cell_type": "code",
   "execution_count": 46,
   "metadata": {},
   "outputs": [
    {
     "data": {
      "text/plain": [
       "<matplotlib_venn._common.VennDiagram at 0x26054a32ba8>"
      ]
     },
     "execution_count": 46,
     "metadata": {},
     "output_type": "execute_result"
    },
    {
     "data": {
      "image/png": "[encoded data removed]",
      "text/plain": [
       "<Figure size 432x288 with 1 Axes>"
      ]
     },
     "metadata": {},
     "output_type": "display_data"
    }
   ],
   "source": [
    "venn3([set(r1g1_rep_genes.index), set(m24_nmpp1_act_genes.index), set(m24_act_genes.index)], set_labels = ['Activated in Rph1/Gis1 \\n delete', 'Activation by PKA inhibition \\n Msn2/4 dependent', 'Repressed in Msn24 del'])"
   ]
  },
  {
   "cell_type": "code",
   "execution_count": 15,
   "metadata": {},
   "outputs": [],
   "source": [
    "#Print out the gene sets and put them into a dictionary - save the dictionary as a .pkl\n",
    "#Repressed in Msn2/4 Delete basally\n",
    "\n",
    "spec = 'KL'\n",
    "\n",
    "target_sets = {'m24_nmpp1_act': set(m24_nmpp1_act_genes.index),\n",
    "               'r1g1_rep': set(r1g1_rep_genes.index),\n",
    "               'm24_act': set(m24_act_genes.index), \n",
    "               'pkainh_act' : set(pkainh_act_genes.index)}\n",
    "\n",
    "fname = data_processing_dir + '\\\\kl_sc_PKA_as_m24_r1g1_20181017\\\\20181128_r1g1_m24_pka_targets_' + spec + '_high_thresh.pkl'\n",
    "\n",
    "with open(fname, 'wb') as file:\n",
    "    pickle.dump([target_sets, coords], file)\n"
   ]
  },
  {
   "cell_type": "code",
   "execution_count": 16,
   "metadata": {
    "scrolled": true
   },
   "outputs": [
    {
     "data": {
      "text/plain": [
       "{'m24_act': [(-2.0, 0.0), (-1.0, 1.78), 0.3],\n",
       " 'pkainh': [(2.0, 15.0), (2.5, 0.0), 1.5],\n",
       " 'r1g1_rep': [(1.3, 8.0), (2.0, 0.0), 1.0],\n",
       " 'm24_nmpp1_act': [(-2.5, 0.0), (-1.1, 2.5), 0.5]}"
      ]
     },
     "execution_count": 16,
     "metadata": {},
     "output_type": "execute_result"
    }
   ],
   "source": [
    "coords"
   ]
  },
  {
   "cell_type": "code",
   "execution_count": 18,
   "metadata": {},
   "outputs": [
    {
     "name": "stdout",
     "output_type": "stream",
     "text": [
      "Full Sets: \n",
      "\n",
      "m24_nmpp1_act, N_genes = 60:\n",
      "CIC1, RME1, KLLA0B07315r, STE18, ATG40, KLLA0F25520g, INO1, KLLA0A02585g, PUS6, LEE1, KLLA0C19206g, YKL068W-A, PFK26, MOH1, FSH2, KLLA0F00682g, KLLA0F22341g, SPG4, YIL102C-A, YIL024C, KLLA0E22353r, MDH3, PSF3, KLLA0F07348g, COS111, YBR285W, KLLA0D18964g, KLLA0E00419g, KLLA0E15181g, EBG00000982198, RPL18B_RPL18A, KLLA0B01430r, PRM3, OSW5, KLLA0E02157g, KLLA0E22177g, KLLA0D11211r, SSA3_SSA4, UGX2, KLLA0A05987r, MDH2, KLLA0E12035g, KLLA0F05335g, GID7, KLLA0A04125g, GPA1, ECI1, INH1_STF1, KLLA0D03905g, KLLA0B06688r, YGL081W, KLLA0F16357r, ATG19, SPG1, KLLA0A05852g, EBG00000981736, PLB1_PLB3, KLLA0D11217r, FMP48, KLLA0E03741r\n",
      "\n",
      "\n",
      "r1g1_rep, N_genes = 69:\n",
      "APE1, SPS19, YOR289W, YEN1, IME1, SED1_SPI1, KLLA0C08085r, MRX3, FMP33, ATG9, KLLA0C19019g, YIL055C, SGA1, CHA1, YMR160W, KLLA0F25520g, PNC1, KLLA0C11121g, PFK26, ATG23, STE3, KLLA0B00451g, FMP45_YNL194C, KLLA0F00682g, GPH1, SPG4, SNN1, KLLA0E15005g, SRV2, ATG8, RDL1, YKL107W, YDR109C, YBR285W, CWP1, PBI2, KLLA0C19041g, YHR202W, PHM8_SDT1, FUS3, EBG00000981672, DGA1, YML020W, HUL4, PGC1, UGX2, ATG2, KLLA0C05016g, KLLA0F05335g, MLS1, NPC2, FUN14, ECM4, KLLA0E10935g, YET1_YET2, KLLA0F04125g, YGL081W, KLLA0A00220g, YHR112C, ATG19, IKS1, YNL200C, RFS1_PST2, YDR461C-A, MHO1, YJL132W, KLLA0D11217r, YNL195C_HBT1, SIP18_GRE1\n",
      "\n",
      "\n",
      "m24_act, N_genes = 27:\n",
      "KLLA0D19949g, KLLA0C12034g, KLLA0C15367r, KLLA0F22198g, SPO23, EBG00000982264, KLLA0B14212r, KLLA0C12045r, KLLA0C18711g, KLLA0D04730r, EBG00000982266, KLLA0F22770r, SNU114, EBG00000981614, MER1, EBG00000982108, KLLA0D03124r, KLLA0D14762g, KLLA0F27731r, KLLA0D14465r, PML1, EBG00000981688, EBG00000982076, KLLA0A07645g, KLLA0E15643r, FYV7, EBG00000982292\n",
      "\n",
      "\n",
      "pkainh_act, N_genes = 426:\n",
      "KLLA0E01783g, PEX34, HFM1, FMP16, DCS1_DCS2, STE4, SIP4, KLLA0B04818g, SPO71, KLLA0C19132g, YDR248C, EBG00000981852, SPO16, TVP15, GYP7, YHC3, UBI4, AGX1, HTD2, HFD1, CTA1, SNX41, YKT6, YGL036W, ATG2, NPC2, YET1_YET2, EBG00000982282, KLLA0C19184g, PET10, EBG00000982195, YGR015C, YPR127W, KLLA0C00242g, KLLA0C19547g, MRX3, YNL011C, SIP5, ACS1, KLLA0E11969r, YIL024C, KLLA0D07117g, RDL1, ASK10_RGC1, YDR109C, EBG00000981576, FUS3, KLLA0F06061g, KLLA0B08800g, THI20, KLLA0D08789g, KLLA0F12628g, KLLA0F19360g, KLLA0D00704g, GRE3, GPA1, PXA2, KLLA0E10935g, ATH1, KLLA0E25147g, SPG1, KLLA0A05852g, IWR1, YLR307C-A, SIP18_GRE1, EBG00000982277, BOP3, TPS1, NEM1, YLR149C, YIR014W, JID1, YMR206W_YNR014W, KLLA0D03751g, VPS62_TDA6, KNS1, ATO3, PHR1, KLLA0D15576g, ATG3, KLLA0C18909g, KLLA0F08371g, KLLA0D19953g, YDR415C, KLLA0A08206g, LPX1, YGL081W, PRB1_YSP3, ATG19, PGM1_PGM2, BOR1, HSP26, YMR114C, LEE1, KLLA0E25015g, EBG00000982290, VID30, RBK1, MEI5, GLO2_GLO4, MDH3, ATG4, EBG00000981840, YIG1, KLLA0C14949g, KLLA0E24003g, FMP40, FUB1, YLR361C-A, ECM4, TUM1, ECI1, PMU1, GPM2_GPM3, KHA1, NAS6, KLLA0A00176g, YNL165W, KLLA0A00154g, AIM34, NIT2, STE18, KLLA0C11121g, MSO1, YBR241C_VPS73, AXL1, KLLA0C17490g, SCM3, MPO1, PSH1, TMA17, YGR126W, EBG00000982237, SPO22, VID28, ART5, GCV1, YIL152W, TSL1_TPS3, VPS70, SRX1, SPS19, KLLA0F16709g, XYL2, EBG00000982249, ATG15, YDL186W, KLLA0C17886r, SPG4, RNY1, YBR056W, PBI2, KLLA0E00309g, AIM17, PHM8_SDT1, SIR4, YPL071C, KLLA0C19085g, DIG2_DIG1, DPL1, PGC1, NGR1, SCM4_ATG33, KLLA0D15477r, STF2_TMA10, HOS3, PDH1, PHM7, YPL247C, KLLA0E19713g, KLLA0A04906g, MUB1, ACB1, MUM2, FMO1, EBG00000982260, AVT1, YAP6_CIN5, FMP45_YNL194C, NVJ3, RMR1, BDH1, UBR1, COS111, MSC1, KLLA0A07271g, KLLA0E15181g, EBG00000981954, DGA1, SPO11, YJR096W, YMR196W, FUN14, EGH1, YUH1, SPS22_SPS2, GDH2, GYP8, FMP23, YMR160W, NVJ1, TGL4_TGL5, OM45, YBR053C, KLLA0E15005g, SOD2, DOS2, EXG1_SPR1, ECM38, KLLA0F25190g, SYM1, ALD4, YLR257W, EBG00000981933, ARA1, KLLA0B14685g, YNL200C, YDL199C, KLLA0E09857g, PRM2, MHO1, CMK1_CMK2, SHU2, APE1, KLLA0D19949g, KLLA0D17380g, PXA1, CAM1, YKL050C_EIS1, KLLA0C01496g, TMC1, YLR152C, SRV2, ATG10, KLLA0F07348g, HOP1, PEX13, POX1, RIM9, YML020W, HUL4, KLLA0F05335g, POM33, BDH2, KLLA0A06996g, KLLA0A00220g, KLLA0D16588g, ATG38, TMS1, IME2, EBG00000981757, PEP4, KLLA0C12034g, KLLA0C04928g, SAF1, STR3, PFK26, GPH1, YBR285W, PRM3, KLLA0E24817g, ATG32, TGL3, RRT12, KLLA0E12035g, YAT1, YDR461C-A, EBG00000982177, YJL132W, FMP48, ATG17, YFR016C, EBG00000982146, RME1, PPE1, SGA1, ETR1, ATG40, KLLA0F25520g, PNC1, IGD1_YOL024W, PRC1, MSC3, ATG1, KLLA0F22341g, KLLA0B14168g, EBG00000981603, EBG00000982298, KLLA0C19041g, KLLA0B14751g, KLLA0B09482g, RCE1, ATG26, OSW5, KLLA0E11617g, KLLA0E06755g, UGX2, YDR222W_YLR225C, CMG1, YHR138C, MET28, NVJ2, UME6, YOR289W, FAR3, ATG23, YGR250C, YKR011C, ATG11, KLLA0D15521g, YER010C, GLC3, HSP42, EBG00000981753, ALD3, SSA3_SSA4, KLLA0F19382g, PEX3, MLS1, KLLA0A04125g, NUD1, KLLA0B01870g, FAA2, KLLA0C05456g, KLLA0D03905g, FBP1, UIP4, KLLA0C14190g, YNL195C_HBT1, PUS5, RIM4, KLLA0F15059r, EBG00000981682, ATG8, KLLA0F18370g, PCH2, EBG00000982055, YNL115C, UFD4, KLLA0C08437g, KLLA0E15203g, UBX7_UBX6, INP54, DAK1, KLLA0E10011g, KLLA0E24949g, UBA3, DET1, RFS1_PST2, KLLA0B08261g, SEC21, ADY2_ATO2, GAD1, OPI10, YAK1, ATG9, YSP2_LAM4, KLLA0A03289g, KLLA0C00286g, EBG00000982174, PIL1, YDR090C, MKC7_YPS1, GRR1, KLLA0A11792g, KLLA0D11638g, GID7, KLLA0E04357g, ATG31, KLLA0D19929g, EBG00000982140, KLLA0F09977g, PNG1, FOX2, YGR130C, KLLA0C17908r, HOT1, YJR107W, FMP33, YMR181C_YPL229W, FYV10, LDB18, KLLA0D09218g, YKL107W, SMF3, PEX28, EBG00000982198, KLLA0A06072r, KLLA0D02662r, DAL2, YBL029C-A, ALD2, KLLA0B14773g, IKS1, KLLA0C13079g, CAK1, KLLA0C00176g, KLLA0F01903g, EBG00000982313, DOG1, INO1, YKL151C, KLLA0C08888g, MOH1, SUE1, KLLA0F00682g, FRD1_OSM1, FMP46, KLLA0F03861g, ATG22, PRM10, KLLA0A04081g, SAW1, KLLA0D08140r, KLLA0C12463g, ECM11, ATG36, GUD1, ATG20, YIR035C, GPT2, POT1, PLB1_PLB3, KLLA0A00264g, APE3, YNL010W\n",
      "\n",
      "\n",
      "Intersections: \n",
      "\n",
      "m24_nmpp1_only, N_genes = 50:\n",
      "CIC1, RME1, KLLA0B07315r, STE18, ATG40, INO1, KLLA0A02585g, PUS6, LEE1, KLLA0C19206g, YKL068W-A, MOH1, FSH2, KLLA0F22341g, YIL102C-A, YIL024C, KLLA0E22353r, MDH3, PSF3, KLLA0F07348g, COS111, KLLA0D18964g, KLLA0E00419g, KLLA0E15181g, EBG00000982198, RPL18B_RPL18A, KLLA0B01430r, PRM3, OSW5, KLLA0E02157g, KLLA0E22177g, KLLA0D11211r, SSA3_SSA4, KLLA0A05987r, MDH2, KLLA0E12035g, GID7, KLLA0A04125g, GPA1, ECI1, INH1_STF1, KLLA0D03905g, KLLA0B06688r, KLLA0F16357r, SPG1, KLLA0A05852g, EBG00000981736, PLB1_PLB3, FMP48, KLLA0E03741r\n",
      "\n",
      "r1g1_rep_only, N_genes = 59:\n",
      "APE1, YOR289W, YEN1, IME1, SED1_SPI1, KLLA0C08085r, MRX3, FMP33, ATG9, KLLA0C19019g, YIL055C, SGA1, CHA1, YMR160W, PNC1, KLLA0C11121g, STE3, ATG23, KLLA0B00451g, FMP45_YNL194C, GPH1, SRV2, SNN1, KLLA0E15005g, ATG8, RDL1, YKL107W, YDR109C, CWP1, PBI2, KLLA0C19041g, YHR202W, PHM8_SDT1, FUS3, EBG00000981672, DGA1, YML020W, HUL4, PGC1, ATG2, KLLA0C05016g, MLS1, YNL195C_HBT1, NPC2, FUN14, ECM4, KLLA0E10935g, YET1_YET2, KLLA0F04125g, KLLA0A00220g, YHR112C, IKS1, YNL200C, RFS1_PST2, YDR461C-A, MHO1, YJL132W, SPS19, SIP18_GRE1\n",
      "\n",
      "r1g1_rep_and_m24_nmpp1_act, N_genes = 10:\n",
      "PFK26, KLLA0F00682g, SPG4, YGL081W, ATG19, UGX2, KLLA0F25520g, YBR285W, KLLA0F05335g, KLLA0D11217r\n",
      "\n"
     ]
    }
   ],
   "source": [
    "#quickly print out names of target genes\n",
    "\n",
    "print('Full Sets: \\n')\n",
    "for name, gene_set in target_sets.items():\n",
    "    print(name + ', N_genes = ' + str(len(gene_set)) + ':')\n",
    "    print(', '.join(list(io_library.SC_common_name_lookup_KL(gene_set))))\n",
    "    print('\\n')\n",
    "\n",
    "print('Intersections: \\n')\n",
    "\n",
    "gene_set = target_sets['m24_nmpp1_act']-target_sets['r1g1_rep']\n",
    "print('m24_nmpp1_only, N_genes = ' + str(len(gene_set)) + ':')\n",
    "print(', '.join(list(io_library.SC_common_name_lookup_KL(gene_set))) + '\\n')\n",
    "\n",
    "\n",
    "gene_set = target_sets['r1g1_rep']-target_sets['m24_nmpp1_act']\n",
    "print('r1g1_rep_only, N_genes = ' + str(len(gene_set)) + ':')\n",
    "print(', '.join(list(io_library.SC_common_name_lookup_KL(gene_set)))+ '\\n')\n",
    "\n",
    "\n",
    "gene_set = target_sets['r1g1_rep'] & target_sets['m24_nmpp1_act']\n",
    "print('r1g1_rep_and_m24_nmpp1_act, N_genes = ' + str(len(gene_set)) + ':')\n",
    "print(', '.join(list(io_library.SC_common_name_lookup_KL(gene_set)))+ '\\n')\n",
    "\n"
   ]
  },
  {
   "cell_type": "code",
   "execution_count": 52,
   "metadata": {},
   "outputs": [
    {
     "data": {
      "text/html": [
       "<div>\n",
       "<style scoped>\n",
       "    .dataframe tbody tr th:only-of-type {\n",
       "        vertical-align: middle;\n",
       "    }\n",
       "\n",
       "    .dataframe tbody tr th {\n",
       "        vertical-align: top;\n",
       "    }\n",
       "\n",
       "    .dataframe thead th {\n",
       "        text-align: right;\n",
       "    }\n",
       "</style>\n",
       "<table border=\"1\" class=\"dataframe\">\n",
       "  <thead>\n",
       "    <tr style=\"text-align: right;\">\n",
       "      <th></th>\n",
       "      <th>baseMean</th>\n",
       "      <th>log2FoldChange</th>\n",
       "      <th>lfcSE</th>\n",
       "      <th>stat</th>\n",
       "      <th>pvalue</th>\n",
       "      <th>padj</th>\n",
       "      <th>SC_common_name</th>\n",
       "    </tr>\n",
       "    <tr>\n",
       "      <th>kl_genename</th>\n",
       "      <th></th>\n",
       "      <th></th>\n",
       "      <th></th>\n",
       "      <th></th>\n",
       "      <th></th>\n",
       "      <th></th>\n",
       "      <th></th>\n",
       "    </tr>\n",
       "  </thead>\n",
       "  <tbody>\n",
       "    <tr>\n",
       "      <th>KLLA0F16929g</th>\n",
       "      <td>180.042579</td>\n",
       "      <td>-1.032846</td>\n",
       "      <td>0.480011</td>\n",
       "      <td>-2.151712</td>\n",
       "      <td>0.03142</td>\n",
       "      <td>0.999491</td>\n",
       "      <td>CYC7_CYC1</td>\n",
       "    </tr>\n",
       "  </tbody>\n",
       "</table>\n",
       "</div>"
      ],
      "text/plain": [
       "                baseMean  log2FoldChange     lfcSE      stat   pvalue  \\\n",
       "kl_genename                                                             \n",
       "KLLA0F16929g  180.042579       -1.032846  0.480011 -2.151712  0.03142   \n",
       "\n",
       "                  padj SC_common_name  \n",
       "kl_genename                            \n",
       "KLLA0F16929g  0.999491      CYC7_CYC1  "
      ]
     },
     "execution_count": 52,
     "metadata": {},
     "output_type": "execute_result"
    }
   ],
   "source": [
    "m24_nmpp1_int_deseq[m24_nmpp1_int_deseq['SC_common_name']=='CYC7_CYC1']"
   ]
  },
  {
   "cell_type": "code",
   "execution_count": 23,
   "metadata": {
    "scrolled": true
   },
   "outputs": [
    {
     "data": {
      "text/plain": [
       "['SGA1',\n",
       " 'YHR112C',\n",
       " 'YOR289W',\n",
       " 'RFS1_PST2',\n",
       " 'FMP33',\n",
       " 'KLLA0C05016g',\n",
       " 'ATG19',\n",
       " 'IKS1',\n",
       " 'RDL1',\n",
       " 'KLLA0E10935g',\n",
       " 'GPH1',\n",
       " 'YNL200C',\n",
       " 'YKL107W',\n",
       " 'YMR160W',\n",
       " 'FUN14',\n",
       " 'KLLA0F05335g',\n",
       " 'HUL4',\n",
       " 'PFK26',\n",
       " 'KLLA0A00220g',\n",
       " 'PBI2',\n",
       " 'FUS3',\n",
       " 'KLLA0C19019g',\n",
       " 'YDR461C-A',\n",
       " 'YML020W',\n",
       " 'NPC2',\n",
       " 'ECM4',\n",
       " 'MHO1',\n",
       " 'CHA1',\n",
       " 'PHM8_SDT1',\n",
       " 'YJL132W',\n",
       " 'KLLA0B00451g',\n",
       " 'YDR109C',\n",
       " 'KLLA0F00682g',\n",
       " 'YNL195C_HBT1',\n",
       " 'YET1_YET2',\n",
       " 'KLLA0C19041g',\n",
       " 'YBR285W',\n",
       " 'ATG9',\n",
       " 'FMP45_YNL194C',\n",
       " 'SNN1',\n",
       " 'ATG23',\n",
       " 'ATG2',\n",
       " 'PNC1',\n",
       " 'YEN1',\n",
       " 'APE1',\n",
       " 'MRX3',\n",
       " 'YHR202W',\n",
       " 'PGC1',\n",
       " 'DGA1',\n",
       " 'YIL055C',\n",
       " 'ATG8',\n",
       " 'KLLA0F04125g',\n",
       " 'SPS19',\n",
       " 'CWP1',\n",
       " 'MLS1',\n",
       " 'SED1_SPI1',\n",
       " 'UGX2',\n",
       " 'SPG4',\n",
       " 'KLLA0E15005g',\n",
       " 'STE3',\n",
       " 'YGL081W',\n",
       " 'KLLA0F25520g',\n",
       " 'SIP18_GRE1',\n",
       " 'IME1',\n",
       " 'EBG00000981672',\n",
       " 'KLLA0C08085r',\n",
       " 'KLLA0D11217r',\n",
       " 'SRV2',\n",
       " 'KLLA0C11121g']"
      ]
     },
     "execution_count": 23,
     "metadata": {},
     "output_type": "execute_result"
    }
   ],
   "source": [
    "io_library.SC_common_name_lookup_KL(r1g1_rep_genes.index)"
   ]
  },
  {
   "cell_type": "code",
   "execution_count": 18,
   "metadata": {},
   "outputs": [
    {
     "data": {
      "text/plain": [
       "[]"
      ]
     },
     "execution_count": 18,
     "metadata": {},
     "output_type": "execute_result"
    }
   ],
   "source": [
    "io_library.SC_common_name_lookup(list(set(r1g1_rep_genes.index) & set(m24_act_genes.index)))"
   ]
  },
  {
   "cell_type": "code",
   "execution_count": 19,
   "metadata": {},
   "outputs": [
    {
     "data": {
      "text/plain": [
       "['YGL081W',\n",
       " 'SPG4',\n",
       " 'ATG19',\n",
       " 'YBR285W',\n",
       " 'KLLA0F00682g',\n",
       " 'PFK26',\n",
       " 'KLLA0D11217r',\n",
       " 'UGX2',\n",
       " 'KLLA0F05335g',\n",
       " 'KLLA0F25520g']"
      ]
     },
     "execution_count": 19,
     "metadata": {},
     "output_type": "execute_result"
    }
   ],
   "source": [
    "io_library.SC_common_name_lookup_KL(list(set(r1g1_rep_genes.index) & set(m24_nmpp1_act_genes.index)))"
   ]
  },
  {
   "cell_type": "code",
   "execution_count": 20,
   "metadata": {},
   "outputs": [
    {
     "data": {
      "text/plain": [
       "[]"
      ]
     },
     "execution_count": 20,
     "metadata": {},
     "output_type": "execute_result"
    }
   ],
   "source": [
    "io_library.SC_common_name_lookup(list(set(m24_nmpp1_act_genes.index) & set(m24_act_genes.index)))"
   ]
  },
  {
   "cell_type": "code",
   "execution_count": 69,
   "metadata": {},
   "outputs": [
    {
     "data": {
      "text/plain": [
       "['MFA1',\n",
       " 'YKL068W-A',\n",
       " 'YJL163C',\n",
       " 'SDS24',\n",
       " 'YGR066C',\n",
       " 'AMS1',\n",
       " 'HEF3',\n",
       " 'GPM2',\n",
       " 'XBP1',\n",
       " 'SAF1',\n",
       " 'TPK1',\n",
       " 'UBP11',\n",
       " 'tD(GUC)I1',\n",
       " 'YPC1',\n",
       " 'PBI2',\n",
       " 'DDR48',\n",
       " 'YNL092W',\n",
       " 'GSP2',\n",
       " 'MRPS12',\n",
       " 'UGA2',\n",
       " 'DDR2',\n",
       " 'SHC1',\n",
       " 'ATG7',\n",
       " 'YTP1',\n",
       " 'YOL153C',\n",
       " 'SIP4',\n",
       " 'YCR025C',\n",
       " 'YGP1',\n",
       " 'YLR366W',\n",
       " 'YLR149C',\n",
       " 'UGX2',\n",
       " 'YCL012C',\n",
       " 'HVG1',\n",
       " 'YKR011C',\n",
       " 'GPP2',\n",
       " 'HYR1',\n",
       " 'STF1',\n",
       " 'YHR140W',\n",
       " 'COQ11',\n",
       " 'SDP1',\n",
       " 'CYC7',\n",
       " 'SDH6',\n",
       " 'SGA1',\n",
       " 'FMP48',\n",
       " 'YER053C-A',\n",
       " 'ULA1',\n",
       " 'ATG34',\n",
       " 'YRO2',\n",
       " 'SOD2',\n",
       " 'ATG33',\n",
       " 'YCR061W',\n",
       " 'RMR1',\n",
       " 'PNS1',\n",
       " 'YJL070C',\n",
       " 'YGR174W-A',\n",
       " 'TES1',\n",
       " 'YIL100C-A',\n",
       " 'GLK1',\n",
       " 'RNY1',\n",
       " 'HXT4',\n",
       " 'YIL055C',\n",
       " 'PNC1',\n",
       " 'YHR180W-A']"
      ]
     },
     "execution_count": 69,
     "metadata": {},
     "output_type": "execute_result"
    }
   ],
   "source": [
    "io_library.SC_common_name_lookup(list(set(r1g1_rep_genes.index) - set(m24_nmpp1_act_genes.index)))"
   ]
  },
  {
   "cell_type": "code",
   "execution_count": 47,
   "metadata": {},
   "outputs": [
    {
     "data": {
      "text/plain": [
       "['KLLA0E19317g',\n",
       " 'KLLA0F27819g',\n",
       " 'KLLA0E22177g',\n",
       " 'KLLA0C19206g',\n",
       " 'KLLA0F16357r',\n",
       " 'KLLA0C05940g',\n",
       " 'KLLA0A05987r',\n",
       " 'KLLA0E07525g',\n",
       " 'KLLA0D11211r',\n",
       " 'KLLA0B09878g',\n",
       " 'KLLA0D18964g',\n",
       " 'KLLA0F25916g',\n",
       " 'KLLA0E20527g',\n",
       " 'KLLA0E06183g',\n",
       " 'KLLA0E23079g',\n",
       " 'KLLA0A07227g',\n",
       " 'KLLA0F26686g',\n",
       " 'KLLA0E01893g',\n",
       " 'KLLA0F14553g',\n",
       " 'KLLA0E11727g',\n",
       " 'KLLA0F05511g',\n",
       " 'KLLA0E00419g',\n",
       " 'KLLA0A04125g',\n",
       " 'KLLA0E22353r',\n",
       " 'KLLA0F21846g',\n",
       " 'KLLA0A02717g',\n",
       " 'KLLA0C04686g',\n",
       " 'KLLA0B01430r',\n",
       " 'KLLA0E02157g',\n",
       " 'KLLA0F07337g',\n",
       " 'KLLA0A05852g',\n",
       " 'KLLA0B07315r',\n",
       " 'KLLA0A02387g',\n",
       " 'KLLA0E03741r',\n",
       " 'KLLA0C01177g',\n",
       " 'KLLA0F22341g',\n",
       " 'KLLA0D03905g',\n",
       " 'KLLA0E05875g',\n",
       " 'KLLA0E15181g',\n",
       " 'KLLA0B06688r',\n",
       " 'KLLA0D16412g',\n",
       " 'KLLA0E12035g',\n",
       " 'KLLA0C06996g',\n",
       " 'EBG00000982198',\n",
       " 'KLLA0A02585g',\n",
       " 'KLLA0F07348g',\n",
       " 'EBG00000981736',\n",
       " 'KLLA0F17050g',\n",
       " 'KLLA0A02629g',\n",
       " 'KLLA0E15577g']"
      ]
     },
     "execution_count": 47,
     "metadata": {},
     "output_type": "execute_result"
    }
   ],
   "source": [
    "io_library.SC_common_name_lookup(list(set(m24_nmpp1_act_genes.index) - set(r1g1_rep_genes.index)))"
   ]
  },
  {
   "cell_type": "code",
   "execution_count": 16,
   "metadata": {},
   "outputs": [
    {
     "data": {
      "text/plain": [
       "Index(['baseMean_RGrep', 'log2FoldChange_RGrep', 'lfcSE_RGrep', 'stat_RGrep',\n",
       "       'pvalue_RGrep', 'padj_RGrep', 'SC_common_name_RGrep',\n",
       "       'baseMean_M24_act', 'log2FoldChange_M24_act', 'lfcSE_M24_act',\n",
       "       'stat_M24_act', 'pvalue_M24_act', 'padj_M24_act',\n",
       "       'SC_common_name_M24_act'],\n",
       "      dtype='object')"
      ]
     },
     "execution_count": 16,
     "metadata": {},
     "output_type": "execute_result"
    }
   ],
   "source": [
    "r1g1_m24int_merge.columns"
   ]
  },
  {
   "cell_type": "code",
   "execution_count": 22,
   "metadata": {},
   "outputs": [
    {
     "data": {
      "text/html": [
       "<iframe id=\"igraph\" scrolling=\"no\" style=\"border:none;\" seamless=\"seamless\" src=\"https://plot.ly/~heineike02_student/128.embed\" height=\"525px\" width=\"100%\"></iframe>"
      ],
      "text/plain": [
       "<plotly.tools.PlotlyDisplay object>"
      ]
     },
     "execution_count": 22,
     "metadata": {},
     "output_type": "execute_result"
    }
   ],
   "source": [
    "#Plot LFC of RG activation v.s. M24 drug interaction\n",
    "\n",
    "r1g1_m24int_merge = r1g1_deseq.merge(m24_nmpp1_int_deseq, how='inner',suffixes= ('_RGrep','_M24act'),left_index=True, right_index=True)\n",
    "\n",
    "\n",
    "data = []\n",
    "\n",
    "trace = pygo.Scatter(\n",
    "            x = r1g1_m24int_merge['log2FoldChange_RGrep'], \n",
    "            y =  r1g1_m24int_merge['log2FoldChange_M24act'],\n",
    "            text = r1g1_m24int_merge['SC_common_name_RGrep'],\n",
    "            mode = 'markers',\n",
    "            marker = {'opacity': 0.5}, #, \n",
    "                      #'color': 'rgba'+str(cmap(NN/10))}, \n",
    "            name = 'Rph1/Gis1 repressed LFC vs Msn24_PKA activation LFC'\n",
    "        )\n",
    "        \n",
    "data.append(trace)\n",
    "\n",
    "layout = pygo.Layout(\n",
    "    xaxis= {\n",
    "        \"range\":[-20, 20],\n",
    "        \"title\":'Rph1/Gis1 del v.s. WT LFC'\n",
    "    },\n",
    "    yaxis= {\n",
    "        \"range\":[-10, 10],\n",
    "        \"title\":'Msn24 del/PKA inhibition interaction term LFC'\n",
    "    }\n",
    ")\n",
    "\n",
    "\n",
    "fig = pygo.Figure(data=data, layout = layout)\n",
    "py.iplot(fig, filename='RNAseq2018_R1G1rep_v_M24PKAact')"
   ]
  },
  {
   "cell_type": "code",
   "execution_count": 23,
   "metadata": {},
   "outputs": [
    {
     "data": {
      "text/html": [
       "<div>\n",
       "<style scoped>\n",
       "    .dataframe tbody tr th:only-of-type {\n",
       "        vertical-align: middle;\n",
       "    }\n",
       "\n",
       "    .dataframe tbody tr th {\n",
       "        vertical-align: top;\n",
       "    }\n",
       "\n",
       "    .dataframe thead th {\n",
       "        text-align: right;\n",
       "    }\n",
       "</style>\n",
       "<table border=\"1\" class=\"dataframe\">\n",
       "  <thead>\n",
       "    <tr style=\"text-align: right;\">\n",
       "      <th></th>\n",
       "      <th>baseMean_RGrep</th>\n",
       "      <th>log2FoldChange_RGrep</th>\n",
       "      <th>lfcSE_RGrep</th>\n",
       "      <th>stat_RGrep</th>\n",
       "      <th>pvalue_RGrep</th>\n",
       "      <th>padj_RGrep</th>\n",
       "      <th>SC_common_name_RGrep</th>\n",
       "      <th>baseMean_M24act</th>\n",
       "      <th>log2FoldChange_M24act</th>\n",
       "      <th>lfcSE_M24act</th>\n",
       "      <th>stat_M24act</th>\n",
       "      <th>pvalue_M24act</th>\n",
       "      <th>padj_M24act</th>\n",
       "      <th>SC_common_name_M24act</th>\n",
       "    </tr>\n",
       "  </thead>\n",
       "  <tbody>\n",
       "    <tr>\n",
       "      <th>YFL014W</th>\n",
       "      <td>48.704855</td>\n",
       "      <td>-0.821724</td>\n",
       "      <td>0.575935</td>\n",
       "      <td>-1.426765</td>\n",
       "      <td>0.153648</td>\n",
       "      <td>0.99735</td>\n",
       "      <td>HSP12</td>\n",
       "      <td>4586.58369</td>\n",
       "      <td>-3.874665</td>\n",
       "      <td>1.27219</td>\n",
       "      <td>-3.045665</td>\n",
       "      <td>0.002322</td>\n",
       "      <td>0.031496</td>\n",
       "      <td>HSP12</td>\n",
       "    </tr>\n",
       "  </tbody>\n",
       "</table>\n",
       "</div>"
      ],
      "text/plain": [
       "         baseMean_RGrep  log2FoldChange_RGrep  lfcSE_RGrep  stat_RGrep  \\\n",
       "YFL014W       48.704855             -0.821724     0.575935   -1.426765   \n",
       "\n",
       "         pvalue_RGrep  padj_RGrep SC_common_name_RGrep  baseMean_M24act  \\\n",
       "YFL014W      0.153648     0.99735                HSP12       4586.58369   \n",
       "\n",
       "         log2FoldChange_M24act  lfcSE_M24act  stat_M24act  pvalue_M24act  \\\n",
       "YFL014W              -3.874665       1.27219    -3.045665       0.002322   \n",
       "\n",
       "         padj_M24act SC_common_name_M24act  \n",
       "YFL014W     0.031496                 HSP12  "
      ]
     },
     "execution_count": 23,
     "metadata": {},
     "output_type": "execute_result"
    }
   ],
   "source": [
    "r1g1_m24int_merge[r1g1_m24int_merge['SC_common_name_M24act']=='HSP12']"
   ]
  },
  {
   "cell_type": "markdown",
   "metadata": {},
   "source": [
    "## Promoter analysis of various groups"
   ]
  },
  {
   "cell_type": "code",
   "execution_count": 7,
   "metadata": {},
   "outputs": [],
   "source": [
    "#Read in the SC promoter database.  \n",
    "sc_promoters = pd.read_pickle(data_processing_dir + os.path.normpath(\"sc_promoters/sc_promoters.pkl\"))"
   ]
  },
  {
   "cell_type": "code",
   "execution_count": 15,
   "metadata": {},
   "outputs": [
    {
     "name": "stdout",
     "output_type": "stream",
     "text": [
      "tD(GUC)I1 not in promoter data set.\n",
      "tE(UUC)K not in promoter data set.\n",
      "tT(AGU)O2 not in promoter data set.\n",
      "tV(AAC)M3 not in promoter data set.\n",
      "tS(AGA)D2 not in promoter data set.\n"
     ]
    }
   ],
   "source": [
    "#Make promoter files for different sets\n",
    "\n",
    "genesets = {'r1g1_rep': r1g1_rep_genes.index, 'm24_act': m24_act_genes.index, 'm24_nmpp1_act': m24_nmpp1_act_genes.index}\n",
    "\n",
    "for name, geneset in genesets.items(): \n",
    "    target_promoter_fname = data_processing_dir + os.path.normpath('sc_promoters/promoter_sets/sc_20181101_' + name + '.fasta')\n",
    "    io_library.write_promoter_file(sc_promoters, geneset,target_promoter_fname)"
   ]
  }
 ],
 "metadata": {
  "kernelspec": {
   "display_name": "Python 3",
   "language": "python",
   "name": "python3"
  },
  "language_info": {
   "codemirror_mode": {
    "name": "ipython",
    "version": 3
   },
   "file_extension": ".py",
   "mimetype": "text/x-python",
   "name": "python",
   "nbconvert_exporter": "python",
   "pygments_lexer": "ipython3",
   "version": "3.7.0"
  }
 },
 "nbformat": 4,
 "nbformat_minor": 2
}
